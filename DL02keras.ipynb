{
 "cells": [
  {
   "cell_type": "markdown",
   "id": "bc1c4e8e-6199-41f4-8217-144b276a710d",
   "metadata": {},
   "source": [
    "### 딥러닝 개발환경\n",
    "* 파이썬 3.5 이상 또는 아나콘다 4.4\n",
    "* pycharm 이용, 파이썬 venv 환경에서 실행\n",
    "* 머신러닝, 딥러닝 패키지 설치\n",
    "    + numpy scipy matplotlib pandas scikit-learn\n",
    "    + spyder(과학계산) seaborn(시각화) h5py(hdf5) pillow(이미지)\n",
    "    + tensorflow (tensorflow-gpu) keras pytorch"
   ]
  },
  {
   "cell_type": "code",
   "execution_count": 3,
   "id": "e3e2b959-0c5d-4831-9f8f-838e4bd828c0",
   "metadata": {},
   "outputs": [],
   "source": [
    "# ! pip install tensorflow"
   ]
  },
  {
   "cell_type": "code",
   "execution_count": 4,
   "id": "91d2b90a-9f87-4da5-adbe-728e1bd30268",
   "metadata": {},
   "outputs": [],
   "source": [
    "# ! pip install keras"
   ]
  },
  {
   "cell_type": "markdown",
   "id": "29282458-01ab-401c-9129-8806c6151da8",
   "metadata": {},
   "source": [
    "### 텐서플로 GPU 지원사이트\n",
    "### 시스템에 nvidia GPU가 없다 => CPU만 사용하는 텐서플로 패키지 사용\n",
    "### 시스템에 nvidia GPU가 있다 => GPU를 지원하는 텐서플로 패키지 사용\n",
    "### 이럴경우 nvidia에서 제공하는 딥러닝 관련 S/W를 설치해야 함\n",
    "### 자신의 GPU가 텐서플로를 지원하는지 확인\n",
    "### developer.nvidia.com/cuda-gpus\n",
    "### GTX 1060 -  CUDA 6.1\n",
    "### GTX 1050 -  CUDA 6.1\n",
    "### 텐서플로/CUDA 설치 방법\n",
    "### tensorflow.org/install/install_windows"
   ]
  },
  {
   "cell_type": "code",
   "execution_count": null,
   "id": "c68420b5-e4d2-4a8d-a586-13ee6dc68c91",
   "metadata": {},
   "outputs": [],
   "source": []
  },
  {
   "cell_type": "code",
   "execution_count": null,
   "id": "d65ee0dc-93e4-4540-b05b-b83f63d1eb95",
   "metadata": {},
   "outputs": [],
   "source": []
  },
  {
   "cell_type": "code",
   "execution_count": null,
   "id": "bc5a0817-a550-441c-9413-679d0a0e4e6b",
   "metadata": {},
   "outputs": [],
   "source": []
  }
 ],
 "metadata": {
  "kernelspec": {
   "display_name": "Python 3 (ipykernel)",
   "language": "python",
   "name": "python3"
  },
  "language_info": {
   "codemirror_mode": {
    "name": "ipython",
    "version": 3
   },
   "file_extension": ".py",
   "mimetype": "text/x-python",
   "name": "python",
   "nbconvert_exporter": "python",
   "pygments_lexer": "ipython3",
   "version": "3.7.10"
  }
 },
 "nbformat": 4,
 "nbformat_minor": 5
}
