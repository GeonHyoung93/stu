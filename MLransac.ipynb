{
 "cells": [
  {
   "cell_type": "code",
   "execution_count": 2,
   "id": "58bb2e0d-5910-41aa-8f13-3526483777b6",
   "metadata": {},
   "outputs": [],
   "source": [
    "import numpy as np\n",
    "import pandas as pd\n",
    "import matplotlib.pyplot as plt\n",
    "import warnings\n",
    "warnings.filterwarnings(action = 'ignore')"
   ]
  },
  {
   "cell_type": "markdown",
   "id": "b2831cfc-61dd-4edc-a1a5-c167ba319d69",
   "metadata": {},
   "source": [
    "## RANSAC\n",
    "* random sample consensus\n",
    "* 데이터셋에서 노이즈를 제거하고 모델을 예측하는 알고리즘\n",
    "* 특정 임계값을 기준으로 데이터를 무시하고 모델 생성\n",
    "     + 노이즈를 반영하지 않고 최대 데이터가 일치하는 이상적 모델 생성\n",
    "     + 즉, 가장 많은 수의 데이터로부터 지지를 받는 모델을 선택한다.\n",
    "* sklearn에서는 RANSACRegressior라는 객체를 제공\n",
    "     + 매개변수 :  임계값, 표본수"
   ]
  },
  {
   "cell_type": "markdown",
   "id": "a3730f8e-9e2e-44d5-9482-2756d393a544",
   "metadata": {},
   "source": [
    "<img src = 'img/ransac01.png'>\n",
    "<img src = 'img/ransac02.png'>\n",
    "<img src = 'img/ransac03.png' width=\"50%\">"
   ]
  },
  {
   "cell_type": "markdown",
   "id": "f3f4410f-0ba1-49e3-ae23-f447fd3e415d",
   "metadata": {},
   "source": [
    "## RANSAC 알고리즘\n",
    "* 가설단계 : 전체데이터에서 N개의 표본을 선택하고, 선택된 표본으로부터 모델을 예측한다.\n",
    "* 검증단계 : 데이터셋에서 모델과 일치하는 데이터수를 센 후 최대값인 경우 모델의 매개변수를 새롭게 저장함\n",
    "* RANSAC은 가설과 검증을 N번 반복해서 그 중 최고의 모델을 선정"
   ]
  },
  {
   "cell_type": "markdown",
   "id": "a6e081e7-48c4-4c38-a884-5aaf143f898a",
   "metadata": {},
   "source": [
    "<img src='img/ransac04.png'>"
   ]
  },
  {
   "cell_type": "code",
   "execution_count": 4,
   "id": "5e94833c-46ef-42ef-b396-68b2d5f3ce0e",
   "metadata": {},
   "outputs": [],
   "source": [
    "# 보스턴 집값 데이터셋에서 방수(RM)와 주택평균값(MDEV)에 대해 회귀분석과 RANSAC 분석을 실시하고 결과를 서로 비교\n",
    "from sklearn.datasets import load_boston\n",
    "from sklearn.model_selection import train_test_split\n",
    "from sklearn.linear_model import LinearRegression\n",
    "from sklearn.metrics import mean_squared_error\n",
    "from sklearn.metrics import r2_score"
   ]
  },
  {
   "cell_type": "code",
   "execution_count": 5,
   "id": "30f778f7-a7ca-47a0-8e2e-353a6ab164d8",
   "metadata": {},
   "outputs": [],
   "source": [
    "boston = load_boston()\n",
    "df = pd.DataFrame(boston.data, columns=boston.feature_names)\n",
    "df['MDEV'] = boston.target\n",
    "\n",
    "X = df.RM     # 방수\n",
    "y = df.MDEV   # 주택가격"
   ]
  },
  {
   "cell_type": "code",
   "execution_count": 11,
   "id": "eeba3639-0ac2-4a50-9be2-7623c08e8e9a",
   "metadata": {},
   "outputs": [
    {
     "data": {
      "text/plain": [
       "[<matplotlib.lines.Line2D at 0x7f9df7d907d0>]"
      ]
     },
     "execution_count": 11,
     "metadata": {},
     "output_type": "execute_result"
    },
    {
     "data": {
      "image/png": "[encoded data removed]",
      "text/plain": [
       "<Figure size 432x288 with 1 Axes>"
      ]
     },
     "metadata": {
      "needs_background": "light"
     },
     "output_type": "display_data"
    }
   ],
   "source": [
    "# 단순 선형 회귀 실시\n",
    "# 산점도로 시각화\n",
    "plt.plot(X, y, 'bo')"
   ]
  },
  {
   "cell_type": "code",
   "execution_count": 18,
   "id": "9bd5f37d-1607-4934-905d-e1207cb92b46",
   "metadata": {},
   "outputs": [],
   "source": [
    "# 단순 선형 회귀 실시해보자\n",
    "X = np.array(X).reshape(-1,1)\n",
    "lrclf = LinearRegression()\n",
    "lrclf.fit(X,y)\n",
    "pred = lrclf.predict(X)"
   ]
  },
  {
   "cell_type": "code",
   "execution_count": 19,
   "id": "d337f566-8378-4f1b-912e-7ab0a8ad057d",
   "metadata": {},
   "outputs": [
    {
     "name": "stdout",
     "output_type": "stream",
     "text": [
      "[9.10210898] -34.67062077643857\n"
     ]
    }
   ],
   "source": [
    "# 선형모델 계수\n",
    "a = lrclf.coef_\n",
    "b = lrclf.intercept_   # 절편\n",
    "\n",
    "print(a,b)         # 9.1  -34.67"
   ]
  },
  {
   "cell_type": "code",
   "execution_count": 21,
   "id": "ea6db0d0-7faf-4faf-b510-29ae3867f929",
   "metadata": {},
   "outputs": [
    {
     "name": "stdout",
     "output_type": "stream",
     "text": [
      "6.603071389222561 0.48352545599133423\n"
     ]
    }
   ],
   "source": [
    "# 모델 성능 평가\n",
    "rmse = np.sqrt(mean_squared_error(y,pred))\n",
    "r2 = r2_score(y,pred)\n",
    "print(rmse, r2)      # 6.6  0.48"
   ]
  },
  {
   "cell_type": "code",
   "execution_count": 22,
   "id": "b72230e9-5926-4be9-96a4-f77a2b793c3c",
   "metadata": {},
   "outputs": [
    {
     "data": {
      "text/plain": [
       "[<matplotlib.lines.Line2D at 0x7f9df7c40850>]"
      ]
     },
     "execution_count": 22,
     "metadata": {},
     "output_type": "execute_result"
    },
    {
     "data": {
      "image/png": "[encoded data removed]",
      "text/plain": [
       "<Figure size 432x288 with 1 Axes>"
      ]
     },
     "metadata": {
      "needs_background": "light"
     },
     "output_type": "display_data"
    }
   ],
   "source": [
    "# 회귀선 시각화\n",
    "z = lrclf.predict(X)\n",
    "plt.plot(X,y, 'bo')\n",
    "plt.plot(X,z, 'r-')"
   ]
  },
  {
   "cell_type": "code",
   "execution_count": 32,
   "id": "06a65285-d3b8-482f-ae68-88415cb80bca",
   "metadata": {},
   "outputs": [
    {
     "data": {
      "text/plain": [
       "RANSACRegressor(base_estimator=LinearRegression(), max_trials=500,\n",
       "                min_samples=50, random_state=2111091045,\n",
       "                residual_threshold=5.0)"
      ]
     },
     "execution_count": 32,
     "metadata": {},
     "output_type": "execute_result"
    }
   ],
   "source": [
    "# RANSAC 선형회귀 실시\n",
    "from sklearn.linear_model import RANSACRegressor\n",
    "\n",
    "\n",
    "# max_trials = 알고리즘 최대 반복횟수\n",
    "# min_samples = 모델선정에 사용할 무작위 표본의 최소수\n",
    "# loss : 모델의 성능 평가에 사용할 함수 지정\n",
    "# absolute_error : 편균절대값 오차\n",
    "# residual_threshold : 정상치에 포함할 허용오차\n",
    "lrclf2 = LinearRegression()\n",
    "ransac = RANSACRegressor(lrclf2, max_trials=500, min_samples=50, loss = 'absolute_error', residual_threshold=5.0, random_state=2111091045)\n",
    "\n",
    "ransac.fit(X,y)"
   ]
  },
  {
   "cell_type": "code",
   "execution_count": 29,
   "id": "0dbe2743-475d-4eb9-8d31-41f98247837d",
   "metadata": {},
   "outputs": [
    {
     "name": "stdout",
     "output_type": "stream",
     "text": [
      "[10.13609866] -40.2080937417566\n"
     ]
    }
   ],
   "source": [
    "# 선형모델의 계수\n",
    "a = ransac.estimator_.coef_\n",
    "b = ransac.estimator_.intercept_\n",
    "print(a,b)"
   ]
  },
  {
   "cell_type": "code",
   "execution_count": 34,
   "id": "8e0c36c6-5ab2-40c4-9e99-5ece34f29ce6",
   "metadata": {},
   "outputs": [],
   "source": [
    "# 정상치 inlier 와 이상치 outlier 추출\n",
    "inlier_mask = ransac.inlier_mask_\n",
    "outlier_mask = np.logical_not(inlier_mask)"
   ]
  },
  {
   "cell_type": "code",
   "execution_count": 43,
   "id": "582c9c2c-598f-4f33-9b0e-61d7a0d6e699",
   "metadata": {},
   "outputs": [],
   "source": [
    "# 회귀선시각화를 위한 변수 생성\n",
    "z = ransac.predict(X[inlier_mask])"
   ]
  },
  {
   "cell_type": "code",
   "execution_count": 45,
   "id": "bc74d805-1c0d-48f5-b3c5-5b5a665e73d7",
   "metadata": {},
   "outputs": [
    {
     "data": {
      "text/plain": [
       "<matplotlib.legend.Legend at 0x7f9df84f32d0>"
      ]
     },
     "execution_count": 45,
     "metadata": {},
     "output_type": "execute_result"
    },
    {
     "data": {
      "image/png": "[encoded data removed]",
      "text/plain": [
       "<Figure size 432x288 with 1 Axes>"
      ]
     },
     "metadata": {
      "needs_background": "light"
     },
     "output_type": "display_data"
    }
   ],
   "source": [
    "# 정상치와 이상치, 회귀선 시각화\n",
    "plt.scatter(X[inlier_mask], y[inlier_mask], c='blue', marker='o', label = 'inlier')\n",
    "plt.scatter(X[outlier_mask], y[outlier_mask], c='pink', marker='x', label = 'outlier')\n",
    "\n",
    "plt.plot(X[inlier_mask], z, 'r-')\n",
    "\n",
    "plt.legend()"
   ]
  },
  {
   "cell_type": "code",
   "execution_count": 48,
   "id": "8755faf5-c013-41c7-97eb-985acee06caf",
   "metadata": {},
   "outputs": [
    {
     "name": "stdout",
     "output_type": "stream",
     "text": [
      "2.4741094195756936 0.8760762080445963\n"
     ]
    }
   ],
   "source": [
    "# 모델 성능 평가\n",
    "rmse = np.sqrt(mean_squared_error(y[inlier_mask],z))\n",
    "r2 = r2_score(y[inlier_mask],z)\n",
    "print(rmse, r2)"
   ]
  },
  {
   "cell_type": "code",
   "execution_count": 49,
   "id": "2a2b226d-c43e-49cd-a30d-49b55cfed84e",
   "metadata": {},
   "outputs": [],
   "source": [
    "# 보스턴 집값 데이터셋에서 저소득층비욜 LSTAT와 주택평균가격MDEV에 대해\n",
    "# 회귀분석과 RASNSAC 분석을 실시하고 결과를 서로 비교해보자\n",
    "\n",
    "# df = pd.DataFrame(boston.data, columns=boston.feature_names)\n",
    "# df['LSTAT'] = boston.target\n",
    "\n",
    "X = df.LSTAT     # 저소득층 비율\n",
    "y = df.MDEV   # 주택평균가격"
   ]
  },
  {
   "cell_type": "code",
   "execution_count": 50,
   "id": "762802fe-87a7-4886-b272-c9afdcc3d49d",
   "metadata": {},
   "outputs": [
    {
     "data": {
      "text/plain": [
       "[<matplotlib.lines.Line2D at 0x7f9df794f350>]"
      ]
     },
     "execution_count": 50,
     "metadata": {},
     "output_type": "execute_result"
    },
    {
     "data": {
      "image/png": "[encoded data removed]",
      "text/plain": [
       "<Figure size 432x288 with 1 Axes>"
      ]
     },
     "metadata": {
      "needs_background": "light"
     },
     "output_type": "display_data"
    }
   ],
   "source": [
    "plt.plot(X,y,'bo')"
   ]
  },
  {
   "cell_type": "code",
   "execution_count": 53,
   "id": "502b045e-6d5d-43f3-920a-8956113b5ee2",
   "metadata": {},
   "outputs": [
    {
     "data": {
      "text/plain": [
       "(array([-0.95004935]), 34.5538408793831)"
      ]
     },
     "execution_count": 53,
     "metadata": {},
     "output_type": "execute_result"
    }
   ],
   "source": [
    "# 선형회귀\n",
    "X = np.array(X).reshape(-1,1)\n",
    "lr = LinearRegression()\n",
    "lr.fit(X, y)\n",
    "pred= lr.predict(X)\n",
    "\n",
    "lr.coef_, lr.intercept_"
   ]
  },
  {
   "cell_type": "code",
   "execution_count": 54,
   "id": "3d399d5c-cc08-4f73-9c91-41e9d5508834",
   "metadata": {},
   "outputs": [
    {
     "name": "stdout",
     "output_type": "stream",
     "text": [
      "6.20346413142642 0.5441462975864797\n"
     ]
    }
   ],
   "source": [
    "rmse = np.sqrt(mean_squared_error(y, pred))\n",
    "r2 = r2_score(y, pred)\n",
    "\n",
    "print(rmse, r2)"
   ]
  },
  {
   "cell_type": "code",
   "execution_count": 55,
   "id": "da806668-ce5c-4208-acf1-7011e847eeb8",
   "metadata": {},
   "outputs": [
    {
     "data": {
      "text/plain": [
       "[<matplotlib.lines.Line2D at 0x7f9df3247290>]"
      ]
     },
     "execution_count": 55,
     "metadata": {},
     "output_type": "execute_result"
    },
    {
     "data": {
      "image/png": "[encoded data removed]",
      "text/plain": [
       "<Figure size 432x288 with 1 Axes>"
      ]
     },
     "metadata": {
      "needs_background": "light"
     },
     "output_type": "display_data"
    }
   ],
   "source": [
    "plt.plot(X, y, 'bo')\n",
    "plt.plot(X,pred,'r-')"
   ]
  },
  {
   "cell_type": "code",
   "execution_count": 58,
   "id": "41ed018c-b0c5-45f3-91e5-918e4819af84",
   "metadata": {},
   "outputs": [
    {
     "data": {
      "text/plain": [
       "RANSACRegressor(base_estimator=LinearRegression(), max_trials=500,\n",
       "                min_samples=50, random_state=2111091205,\n",
       "                residual_threshold=5.0)"
      ]
     },
     "execution_count": 58,
     "metadata": {},
     "output_type": "execute_result"
    }
   ],
   "source": [
    "# ransac 회귀\n",
    "lr2 = LinearRegression()\n",
    "ransac = RANSACRegressor(lr2, max_trials=500, min_samples=50, loss='absolute_error', residual_threshold=5.0, random_state=2111091205)\n",
    "\n",
    "ransac.fit(X,y)"
   ]
  },
  {
   "cell_type": "code",
   "execution_count": 59,
   "id": "f9dfb805-bb2c-416b-93d1-598e1bab9c97",
   "metadata": {},
   "outputs": [
    {
     "name": "stdout",
     "output_type": "stream",
     "text": [
      "[-0.74347328] 29.828872956329434\n"
     ]
    }
   ],
   "source": [
    "a = ransac.estimator_.coef_\n",
    "b = ransac.estimator_.intercept_\n",
    "print(a,b)"
   ]
  },
  {
   "cell_type": "code",
   "execution_count": 65,
   "id": "7a894fd6-4eda-4ad2-aef8-bfb16239c113",
   "metadata": {},
   "outputs": [],
   "source": [
    "inlier_mask = ransac.inlier_mask_\n",
    "outlier_mask = np.logical_not(inlier_mask)\n",
    "\n",
    "pred = ransac.predict(X[inlier_mask])"
   ]
  },
  {
   "cell_type": "code",
   "execution_count": 63,
   "id": "1fc1006b-f674-4d74-a339-6dec77d9b0a7",
   "metadata": {},
   "outputs": [
    {
     "name": "stdout",
     "output_type": "stream",
     "text": [
      "2.411268834239307 0.7981455201082017\n"
     ]
    }
   ],
   "source": [
    "rmse = np.sqrt(mean_squared_error(y[inlier_mask], pred))\n",
    "r2 = r2_score(y[inlier_mask], pred)\n",
    "print(rmse, r2)\n"
   ]
  },
  {
   "cell_type": "code",
   "execution_count": 64,
   "id": "981e0b78-b24a-4e2f-912a-3e717c093464",
   "metadata": {},
   "outputs": [
    {
     "data": {
      "text/plain": [
       "[<matplotlib.lines.Line2D at 0x7f9df31813d0>]"
      ]
     },
     "execution_count": 64,
     "metadata": {},
     "output_type": "execute_result"
    },
    {
     "data": {
      "image/png": "[encoded data removed]",
      "text/plain": [
       "<Figure size 432x288 with 1 Axes>"
      ]
     },
     "metadata": {
      "needs_background": "light"
     },
     "output_type": "display_data"
    }
   ],
   "source": [
    "plt.scatter(X[inlier_mask], y[inlier_mask], c='blue', marker='o')\n",
    "plt.scatter(X[outlier_mask], y[outlier_mask], c='pink', marker='x')\n",
    "\n",
    "plt.plot(X[inlier_mask], pred, 'r-')"
   ]
  },
  {
   "cell_type": "markdown",
   "id": "d3b75190-fa3e-485c-acf7-a13080eebf3c",
   "metadata": {},
   "source": [
    "## RANSAC 알고리즘 \n",
    "* 데이터에서 임의의 표본 n 개 선택하여 이름을 inlier로 가정하고\n",
    "* 나머지 데이터들을 회귀몰델과 비교 - 허용 오차내에 있는 데이터들을 inlier로 포함\n",
    "* 재구성된 inlier를 이용해 다시 회귀모델을 구하고 오차 측정\n",
    "* 오차가 허용오차보다 크거나 반복횟수에 도달하면 작업 종료"
   ]
  },
  {
   "cell_type": "code",
   "execution_count": null,
   "id": "4df2f584-e909-44c3-a5d7-68bb82e4cd0d",
   "metadata": {},
   "outputs": [],
   "source": []
  },
  {
   "cell_type": "code",
   "execution_count": null,
   "id": "eb0e4d41-9a9b-4190-8642-6d6be895e893",
   "metadata": {},
   "outputs": [],
   "source": []
  },
  {
   "cell_type": "code",
   "execution_count": null,
   "id": "114eb902-996d-4700-8e05-6d994ab5eeb7",
   "metadata": {},
   "outputs": [],
   "source": []
  },
  {
   "cell_type": "code",
   "execution_count": null,
   "id": "c39beed6-5542-49d0-8aec-0f6712634e44",
   "metadata": {},
   "outputs": [],
   "source": []
  },
  {
   "cell_type": "code",
   "execution_count": null,
   "id": "5ea10621-0266-48dd-9750-375391d6d1e0",
   "metadata": {},
   "outputs": [],
   "source": []
  },
  {
   "cell_type": "code",
   "execution_count": null,
   "id": "6e7f7450-142a-44b8-a465-9d908b0ec996",
   "metadata": {},
   "outputs": [],
   "source": []
  },
  {
   "cell_type": "code",
   "execution_count": null,
   "id": "2a3e570a-c0b0-48b0-b7ff-d1c745742ae8",
   "metadata": {},
   "outputs": [],
   "source": []
  },
  {
   "cell_type": "code",
   "execution_count": null,
   "id": "c771b2e5-8a77-4bb0-ac7f-9a49d1ffd228",
   "metadata": {},
   "outputs": [],
   "source": []
  },
  {
   "cell_type": "code",
   "execution_count": null,
   "id": "2dbdd622-c31c-4ef1-9157-be500cc7e712",
   "metadata": {},
   "outputs": [],
   "source": []
  },
  {
   "cell_type": "code",
   "execution_count": null,
   "id": "6b64b8a5-2ce5-434b-8155-b5c3fa7364f6",
   "metadata": {},
   "outputs": [],
   "source": []
  }
 ],
 "metadata": {
  "kernelspec": {
   "display_name": "Python 3 (ipykernel)",
   "language": "python",
   "name": "python3"
  },
  "language_info": {
   "codemirror_mode": {
    "name": "ipython",
    "version": 3
   },
   "file_extension": ".py",
   "mimetype": "text/x-python",
   "name": "python",
   "nbconvert_exporter": "python",
   "pygments_lexer": "ipython3",
   "version": "3.7.10"
  }
 },
 "nbformat": 4,
 "nbformat_minor": 5
}
