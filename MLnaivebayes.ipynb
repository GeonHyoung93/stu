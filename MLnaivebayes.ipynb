{
 "cells": [
  {
   "cell_type": "markdown",
   "id": "cdbf1a62-1d51-4d1d-8ad3-09a1933e7cab",
   "metadata": {},
   "source": [
    "### **나이브 베이즈 분석**\n",
    "* 조건부확률이 이용한 확률 기반 머신러닝 분류 알고리즘\n",
    "* 주사위를 굴려 짝수눈이 나올 확률P은?\n",
    "    + 어떤 사건의 확률P = 원하는 결과수 / 가능한 결과수\n",
    "    + 모든 실험의 결과가 동일한 가능성을 가진다고 가정함\n",
    "    + 이를 <span style=color:green>**고전적확률**</span>이라함\n",
    "* 상호배타적, 덧셈법칙, 여의법칙,덧셈의 일반법칙,곱셈법칙(독립사건),조건부확률\n",
    "* 동전을 100회 던졌을때 앞면이 나오는 횟수는?\n",
    "    + 전통적 확률에서는 일어난횟수/전체시도횟수로 계산\n",
    "    + 이를 경험적확률이라 함 - 일정한 확률로 반복시행\n",
    "    + 시행횟수가 충분히 했을때 어떤 사건이 일어나는 상대적 횟수는 일정한 패턴을 보인다는 의미 - <span style=color:green>**대수의 법칙**</span>\n",
    "* 만일, A 라는 도시에 수지가 태어난 경우, 이 아이가 노벨상을 받을 확률은 얼마나 될까?\n",
    "    + 이것을 경험적 확률로 계산하려면 이 아이를 여러 명 살게하고 그 중 몇명이 노벨상을 받는지 평가해보면 됨\n",
    "    + 문제는 동일한 유전자, 환경에 자란 아이를 만들수 있는가 임\n",
    "* 이러한 상황에서는 <span style=color:green>**베이즈 확률론**</span>을 이용한다\n",
    "    + 활용 가능한 정보에 기초해서 어떤 개인이 결정한 특정 사건이 발생할 가능성(확률)\n",
    "    + 일어나지 않은일에 대한 확률을 불확실성이라는 개념으로 이야기 함\n",
    "    + 즉, 이 사건과 관련된 여러가지 확률을 이용해서 새롭게 일어날 수 있는 사건에 대해 추정하는 것\n",
    "    + 이를 <span style=color:green>**주관적확률**</span>이라 함\n",
    "    + 베이즈 정리, 사전확률, 사후확률 - 나이브 베이즈"
   ]
  },
  {
   "cell_type": "markdown",
   "id": "c944e6c3-de4a-47d9-b2bc-dfcbaffd869c",
   "metadata": {},
   "source": [
    "### **중요 확률 개념**\n",
    "* <span style=color:green>**조건부 확률**</span>\n",
    "    + 어떤 사건 B가 일어났을 때 사건 A가 일어날 확률을 의미어떤 사건 B가 일어났을 때 사건 A가 일어날 확률을 의미\n",
    "    + #### $ P(A|B) = \\frac {P(A \\cap B)} {P(B)} $$ P(A|B) = \\frac {P(A \\cap B)} {P(B)} $\n",
    "* <span style=color:green><span style=color:green>**확률의 곱셈법칙확률의 곱셈법칙**</span></span>\n",
    "    + 두 가지 이상의 사건이 동시에 발생하는 확률두 가지 이상의 사건이 동시에 발생하는 확률\n",
    "    + 사건 A,B가 동시에 일어날 확률은 사건 A 발생 확률과 사건 B 발생 확률을 곱한 것과 같음사건 A,B가 동시에 일어날 확률은 사건 A 발생 확률과 사건 B 발생 확률을 곱한 것과 같음\n",
    "    + #### $ P(A ∩ B) = P(A|B)P(B) = P(B|A)P(A) $$ P(A ∩ B) = P(A|B)P(B) = P(B|A)P(A) $\n",
    "* <span style=color:green><span style=color:green>**전체 확률의 법칙전체 확률의 법칙**</span></span>\n",
    "    + 나중에 주어지는 사건 X의 확률은 그 사건의 원인을 여러가지로 나누어서,나중에 주어지는 사건 X의 확률은 그 사건의 원인을 여러가지로 나누어서, \n",
    "    + 각 원인에 대한 조건부 확률 P(X|Y)과 그 원인이 되는 확률 P(Y)의 곱에 의한 가중합으로 구할 수 있음을 말함\n",
    "    + 각 원인에 대한 조건부 확률 P(X|Y)과 그 원인이 되는 확률 P(Y)의 곱에 의한가중합으로 구할 수 있음을 말함\n",
    "    + #### $ P(A) = P(A ∩ B_1) + P(A ∩ B_2) + ... $$ P(A) = P(A ∩ B_1) + P(A ∩ B_2) + ... $"
   ]
  },
  {
   "cell_type": "markdown",
   "id": "da445723-c818-4ffc-80f2-0907a6c16dd1",
   "metadata": {},
   "source": [
    "### **베이즈 이론**\n",
    "* 18세기 영국 장로교 목사였던 토마스 베이즈는 신이 실제로 존재하는가에 대한 문제로 고심\n",
    "* 수학에 관심이 있었기 때문에 지구상의 모든 증거를 이용해서 신이 존재할 확률을 계산하는 공식을 개발하려 함\n",
    "* 후에 베이즈의 업적을 정리해서 나온 결과물\n",
    "* 이전의 경험과 현재의 증거를 토대로 어떤 사건의 확률을 추론\n",
    "* 확률 P(A|B)를 알고 있을 때, 관계가 정반대인 확률 P(B|A)를 계산\n",
    "    + ####  $ P(A|B)= \\frac { P(A)P(B|A)} { P(B) } $\n",
    "    + ####  $P(A) $ : $ A $ 의 사전확률 - 현재의 증거\n",
    "    + ####  $P(B) $ : $ B$ 의 사전확률 - 과거의 경험\n",
    "    + ####  $ P(A|B) $ : 사건 $B$가 주어졌을때 $A$의 조건부 \n",
    "        - 확률 알려진 결과에 기초한 어떤 가설에 대한 가능성\n",
    "    + ####  $ P(B|A) $ : 사건 $A$라는 증거에 대한 사후 확률 \n",
    "        - 사건 $A$가 일어났다는 것을 알고 그것이 사건 $B$로 부터 일어난 것이라고 생각되는 조건부 확률\n",
    "        \n",
    "    + #### $ P(A|B) = \\frac {P(B \\cap A)} {P(B)} = \\frac {P(B|A)P(A)} {P(B)} = \\frac {P(B|A)P(A)} {P(A ∩ B) + P(\\sim A ∩ B)}  $\n",
    "      "
   ]
  },
  {
   "cell_type": "markdown",
   "id": "442c8d03-7361-4b3b-a247-d2941c921912",
   "metadata": {},
   "source": [
    "### **몬티홀 문제 - 미국 티비쇼에서 유래한 퍼즐**\n",
    "* 3개의 문 중 하나를 선택하여 문 뒤에 있는 상품을 주는 쇼\n",
    "* 출현자가 한 문을 선택했을 때, 사회자가 다른 문을 열어 염소가 있음을 보여주고는 현재의 선택을 바꾸겠냐고 물음\n",
    "* 이때 출현자는 처음 선택을 고수하는 것이 나을까? \n",
    "* 출현자가 스포츠카를 가지려면 현재의 선택을 바꾸는게 나을까?"
   ]
  },
  {
   "cell_type": "markdown",
   "id": "f826693d-159a-4161-90d8-7db8960916cd",
   "metadata": {},
   "source": [
    "### **아들 딸 패러독스**\n",
    "* 두 아이가 있는 어떤 집에서 [첫 아이가] 남자일때 두 아이 모두가 남자일 확률은?\n",
    "* 두 아이가 있는 어떤 집에서 [한 명이] 남자일때 두 아이 모두가 남자일 확률은?"
   ]
  },
  {
   "cell_type": "markdown",
   "id": "199f2b3f-ea81-4eb3-b0d9-58cd48ab1a0e",
   "metadata": {},
   "source": [
    "### **베이즈 정리**\n",
    "* experience base prediction\n",
    "* 이전의 경험과 현재의 증거를 토대로 어떤 사건의 확률을 추론하는 알고리즘\n",
    "* 따라서, 사건이 일어날 확률을 토대로 의사결정을 하는 경우, 그와 관련된 사전정보를 얼마나 알고 있나에 따라 크게 좌우\n",
    "* 기하학 : 피타고라스 정리 = 확률학 : 베이즈 정리"
   ]
  },
  {
   "cell_type": "markdown",
   "id": "b700cc7c-1d50-4852-8f6b-5b5a33e117b3",
   "metadata": {},
   "source": [
    "* ### 베이즈 정리에 대한 예제\n",
    "* 삼키기 어려울 정도의 목에 통증 유발 - 인후염\n",
    "* 병원 방문후 검사(정확도 90%) 시행\n",
    "* 결과 : 양성(폐암)\n",
    "* 의사 : 이 결과로 폐암일 확률은 10%도 안될 수 있음\n",
    "* 폐암에 걸린 남성은 성인 남성 1% 정도\n",
    "* 환자 : 그래도 걱정이 되니 추가 검사 시행 - 음성(!)\n",
    "* 베이즈 정리에 근거, 실제 검사에서 양성이 나왔을때 진짜 폐암에 걸릴 확률은 ???\n",
    "* 베이즈 정리 : $P(A|B) = \\frac {P(A)P(B|A)} {P(B)}$\n",
    "* 조건부확률 : $P(A \\cap B) = P(A)P(B|A) = P(B)P(A|B)$\n",
    "* 따라서, $ P(A|B) = \\frac {P(A \\cap B)} {P(B)} $로 도출가능\n",
    "* 결론적으로 $P(A|B) = \\frac {P(B)P(A|B)} {P(B)}$로도 사용가능\n",
    "* 양성일때 폐암일 확률 =\n",
    "    + ### $ P(폐암|양성) = \\frac {P(폐암 \\cap 양성)} {P(양성)}  = \\frac {P(폐암)P(양성|폐암)}  {P(양성)} $\n",
    "* 폐암일때 양성일 확률\n",
    "    + ### $ P(양성|폐암) = \\frac {P(양성\\cap 폐암)} {P(폐암)}  = \\frac {P(양성)P(폐암|양성)}  {P(폐암)} $\n",
    "* 정확도 90% 검사로, 검사결과가 양성일때 폐암일 확률은? = $P(폐암|양성) = 0.9$\n",
    "* 성인 남성이 폐암에 걸릴 확률은? = $P(폐암) = 0.01$\n",
    "* 실제 양성일 확률은? = $ P(양성) $\n",
    "    + 베이즈 정리와 전체 확률의 법칙을 이용\n",
    "    + 폐암이고, 검사로도 진짜 양성일 확률과 폐암이 아닌데, 검사로 양성일 확률을 더한 확률\n",
    "    + $ P(양성|폐암)P(폐암) + P(양성|1-폐암)P(1-폐암) $ \n",
    "    + = $ (0.9 * 0.01) + (0.1 * 0.99) = 0.10791 = 0.108 = 11% $\n",
    "    + 따라서,\n",
    "    + $ P(폐암|양성) = \\frac {P(폐암)P(양성|폐암)} {P(양성)} $\n",
    "    + = (0.01 * 0.9) / 0.108 = 0.083 = 8.3% (별거아님)\n",
    "* 시간이 지나 다시 목이 아프고 숨을 쉬기 어려워서 다시 병원에 감\n",
    "* 다시 검사(정확도99%) 해보니 역시 양성\n",
    "    + 예전 경험에 비춰 별거 아니라고 생각\n",
    "* 의사는 폐암에 걸릴 확률이 50%로 증가\n",
    "    + 절대 심각할 수 있다고 경고\n",
    "    + P(양성|폐암)P(폐암) + P(양성|1-폐암)P(1-폐암)\n",
    "    + = (0.99 * 0.01) + (0.01 * 0.99) = 0.0197\n",
    "* 따라서, P(폐암|양성) = P(폐암)P(양성|폐암) / P(양성)\n",
    "    + = (0.01 * 0.99) / 0.0197 = 0.503 = 50% (심각함)"
   ]
  },
  {
   "cell_type": "markdown",
   "id": "ab3565ed-c6fb-426f-9dca-16d46d1e9d5f",
   "metadata": {},
   "source": [
    "### 나이브베이즈 예제\n",
    "* 나이브 베이즈에서 '나이브naive'는 단순한 이란 뜻으로 모든 변수가 서로 독립이라고 가정하고 확률을 계산함\n",
    "* 사후확률값 자체를 아는 것이 중요한 것이 아니고 \n",
    "    + 각각의 사후확률의 크기를 비교하는 것 만으로도 충분하기 때문에 수식의 분모는 상수처럼 취급함\n",
    "* 각 변수의 상호작용을 고려해서 확률을 구하려면 수식이 상당히 복잡해짐\n",
    "* 각 변수를 독립사건처럼 단순화함으로써 수식이 단순해지는 효과를 얻을 수 있음"
   ]
  },
  {
   "cell_type": "markdown",
   "id": "db041f55-b727-4d2f-8f4e-f50aca7b113d",
   "metadata": {},
   "source": [
    "## 연체관련 예제\n",
    "* 집은 없고 결혼했으며 회사경력이 3년인 밥이 연체 가능성 여부를 알아보자\n",
    "* ### $ P(A|B) = \\frac{P(A)P(B|A)} {P(B)}$\n",
    "* P(연체|집,결혼,경력) = (P(연체)P(집|대출) / P(집)) x (P(연체)P(결혼|대출)/ P(결혼)) x (P(연체)P(경력|연체) / P(경력))\n",
    "* = P(연체)P(집|연체) x P(연체)P(결혼|연체) x P(연체)P(경력|연체)\n",
    "* P(B) = 집, 결혼, 경력\n",
    "* P(A) = 연체 확률\n",
    "* 밥이 연체 확률\n",
    "    + P(연체Y) = 3/10\n",
    "    + P(집N|Y) = 2/3\n",
    "    + P(결혼Y|Y) = 1/3\n",
    "    + P(경력3|Y) = 1/3\n",
    "    + 따라서, P(연체 n 집N n 결혼Y n 경력3) = \n",
    "    + 3/10 * 2/3 * 1/3 * 1/3 = 0.222\n",
    "* 밥이 연체 안할 확률\n",
    "    + P(연체Y) = 7/10\n",
    "    + P(집N|N) = 4/7\n",
    "    + P(결혼Y|N) = 4/7\n",
    "    + P(경력3|N) = 2/7\n",
    "    + 따라서, P(연체 n 집N n 결혼Y n 경력3) = 7/10 * 4/7 * 4/7 * 2/7 = 0.065\n",
    "    \n",
    "<img src = 'img/loan.png'>\n",
    "\n"
   ]
  },
  {
   "cell_type": "markdown",
   "id": "0161315e-70eb-4e2d-bc03-83266f8cb1bc",
   "metadata": {},
   "source": [
    "### 영화마케팅 문제를 나이브베이즈로 분석\n",
    "* 영화관객의 성향을 설문조사로 정리\n",
    "* 관객의 속성으로 영화취향을 파악해 본다. \n",
    "* P(B) = 20대, 여, IT, 미혼, 애인없음\n",
    "* P(A) = 추천할 영화 장르는? (공포, 액션, 로맨틱, 스릴러, 코메디, SF, 무협)\n",
    "* 공포영화를 추천해줄 확률\n",
    "    + P(A|B) = P(공포 | 20대, 여, IT, 미혼, 애인없음)\n",
    "    + P(공포|20대) * P(공포|여) * P(공포|IT) * P(공포|미혼) * P(공포|애인없음)\n",
    "* 액션영화를 추천해줄 확률\n",
    "    + P(A|B) = P(액션 | 20대, 여, IT, 미혼, 애인없음)\n",
    "    + P(액션|20대) * P(액션|여) * P(액션|IT) * P(액션|미혼) * P(액션|애인없음)"
   ]
  },
  {
   "cell_type": "code",
   "execution_count": 15,
   "id": "e69abb58-4013-4748-843a-b7173692344b",
   "metadata": {},
   "outputs": [],
   "source": [
    "import numpy as np\n",
    "import pandas as pd\n",
    "import matplotlib.pyplot as plt\n",
    "import seaborn as sns\n",
    "import warnings\n",
    "warnings.filterwarnings(action='ignore')\n",
    "\n",
    "from sklearn.model_selection import train_test_split\n",
    "from sklearn.naive_bayes import MultinomialNB\n",
    "from sklearn.metrics import confusion_matrix\n",
    "from sklearn.metrics import accuracy_score"
   ]
  },
  {
   "cell_type": "code",
   "execution_count": 16,
   "id": "88ab76d5-5f85-4d18-9507-0fcf5d3121ce",
   "metadata": {},
   "outputs": [],
   "source": [
    "plt.rc('font', family='NanumGothic')\n",
    "plt.rcParams['font.family'] = 'NanumGothic'\n",
    "plt.rcParams['axes.unicode_minus'] = False"
   ]
  },
  {
   "cell_type": "code",
   "execution_count": 18,
   "id": "7077eb4c-9e06-46dd-bbb9-d1f997f90680",
   "metadata": {},
   "outputs": [],
   "source": [
    "movies = pd.read_csv('csv/movie.csv', encoding='euc-kr')"
   ]
  },
  {
   "cell_type": "code",
   "execution_count": 19,
   "id": "a6e33e7b-5db0-4f41-8d1c-69a55996f52a",
   "metadata": {},
   "outputs": [],
   "source": [
    "# movie.to_csv('csv/movie2.csv', index=False, encoding='UTF8')\n",
    "# movie = pd.read_csv('csv/movie2.csv')"
   ]
  },
  {
   "cell_type": "code",
   "execution_count": 20,
   "id": "02de03ed-6111-48ca-9134-bed9080fde7e",
   "metadata": {},
   "outputs": [
    {
     "data": {
      "text/html": [
       "<div>\n",
       "<style scoped>\n",
       "    .dataframe tbody tr th:only-of-type {\n",
       "        vertical-align: middle;\n",
       "    }\n",
       "\n",
       "    .dataframe tbody tr th {\n",
       "        vertical-align: top;\n",
       "    }\n",
       "\n",
       "    .dataframe thead th {\n",
       "        text-align: right;\n",
       "    }\n",
       "</style>\n",
       "<table border=\"1\" class=\"dataframe\">\n",
       "  <thead>\n",
       "    <tr style=\"text-align: right;\">\n",
       "      <th></th>\n",
       "      <th>나이</th>\n",
       "      <th>성별</th>\n",
       "      <th>직업</th>\n",
       "      <th>결혼여부</th>\n",
       "      <th>이성친구</th>\n",
       "      <th>장르</th>\n",
       "    </tr>\n",
       "  </thead>\n",
       "  <tbody>\n",
       "    <tr>\n",
       "      <th>0</th>\n",
       "      <td>20대</td>\n",
       "      <td>여</td>\n",
       "      <td>디자이너</td>\n",
       "      <td>NO</td>\n",
       "      <td>YES</td>\n",
       "      <td>로맨틱</td>\n",
       "    </tr>\n",
       "    <tr>\n",
       "      <th>1</th>\n",
       "      <td>40대</td>\n",
       "      <td>남</td>\n",
       "      <td>홍보/마케팅</td>\n",
       "      <td>NO</td>\n",
       "      <td>NO</td>\n",
       "      <td>공포</td>\n",
       "    </tr>\n",
       "    <tr>\n",
       "      <th>2</th>\n",
       "      <td>10대</td>\n",
       "      <td>여</td>\n",
       "      <td>홍보/마케팅</td>\n",
       "      <td>NO</td>\n",
       "      <td>YES</td>\n",
       "      <td>로맨틱</td>\n",
       "    </tr>\n",
       "    <tr>\n",
       "      <th>3</th>\n",
       "      <td>20대</td>\n",
       "      <td>여</td>\n",
       "      <td>디자이너</td>\n",
       "      <td>YES</td>\n",
       "      <td>NO</td>\n",
       "      <td>로맨틱</td>\n",
       "    </tr>\n",
       "    <tr>\n",
       "      <th>4</th>\n",
       "      <td>10대</td>\n",
       "      <td>남</td>\n",
       "      <td>학생</td>\n",
       "      <td>NO</td>\n",
       "      <td>NO</td>\n",
       "      <td>액션</td>\n",
       "    </tr>\n",
       "  </tbody>\n",
       "</table>\n",
       "</div>"
      ],
      "text/plain": [
       "    나이 성별      직업 결혼여부 이성친구   장르\n",
       "0  20대  여    디자이너   NO  YES  로맨틱\n",
       "1  40대  남  홍보/마케팅   NO   NO   공포\n",
       "2  10대  여  홍보/마케팅   NO  YES  로맨틱\n",
       "3  20대  여    디자이너  YES   NO  로맨틱\n",
       "4  10대  남      학생   NO   NO   액션"
      ]
     },
     "execution_count": 20,
     "metadata": {},
     "output_type": "execute_result"
    }
   ],
   "source": [
    "movies.head()"
   ]
  },
  {
   "cell_type": "code",
   "execution_count": 21,
   "id": "dbcb645f-5099-4604-bf87-6571e8a710a3",
   "metadata": {},
   "outputs": [
    {
     "data": {
      "text/plain": [
       "로맨틱    9\n",
       "공포     5\n",
       "액션     5\n",
       "SF     5\n",
       "스릴러    5\n",
       "코미디    5\n",
       "무협     5\n",
       "Name: 장르, dtype: int64"
      ]
     },
     "execution_count": 21,
     "metadata": {},
     "output_type": "execute_result"
    }
   ],
   "source": [
    "movies['장르'].value_counts()"
   ]
  },
  {
   "cell_type": "code",
   "execution_count": 22,
   "id": "13a9b262-43c3-4355-878f-e526de93ae25",
   "metadata": {},
   "outputs": [
    {
     "data": {
      "text/plain": [
       "<AxesSubplot:xlabel='장르', ylabel='count'>"
      ]
     },
     "execution_count": 22,
     "metadata": {},
     "output_type": "execute_result"
    },
    {
     "data": {
      "image/png": "[encoded data removed]",
      "text/plain": [
       "<Figure size 432x288 with 1 Axes>"
      ]
     },
     "metadata": {
      "needs_background": "light"
     },
     "output_type": "display_data"
    }
   ],
   "source": [
    "# 간단한 탐색적 분석\n",
    "sns.countplot(x = '장르', data=movies)"
   ]
  },
  {
   "cell_type": "code",
   "execution_count": 26,
   "id": "9828e0b6-6258-4fda-9aa9-6ba05c03b1e9",
   "metadata": {},
   "outputs": [
    {
     "data": {
      "text/html": [
       "<div>\n",
       "<style scoped>\n",
       "    .dataframe tbody tr th:only-of-type {\n",
       "        vertical-align: middle;\n",
       "    }\n",
       "\n",
       "    .dataframe tbody tr th {\n",
       "        vertical-align: top;\n",
       "    }\n",
       "\n",
       "    .dataframe thead th {\n",
       "        text-align: right;\n",
       "    }\n",
       "</style>\n",
       "<table border=\"1\" class=\"dataframe\">\n",
       "  <thead>\n",
       "    <tr style=\"text-align: right;\">\n",
       "      <th></th>\n",
       "      <th>나이</th>\n",
       "      <th>성별</th>\n",
       "      <th>직업</th>\n",
       "      <th>결혼여부</th>\n",
       "      <th>이성친구</th>\n",
       "      <th>장르</th>\n",
       "      <th>age</th>\n",
       "      <th>gender</th>\n",
       "      <th>job</th>\n",
       "      <th>marry</th>\n",
       "      <th>lover</th>\n",
       "      <th>genre</th>\n",
       "    </tr>\n",
       "  </thead>\n",
       "  <tbody>\n",
       "    <tr>\n",
       "      <th>0</th>\n",
       "      <td>20대</td>\n",
       "      <td>여</td>\n",
       "      <td>디자이너</td>\n",
       "      <td>NO</td>\n",
       "      <td>YES</td>\n",
       "      <td>로맨틱</td>\n",
       "      <td>2</td>\n",
       "      <td>1</td>\n",
       "      <td>1</td>\n",
       "      <td>0</td>\n",
       "      <td>1</td>\n",
       "      <td>2</td>\n",
       "    </tr>\n",
       "    <tr>\n",
       "      <th>1</th>\n",
       "      <td>40대</td>\n",
       "      <td>남</td>\n",
       "      <td>홍보/마케팅</td>\n",
       "      <td>NO</td>\n",
       "      <td>NO</td>\n",
       "      <td>공포</td>\n",
       "      <td>4</td>\n",
       "      <td>0</td>\n",
       "      <td>7</td>\n",
       "      <td>0</td>\n",
       "      <td>0</td>\n",
       "      <td>1</td>\n",
       "    </tr>\n",
       "    <tr>\n",
       "      <th>2</th>\n",
       "      <td>10대</td>\n",
       "      <td>여</td>\n",
       "      <td>홍보/마케팅</td>\n",
       "      <td>NO</td>\n",
       "      <td>YES</td>\n",
       "      <td>로맨틱</td>\n",
       "      <td>0</td>\n",
       "      <td>1</td>\n",
       "      <td>7</td>\n",
       "      <td>0</td>\n",
       "      <td>1</td>\n",
       "      <td>2</td>\n",
       "    </tr>\n",
       "    <tr>\n",
       "      <th>3</th>\n",
       "      <td>20대</td>\n",
       "      <td>여</td>\n",
       "      <td>디자이너</td>\n",
       "      <td>YES</td>\n",
       "      <td>NO</td>\n",
       "      <td>로맨틱</td>\n",
       "      <td>2</td>\n",
       "      <td>1</td>\n",
       "      <td>1</td>\n",
       "      <td>1</td>\n",
       "      <td>0</td>\n",
       "      <td>2</td>\n",
       "    </tr>\n",
       "    <tr>\n",
       "      <th>4</th>\n",
       "      <td>10대</td>\n",
       "      <td>남</td>\n",
       "      <td>학생</td>\n",
       "      <td>NO</td>\n",
       "      <td>NO</td>\n",
       "      <td>액션</td>\n",
       "      <td>0</td>\n",
       "      <td>0</td>\n",
       "      <td>6</td>\n",
       "      <td>0</td>\n",
       "      <td>0</td>\n",
       "      <td>5</td>\n",
       "    </tr>\n",
       "  </tbody>\n",
       "</table>\n",
       "</div>"
      ],
      "text/plain": [
       "    나이 성별      직업 결혼여부 이성친구   장르  age  gender  job  marry  lover  genre\n",
       "0  20대  여    디자이너   NO  YES  로맨틱    2       1    1      0      1      2\n",
       "1  40대  남  홍보/마케팅   NO   NO   공포    4       0    7      0      0      1\n",
       "2  10대  여  홍보/마케팅   NO  YES  로맨틱    0       1    7      0      1      2\n",
       "3  20대  여    디자이너  YES   NO  로맨틱    2       1    1      1      0      2\n",
       "4  10대  남      학생   NO   NO   액션    0       0    6      0      0      5"
      ]
     },
     "execution_count": 26,
     "metadata": {},
     "output_type": "execute_result"
    }
   ],
   "source": [
    "cols = ['나이','성별','직업','결혼여부','이성친구','장르']\n",
    "ncols = ['age','gender','job','marry','lover','genre']\n",
    "\n",
    "for ix, c in enumerate(cols):\n",
    "    x = pd.Categorical(movies[c])\n",
    "    movies[ncols[ix]] = pd.Series(x).cat.codes\n",
    "movies.head()"
   ]
  },
  {
   "cell_type": "code",
   "execution_count": 27,
   "id": "c48929cf-df08-48e8-b168-0ed5d7ed5000",
   "metadata": {},
   "outputs": [],
   "source": [
    "# 데이터 분리\n",
    "data = movies.iloc[:, 6:11]\n",
    "target = movies.genre"
   ]
  },
  {
   "cell_type": "code",
   "execution_count": 28,
   "id": "e087b76e-50cd-4870-b18b-c8a4d4b4a893",
   "metadata": {},
   "outputs": [
    {
     "data": {
      "text/plain": [
       "0.8205128205128205"
      ]
     },
     "execution_count": 28,
     "metadata": {},
     "output_type": "execute_result"
    }
   ],
   "source": [
    "# 나이브베이즈 분석\n",
    "# sklearn에서 제공하는 나이브베이즈 알고리즘 3가지\n",
    "# bernolliNB : 이진데이터, 종속변수가 Y/N일때 사용\n",
    "# multinomiaNB : 텍스트, 다항데이터, 종속변수가 3가지 종류이상 일때 사용 \n",
    "# GaussianNB : 연속형 데이터\n",
    "\n",
    "bayes = MultinomialNB()\n",
    "bayes.fit(data, target)\n",
    "bayes.score(data, target)"
   ]
  },
  {
   "cell_type": "code",
   "execution_count": 33,
   "id": "aa4e5bd6-d33a-4c9f-8b9f-69b974a9c39f",
   "metadata": {},
   "outputs": [
    {
     "data": {
      "text/plain": [
       "array([0], dtype=int8)"
      ]
     },
     "execution_count": 33,
     "metadata": {},
     "output_type": "execute_result"
    }
   ],
   "source": [
    "# 20대, 여, IT, 미혼, 애인없음 인 고객에게 추천할 영화 장르는\n",
    "cust = np.array([[2, 1, 0, 0, 0]])\n",
    "bayes.predict(cust)  # 0 : SF"
   ]
  },
  {
   "cell_type": "code",
   "execution_count": 48,
   "id": "a7f94e91-beff-4517-a08d-c0f52c576064",
   "metadata": {},
   "outputs": [],
   "source": [
    "# 연체관련 문제를 나이브 베이즈로 분석하기\n",
    "# 집은 없고 결혼했으며 회사경력 3년인 밥의 연채여부\n",
    "from sklearn.naive_bayes import BernoulliNB"
   ]
  },
  {
   "cell_type": "code",
   "execution_count": 41,
   "id": "baf76f4c-f778-4fd1-9149-b0e59d3af50e",
   "metadata": {},
   "outputs": [
    {
     "data": {
      "text/html": [
       "<div>\n",
       "<style scoped>\n",
       "    .dataframe tbody tr th:only-of-type {\n",
       "        vertical-align: middle;\n",
       "    }\n",
       "\n",
       "    .dataframe tbody tr th {\n",
       "        vertical-align: top;\n",
       "    }\n",
       "\n",
       "    .dataframe thead th {\n",
       "        text-align: right;\n",
       "    }\n",
       "</style>\n",
       "<table border=\"1\" class=\"dataframe\">\n",
       "  <thead>\n",
       "    <tr style=\"text-align: right;\">\n",
       "      <th></th>\n",
       "      <th>home</th>\n",
       "      <th>married</th>\n",
       "      <th>jobexp</th>\n",
       "      <th>defaulted</th>\n",
       "    </tr>\n",
       "  </thead>\n",
       "  <tbody>\n",
       "    <tr>\n",
       "      <th>0</th>\n",
       "      <td>yes</td>\n",
       "      <td>single</td>\n",
       "      <td>3</td>\n",
       "      <td>no</td>\n",
       "    </tr>\n",
       "    <tr>\n",
       "      <th>1</th>\n",
       "      <td>no</td>\n",
       "      <td>married</td>\n",
       "      <td>4</td>\n",
       "      <td>no</td>\n",
       "    </tr>\n",
       "    <tr>\n",
       "      <th>2</th>\n",
       "      <td>no</td>\n",
       "      <td>single</td>\n",
       "      <td>5</td>\n",
       "      <td>no</td>\n",
       "    </tr>\n",
       "    <tr>\n",
       "      <th>3</th>\n",
       "      <td>yes</td>\n",
       "      <td>married</td>\n",
       "      <td>4</td>\n",
       "      <td>no</td>\n",
       "    </tr>\n",
       "    <tr>\n",
       "      <th>4</th>\n",
       "      <td>no</td>\n",
       "      <td>divorced</td>\n",
       "      <td>2</td>\n",
       "      <td>yes</td>\n",
       "    </tr>\n",
       "  </tbody>\n",
       "</table>\n",
       "</div>"
      ],
      "text/plain": [
       "  home   married  jobexp defaulted\n",
       "0  yes    single       3        no\n",
       "1   no   married       4        no\n",
       "2   no    single       5        no\n",
       "3  yes   married       4        no\n",
       "4   no  divorced       2       yes"
      ]
     },
     "execution_count": 41,
     "metadata": {},
     "output_type": "execute_result"
    }
   ],
   "source": [
    "default = pd.read_csv('csv/defaulted.csv')\n",
    "default.head()"
   ]
  },
  {
   "cell_type": "code",
   "execution_count": 42,
   "id": "38970b80-1d0a-48dc-af93-188ee9cd6b7e",
   "metadata": {},
   "outputs": [
    {
     "data": {
      "text/plain": [
       "<AxesSubplot:xlabel='defaulted', ylabel='count'>"
      ]
     },
     "execution_count": 42,
     "metadata": {},
     "output_type": "execute_result"
    },
    {
     "data": {
      "image/png": "[encoded data removed]",
      "text/plain": [
       "<Figure size 432x288 with 1 Axes>"
      ]
     },
     "metadata": {
      "needs_background": "light"
     },
     "output_type": "display_data"
    }
   ],
   "source": [
    "sns.countplot(x='defaulted',data=default)"
   ]
  },
  {
   "cell_type": "code",
   "execution_count": 45,
   "id": "7652fed0-69f9-4ce8-8324-124cdc6ab4b8",
   "metadata": {},
   "outputs": [
    {
     "data": {
      "text/html": [
       "<div>\n",
       "<style scoped>\n",
       "    .dataframe tbody tr th:only-of-type {\n",
       "        vertical-align: middle;\n",
       "    }\n",
       "\n",
       "    .dataframe tbody tr th {\n",
       "        vertical-align: top;\n",
       "    }\n",
       "\n",
       "    .dataframe thead th {\n",
       "        text-align: right;\n",
       "    }\n",
       "</style>\n",
       "<table border=\"1\" class=\"dataframe\">\n",
       "  <thead>\n",
       "    <tr style=\"text-align: right;\">\n",
       "      <th></th>\n",
       "      <th>home</th>\n",
       "      <th>married</th>\n",
       "      <th>jobexp</th>\n",
       "      <th>defaulted</th>\n",
       "      <th>home2</th>\n",
       "      <th>married2</th>\n",
       "      <th>jobexp2</th>\n",
       "      <th>defaulted2</th>\n",
       "    </tr>\n",
       "  </thead>\n",
       "  <tbody>\n",
       "    <tr>\n",
       "      <th>0</th>\n",
       "      <td>yes</td>\n",
       "      <td>single</td>\n",
       "      <td>3</td>\n",
       "      <td>no</td>\n",
       "      <td>1</td>\n",
       "      <td>2</td>\n",
       "      <td>1</td>\n",
       "      <td>0</td>\n",
       "    </tr>\n",
       "    <tr>\n",
       "      <th>1</th>\n",
       "      <td>no</td>\n",
       "      <td>married</td>\n",
       "      <td>4</td>\n",
       "      <td>no</td>\n",
       "      <td>0</td>\n",
       "      <td>1</td>\n",
       "      <td>2</td>\n",
       "      <td>0</td>\n",
       "    </tr>\n",
       "    <tr>\n",
       "      <th>2</th>\n",
       "      <td>no</td>\n",
       "      <td>single</td>\n",
       "      <td>5</td>\n",
       "      <td>no</td>\n",
       "      <td>0</td>\n",
       "      <td>2</td>\n",
       "      <td>3</td>\n",
       "      <td>0</td>\n",
       "    </tr>\n",
       "    <tr>\n",
       "      <th>3</th>\n",
       "      <td>yes</td>\n",
       "      <td>married</td>\n",
       "      <td>4</td>\n",
       "      <td>no</td>\n",
       "      <td>1</td>\n",
       "      <td>1</td>\n",
       "      <td>2</td>\n",
       "      <td>0</td>\n",
       "    </tr>\n",
       "    <tr>\n",
       "      <th>4</th>\n",
       "      <td>no</td>\n",
       "      <td>divorced</td>\n",
       "      <td>2</td>\n",
       "      <td>yes</td>\n",
       "      <td>0</td>\n",
       "      <td>0</td>\n",
       "      <td>0</td>\n",
       "      <td>1</td>\n",
       "    </tr>\n",
       "  </tbody>\n",
       "</table>\n",
       "</div>"
      ],
      "text/plain": [
       "  home   married  jobexp defaulted  home2  married2  jobexp2  defaulted2\n",
       "0  yes    single       3        no      1         2        1           0\n",
       "1   no   married       4        no      0         1        2           0\n",
       "2   no    single       5        no      0         2        3           0\n",
       "3  yes   married       4        no      1         1        2           0\n",
       "4   no  divorced       2       yes      0         0        0           1"
      ]
     },
     "execution_count": 45,
     "metadata": {},
     "output_type": "execute_result"
    }
   ],
   "source": [
    "cols = ['home','married','jobexp','defaulted']\n",
    "ncols = ['home2','married2','jobexp2','defaulted2']\n",
    "\n",
    "for ix, c in enumerate(cols):\n",
    "    x = pd.Categorical(default[c])\n",
    "    default[ncols[ix]] = pd.Series(x).cat.codes\n",
    "default.head()"
   ]
  },
  {
   "cell_type": "code",
   "execution_count": 46,
   "id": "1daec02e-1470-4285-b8e5-ce693da97fa5",
   "metadata": {},
   "outputs": [],
   "source": [
    "data = default.iloc[:, 4:7]\n",
    "target = default.iloc[:, 7]"
   ]
  },
  {
   "cell_type": "code",
   "execution_count": 50,
   "id": "e762458d-2473-4726-94fe-934edf95950b",
   "metadata": {},
   "outputs": [
    {
     "data": {
      "text/plain": [
       "0.7"
      ]
     },
     "execution_count": 50,
     "metadata": {},
     "output_type": "execute_result"
    }
   ],
   "source": [
    "bayes = BernoulliNB()\n",
    "bayes.fit(data, target)\n",
    "bayes.score(data, target)"
   ]
  },
  {
   "cell_type": "code",
   "execution_count": 52,
   "id": "c1d46ff6-bdd8-4274-ac9b-45441d1ff44c",
   "metadata": {},
   "outputs": [
    {
     "data": {
      "text/plain": [
       "array([0], dtype=int8)"
      ]
     },
     "execution_count": 52,
     "metadata": {},
     "output_type": "execute_result"
    }
   ],
   "source": [
    "bob = np.array([[0,1,1]])\n",
    "bayes.predict(bob)"
   ]
  },
  {
   "cell_type": "code",
   "execution_count": 55,
   "id": "fa50a716-c323-43b5-a260-886012afb11f",
   "metadata": {},
   "outputs": [],
   "source": [
    "# 대출 데이터를 이용한 분류 알고리즘 성능 비교\n",
    "# 로지스틱, 의사결정, 나이브베이즈 비교\n",
    "# 단, 훈련시와 테스트시 정확도 함께 출력\n",
    "\n",
    "loan = pd.read_csv('csv/loan.csv')"
   ]
  },
  {
   "cell_type": "code",
   "execution_count": 56,
   "id": "edd353bb-9f5c-4102-b06c-fa901cdbff19",
   "metadata": {},
   "outputs": [
    {
     "data": {
      "text/html": [
       "<div>\n",
       "<style scoped>\n",
       "    .dataframe tbody tr th:only-of-type {\n",
       "        vertical-align: middle;\n",
       "    }\n",
       "\n",
       "    .dataframe tbody tr th {\n",
       "        vertical-align: top;\n",
       "    }\n",
       "\n",
       "    .dataframe thead th {\n",
       "        text-align: right;\n",
       "    }\n",
       "</style>\n",
       "<table border=\"1\" class=\"dataframe\">\n",
       "  <thead>\n",
       "    <tr style=\"text-align: right;\">\n",
       "      <th></th>\n",
       "      <th>loan_id</th>\n",
       "      <th>loan_purpose</th>\n",
       "      <th>is_first_loan</th>\n",
       "      <th>total_credit_card_limit</th>\n",
       "      <th>avg_percentage_credit_card_limit_used_last_year</th>\n",
       "      <th>saving_amount</th>\n",
       "      <th>checking_amount</th>\n",
       "      <th>is_employed</th>\n",
       "      <th>yearly_salary</th>\n",
       "      <th>age</th>\n",
       "      <th>dependent_number</th>\n",
       "      <th>label</th>\n",
       "    </tr>\n",
       "  </thead>\n",
       "  <tbody>\n",
       "    <tr>\n",
       "      <th>0</th>\n",
       "      <td>A_1</td>\n",
       "      <td>personal</td>\n",
       "      <td>1</td>\n",
       "      <td>7900</td>\n",
       "      <td>0.80</td>\n",
       "      <td>1103</td>\n",
       "      <td>6393</td>\n",
       "      <td>1</td>\n",
       "      <td>16400</td>\n",
       "      <td>42</td>\n",
       "      <td>4</td>\n",
       "      <td>0</td>\n",
       "    </tr>\n",
       "    <tr>\n",
       "      <th>1</th>\n",
       "      <td>A_2</td>\n",
       "      <td>personal</td>\n",
       "      <td>0</td>\n",
       "      <td>3300</td>\n",
       "      <td>0.29</td>\n",
       "      <td>2588</td>\n",
       "      <td>832</td>\n",
       "      <td>1</td>\n",
       "      <td>75500</td>\n",
       "      <td>56</td>\n",
       "      <td>1</td>\n",
       "      <td>0</td>\n",
       "    </tr>\n",
       "    <tr>\n",
       "      <th>2</th>\n",
       "      <td>A_3</td>\n",
       "      <td>personal</td>\n",
       "      <td>0</td>\n",
       "      <td>7600</td>\n",
       "      <td>0.90</td>\n",
       "      <td>1651</td>\n",
       "      <td>8868</td>\n",
       "      <td>1</td>\n",
       "      <td>59000</td>\n",
       "      <td>46</td>\n",
       "      <td>1</td>\n",
       "      <td>0</td>\n",
       "    </tr>\n",
       "    <tr>\n",
       "      <th>3</th>\n",
       "      <td>A_4</td>\n",
       "      <td>personal</td>\n",
       "      <td>1</td>\n",
       "      <td>3400</td>\n",
       "      <td>0.38</td>\n",
       "      <td>1269</td>\n",
       "      <td>6863</td>\n",
       "      <td>1</td>\n",
       "      <td>26000</td>\n",
       "      <td>55</td>\n",
       "      <td>8</td>\n",
       "      <td>0</td>\n",
       "    </tr>\n",
       "    <tr>\n",
       "      <th>4</th>\n",
       "      <td>A_5</td>\n",
       "      <td>emergency</td>\n",
       "      <td>0</td>\n",
       "      <td>2600</td>\n",
       "      <td>0.89</td>\n",
       "      <td>1310</td>\n",
       "      <td>3423</td>\n",
       "      <td>1</td>\n",
       "      <td>9700</td>\n",
       "      <td>41</td>\n",
       "      <td>4</td>\n",
       "      <td>1</td>\n",
       "    </tr>\n",
       "  </tbody>\n",
       "</table>\n",
       "</div>"
      ],
      "text/plain": [
       "  loan_id loan_purpose  is_first_loan  total_credit_card_limit  \\\n",
       "0     A_1     personal              1                     7900   \n",
       "1     A_2     personal              0                     3300   \n",
       "2     A_3     personal              0                     7600   \n",
       "3     A_4     personal              1                     3400   \n",
       "4     A_5    emergency              0                     2600   \n",
       "\n",
       "   avg_percentage_credit_card_limit_used_last_year  saving_amount  \\\n",
       "0                                             0.80           1103   \n",
       "1                                             0.29           2588   \n",
       "2                                             0.90           1651   \n",
       "3                                             0.38           1269   \n",
       "4                                             0.89           1310   \n",
       "\n",
       "   checking_amount  is_employed  yearly_salary  age  dependent_number  label  \n",
       "0             6393            1          16400   42                 4      0  \n",
       "1              832            1          75500   56                 1      0  \n",
       "2             8868            1          59000   46                 1      0  \n",
       "3             6863            1          26000   55                 8      0  \n",
       "4             3423            1           9700   41                 4      1  "
      ]
     },
     "execution_count": 56,
     "metadata": {},
     "output_type": "execute_result"
    }
   ],
   "source": [
    "loan.head()"
   ]
  },
  {
   "cell_type": "code",
   "execution_count": 99,
   "id": "e90aed97-20b2-4d31-85c5-7fd003bcc454",
   "metadata": {},
   "outputs": [
    {
     "name": "stdout",
     "output_type": "stream",
     "text": [
      "<class 'pandas.core.frame.DataFrame'>\n",
      "RangeIndex: 46751 entries, 0 to 46750\n",
      "Data columns (total 12 columns):\n",
      " #   Column                                           Non-Null Count  Dtype  \n",
      "---  ------                                           --------------  -----  \n",
      " 0   loan_id                                          46751 non-null  object \n",
      " 1   loan_purpose                                     46751 non-null  int8   \n",
      " 2   is_first_loan                                    46751 non-null  int64  \n",
      " 3   total_credit_card_limit                          46751 non-null  int64  \n",
      " 4   avg_percentage_credit_card_limit_used_last_year  46751 non-null  float64\n",
      " 5   saving_amount                                    46751 non-null  int64  \n",
      " 6   checking_amount                                  46751 non-null  int64  \n",
      " 7   is_employed                                      46751 non-null  int64  \n",
      " 8   yearly_salary                                    46751 non-null  int64  \n",
      " 9   age                                              46751 non-null  int64  \n",
      " 10  dependent_number                                 46751 non-null  int64  \n",
      " 11  label                                            46751 non-null  int64  \n",
      "dtypes: float64(1), int64(9), int8(1), object(1)\n",
      "memory usage: 4.0+ MB\n"
     ]
    }
   ],
   "source": [
    "loan.info()\n",
    "# saving_amount, checking_amount\n",
    "# checking account : 현금입출용도\n",
    "# saving account : 적금용도로 사용하는 계좌, 이자 지급"
   ]
  },
  {
   "cell_type": "code",
   "execution_count": 63,
   "id": "c4023a30-73f6-489b-9fd5-17b8b9e162dd",
   "metadata": {},
   "outputs": [
    {
     "data": {
      "text/plain": [
       "0    30550\n",
       "1    16201\n",
       "Name: label, dtype: int64"
      ]
     },
     "execution_count": 63,
     "metadata": {},
     "output_type": "execute_result"
    }
   ],
   "source": [
    "loan.label.value_counts()   # 0 : 대출불가"
   ]
  },
  {
   "cell_type": "code",
   "execution_count": 67,
   "id": "bed8268b-8985-46f3-ab04-672c8e565e94",
   "metadata": {},
   "outputs": [
    {
     "data": {
      "text/plain": [
       "property      11388\n",
       "operations    10580\n",
       "personal      10458\n",
       "emergency      7562\n",
       "others         6763\n",
       "Name: loan_purpose, dtype: int64"
      ]
     },
     "execution_count": 67,
     "metadata": {},
     "output_type": "execute_result"
    }
   ],
   "source": [
    "loan.loan_purpose.value_counts()"
   ]
  },
  {
   "cell_type": "code",
   "execution_count": 64,
   "id": "a36855b2-a12d-40d7-b375-a9200edf2d5d",
   "metadata": {},
   "outputs": [
    {
     "data": {
      "text/plain": [
       "1    25313\n",
       "0    21438\n",
       "Name: is_first_loan, dtype: int64"
      ]
     },
     "execution_count": 64,
     "metadata": {},
     "output_type": "execute_result"
    }
   ],
   "source": [
    "loan.is_first_loan.value_counts()"
   ]
  },
  {
   "cell_type": "code",
   "execution_count": 65,
   "id": "00d1c8d0-b073-48f9-b9d3-2158f5262cdb",
   "metadata": {},
   "outputs": [
    {
     "data": {
      "text/plain": [
       "1    42886\n",
       "0     3865\n",
       "Name: is_employed, dtype: int64"
      ]
     },
     "execution_count": 65,
     "metadata": {},
     "output_type": "execute_result"
    }
   ],
   "source": [
    "loan.is_employed.value_counts()"
   ]
  },
  {
   "cell_type": "code",
   "execution_count": 66,
   "id": "7afbed0a-3d32-49fa-ba08-350b85373921",
   "metadata": {},
   "outputs": [
    {
     "data": {
      "text/plain": [
       "1    9894\n",
       "8    8582\n",
       "2    8552\n",
       "3    6047\n",
       "4    4467\n",
       "5    3256\n",
       "6    2373\n",
       "7    1842\n",
       "0    1738\n",
       "Name: dependent_number, dtype: int64"
      ]
     },
     "execution_count": 66,
     "metadata": {},
     "output_type": "execute_result"
    }
   ],
   "source": [
    "loan.dependent_number.value_counts()"
   ]
  },
  {
   "cell_type": "code",
   "execution_count": 69,
   "id": "b076ab69-d2f5-4bb2-adad-3ed1bf2617c9",
   "metadata": {},
   "outputs": [],
   "source": [
    "# 탐색적 분석\n",
    "# 다양한 시각화 "
   ]
  },
  {
   "cell_type": "code",
   "execution_count": 70,
   "id": "b3e1bae1-36aa-49c3-8b82-0c24a64eedf8",
   "metadata": {},
   "outputs": [],
   "source": [
    "# 전처리 1\n",
    "# 연속형 데이터를 명목형 데이터로 변환 (파생변수 생성)\n"
   ]
  },
  {
   "cell_type": "code",
   "execution_count": 71,
   "id": "ac38fc72-07d3-447e-a50f-21045823f5c3",
   "metadata": {},
   "outputs": [],
   "source": [
    "# 전처리 2\n",
    "# 명목형 변수에 대해 레이블 인코딩 실시"
   ]
  },
  {
   "cell_type": "code",
   "execution_count": 73,
   "id": "db54d061-f1a9-4c52-be8f-ef113ee34e50",
   "metadata": {},
   "outputs": [
    {
     "data": {
      "text/html": [
       "<div>\n",
       "<style scoped>\n",
       "    .dataframe tbody tr th:only-of-type {\n",
       "        vertical-align: middle;\n",
       "    }\n",
       "\n",
       "    .dataframe tbody tr th {\n",
       "        vertical-align: top;\n",
       "    }\n",
       "\n",
       "    .dataframe thead th {\n",
       "        text-align: right;\n",
       "    }\n",
       "</style>\n",
       "<table border=\"1\" class=\"dataframe\">\n",
       "  <thead>\n",
       "    <tr style=\"text-align: right;\">\n",
       "      <th></th>\n",
       "      <th>loan_id</th>\n",
       "      <th>loan_purpose</th>\n",
       "      <th>is_first_loan</th>\n",
       "      <th>total_credit_card_limit</th>\n",
       "      <th>avg_percentage_credit_card_limit_used_last_year</th>\n",
       "      <th>saving_amount</th>\n",
       "      <th>checking_amount</th>\n",
       "      <th>is_employed</th>\n",
       "      <th>yearly_salary</th>\n",
       "      <th>age</th>\n",
       "      <th>dependent_number</th>\n",
       "      <th>label</th>\n",
       "    </tr>\n",
       "  </thead>\n",
       "  <tbody>\n",
       "    <tr>\n",
       "      <th>0</th>\n",
       "      <td>A_1</td>\n",
       "      <td>3</td>\n",
       "      <td>1</td>\n",
       "      <td>7900</td>\n",
       "      <td>0.80</td>\n",
       "      <td>1103</td>\n",
       "      <td>6393</td>\n",
       "      <td>1</td>\n",
       "      <td>16400</td>\n",
       "      <td>42</td>\n",
       "      <td>4</td>\n",
       "      <td>0</td>\n",
       "    </tr>\n",
       "    <tr>\n",
       "      <th>1</th>\n",
       "      <td>A_2</td>\n",
       "      <td>3</td>\n",
       "      <td>0</td>\n",
       "      <td>3300</td>\n",
       "      <td>0.29</td>\n",
       "      <td>2588</td>\n",
       "      <td>832</td>\n",
       "      <td>1</td>\n",
       "      <td>75500</td>\n",
       "      <td>56</td>\n",
       "      <td>1</td>\n",
       "      <td>0</td>\n",
       "    </tr>\n",
       "    <tr>\n",
       "      <th>2</th>\n",
       "      <td>A_3</td>\n",
       "      <td>3</td>\n",
       "      <td>0</td>\n",
       "      <td>7600</td>\n",
       "      <td>0.90</td>\n",
       "      <td>1651</td>\n",
       "      <td>8868</td>\n",
       "      <td>1</td>\n",
       "      <td>59000</td>\n",
       "      <td>46</td>\n",
       "      <td>1</td>\n",
       "      <td>0</td>\n",
       "    </tr>\n",
       "    <tr>\n",
       "      <th>3</th>\n",
       "      <td>A_4</td>\n",
       "      <td>3</td>\n",
       "      <td>1</td>\n",
       "      <td>3400</td>\n",
       "      <td>0.38</td>\n",
       "      <td>1269</td>\n",
       "      <td>6863</td>\n",
       "      <td>1</td>\n",
       "      <td>26000</td>\n",
       "      <td>55</td>\n",
       "      <td>8</td>\n",
       "      <td>0</td>\n",
       "    </tr>\n",
       "    <tr>\n",
       "      <th>4</th>\n",
       "      <td>A_5</td>\n",
       "      <td>0</td>\n",
       "      <td>0</td>\n",
       "      <td>2600</td>\n",
       "      <td>0.89</td>\n",
       "      <td>1310</td>\n",
       "      <td>3423</td>\n",
       "      <td>1</td>\n",
       "      <td>9700</td>\n",
       "      <td>41</td>\n",
       "      <td>4</td>\n",
       "      <td>1</td>\n",
       "    </tr>\n",
       "  </tbody>\n",
       "</table>\n",
       "</div>"
      ],
      "text/plain": [
       "  loan_id  loan_purpose  is_first_loan  total_credit_card_limit  \\\n",
       "0     A_1             3              1                     7900   \n",
       "1     A_2             3              0                     3300   \n",
       "2     A_3             3              0                     7600   \n",
       "3     A_4             3              1                     3400   \n",
       "4     A_5             0              0                     2600   \n",
       "\n",
       "   avg_percentage_credit_card_limit_used_last_year  saving_amount  \\\n",
       "0                                             0.80           1103   \n",
       "1                                             0.29           2588   \n",
       "2                                             0.90           1651   \n",
       "3                                             0.38           1269   \n",
       "4                                             0.89           1310   \n",
       "\n",
       "   checking_amount  is_employed  yearly_salary  age  dependent_number  label  \n",
       "0             6393            1          16400   42                 4      0  \n",
       "1              832            1          75500   56                 1      0  \n",
       "2             8868            1          59000   46                 1      0  \n",
       "3             6863            1          26000   55                 8      0  \n",
       "4             3423            1           9700   41                 4      1  "
      ]
     },
     "execution_count": 73,
     "metadata": {},
     "output_type": "execute_result"
    }
   ],
   "source": [
    "loan['loan_purpose'] = pd.Categorical(loan['loan_purpose'])\n",
    "loan['loan_purpose'] = loan['loan_purpose'].cat.codes\n",
    "\n",
    "loan.head()"
   ]
  },
  {
   "cell_type": "code",
   "execution_count": 75,
   "id": "3a235ad5-bb62-44e7-8c70-bd60fd27aab7",
   "metadata": {},
   "outputs": [],
   "source": [
    "# 데이터 분할\n",
    "data = loan.iloc[:, 1:11]\n",
    "target = loan.label"
   ]
  },
  {
   "cell_type": "code",
   "execution_count": 76,
   "id": "7594dfa1-7175-4749-a446-a23d0267d730",
   "metadata": {},
   "outputs": [],
   "source": [
    "Xtrain, Xtest, ytrain, ytest = train_test_split(data, target, stratify=target, test_size = 0.3,random_state=2111111455)"
   ]
  },
  {
   "cell_type": "code",
   "execution_count": 77,
   "id": "775d2685-3688-498f-8f9c-6cb2e3a801c1",
   "metadata": {},
   "outputs": [],
   "source": [
    "from sklearn.linear_model import LogisticRegression\n",
    "from sklearn.tree import DecisionTreeClassifier"
   ]
  },
  {
   "cell_type": "code",
   "execution_count": 80,
   "id": "499053b1-303d-494d-a342-dfd6026af653",
   "metadata": {},
   "outputs": [],
   "source": [
    "# 로지스틱 회귀\n",
    "lr = LogisticRegression(max_iter=1000)\n",
    "lr.fit(Xtrain, ytrain)\n",
    "pred = lr.predict(Xtest)"
   ]
  },
  {
   "cell_type": "code",
   "execution_count": 81,
   "id": "40c9a23d-27a6-442b-9244-7ecfbf0d7933",
   "metadata": {},
   "outputs": [
    {
     "data": {
      "text/plain": [
       "(0.8269824293353705, 0.8202623698845002)"
      ]
     },
     "execution_count": 81,
     "metadata": {},
     "output_type": "execute_result"
    }
   ],
   "source": [
    "lr.score(Xtrain, ytrain),accuracy_score(ytest, pred) "
   ]
  },
  {
   "cell_type": "code",
   "execution_count": 84,
   "id": "e71a79f8-be4a-4ccd-bee5-c1d686c50236",
   "metadata": {},
   "outputs": [
    {
     "data": {
      "text/plain": [
       "array([[8258,  907],\n",
       "       [1614, 3247]])"
      ]
     },
     "execution_count": 84,
     "metadata": {},
     "output_type": "execute_result"
    }
   ],
   "source": [
    "confusion_matrix(ytest, pred) "
   ]
  },
  {
   "cell_type": "code",
   "execution_count": null,
   "id": "5ccc8b45-12c1-4d6a-9579-33a90382d3bc",
   "metadata": {},
   "outputs": [],
   "source": []
  },
  {
   "cell_type": "code",
   "execution_count": 91,
   "id": "872f332f-adc2-44db-98d4-5434621be2cc",
   "metadata": {},
   "outputs": [],
   "source": [
    "# 의사결정나무\n",
    "dtc = DecisionTreeClassifier(max_depth=6)\n",
    "dtc.fit(Xtrain, ytrain)\n",
    "pred = dtc.predict(Xtest)"
   ]
  },
  {
   "cell_type": "code",
   "execution_count": 92,
   "id": "cb2da6bb-dd04-4f7b-9c3a-5ce79f4838d3",
   "metadata": {},
   "outputs": [
    {
     "data": {
      "text/plain": [
       "(0.9045989304812834, 0.8975474119492372)"
      ]
     },
     "execution_count": 92,
     "metadata": {},
     "output_type": "execute_result"
    }
   ],
   "source": [
    "dtc.score(Xtrain, ytrain),accuracy_score(ytest, pred) "
   ]
  },
  {
   "cell_type": "code",
   "execution_count": 93,
   "id": "a14bac2e-9d49-4570-be2a-0bc9c473e8a9",
   "metadata": {},
   "outputs": [
    {
     "data": {
      "text/plain": [
       "array([[8242,  923],\n",
       "       [ 514, 4347]])"
      ]
     },
     "execution_count": 93,
     "metadata": {},
     "output_type": "execute_result"
    }
   ],
   "source": [
    "confusion_matrix(ytest, pred) "
   ]
  },
  {
   "cell_type": "code",
   "execution_count": null,
   "id": "a63373df-a14e-4ec9-9950-8669bd7821d8",
   "metadata": {},
   "outputs": [],
   "source": []
  },
  {
   "cell_type": "code",
   "execution_count": 94,
   "id": "06729b76-8aae-43b9-a873-c5249b7c4065",
   "metadata": {},
   "outputs": [],
   "source": [
    "# 나이브베이즈\n",
    "by = BernoulliNB()\n",
    "by.fit(Xtrain, ytrain)\n",
    "pred = by.predict(Xtest)"
   ]
  },
  {
   "cell_type": "code",
   "execution_count": 97,
   "id": "42dcd637-9818-44f6-9743-0a10471c6b03",
   "metadata": {},
   "outputs": [
    {
     "data": {
      "text/plain": [
       "(0.7043239113827349, 0.7027662911735348)"
      ]
     },
     "execution_count": 97,
     "metadata": {},
     "output_type": "execute_result"
    }
   ],
   "source": [
    "by.score(Xtrain, ytrain), accuracy_score(ytest, pred) "
   ]
  },
  {
   "cell_type": "code",
   "execution_count": 98,
   "id": "38a735c8-8367-4547-a412-bbf556d0d63d",
   "metadata": {},
   "outputs": [
    {
     "data": {
      "text/plain": [
       "array([[8946,  219],\n",
       "       [3950,  911]])"
      ]
     },
     "execution_count": 98,
     "metadata": {},
     "output_type": "execute_result"
    }
   ],
   "source": [
    "confusion_matrix(ytest, pred) "
   ]
  },
  {
   "cell_type": "code",
   "execution_count": null,
   "id": "7ea779f9-35f2-408e-854f-ef036573f534",
   "metadata": {},
   "outputs": [],
   "source": []
  }
 ],
 "metadata": {
  "kernelspec": {
   "display_name": "Python 3 (ipykernel)",
   "language": "python",
   "name": "python3"
  },
  "language_info": {
   "codemirror_mode": {
    "name": "ipython",
    "version": 3
   },
   "file_extension": ".py",
   "mimetype": "text/x-python",
   "name": "python",
   "nbconvert_exporter": "python",
   "pygments_lexer": "ipython3",
   "version": "3.7.10"
  }
 },
 "nbformat": 4,
 "nbformat_minor": 5
}
