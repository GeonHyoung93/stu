{
 "cells": [
  {
   "cell_type": "markdown",
   "id": "91c42840-1382-4e1b-ac7f-eaded48b3e20",
   "metadata": {},
   "source": [
    "## 결측치를 포함하는 열 제거\n",
    "* .dropna(행/열, 삭제방향)"
   ]
  },
  {
   "cell_type": "code",
   "execution_count": 1,
   "id": "76a3baf6-268a-43e0-8851-1ccca7c264c2",
   "metadata": {},
   "outputs": [],
   "source": [
    "import numpy as np\n",
    "import pandas as pd\n",
    "\n",
    "pd.set_option('display.max_columns', 50)\n",
    "pd.set_option('display.width', 100)\n",
    "pd.set_option('display.max_colwidth', 250)"
   ]
  },
  {
   "cell_type": "code",
   "execution_count": 14,
   "id": "57334b02-4fae-4a0f-9fd5-5ea55a0af466",
   "metadata": {},
   "outputs": [
    {
     "data": {
      "text/html": [
       "<div>\n",
       "<style scoped>\n",
       "    .dataframe tbody tr th:only-of-type {\n",
       "        vertical-align: middle;\n",
       "    }\n",
       "\n",
       "    .dataframe tbody tr th {\n",
       "        vertical-align: top;\n",
       "    }\n",
       "\n",
       "    .dataframe thead th {\n",
       "        text-align: right;\n",
       "    }\n",
       "</style>\n",
       "<table border=\"1\" class=\"dataframe\">\n",
       "  <thead>\n",
       "    <tr style=\"text-align: right;\">\n",
       "      <th></th>\n",
       "      <th>0</th>\n",
       "      <th>1</th>\n",
       "      <th>2</th>\n",
       "    </tr>\n",
       "  </thead>\n",
       "  <tbody>\n",
       "    <tr>\n",
       "      <th>0</th>\n",
       "      <td>1.0</td>\n",
       "      <td>NaN</td>\n",
       "      <td>3</td>\n",
       "    </tr>\n",
       "    <tr>\n",
       "      <th>1</th>\n",
       "      <td>NaN</td>\n",
       "      <td>8.0</td>\n",
       "      <td>10</td>\n",
       "    </tr>\n",
       "    <tr>\n",
       "      <th>2</th>\n",
       "      <td>15.0</td>\n",
       "      <td>20.0</td>\n",
       "      <td>18</td>\n",
       "    </tr>\n",
       "  </tbody>\n",
       "</table>\n",
       "</div>"
      ],
      "text/plain": [
       "      0     1   2\n",
       "0   1.0   NaN   3\n",
       "1   NaN   8.0  10\n",
       "2  15.0  20.0  18"
      ]
     },
     "execution_count": 14,
     "metadata": {},
     "output_type": "execute_result"
    }
   ],
   "source": [
    "a = pd.DataFrame([[1,np.nan,3], [np.nan,8,10], [15,20,18]])\n",
    "a"
   ]
  },
  {
   "cell_type": "code",
   "execution_count": 15,
   "id": "012aefb2-6c72-44cd-a3bf-88cebc574c10",
   "metadata": {},
   "outputs": [
    {
     "data": {
      "text/html": [
       "<div>\n",
       "<style scoped>\n",
       "    .dataframe tbody tr th:only-of-type {\n",
       "        vertical-align: middle;\n",
       "    }\n",
       "\n",
       "    .dataframe tbody tr th {\n",
       "        vertical-align: top;\n",
       "    }\n",
       "\n",
       "    .dataframe thead th {\n",
       "        text-align: right;\n",
       "    }\n",
       "</style>\n",
       "<table border=\"1\" class=\"dataframe\">\n",
       "  <thead>\n",
       "    <tr style=\"text-align: right;\">\n",
       "      <th></th>\n",
       "      <th>2</th>\n",
       "    </tr>\n",
       "  </thead>\n",
       "  <tbody>\n",
       "    <tr>\n",
       "      <th>0</th>\n",
       "      <td>3</td>\n",
       "    </tr>\n",
       "    <tr>\n",
       "      <th>1</th>\n",
       "      <td>10</td>\n",
       "    </tr>\n",
       "    <tr>\n",
       "      <th>2</th>\n",
       "      <td>18</td>\n",
       "    </tr>\n",
       "  </tbody>\n",
       "</table>\n",
       "</div>"
      ],
      "text/plain": [
       "    2\n",
       "0   3\n",
       "1  10\n",
       "2  18"
      ]
     },
     "execution_count": 15,
     "metadata": {},
     "output_type": "execute_result"
    }
   ],
   "source": [
    "# 열 기준 결측치 제거\n",
    "a.dropna(axis=1)"
   ]
  },
  {
   "cell_type": "code",
   "execution_count": 16,
   "id": "1e5e86ce-965d-4ffc-8a9a-36a7b8dfccf6",
   "metadata": {},
   "outputs": [
    {
     "data": {
      "text/html": [
       "<div>\n",
       "<style scoped>\n",
       "    .dataframe tbody tr th:only-of-type {\n",
       "        vertical-align: middle;\n",
       "    }\n",
       "\n",
       "    .dataframe tbody tr th {\n",
       "        vertical-align: top;\n",
       "    }\n",
       "\n",
       "    .dataframe thead th {\n",
       "        text-align: right;\n",
       "    }\n",
       "</style>\n",
       "<table border=\"1\" class=\"dataframe\">\n",
       "  <thead>\n",
       "    <tr style=\"text-align: right;\">\n",
       "      <th></th>\n",
       "      <th>0</th>\n",
       "      <th>1</th>\n",
       "      <th>2</th>\n",
       "    </tr>\n",
       "  </thead>\n",
       "  <tbody>\n",
       "    <tr>\n",
       "      <th>2</th>\n",
       "      <td>15.0</td>\n",
       "      <td>20.0</td>\n",
       "      <td>18</td>\n",
       "    </tr>\n",
       "  </tbody>\n",
       "</table>\n",
       "</div>"
      ],
      "text/plain": [
       "      0     1   2\n",
       "2  15.0  20.0  18"
      ]
     },
     "execution_count": 16,
     "metadata": {},
     "output_type": "execute_result"
    }
   ],
   "source": [
    "# 행 기준 결측치 제거  : axis=0 (기본)\n",
    "a.dropna()\n",
    "# a.dropna(axis=0)"
   ]
  },
  {
   "cell_type": "markdown",
   "id": "203d655b-12ed-44ee-89c6-dde3fd47301d",
   "metadata": {},
   "source": [
    "## 대체값 채우기\n",
    "* .fillna(대체값, 기준대체값, 축방향)\n",
    "* method라는 속성을 이용해서 대체값을 넣을 기준 지정"
   ]
  },
  {
   "cell_type": "code",
   "execution_count": 18,
   "id": "aa284f70-a0ff-406b-8262-8b391cec4d0c",
   "metadata": {},
   "outputs": [
    {
     "data": {
      "text/html": [
       "<div>\n",
       "<style scoped>\n",
       "    .dataframe tbody tr th:only-of-type {\n",
       "        vertical-align: middle;\n",
       "    }\n",
       "\n",
       "    .dataframe tbody tr th {\n",
       "        vertical-align: top;\n",
       "    }\n",
       "\n",
       "    .dataframe thead th {\n",
       "        text-align: right;\n",
       "    }\n",
       "</style>\n",
       "<table border=\"1\" class=\"dataframe\">\n",
       "  <thead>\n",
       "    <tr style=\"text-align: right;\">\n",
       "      <th></th>\n",
       "      <th>0</th>\n",
       "      <th>1</th>\n",
       "      <th>2</th>\n",
       "    </tr>\n",
       "  </thead>\n",
       "  <tbody>\n",
       "    <tr>\n",
       "      <th>0</th>\n",
       "      <td>1.0</td>\n",
       "      <td>0.0</td>\n",
       "      <td>3</td>\n",
       "    </tr>\n",
       "    <tr>\n",
       "      <th>1</th>\n",
       "      <td>0.0</td>\n",
       "      <td>8.0</td>\n",
       "      <td>10</td>\n",
       "    </tr>\n",
       "    <tr>\n",
       "      <th>2</th>\n",
       "      <td>15.0</td>\n",
       "      <td>20.0</td>\n",
       "      <td>18</td>\n",
       "    </tr>\n",
       "  </tbody>\n",
       "</table>\n",
       "</div>"
      ],
      "text/plain": [
       "      0     1   2\n",
       "0   1.0   0.0   3\n",
       "1   0.0   8.0  10\n",
       "2  15.0  20.0  18"
      ]
     },
     "execution_count": 18,
     "metadata": {},
     "output_type": "execute_result"
    }
   ],
   "source": [
    "a.fillna(0) # NaN이 0으로 대체"
   ]
  },
  {
   "cell_type": "markdown",
   "id": "faad65eb-a54b-4bd5-a6e8-0e7606807846",
   "metadata": {},
   "source": [
    "### NaN 기준 행의 앞(위)/뒤(아래) 값으로 대체 \n",
    "### axis=0(행)을 지정한 것과 동일"
   ]
  },
  {
   "cell_type": "code",
   "execution_count": 22,
   "id": "7b79d3e3-f1d7-41f9-a854-734c50fc9bf9",
   "metadata": {},
   "outputs": [
    {
     "data": {
      "text/html": [
       "<div>\n",
       "<style scoped>\n",
       "    .dataframe tbody tr th:only-of-type {\n",
       "        vertical-align: middle;\n",
       "    }\n",
       "\n",
       "    .dataframe tbody tr th {\n",
       "        vertical-align: top;\n",
       "    }\n",
       "\n",
       "    .dataframe thead th {\n",
       "        text-align: right;\n",
       "    }\n",
       "</style>\n",
       "<table border=\"1\" class=\"dataframe\">\n",
       "  <thead>\n",
       "    <tr style=\"text-align: right;\">\n",
       "      <th></th>\n",
       "      <th>0</th>\n",
       "      <th>1</th>\n",
       "      <th>2</th>\n",
       "    </tr>\n",
       "  </thead>\n",
       "  <tbody>\n",
       "    <tr>\n",
       "      <th>0</th>\n",
       "      <td>1.0</td>\n",
       "      <td>1.0</td>\n",
       "      <td>3.0</td>\n",
       "    </tr>\n",
       "    <tr>\n",
       "      <th>1</th>\n",
       "      <td>NaN</td>\n",
       "      <td>8.0</td>\n",
       "      <td>10.0</td>\n",
       "    </tr>\n",
       "    <tr>\n",
       "      <th>2</th>\n",
       "      <td>15.0</td>\n",
       "      <td>20.0</td>\n",
       "      <td>18.0</td>\n",
       "    </tr>\n",
       "  </tbody>\n",
       "</table>\n",
       "</div>"
      ],
      "text/plain": [
       "      0     1     2\n",
       "0   1.0   1.0   3.0\n",
       "1   NaN   8.0  10.0\n",
       "2  15.0  20.0  18.0"
      ]
     },
     "execution_count": 22,
     "metadata": {},
     "output_type": "execute_result"
    }
   ],
   "source": [
    "# forward fill 앞의 값으로 대체\n",
    "a.fillna(method='ffill', axis=1)"
   ]
  },
  {
   "cell_type": "code",
   "execution_count": 23,
   "id": "adfb8f7b-0933-444b-a991-688e74bbd1e3",
   "metadata": {},
   "outputs": [
    {
     "data": {
      "text/html": [
       "<div>\n",
       "<style scoped>\n",
       "    .dataframe tbody tr th:only-of-type {\n",
       "        vertical-align: middle;\n",
       "    }\n",
       "\n",
       "    .dataframe tbody tr th {\n",
       "        vertical-align: top;\n",
       "    }\n",
       "\n",
       "    .dataframe thead th {\n",
       "        text-align: right;\n",
       "    }\n",
       "</style>\n",
       "<table border=\"1\" class=\"dataframe\">\n",
       "  <thead>\n",
       "    <tr style=\"text-align: right;\">\n",
       "      <th></th>\n",
       "      <th>0</th>\n",
       "      <th>1</th>\n",
       "      <th>2</th>\n",
       "    </tr>\n",
       "  </thead>\n",
       "  <tbody>\n",
       "    <tr>\n",
       "      <th>0</th>\n",
       "      <td>1.0</td>\n",
       "      <td>3.0</td>\n",
       "      <td>3.0</td>\n",
       "    </tr>\n",
       "    <tr>\n",
       "      <th>1</th>\n",
       "      <td>8.0</td>\n",
       "      <td>8.0</td>\n",
       "      <td>10.0</td>\n",
       "    </tr>\n",
       "    <tr>\n",
       "      <th>2</th>\n",
       "      <td>15.0</td>\n",
       "      <td>20.0</td>\n",
       "      <td>18.0</td>\n",
       "    </tr>\n",
       "  </tbody>\n",
       "</table>\n",
       "</div>"
      ],
      "text/plain": [
       "      0     1     2\n",
       "0   1.0   3.0   3.0\n",
       "1   8.0   8.0  10.0\n",
       "2  15.0  20.0  18.0"
      ]
     },
     "execution_count": 23,
     "metadata": {},
     "output_type": "execute_result"
    }
   ],
   "source": [
    "# backward fill 뒤의 값으로 대체\n",
    "a.fillna(method='bfill', axis=1)"
   ]
  },
  {
   "cell_type": "markdown",
   "id": "2102967a-4b91-40df-b517-1bafb5c9ff5a",
   "metadata": {},
   "source": [
    "## 데이터프레임에 새로운 항목 추가\n",
    "* 열을 추가할때는 객체명[새로운컬럼명] = 값목록 \n",
    "* 행을 추가할때는 객체면.append(Series/Dict 객체)"
   ]
  },
  {
   "cell_type": "code",
   "execution_count": 25,
   "id": "473928b8-4ba1-47e2-b569-52a5d1d67cea",
   "metadata": {},
   "outputs": [
    {
     "data": {
      "text/html": [
       "<div>\n",
       "<style scoped>\n",
       "    .dataframe tbody tr th:only-of-type {\n",
       "        vertical-align: middle;\n",
       "    }\n",
       "\n",
       "    .dataframe tbody tr th {\n",
       "        vertical-align: top;\n",
       "    }\n",
       "\n",
       "    .dataframe thead th {\n",
       "        text-align: right;\n",
       "    }\n",
       "</style>\n",
       "<table border=\"1\" class=\"dataframe\">\n",
       "  <thead>\n",
       "    <tr style=\"text-align: right;\">\n",
       "      <th></th>\n",
       "    </tr>\n",
       "  </thead>\n",
       "  <tbody>\n",
       "  </tbody>\n",
       "</table>\n",
       "</div>"
      ],
      "text/plain": [
       "Empty DataFrame\n",
       "Columns: []\n",
       "Index: []"
      ]
     },
     "execution_count": 25,
     "metadata": {},
     "output_type": "execute_result"
    }
   ],
   "source": [
    "b = pd.DataFrame()\n",
    "b"
   ]
  },
  {
   "cell_type": "code",
   "execution_count": 27,
   "id": "abbf5e58-dce3-498b-a1e7-a903374577a3",
   "metadata": {},
   "outputs": [
    {
     "data": {
      "text/html": [
       "<div>\n",
       "<style scoped>\n",
       "    .dataframe tbody tr th:only-of-type {\n",
       "        vertical-align: middle;\n",
       "    }\n",
       "\n",
       "    .dataframe tbody tr th {\n",
       "        vertical-align: top;\n",
       "    }\n",
       "\n",
       "    .dataframe thead th {\n",
       "        text-align: right;\n",
       "    }\n",
       "</style>\n",
       "<table border=\"1\" class=\"dataframe\">\n",
       "  <thead>\n",
       "    <tr style=\"text-align: right;\">\n",
       "      <th></th>\n",
       "      <th>name</th>\n",
       "      <th>kor</th>\n",
       "      <th>eng</th>\n",
       "      <th>mat</th>\n",
       "    </tr>\n",
       "  </thead>\n",
       "  <tbody>\n",
       "    <tr>\n",
       "      <th>0</th>\n",
       "      <td>혜교</td>\n",
       "      <td>76</td>\n",
       "      <td>54</td>\n",
       "      <td>43</td>\n",
       "    </tr>\n",
       "    <tr>\n",
       "      <th>1</th>\n",
       "      <td>지현</td>\n",
       "      <td>87</td>\n",
       "      <td>65</td>\n",
       "      <td>76</td>\n",
       "    </tr>\n",
       "    <tr>\n",
       "      <th>2</th>\n",
       "      <td>수지</td>\n",
       "      <td>98</td>\n",
       "      <td>76</td>\n",
       "      <td>90</td>\n",
       "    </tr>\n",
       "  </tbody>\n",
       "</table>\n",
       "</div>"
      ],
      "text/plain": [
       "  name  kor  eng  mat\n",
       "0   혜교   76   54   43\n",
       "1   지현   87   65   76\n",
       "2   수지   98   76   90"
      ]
     },
     "execution_count": 27,
     "metadata": {},
     "output_type": "execute_result"
    }
   ],
   "source": [
    "# 열추가\n",
    "b['name'] = ['혜교','지현','수지']\n",
    "b['kor'] = [76,87,98]\n",
    "b['eng'] = [54,65,76]\n",
    "b['mat'] = [43,76,90]\n",
    "\n",
    "b"
   ]
  },
  {
   "cell_type": "code",
   "execution_count": 42,
   "id": "caeb17fa-188c-45d5-bd8b-8d41694e96aa",
   "metadata": {},
   "outputs": [
    {
     "data": {
      "text/html": [
       "<div>\n",
       "<style scoped>\n",
       "    .dataframe tbody tr th:only-of-type {\n",
       "        vertical-align: middle;\n",
       "    }\n",
       "\n",
       "    .dataframe tbody tr th {\n",
       "        vertical-align: top;\n",
       "    }\n",
       "\n",
       "    .dataframe thead th {\n",
       "        text-align: right;\n",
       "    }\n",
       "</style>\n",
       "<table border=\"1\" class=\"dataframe\">\n",
       "  <thead>\n",
       "    <tr style=\"text-align: right;\">\n",
       "      <th></th>\n",
       "      <th>name</th>\n",
       "      <th>kor</th>\n",
       "      <th>eng</th>\n",
       "      <th>mat</th>\n",
       "    </tr>\n",
       "  </thead>\n",
       "  <tbody>\n",
       "    <tr>\n",
       "      <th>0</th>\n",
       "      <td>혜교</td>\n",
       "      <td>76</td>\n",
       "      <td>54</td>\n",
       "      <td>43</td>\n",
       "    </tr>\n",
       "  </tbody>\n",
       "</table>\n",
       "</div>"
      ],
      "text/plain": [
       "  name kor eng mat\n",
       "0   혜교  76  54  43"
      ]
     },
     "execution_count": 42,
     "metadata": {},
     "output_type": "execute_result"
    }
   ],
   "source": [
    "# b = pd.DataFrame()\n",
    "\n",
    "hekyo = pd.Series(['혜교','76','54','43'], index=['name','kor','eng','mat'])\n",
    "b = b.append(hekyo, ignore_index=True)\n",
    "\n",
    "b"
   ]
  },
  {
   "cell_type": "code",
   "execution_count": 43,
   "id": "6f6ffc5d-47f9-42cd-b6d3-56c653642d2b",
   "metadata": {},
   "outputs": [
    {
     "data": {
      "text/html": [
       "<div>\n",
       "<style scoped>\n",
       "    .dataframe tbody tr th:only-of-type {\n",
       "        vertical-align: middle;\n",
       "    }\n",
       "\n",
       "    .dataframe tbody tr th {\n",
       "        vertical-align: top;\n",
       "    }\n",
       "\n",
       "    .dataframe thead th {\n",
       "        text-align: right;\n",
       "    }\n",
       "</style>\n",
       "<table border=\"1\" class=\"dataframe\">\n",
       "  <thead>\n",
       "    <tr style=\"text-align: right;\">\n",
       "      <th></th>\n",
       "      <th>name</th>\n",
       "      <th>kor</th>\n",
       "      <th>eng</th>\n",
       "      <th>mat</th>\n",
       "    </tr>\n",
       "  </thead>\n",
       "  <tbody>\n",
       "    <tr>\n",
       "      <th>0</th>\n",
       "      <td>혜교</td>\n",
       "      <td>76</td>\n",
       "      <td>54</td>\n",
       "      <td>43</td>\n",
       "    </tr>\n",
       "    <tr>\n",
       "      <th>1</th>\n",
       "      <td>지현</td>\n",
       "      <td>87</td>\n",
       "      <td>65</td>\n",
       "      <td>76</td>\n",
       "    </tr>\n",
       "  </tbody>\n",
       "</table>\n",
       "</div>"
      ],
      "text/plain": [
       "  name kor eng mat\n",
       "0   혜교  76  54  43\n",
       "1   지현  87  65  76"
      ]
     },
     "execution_count": 43,
     "metadata": {},
     "output_type": "execute_result"
    }
   ],
   "source": [
    "jihyun = pd.Series(['지현','87','65','76'], index=['name','kor','eng','mat'])\n",
    "b = b.append(jihyun, ignore_index=True)\n",
    "\n",
    "b"
   ]
  },
  {
   "cell_type": "code",
   "execution_count": 44,
   "id": "c3c5d9ba-93ce-4831-89be-52cace14bcc2",
   "metadata": {},
   "outputs": [],
   "source": [
    "# 행을 추가하기 위해 데이터프레임 객체 생성하는 경우\n",
    "# 반드시 행 인덱스를 지정해야 함\n",
    "persion = pd.DataFrame({'name':'수지', 'kor':'98','eng':'76', 'mat':'90'}, index=[2, ])"
   ]
  },
  {
   "cell_type": "code",
   "execution_count": 48,
   "id": "3b7d8c49-d6df-40e4-beaf-934ba2d15d8e",
   "metadata": {},
   "outputs": [],
   "source": [
    "b = b.append(persion)"
   ]
  },
  {
   "cell_type": "code",
   "execution_count": 49,
   "id": "3df2f21e-b90e-407c-809e-b84cf77582ca",
   "metadata": {},
   "outputs": [
    {
     "data": {
      "text/html": [
       "<div>\n",
       "<style scoped>\n",
       "    .dataframe tbody tr th:only-of-type {\n",
       "        vertical-align: middle;\n",
       "    }\n",
       "\n",
       "    .dataframe tbody tr th {\n",
       "        vertical-align: top;\n",
       "    }\n",
       "\n",
       "    .dataframe thead th {\n",
       "        text-align: right;\n",
       "    }\n",
       "</style>\n",
       "<table border=\"1\" class=\"dataframe\">\n",
       "  <thead>\n",
       "    <tr style=\"text-align: right;\">\n",
       "      <th></th>\n",
       "      <th>name</th>\n",
       "      <th>kor</th>\n",
       "      <th>eng</th>\n",
       "      <th>mat</th>\n",
       "    </tr>\n",
       "  </thead>\n",
       "  <tbody>\n",
       "    <tr>\n",
       "      <th>0</th>\n",
       "      <td>혜교</td>\n",
       "      <td>76</td>\n",
       "      <td>54</td>\n",
       "      <td>43</td>\n",
       "    </tr>\n",
       "    <tr>\n",
       "      <th>1</th>\n",
       "      <td>지현</td>\n",
       "      <td>87</td>\n",
       "      <td>65</td>\n",
       "      <td>76</td>\n",
       "    </tr>\n",
       "    <tr>\n",
       "      <th>2</th>\n",
       "      <td>수지</td>\n",
       "      <td>98</td>\n",
       "      <td>76</td>\n",
       "      <td>90</td>\n",
       "    </tr>\n",
       "  </tbody>\n",
       "</table>\n",
       "</div>"
      ],
      "text/plain": [
       "  name kor eng mat\n",
       "0   혜교  76  54  43\n",
       "1   지현  87  65  76\n",
       "2   수지  98  76  90"
      ]
     },
     "execution_count": 49,
     "metadata": {},
     "output_type": "execute_result"
    }
   ],
   "source": [
    "b"
   ]
  },
  {
   "cell_type": "markdown",
   "id": "5f5710ef-08b0-41e6-8490-246d550f0681",
   "metadata": {},
   "source": [
    "## 데이터프레임에서 rank 다루기\n",
    "* rank(정렬방법)\n",
    "* 기본적으로 오름차순 처리\n",
    "* 동일한 값들은 그것들의 평균값으로 순위지정"
   ]
  },
  {
   "cell_type": "code",
   "execution_count": 55,
   "id": "ed3651f6-a6c3-4cff-b04b-086972873d35",
   "metadata": {},
   "outputs": [
    {
     "data": {
      "text/html": [
       "<div>\n",
       "<style scoped>\n",
       "    .dataframe tbody tr th:only-of-type {\n",
       "        vertical-align: middle;\n",
       "    }\n",
       "\n",
       "    .dataframe tbody tr th {\n",
       "        vertical-align: top;\n",
       "    }\n",
       "\n",
       "    .dataframe thead th {\n",
       "        text-align: right;\n",
       "    }\n",
       "</style>\n",
       "<table border=\"1\" class=\"dataframe\">\n",
       "  <thead>\n",
       "    <tr style=\"text-align: right;\">\n",
       "      <th></th>\n",
       "      <th>name</th>\n",
       "      <th>kor</th>\n",
       "      <th>eng</th>\n",
       "      <th>mat</th>\n",
       "    </tr>\n",
       "  </thead>\n",
       "  <tbody>\n",
       "    <tr>\n",
       "      <th>0</th>\n",
       "      <td>3.0</td>\n",
       "      <td>1.0</td>\n",
       "      <td>1.0</td>\n",
       "      <td>1.0</td>\n",
       "    </tr>\n",
       "    <tr>\n",
       "      <th>1</th>\n",
       "      <td>2.0</td>\n",
       "      <td>2.0</td>\n",
       "      <td>2.0</td>\n",
       "      <td>2.0</td>\n",
       "    </tr>\n",
       "    <tr>\n",
       "      <th>2</th>\n",
       "      <td>1.0</td>\n",
       "      <td>3.0</td>\n",
       "      <td>3.0</td>\n",
       "      <td>3.0</td>\n",
       "    </tr>\n",
       "  </tbody>\n",
       "</table>\n",
       "</div>"
      ],
      "text/plain": [
       "   name  kor  eng  mat\n",
       "0   3.0  1.0  1.0  1.0\n",
       "1   2.0  2.0  2.0  2.0\n",
       "2   1.0  3.0  3.0  3.0"
      ]
     },
     "execution_count": 55,
     "metadata": {},
     "output_type": "execute_result"
    }
   ],
   "source": [
    "b.rank()"
   ]
  },
  {
   "cell_type": "code",
   "execution_count": 53,
   "id": "a1afdd9a-ca09-4e60-9d69-1f382f19cc74",
   "metadata": {},
   "outputs": [
    {
     "data": {
      "text/html": [
       "<div>\n",
       "<style scoped>\n",
       "    .dataframe tbody tr th:only-of-type {\n",
       "        vertical-align: middle;\n",
       "    }\n",
       "\n",
       "    .dataframe tbody tr th {\n",
       "        vertical-align: top;\n",
       "    }\n",
       "\n",
       "    .dataframe thead th {\n",
       "        text-align: right;\n",
       "    }\n",
       "</style>\n",
       "<table border=\"1\" class=\"dataframe\">\n",
       "  <thead>\n",
       "    <tr style=\"text-align: right;\">\n",
       "      <th></th>\n",
       "      <th>name</th>\n",
       "      <th>kor</th>\n",
       "      <th>eng</th>\n",
       "      <th>mat</th>\n",
       "    </tr>\n",
       "  </thead>\n",
       "  <tbody>\n",
       "    <tr>\n",
       "      <th>0</th>\n",
       "      <td>1.0</td>\n",
       "      <td>3.0</td>\n",
       "      <td>3.0</td>\n",
       "      <td>3.0</td>\n",
       "    </tr>\n",
       "    <tr>\n",
       "      <th>1</th>\n",
       "      <td>2.0</td>\n",
       "      <td>2.0</td>\n",
       "      <td>2.0</td>\n",
       "      <td>2.0</td>\n",
       "    </tr>\n",
       "    <tr>\n",
       "      <th>2</th>\n",
       "      <td>3.0</td>\n",
       "      <td>1.0</td>\n",
       "      <td>1.0</td>\n",
       "      <td>1.0</td>\n",
       "    </tr>\n",
       "  </tbody>\n",
       "</table>\n",
       "</div>"
      ],
      "text/plain": [
       "   name  kor  eng  mat\n",
       "0   1.0  3.0  3.0  3.0\n",
       "1   2.0  2.0  2.0  2.0\n",
       "2   3.0  1.0  1.0  1.0"
      ]
     },
     "execution_count": 53,
     "metadata": {},
     "output_type": "execute_result"
    }
   ],
   "source": [
    "b.rank(ascending=False)"
   ]
  },
  {
   "cell_type": "code",
   "execution_count": 64,
   "id": "d1307d25-4c14-47a7-94b3-7f91a4d04fd4",
   "metadata": {},
   "outputs": [
    {
     "data": {
      "text/plain": [
       "0    6.5\n",
       "1    1.0\n",
       "2    6.5\n",
       "3    4.5\n",
       "4    3.0\n",
       "5    2.0\n",
       "6    4.5\n",
       "dtype: float64"
      ]
     },
     "execution_count": 64,
     "metadata": {},
     "output_type": "execute_result"
    }
   ],
   "source": [
    "data = [7,-2,7,4,2,0,4]\n",
    "df = pd.Series(data)\n",
    "\n",
    "df.rank()"
   ]
  },
  {
   "cell_type": "code",
   "execution_count": 59,
   "id": "aa4a1110-6eff-4713-9dd1-a9cb10d375d1",
   "metadata": {},
   "outputs": [
    {
     "data": {
      "text/plain": [
       "0    6.0\n",
       "1    1.0\n",
       "2    6.0\n",
       "3    4.0\n",
       "4    3.0\n",
       "5    2.0\n",
       "6    4.0\n",
       "dtype: float64"
      ]
     },
     "execution_count": 59,
     "metadata": {},
     "output_type": "execute_result"
    }
   ],
   "source": [
    "df.rank(method='min')"
   ]
  },
  {
   "cell_type": "code",
   "execution_count": 62,
   "id": "b1f847d1-716b-4d5d-9d78-c53c79935003",
   "metadata": {},
   "outputs": [
    {
     "data": {
      "text/plain": [
       "0    6.0\n",
       "1    1.0\n",
       "2    7.0\n",
       "3    4.0\n",
       "4    3.0\n",
       "5    2.0\n",
       "6    5.0\n",
       "dtype: float64"
      ]
     },
     "execution_count": 62,
     "metadata": {},
     "output_type": "execute_result"
    }
   ],
   "source": [
    "# df.rank(method='min')\n",
    "# df.rank(method='max')\n",
    "df.rank(method='first')"
   ]
  },
  {
   "cell_type": "code",
   "execution_count": 68,
   "id": "f42f1583-df8e-441f-a1f0-3cd6426a95d4",
   "metadata": {},
   "outputs": [],
   "source": [
    "# df = pd.Series(data)\n",
    "\n",
    "# df.str.len()\n",
    "# df.str.lower()\n",
    "# df.str.upper()\n",
    "# df.str.swapcase()  # 대/소문자 역변환\n",
    "# df.str.strip()     # 공백 제거\n",
    "# df.str.split(',')"
   ]
  },
  {
   "cell_type": "code",
   "execution_count": 69,
   "id": "0cbe258d-f182-4333-9363-0d0507734b56",
   "metadata": {},
   "outputs": [],
   "source": [
    "# df.str.contains('123')\n",
    "# df.str.contains('T')\n",
    "# df.str.contains('es')"
   ]
  },
  {
   "cell_type": "markdown",
   "id": "da13de82-aed2-4b9c-8467-1691c56bf55d",
   "metadata": {},
   "source": [
    "## oneshot-encoding 데이터프레임\n",
    "* 하나의 True와 나머지가 False인 인코딩을 의미\n",
    "* 컴퓨터는 문자보다 숫자를 더 잘 처리함\n",
    "* 따라서, 단어/기호를 숫자형태로 바꾸는 기법 필요\n",
    "* 범주형 데이터로 구성된 분류문제를 푸는 머신러닝/딥러닝에 주로 이용\n",
    "* 예를 들어 과일이미지를 이용해서 과일 이름을 판별하는 경우 \n",
    "    + 사과/복숭아/오렌지\n",
    "    + 1   /  2   /  3\n",
    "    + 100/ 010/ 001"
   ]
  },
  {
   "cell_type": "code",
   "execution_count": 71,
   "id": "6f1f53a0-a994-49d5-beec-bc75ede63348",
   "metadata": {},
   "outputs": [
    {
     "ename": "AttributeError",
     "evalue": "Can only use .str accessor with string values!",
     "output_type": "error",
     "traceback": [
      "\u001b[0;31m---------------------------------------------------------------------------\u001b[0m",
      "\u001b[0;31mAttributeError\u001b[0m                            Traceback (most recent call last)",
      "\u001b[0;32m/tmp/ipykernel_14426/70002849.py\u001b[0m in \u001b[0;36m<module>\u001b[0;34m\u001b[0m\n\u001b[0;32m----> 1\u001b[0;31m \u001b[0mdf\u001b[0m\u001b[0;34m.\u001b[0m\u001b[0mstr\u001b[0m\u001b[0;34m.\u001b[0m\u001b[0mget_dummies\u001b[0m\u001b[0;34m(\u001b[0m\u001b[0;34m)\u001b[0m\u001b[0;34m\u001b[0m\u001b[0;34m\u001b[0m\u001b[0m\n\u001b[0m\u001b[1;32m      2\u001b[0m \u001b[0;31m# Tom = 00010\u001b[0m\u001b[0;34m\u001b[0m\u001b[0;34m\u001b[0m\u001b[0;34m\u001b[0m\u001b[0m\n\u001b[1;32m      3\u001b[0m \u001b[0;31m# Vin = 00001\u001b[0m\u001b[0;34m\u001b[0m\u001b[0;34m\u001b[0m\u001b[0;34m\u001b[0m\u001b[0m\n",
      "\u001b[0;32m~/.local/lib/python3.7/site-packages/pandas/core/generic.py\u001b[0m in \u001b[0;36m__getattr__\u001b[0;34m(self, name)\u001b[0m\n\u001b[1;32m   5485\u001b[0m         ):\n\u001b[1;32m   5486\u001b[0m             \u001b[0;32mreturn\u001b[0m \u001b[0mself\u001b[0m\u001b[0;34m[\u001b[0m\u001b[0mname\u001b[0m\u001b[0;34m]\u001b[0m\u001b[0;34m\u001b[0m\u001b[0;34m\u001b[0m\u001b[0m\n\u001b[0;32m-> 5487\u001b[0;31m         \u001b[0;32mreturn\u001b[0m \u001b[0mobject\u001b[0m\u001b[0;34m.\u001b[0m\u001b[0m__getattribute__\u001b[0m\u001b[0;34m(\u001b[0m\u001b[0mself\u001b[0m\u001b[0;34m,\u001b[0m \u001b[0mname\u001b[0m\u001b[0;34m)\u001b[0m\u001b[0;34m\u001b[0m\u001b[0;34m\u001b[0m\u001b[0m\n\u001b[0m\u001b[1;32m   5488\u001b[0m \u001b[0;34m\u001b[0m\u001b[0m\n\u001b[1;32m   5489\u001b[0m     \u001b[0;32mdef\u001b[0m \u001b[0m__setattr__\u001b[0m\u001b[0;34m(\u001b[0m\u001b[0mself\u001b[0m\u001b[0;34m,\u001b[0m \u001b[0mname\u001b[0m\u001b[0;34m:\u001b[0m \u001b[0mstr\u001b[0m\u001b[0;34m,\u001b[0m \u001b[0mvalue\u001b[0m\u001b[0;34m)\u001b[0m \u001b[0;34m->\u001b[0m \u001b[0;32mNone\u001b[0m\u001b[0;34m:\u001b[0m\u001b[0;34m\u001b[0m\u001b[0;34m\u001b[0m\u001b[0m\n",
      "\u001b[0;32m~/.local/lib/python3.7/site-packages/pandas/core/accessor.py\u001b[0m in \u001b[0;36m__get__\u001b[0;34m(self, obj, cls)\u001b[0m\n\u001b[1;32m    179\u001b[0m             \u001b[0;31m# we're accessing the attribute of the class, i.e., Dataset.geo\u001b[0m\u001b[0;34m\u001b[0m\u001b[0;34m\u001b[0m\u001b[0;34m\u001b[0m\u001b[0m\n\u001b[1;32m    180\u001b[0m             \u001b[0;32mreturn\u001b[0m \u001b[0mself\u001b[0m\u001b[0;34m.\u001b[0m\u001b[0m_accessor\u001b[0m\u001b[0;34m\u001b[0m\u001b[0;34m\u001b[0m\u001b[0m\n\u001b[0;32m--> 181\u001b[0;31m         \u001b[0maccessor_obj\u001b[0m \u001b[0;34m=\u001b[0m \u001b[0mself\u001b[0m\u001b[0;34m.\u001b[0m\u001b[0m_accessor\u001b[0m\u001b[0;34m(\u001b[0m\u001b[0mobj\u001b[0m\u001b[0;34m)\u001b[0m\u001b[0;34m\u001b[0m\u001b[0;34m\u001b[0m\u001b[0m\n\u001b[0m\u001b[1;32m    182\u001b[0m         \u001b[0;31m# Replace the property with the accessor object. Inspired by:\u001b[0m\u001b[0;34m\u001b[0m\u001b[0;34m\u001b[0m\u001b[0;34m\u001b[0m\u001b[0m\n\u001b[1;32m    183\u001b[0m         \u001b[0;31m# https://www.pydanny.com/cached-property.html\u001b[0m\u001b[0;34m\u001b[0m\u001b[0;34m\u001b[0m\u001b[0;34m\u001b[0m\u001b[0m\n",
      "\u001b[0;32m~/.local/lib/python3.7/site-packages/pandas/core/strings/accessor.py\u001b[0m in \u001b[0;36m__init__\u001b[0;34m(self, data)\u001b[0m\n\u001b[1;32m    166\u001b[0m         \u001b[0;32mfrom\u001b[0m \u001b[0mpandas\u001b[0m\u001b[0;34m.\u001b[0m\u001b[0mcore\u001b[0m\u001b[0;34m.\u001b[0m\u001b[0marrays\u001b[0m\u001b[0;34m.\u001b[0m\u001b[0mstring_\u001b[0m \u001b[0;32mimport\u001b[0m \u001b[0mStringDtype\u001b[0m\u001b[0;34m\u001b[0m\u001b[0;34m\u001b[0m\u001b[0m\n\u001b[1;32m    167\u001b[0m \u001b[0;34m\u001b[0m\u001b[0m\n\u001b[0;32m--> 168\u001b[0;31m         \u001b[0mself\u001b[0m\u001b[0;34m.\u001b[0m\u001b[0m_inferred_dtype\u001b[0m \u001b[0;34m=\u001b[0m \u001b[0mself\u001b[0m\u001b[0;34m.\u001b[0m\u001b[0m_validate\u001b[0m\u001b[0;34m(\u001b[0m\u001b[0mdata\u001b[0m\u001b[0;34m)\u001b[0m\u001b[0;34m\u001b[0m\u001b[0;34m\u001b[0m\u001b[0m\n\u001b[0m\u001b[1;32m    169\u001b[0m         \u001b[0mself\u001b[0m\u001b[0;34m.\u001b[0m\u001b[0m_is_categorical\u001b[0m \u001b[0;34m=\u001b[0m \u001b[0mis_categorical_dtype\u001b[0m\u001b[0;34m(\u001b[0m\u001b[0mdata\u001b[0m\u001b[0;34m.\u001b[0m\u001b[0mdtype\u001b[0m\u001b[0;34m)\u001b[0m\u001b[0;34m\u001b[0m\u001b[0;34m\u001b[0m\u001b[0m\n\u001b[1;32m    170\u001b[0m         \u001b[0mself\u001b[0m\u001b[0;34m.\u001b[0m\u001b[0m_is_string\u001b[0m \u001b[0;34m=\u001b[0m \u001b[0misinstance\u001b[0m\u001b[0;34m(\u001b[0m\u001b[0mdata\u001b[0m\u001b[0;34m.\u001b[0m\u001b[0mdtype\u001b[0m\u001b[0;34m,\u001b[0m \u001b[0mStringDtype\u001b[0m\u001b[0;34m)\u001b[0m\u001b[0;34m\u001b[0m\u001b[0;34m\u001b[0m\u001b[0m\n",
      "\u001b[0;32m~/.local/lib/python3.7/site-packages/pandas/core/strings/accessor.py\u001b[0m in \u001b[0;36m_validate\u001b[0;34m(data)\u001b[0m\n\u001b[1;32m    223\u001b[0m \u001b[0;34m\u001b[0m\u001b[0m\n\u001b[1;32m    224\u001b[0m         \u001b[0;32mif\u001b[0m \u001b[0minferred_dtype\u001b[0m \u001b[0;32mnot\u001b[0m \u001b[0;32min\u001b[0m \u001b[0mallowed_types\u001b[0m\u001b[0;34m:\u001b[0m\u001b[0;34m\u001b[0m\u001b[0;34m\u001b[0m\u001b[0m\n\u001b[0;32m--> 225\u001b[0;31m             \u001b[0;32mraise\u001b[0m \u001b[0mAttributeError\u001b[0m\u001b[0;34m(\u001b[0m\u001b[0;34m\"Can only use .str accessor with string values!\"\u001b[0m\u001b[0;34m)\u001b[0m\u001b[0;34m\u001b[0m\u001b[0;34m\u001b[0m\u001b[0m\n\u001b[0m\u001b[1;32m    226\u001b[0m         \u001b[0;32mreturn\u001b[0m \u001b[0minferred_dtype\u001b[0m\u001b[0;34m\u001b[0m\u001b[0;34m\u001b[0m\u001b[0m\n\u001b[1;32m    227\u001b[0m \u001b[0;34m\u001b[0m\u001b[0m\n",
      "\u001b[0;31mAttributeError\u001b[0m: Can only use .str accessor with string values!"
     ]
    }
   ],
   "source": [
    "# df.str.get_dummies()\n",
    "# # Tom = 00010\n",
    "# # Vin = 00001"
   ]
  },
  {
   "cell_type": "markdown",
   "id": "7c948224-899a-4547-a5e4-b27657d79076",
   "metadata": {},
   "source": [
    "## 데이터프레임 필터링\n",
    "* 조건을 만족하는 특정 데이터를 추출하려면 []에 조건연산자를 사용한 조건식을 작성하면 됨\n",
    "\n"
   ]
  },
  {
   "cell_type": "code",
   "execution_count": 73,
   "id": "7186ded2-e232-4d04-bb25-16bd7335f231",
   "metadata": {},
   "outputs": [
    {
     "data": {
      "text/html": [
       "<div>\n",
       "<style scoped>\n",
       "    .dataframe tbody tr th:only-of-type {\n",
       "        vertical-align: middle;\n",
       "    }\n",
       "\n",
       "    .dataframe tbody tr th {\n",
       "        vertical-align: top;\n",
       "    }\n",
       "\n",
       "    .dataframe thead th {\n",
       "        text-align: right;\n",
       "    }\n",
       "</style>\n",
       "<table border=\"1\" class=\"dataframe\">\n",
       "  <thead>\n",
       "    <tr style=\"text-align: right;\">\n",
       "      <th></th>\n",
       "      <th>prodid</th>\n",
       "      <th>prodname</th>\n",
       "      <th>stock</th>\n",
       "      <th>price</th>\n",
       "      <th>maker</th>\n",
       "    </tr>\n",
       "  </thead>\n",
       "  <tbody>\n",
       "    <tr>\n",
       "      <th>0</th>\n",
       "      <td>p01</td>\n",
       "      <td>그냥만두</td>\n",
       "      <td>5000</td>\n",
       "      <td>4500</td>\n",
       "      <td>대한식품</td>\n",
       "    </tr>\n",
       "    <tr>\n",
       "      <th>1</th>\n",
       "      <td>p02</td>\n",
       "      <td>매운쫄면</td>\n",
       "      <td>2500</td>\n",
       "      <td>5500</td>\n",
       "      <td>민국푸드</td>\n",
       "    </tr>\n",
       "    <tr>\n",
       "      <th>2</th>\n",
       "      <td>p03</td>\n",
       "      <td>쿵떡파이</td>\n",
       "      <td>3600</td>\n",
       "      <td>2600</td>\n",
       "      <td>한빛제과</td>\n",
       "    </tr>\n",
       "    <tr>\n",
       "      <th>3</th>\n",
       "      <td>p04</td>\n",
       "      <td>맛난초콜렛</td>\n",
       "      <td>1250</td>\n",
       "      <td>2500</td>\n",
       "      <td>한빛제과</td>\n",
       "    </tr>\n",
       "    <tr>\n",
       "      <th>4</th>\n",
       "      <td>p05</td>\n",
       "      <td>얼큰라면</td>\n",
       "      <td>2200</td>\n",
       "      <td>1200</td>\n",
       "      <td>대한식품</td>\n",
       "    </tr>\n",
       "  </tbody>\n",
       "</table>\n",
       "</div>"
      ],
      "text/plain": [
       "  prodid prodname  stock  price maker\n",
       "0    p01     그냥만두   5000   4500  대한식품\n",
       "1    p02     매운쫄면   2500   5500  민국푸드\n",
       "2    p03     쿵떡파이   3600   2600  한빛제과\n",
       "3    p04    맛난초콜렛   1250   2500  한빛제과\n",
       "4    p05     얼큰라면   2200   1200  대한식품"
      ]
     },
     "execution_count": 73,
     "metadata": {},
     "output_type": "execute_result"
    }
   ],
   "source": [
    "product = pd.read_csv('csv/products.csv')\n",
    "product.head()"
   ]
  },
  {
   "cell_type": "code",
   "execution_count": 80,
   "id": "b60cab4a-2391-427f-a675-fae26ca08c55",
   "metadata": {},
   "outputs": [
    {
     "data": {
      "text/html": [
       "<div>\n",
       "<style scoped>\n",
       "    .dataframe tbody tr th:only-of-type {\n",
       "        vertical-align: middle;\n",
       "    }\n",
       "\n",
       "    .dataframe tbody tr th {\n",
       "        vertical-align: top;\n",
       "    }\n",
       "\n",
       "    .dataframe thead th {\n",
       "        text-align: right;\n",
       "    }\n",
       "</style>\n",
       "<table border=\"1\" class=\"dataframe\">\n",
       "  <thead>\n",
       "    <tr style=\"text-align: right;\">\n",
       "      <th></th>\n",
       "      <th>prodid</th>\n",
       "      <th>prodname</th>\n",
       "      <th>stock</th>\n",
       "      <th>price</th>\n",
       "      <th>maker</th>\n",
       "    </tr>\n",
       "  </thead>\n",
       "  <tbody>\n",
       "    <tr>\n",
       "      <th>2</th>\n",
       "      <td>p03</td>\n",
       "      <td>쿵떡파이</td>\n",
       "      <td>3600</td>\n",
       "      <td>2600</td>\n",
       "      <td>한빛제과</td>\n",
       "    </tr>\n",
       "    <tr>\n",
       "      <th>3</th>\n",
       "      <td>p04</td>\n",
       "      <td>맛난초콜렛</td>\n",
       "      <td>1250</td>\n",
       "      <td>2500</td>\n",
       "      <td>한빛제과</td>\n",
       "    </tr>\n",
       "    <tr>\n",
       "      <th>6</th>\n",
       "      <td>p07</td>\n",
       "      <td>달콤비스켓</td>\n",
       "      <td>1650</td>\n",
       "      <td>1500</td>\n",
       "      <td>한빛제과</td>\n",
       "    </tr>\n",
       "  </tbody>\n",
       "</table>\n",
       "</div>"
      ],
      "text/plain": [
       "  prodid prodname  stock  price maker\n",
       "2    p03     쿵떡파이   3600   2600  한빛제과\n",
       "3    p04    맛난초콜렛   1250   2500  한빛제과\n",
       "6    p07    달콤비스켓   1650   1500  한빛제과"
      ]
     },
     "execution_count": 80,
     "metadata": {},
     "output_type": "execute_result"
    }
   ],
   "source": [
    "# 제조업체가 한빛제과인 상품, 가격 추출\n",
    "search = product.maker == '한빛제과'\n",
    "\n",
    "# 조건과 일치하는 모든 컬럼 출력\n",
    "product[search]"
   ]
  },
  {
   "cell_type": "code",
   "execution_count": 81,
   "id": "67a65e82-02a3-4087-8dc8-60b5ac8232a9",
   "metadata": {},
   "outputs": [
    {
     "data": {
      "text/plain": [
       "2     쿵떡파이\n",
       "3    맛난초콜렛\n",
       "6    달콤비스켓\n",
       "Name: prodname, dtype: object"
      ]
     },
     "execution_count": 81,
     "metadata": {},
     "output_type": "execute_result"
    }
   ],
   "source": [
    "product[search]['prodname']  # 조건과 일치하는 특정 컬럼 출력"
   ]
  },
  {
   "cell_type": "code",
   "execution_count": 82,
   "id": "07aff67d-e657-485b-b4b3-7a9e92192f16",
   "metadata": {},
   "outputs": [
    {
     "data": {
      "text/html": [
       "<div>\n",
       "<style scoped>\n",
       "    .dataframe tbody tr th:only-of-type {\n",
       "        vertical-align: middle;\n",
       "    }\n",
       "\n",
       "    .dataframe tbody tr th {\n",
       "        vertical-align: top;\n",
       "    }\n",
       "\n",
       "    .dataframe thead th {\n",
       "        text-align: right;\n",
       "    }\n",
       "</style>\n",
       "<table border=\"1\" class=\"dataframe\">\n",
       "  <thead>\n",
       "    <tr style=\"text-align: right;\">\n",
       "      <th></th>\n",
       "      <th>prodname</th>\n",
       "      <th>price</th>\n",
       "    </tr>\n",
       "  </thead>\n",
       "  <tbody>\n",
       "    <tr>\n",
       "      <th>2</th>\n",
       "      <td>쿵떡파이</td>\n",
       "      <td>2600</td>\n",
       "    </tr>\n",
       "    <tr>\n",
       "      <th>3</th>\n",
       "      <td>맛난초콜렛</td>\n",
       "      <td>2500</td>\n",
       "    </tr>\n",
       "    <tr>\n",
       "      <th>6</th>\n",
       "      <td>달콤비스켓</td>\n",
       "      <td>1500</td>\n",
       "    </tr>\n",
       "  </tbody>\n",
       "</table>\n",
       "</div>"
      ],
      "text/plain": [
       "  prodname  price\n",
       "2     쿵떡파이   2600\n",
       "3    맛난초콜렛   2500\n",
       "6    달콤비스켓   1500"
      ]
     },
     "execution_count": 82,
     "metadata": {},
     "output_type": "execute_result"
    }
   ],
   "source": [
    "# 조건과 일치하는 특정 컬럼들 출력\n",
    "product[search][['prodname','price']]"
   ]
  },
  {
   "cell_type": "code",
   "execution_count": 87,
   "id": "d87465b7-4138-4ff8-a5b5-4844e3cdcb9c",
   "metadata": {},
   "outputs": [],
   "source": [
    "# 민국푸드에서 생산중인 상품중 가격이 3000원 이상인 상품은?\n",
    "search = product.maker == '민국푸드' & product.price >= 3000\n",
    "\n",
    "product[search][['prodname','price']]"
   ]
  },
  {
   "cell_type": "code",
   "execution_count": 91,
   "id": "feb7b321-5593-4a90-85e0-b1cdd29176ff",
   "metadata": {},
   "outputs": [
    {
     "data": {
      "text/html": [
       "<div>\n",
       "<style scoped>\n",
       "    .dataframe tbody tr th:only-of-type {\n",
       "        vertical-align: middle;\n",
       "    }\n",
       "\n",
       "    .dataframe tbody tr th {\n",
       "        vertical-align: top;\n",
       "    }\n",
       "\n",
       "    .dataframe thead th {\n",
       "        text-align: right;\n",
       "    }\n",
       "</style>\n",
       "<table border=\"1\" class=\"dataframe\">\n",
       "  <thead>\n",
       "    <tr style=\"text-align: right;\">\n",
       "      <th></th>\n",
       "      <th>makeyear</th>\n",
       "      <th>buyyear</th>\n",
       "      <th>dispsize</th>\n",
       "      <th>age</th>\n",
       "      <th>height</th>\n",
       "      <th>weight</th>\n",
       "      <th>phonetime</th>\n",
       "      <th>pctime</th>\n",
       "      <th>lteamount</th>\n",
       "    </tr>\n",
       "  </thead>\n",
       "  <tbody>\n",
       "    <tr>\n",
       "      <th>0</th>\n",
       "      <td>2015</td>\n",
       "      <td>2015</td>\n",
       "      <td>5.0</td>\n",
       "      <td>45</td>\n",
       "      <td>173</td>\n",
       "      <td>75</td>\n",
       "      <td>60</td>\n",
       "      <td>500</td>\n",
       "      <td>100</td>\n",
       "    </tr>\n",
       "    <tr>\n",
       "      <th>1</th>\n",
       "      <td>2014</td>\n",
       "      <td>2015</td>\n",
       "      <td>4.5</td>\n",
       "      <td>27</td>\n",
       "      <td>176</td>\n",
       "      <td>59</td>\n",
       "      <td>70</td>\n",
       "      <td>30</td>\n",
       "      <td>50</td>\n",
       "    </tr>\n",
       "    <tr>\n",
       "      <th>2</th>\n",
       "      <td>2015</td>\n",
       "      <td>2015</td>\n",
       "      <td>5.0</td>\n",
       "      <td>29</td>\n",
       "      <td>183</td>\n",
       "      <td>65</td>\n",
       "      <td>120</td>\n",
       "      <td>300</td>\n",
       "      <td>200</td>\n",
       "    </tr>\n",
       "    <tr>\n",
       "      <th>3</th>\n",
       "      <td>2015</td>\n",
       "      <td>2016</td>\n",
       "      <td>5.0</td>\n",
       "      <td>28</td>\n",
       "      <td>172</td>\n",
       "      <td>63</td>\n",
       "      <td>80</td>\n",
       "      <td>60</td>\n",
       "      <td>190</td>\n",
       "    </tr>\n",
       "    <tr>\n",
       "      <th>4</th>\n",
       "      <td>2015</td>\n",
       "      <td>2015</td>\n",
       "      <td>5.0</td>\n",
       "      <td>24</td>\n",
       "      <td>179</td>\n",
       "      <td>65</td>\n",
       "      <td>90</td>\n",
       "      <td>30</td>\n",
       "      <td>500</td>\n",
       "    </tr>\n",
       "  </tbody>\n",
       "</table>\n",
       "</div>"
      ],
      "text/plain": [
       "   makeyear  buyyear  dispsize  age  height  weight  phonetime  pctime  lteamount\n",
       "0      2015     2015       5.0   45     173      75         60     500        100\n",
       "1      2014     2015       4.5   27     176      59         70      30         50\n",
       "2      2015     2015       5.0   29     183      65        120     300        200\n",
       "3      2015     2016       5.0   28     172      63         80      60        190\n",
       "4      2015     2015       5.0   24     179      65         90      30        500"
      ]
     },
     "execution_count": 91,
     "metadata": {},
     "output_type": "execute_result"
    }
   ],
   "source": [
    "phone = pd.read_csv('csv/phone02.csv')\n",
    "\n",
    "phone.head()"
   ]
  },
  {
   "cell_type": "code",
   "execution_count": 96,
   "id": "575c66b9-28de-4dd1-ae61-6c525f0f679a",
   "metadata": {},
   "outputs": [
    {
     "data": {
      "text/html": [
       "<div>\n",
       "<style scoped>\n",
       "    .dataframe tbody tr th:only-of-type {\n",
       "        vertical-align: middle;\n",
       "    }\n",
       "\n",
       "    .dataframe tbody tr th {\n",
       "        vertical-align: top;\n",
       "    }\n",
       "\n",
       "    .dataframe thead th {\n",
       "        text-align: right;\n",
       "    }\n",
       "</style>\n",
       "<table border=\"1\" class=\"dataframe\">\n",
       "  <thead>\n",
       "    <tr style=\"text-align: right;\">\n",
       "      <th></th>\n",
       "      <th>makeyear</th>\n",
       "      <th>buyyear</th>\n",
       "      <th>dispsize</th>\n",
       "      <th>age</th>\n",
       "      <th>height</th>\n",
       "      <th>weight</th>\n",
       "      <th>phonetime</th>\n",
       "      <th>pctime</th>\n",
       "      <th>lteamount</th>\n",
       "    </tr>\n",
       "  </thead>\n",
       "  <tbody>\n",
       "    <tr>\n",
       "      <th>0</th>\n",
       "      <td>2015</td>\n",
       "      <td>2015</td>\n",
       "      <td>5.0</td>\n",
       "      <td>45</td>\n",
       "      <td>173</td>\n",
       "      <td>75</td>\n",
       "      <td>60</td>\n",
       "      <td>500</td>\n",
       "      <td>100</td>\n",
       "    </tr>\n",
       "    <tr>\n",
       "      <th>2</th>\n",
       "      <td>2015</td>\n",
       "      <td>2015</td>\n",
       "      <td>5.0</td>\n",
       "      <td>29</td>\n",
       "      <td>183</td>\n",
       "      <td>65</td>\n",
       "      <td>120</td>\n",
       "      <td>300</td>\n",
       "      <td>200</td>\n",
       "    </tr>\n",
       "    <tr>\n",
       "      <th>3</th>\n",
       "      <td>2015</td>\n",
       "      <td>2016</td>\n",
       "      <td>5.0</td>\n",
       "      <td>28</td>\n",
       "      <td>172</td>\n",
       "      <td>63</td>\n",
       "      <td>80</td>\n",
       "      <td>60</td>\n",
       "      <td>190</td>\n",
       "    </tr>\n",
       "    <tr>\n",
       "      <th>4</th>\n",
       "      <td>2015</td>\n",
       "      <td>2015</td>\n",
       "      <td>5.0</td>\n",
       "      <td>24</td>\n",
       "      <td>179</td>\n",
       "      <td>65</td>\n",
       "      <td>90</td>\n",
       "      <td>30</td>\n",
       "      <td>500</td>\n",
       "    </tr>\n",
       "    <tr>\n",
       "      <th>9</th>\n",
       "      <td>2015</td>\n",
       "      <td>2014</td>\n",
       "      <td>5.0</td>\n",
       "      <td>42</td>\n",
       "      <td>177</td>\n",
       "      <td>79</td>\n",
       "      <td>40</td>\n",
       "      <td>480</td>\n",
       "      <td>30</td>\n",
       "    </tr>\n",
       "    <tr>\n",
       "      <th>11</th>\n",
       "      <td>2015</td>\n",
       "      <td>2015</td>\n",
       "      <td>5.5</td>\n",
       "      <td>37</td>\n",
       "      <td>171</td>\n",
       "      <td>70</td>\n",
       "      <td>90</td>\n",
       "      <td>360</td>\n",
       "      <td>200</td>\n",
       "    </tr>\n",
       "    <tr>\n",
       "      <th>12</th>\n",
       "      <td>2015</td>\n",
       "      <td>2016</td>\n",
       "      <td>5.5</td>\n",
       "      <td>35</td>\n",
       "      <td>173</td>\n",
       "      <td>69</td>\n",
       "      <td>60</td>\n",
       "      <td>120</td>\n",
       "      <td>150</td>\n",
       "    </tr>\n",
       "    <tr>\n",
       "      <th>13</th>\n",
       "      <td>2015</td>\n",
       "      <td>2015</td>\n",
       "      <td>6.0</td>\n",
       "      <td>41</td>\n",
       "      <td>181</td>\n",
       "      <td>88</td>\n",
       "      <td>60</td>\n",
       "      <td>120</td>\n",
       "      <td>130</td>\n",
       "    </tr>\n",
       "    <tr>\n",
       "      <th>14</th>\n",
       "      <td>2015</td>\n",
       "      <td>2015</td>\n",
       "      <td>5.5</td>\n",
       "      <td>10</td>\n",
       "      <td>178</td>\n",
       "      <td>89</td>\n",
       "      <td>70</td>\n",
       "      <td>60</td>\n",
       "      <td>140</td>\n",
       "    </tr>\n",
       "    <tr>\n",
       "      <th>15</th>\n",
       "      <td>2015</td>\n",
       "      <td>2015</td>\n",
       "      <td>5.0</td>\n",
       "      <td>35</td>\n",
       "      <td>169</td>\n",
       "      <td>70</td>\n",
       "      <td>50</td>\n",
       "      <td>90</td>\n",
       "      <td>80</td>\n",
       "    </tr>\n",
       "    <tr>\n",
       "      <th>18</th>\n",
       "      <td>2015</td>\n",
       "      <td>2015</td>\n",
       "      <td>4.5</td>\n",
       "      <td>29</td>\n",
       "      <td>188</td>\n",
       "      <td>83</td>\n",
       "      <td>140</td>\n",
       "      <td>240</td>\n",
       "      <td>600</td>\n",
       "    </tr>\n",
       "    <tr>\n",
       "      <th>20</th>\n",
       "      <td>2015</td>\n",
       "      <td>2015</td>\n",
       "      <td>5.5</td>\n",
       "      <td>32</td>\n",
       "      <td>177</td>\n",
       "      <td>68</td>\n",
       "      <td>70</td>\n",
       "      <td>120</td>\n",
       "      <td>300</td>\n",
       "    </tr>\n",
       "    <tr>\n",
       "      <th>22</th>\n",
       "      <td>2015</td>\n",
       "      <td>2015</td>\n",
       "      <td>5.0</td>\n",
       "      <td>26</td>\n",
       "      <td>179</td>\n",
       "      <td>80</td>\n",
       "      <td>180</td>\n",
       "      <td>30</td>\n",
       "      <td>1100</td>\n",
       "    </tr>\n",
       "  </tbody>\n",
       "</table>\n",
       "</div>"
      ],
      "text/plain": [
       "    makeyear  buyyear  dispsize  age  height  weight  phonetime  pctime  lteamount\n",
       "0       2015     2015       5.0   45     173      75         60     500        100\n",
       "2       2015     2015       5.0   29     183      65        120     300        200\n",
       "3       2015     2016       5.0   28     172      63         80      60        190\n",
       "4       2015     2015       5.0   24     179      65         90      30        500\n",
       "9       2015     2014       5.0   42     177      79         40     480         30\n",
       "11      2015     2015       5.5   37     171      70         90     360        200\n",
       "12      2015     2016       5.5   35     173      69         60     120        150\n",
       "13      2015     2015       6.0   41     181      88         60     120        130\n",
       "14      2015     2015       5.5   10     178      89         70      60        140\n",
       "15      2015     2015       5.0   35     169      70         50      90         80\n",
       "18      2015     2015       4.5   29     188      83        140     240        600\n",
       "20      2015     2015       5.5   32     177      68         70     120        300\n",
       "22      2015     2015       5.0   26     179      80        180      30       1100"
      ]
     },
     "execution_count": 96,
     "metadata": {},
     "output_type": "execute_result"
    }
   ],
   "source": [
    "search = phone.makeyear == 2015\n",
    "\n",
    "phone[search]"
   ]
  },
  {
   "cell_type": "code",
   "execution_count": 92,
   "id": "96019620-8229-4232-be52-52a54c21e50d",
   "metadata": {},
   "outputs": [
    {
     "data": {
      "text/html": [
       "<div>\n",
       "<style scoped>\n",
       "    .dataframe tbody tr th:only-of-type {\n",
       "        vertical-align: middle;\n",
       "    }\n",
       "\n",
       "    .dataframe tbody tr th {\n",
       "        vertical-align: top;\n",
       "    }\n",
       "\n",
       "    .dataframe thead th {\n",
       "        text-align: right;\n",
       "    }\n",
       "</style>\n",
       "<table border=\"1\" class=\"dataframe\">\n",
       "  <thead>\n",
       "    <tr style=\"text-align: right;\">\n",
       "      <th></th>\n",
       "      <th>makeyear</th>\n",
       "      <th>buyyear</th>\n",
       "      <th>dispsize</th>\n",
       "      <th>age</th>\n",
       "      <th>height</th>\n",
       "      <th>weight</th>\n",
       "      <th>phonetime</th>\n",
       "      <th>pctime</th>\n",
       "      <th>lteamount</th>\n",
       "    </tr>\n",
       "  </thead>\n",
       "  <tbody>\n",
       "    <tr>\n",
       "      <th>0</th>\n",
       "      <td>2015</td>\n",
       "      <td>2015</td>\n",
       "      <td>5.0</td>\n",
       "      <td>45</td>\n",
       "      <td>173</td>\n",
       "      <td>75</td>\n",
       "      <td>60</td>\n",
       "      <td>500</td>\n",
       "      <td>100</td>\n",
       "    </tr>\n",
       "    <tr>\n",
       "      <th>1</th>\n",
       "      <td>2014</td>\n",
       "      <td>2015</td>\n",
       "      <td>4.5</td>\n",
       "      <td>27</td>\n",
       "      <td>176</td>\n",
       "      <td>59</td>\n",
       "      <td>70</td>\n",
       "      <td>30</td>\n",
       "      <td>50</td>\n",
       "    </tr>\n",
       "    <tr>\n",
       "      <th>2</th>\n",
       "      <td>2015</td>\n",
       "      <td>2015</td>\n",
       "      <td>5.0</td>\n",
       "      <td>29</td>\n",
       "      <td>183</td>\n",
       "      <td>65</td>\n",
       "      <td>120</td>\n",
       "      <td>300</td>\n",
       "      <td>200</td>\n",
       "    </tr>\n",
       "    <tr>\n",
       "      <th>4</th>\n",
       "      <td>2015</td>\n",
       "      <td>2015</td>\n",
       "      <td>5.0</td>\n",
       "      <td>24</td>\n",
       "      <td>179</td>\n",
       "      <td>65</td>\n",
       "      <td>90</td>\n",
       "      <td>30</td>\n",
       "      <td>500</td>\n",
       "    </tr>\n",
       "    <tr>\n",
       "      <th>10</th>\n",
       "      <td>2014</td>\n",
       "      <td>2015</td>\n",
       "      <td>4.5</td>\n",
       "      <td>32</td>\n",
       "      <td>167</td>\n",
       "      <td>62</td>\n",
       "      <td>130</td>\n",
       "      <td>300</td>\n",
       "      <td>400</td>\n",
       "    </tr>\n",
       "    <tr>\n",
       "      <th>11</th>\n",
       "      <td>2015</td>\n",
       "      <td>2015</td>\n",
       "      <td>5.5</td>\n",
       "      <td>37</td>\n",
       "      <td>171</td>\n",
       "      <td>70</td>\n",
       "      <td>90</td>\n",
       "      <td>360</td>\n",
       "      <td>200</td>\n",
       "    </tr>\n",
       "    <tr>\n",
       "      <th>13</th>\n",
       "      <td>2015</td>\n",
       "      <td>2015</td>\n",
       "      <td>6.0</td>\n",
       "      <td>41</td>\n",
       "      <td>181</td>\n",
       "      <td>88</td>\n",
       "      <td>60</td>\n",
       "      <td>120</td>\n",
       "      <td>130</td>\n",
       "    </tr>\n",
       "    <tr>\n",
       "      <th>14</th>\n",
       "      <td>2015</td>\n",
       "      <td>2015</td>\n",
       "      <td>5.5</td>\n",
       "      <td>10</td>\n",
       "      <td>178</td>\n",
       "      <td>89</td>\n",
       "      <td>70</td>\n",
       "      <td>60</td>\n",
       "      <td>140</td>\n",
       "    </tr>\n",
       "    <tr>\n",
       "      <th>15</th>\n",
       "      <td>2015</td>\n",
       "      <td>2015</td>\n",
       "      <td>5.0</td>\n",
       "      <td>35</td>\n",
       "      <td>169</td>\n",
       "      <td>70</td>\n",
       "      <td>50</td>\n",
       "      <td>90</td>\n",
       "      <td>80</td>\n",
       "    </tr>\n",
       "    <tr>\n",
       "      <th>18</th>\n",
       "      <td>2015</td>\n",
       "      <td>2015</td>\n",
       "      <td>4.5</td>\n",
       "      <td>29</td>\n",
       "      <td>188</td>\n",
       "      <td>83</td>\n",
       "      <td>140</td>\n",
       "      <td>240</td>\n",
       "      <td>600</td>\n",
       "    </tr>\n",
       "    <tr>\n",
       "      <th>20</th>\n",
       "      <td>2015</td>\n",
       "      <td>2015</td>\n",
       "      <td>5.5</td>\n",
       "      <td>32</td>\n",
       "      <td>177</td>\n",
       "      <td>68</td>\n",
       "      <td>70</td>\n",
       "      <td>120</td>\n",
       "      <td>300</td>\n",
       "    </tr>\n",
       "    <tr>\n",
       "      <th>22</th>\n",
       "      <td>2015</td>\n",
       "      <td>2015</td>\n",
       "      <td>5.0</td>\n",
       "      <td>26</td>\n",
       "      <td>179</td>\n",
       "      <td>80</td>\n",
       "      <td>180</td>\n",
       "      <td>30</td>\n",
       "      <td>1100</td>\n",
       "    </tr>\n",
       "  </tbody>\n",
       "</table>\n",
       "</div>"
      ],
      "text/plain": [
       "    makeyear  buyyear  dispsize  age  height  weight  phonetime  pctime  lteamount\n",
       "0       2015     2015       5.0   45     173      75         60     500        100\n",
       "1       2014     2015       4.5   27     176      59         70      30         50\n",
       "2       2015     2015       5.0   29     183      65        120     300        200\n",
       "4       2015     2015       5.0   24     179      65         90      30        500\n",
       "10      2014     2015       4.5   32     167      62        130     300        400\n",
       "11      2015     2015       5.5   37     171      70         90     360        200\n",
       "13      2015     2015       6.0   41     181      88         60     120        130\n",
       "14      2015     2015       5.5   10     178      89         70      60        140\n",
       "15      2015     2015       5.0   35     169      70         50      90         80\n",
       "18      2015     2015       4.5   29     188      83        140     240        600\n",
       "20      2015     2015       5.5   32     177      68         70     120        300\n",
       "22      2015     2015       5.0   26     179      80        180      30       1100"
      ]
     },
     "execution_count": 92,
     "metadata": {},
     "output_type": "execute_result"
    }
   ],
   "source": [
    "search = phone.buyyear == 2015\n",
    "\n",
    "phone[search]"
   ]
  },
  {
   "cell_type": "code",
   "execution_count": 94,
   "id": "e82fa8dc-3eaf-42e4-8f65-5d4e61a4d266",
   "metadata": {},
   "outputs": [
    {
     "data": {
      "text/html": [
       "<div>\n",
       "<style scoped>\n",
       "    .dataframe tbody tr th:only-of-type {\n",
       "        vertical-align: middle;\n",
       "    }\n",
       "\n",
       "    .dataframe tbody tr th {\n",
       "        vertical-align: top;\n",
       "    }\n",
       "\n",
       "    .dataframe thead th {\n",
       "        text-align: right;\n",
       "    }\n",
       "</style>\n",
       "<table border=\"1\" class=\"dataframe\">\n",
       "  <thead>\n",
       "    <tr style=\"text-align: right;\">\n",
       "      <th></th>\n",
       "      <th>age</th>\n",
       "      <th>height</th>\n",
       "      <th>weight</th>\n",
       "    </tr>\n",
       "  </thead>\n",
       "  <tbody>\n",
       "    <tr>\n",
       "      <th>1</th>\n",
       "      <td>27</td>\n",
       "      <td>176</td>\n",
       "      <td>59</td>\n",
       "    </tr>\n",
       "    <tr>\n",
       "      <th>8</th>\n",
       "      <td>30</td>\n",
       "      <td>175</td>\n",
       "      <td>70</td>\n",
       "    </tr>\n",
       "    <tr>\n",
       "      <th>10</th>\n",
       "      <td>32</td>\n",
       "      <td>167</td>\n",
       "      <td>62</td>\n",
       "    </tr>\n",
       "    <tr>\n",
       "      <th>18</th>\n",
       "      <td>29</td>\n",
       "      <td>188</td>\n",
       "      <td>83</td>\n",
       "    </tr>\n",
       "  </tbody>\n",
       "</table>\n",
       "</div>"
      ],
      "text/plain": [
       "    age  height  weight\n",
       "1    27     176      59\n",
       "8    30     175      70\n",
       "10   32     167      62\n",
       "18   29     188      83"
      ]
     },
     "execution_count": 94,
     "metadata": {},
     "output_type": "execute_result"
    }
   ],
   "source": [
    "search = phone.dispsize ==  4.5\n",
    "\n",
    "phone[search][['age','height','weight']]"
   ]
  },
  {
   "cell_type": "code",
   "execution_count": 95,
   "id": "f0d4c4e3-927f-4b78-b318-8ce5ab8d1cfc",
   "metadata": {},
   "outputs": [
    {
     "data": {
      "text/html": [
       "<div>\n",
       "<style scoped>\n",
       "    .dataframe tbody tr th:only-of-type {\n",
       "        vertical-align: middle;\n",
       "    }\n",
       "\n",
       "    .dataframe tbody tr th {\n",
       "        vertical-align: top;\n",
       "    }\n",
       "\n",
       "    .dataframe thead th {\n",
       "        text-align: right;\n",
       "    }\n",
       "</style>\n",
       "<table border=\"1\" class=\"dataframe\">\n",
       "  <thead>\n",
       "    <tr style=\"text-align: right;\">\n",
       "      <th></th>\n",
       "      <th>makeyear</th>\n",
       "      <th>dispsize</th>\n",
       "    </tr>\n",
       "  </thead>\n",
       "  <tbody>\n",
       "    <tr>\n",
       "      <th>0</th>\n",
       "      <td>2015</td>\n",
       "      <td>5.0</td>\n",
       "    </tr>\n",
       "    <tr>\n",
       "      <th>6</th>\n",
       "      <td>2016</td>\n",
       "      <td>6.0</td>\n",
       "    </tr>\n",
       "    <tr>\n",
       "      <th>7</th>\n",
       "      <td>2014</td>\n",
       "      <td>5.0</td>\n",
       "    </tr>\n",
       "    <tr>\n",
       "      <th>9</th>\n",
       "      <td>2015</td>\n",
       "      <td>5.0</td>\n",
       "    </tr>\n",
       "    <tr>\n",
       "      <th>11</th>\n",
       "      <td>2015</td>\n",
       "      <td>5.5</td>\n",
       "    </tr>\n",
       "    <tr>\n",
       "      <th>12</th>\n",
       "      <td>2015</td>\n",
       "      <td>5.5</td>\n",
       "    </tr>\n",
       "    <tr>\n",
       "      <th>13</th>\n",
       "      <td>2015</td>\n",
       "      <td>6.0</td>\n",
       "    </tr>\n",
       "    <tr>\n",
       "      <th>15</th>\n",
       "      <td>2015</td>\n",
       "      <td>5.0</td>\n",
       "    </tr>\n",
       "    <tr>\n",
       "      <th>16</th>\n",
       "      <td>2016</td>\n",
       "      <td>5.5</td>\n",
       "    </tr>\n",
       "  </tbody>\n",
       "</table>\n",
       "</div>"
      ],
      "text/plain": [
       "    makeyear  dispsize\n",
       "0       2015       5.0\n",
       "6       2016       6.0\n",
       "7       2014       5.0\n",
       "9       2015       5.0\n",
       "11      2015       5.5\n",
       "12      2015       5.5\n",
       "13      2015       6.0\n",
       "15      2015       5.0\n",
       "16      2016       5.5"
      ]
     },
     "execution_count": 95,
     "metadata": {},
     "output_type": "execute_result"
    }
   ],
   "source": [
    "search = phone.age >= 35\n",
    "phone[search][['makeyear','dispsize']]"
   ]
  },
  {
   "cell_type": "markdown",
   "id": "703630de-166f-43b4-a274-c222f4b56a48",
   "metadata": {},
   "source": [
    "## 데이터프레임 그룹핑\n",
    "* 특정조건에 따라 데이터들을 그룹으로 묶어서 집계함수를 적용하고 통계함수를 이용한 정보 출력\n",
    "* 이로써 해당 그룹의 특성을 알아볼 수 있음\n",
    "* groupby(조건열),(집계함수)"
   ]
  },
  {
   "cell_type": "code",
   "execution_count": 100,
   "id": "0cb89363-0fa6-49b4-a3b8-561d8b288909",
   "metadata": {},
   "outputs": [],
   "source": [
    "city = ['서울','서울','서울','부산','부산','부산','인천','인천']\n",
    "year = [2015, 2010, 2005, 2015, 2010, 2005, 2015, 2020]\n",
    "pop = [9904312, 9631482, 9762546, 3448737, 3393191, 1122454, 5533343, 5513651]\n",
    "region = ['수도권', '수도권', '수도권', '경상권', '경상권', '경상권', '수도권', '수도권' ]\n",
    "          \n"
   ]
  },
  {
   "cell_type": "code",
   "execution_count": 101,
   "id": "2cd5ca25-f4dd-4ff7-9ccc-b8fb2c6d7bf8",
   "metadata": {},
   "outputs": [
    {
     "data": {
      "text/html": [
       "<div>\n",
       "<style scoped>\n",
       "    .dataframe tbody tr th:only-of-type {\n",
       "        vertical-align: middle;\n",
       "    }\n",
       "\n",
       "    .dataframe tbody tr th {\n",
       "        vertical-align: top;\n",
       "    }\n",
       "\n",
       "    .dataframe thead th {\n",
       "        text-align: right;\n",
       "    }\n",
       "</style>\n",
       "<table border=\"1\" class=\"dataframe\">\n",
       "  <thead>\n",
       "    <tr style=\"text-align: right;\">\n",
       "      <th></th>\n",
       "      <th>도시</th>\n",
       "      <th>연도</th>\n",
       "      <th>인구</th>\n",
       "      <th>지역</th>\n",
       "    </tr>\n",
       "  </thead>\n",
       "  <tbody>\n",
       "    <tr>\n",
       "      <th>0</th>\n",
       "      <td>서울</td>\n",
       "      <td>2015</td>\n",
       "      <td>9904312</td>\n",
       "      <td>수도권</td>\n",
       "    </tr>\n",
       "    <tr>\n",
       "      <th>1</th>\n",
       "      <td>서울</td>\n",
       "      <td>2010</td>\n",
       "      <td>9631482</td>\n",
       "      <td>수도권</td>\n",
       "    </tr>\n",
       "    <tr>\n",
       "      <th>2</th>\n",
       "      <td>서울</td>\n",
       "      <td>2005</td>\n",
       "      <td>9762546</td>\n",
       "      <td>수도권</td>\n",
       "    </tr>\n",
       "    <tr>\n",
       "      <th>3</th>\n",
       "      <td>부산</td>\n",
       "      <td>2015</td>\n",
       "      <td>3448737</td>\n",
       "      <td>경상권</td>\n",
       "    </tr>\n",
       "    <tr>\n",
       "      <th>4</th>\n",
       "      <td>부산</td>\n",
       "      <td>2010</td>\n",
       "      <td>3393191</td>\n",
       "      <td>경상권</td>\n",
       "    </tr>\n",
       "  </tbody>\n",
       "</table>\n",
       "</div>"
      ],
      "text/plain": [
       "   도시    연도       인구   지역\n",
       "0  서울  2015  9904312  수도권\n",
       "1  서울  2010  9631482  수도권\n",
       "2  서울  2005  9762546  수도권\n",
       "3  부산  2015  3448737  경상권\n",
       "4  부산  2010  3393191  경상권"
      ]
     },
     "execution_count": 101,
     "metadata": {},
     "output_type": "execute_result"
    }
   ],
   "source": [
    "data = {'도시':city, '연도':year, '인구':pop, '지역':region}\n",
    "\n",
    "df = pd.DataFrame(data)\n",
    "\n",
    "df.head()"
   ]
  },
  {
   "cell_type": "code",
   "execution_count": 102,
   "id": "06268c12-9775-4e67-8a7f-f319aa5ea354",
   "metadata": {},
   "outputs": [
    {
     "data": {
      "text/plain": [
       "{'부산': [3, 4, 5], '서울': [0, 1, 2], '인천': [6, 7]}"
      ]
     },
     "execution_count": 102,
     "metadata": {},
     "output_type": "execute_result"
    }
   ],
   "source": [
    "groupby = df.groupby('도시')\n",
    "groupby.groups"
   ]
  },
  {
   "cell_type": "code",
   "execution_count": 104,
   "id": "77d66cd6-fc39-471d-81e2-8489087e847b",
   "metadata": {},
   "outputs": [
    {
     "name": "stdout",
     "output_type": "stream",
     "text": [
      "부산 \n",
      "    도시    연도       인구   지역\n",
      "3  부산  2015  3448737  경상권\n",
      "4  부산  2010  3393191  경상권\n",
      "5  부산  2005  1122454  경상권\n",
      "서울 \n",
      "    도시    연도       인구   지역\n",
      "0  서울  2015  9904312  수도권\n",
      "1  서울  2010  9631482  수도권\n",
      "2  서울  2005  9762546  수도권\n",
      "인천 \n",
      "    도시    연도       인구   지역\n",
      "6  인천  2015  5533343  수도권\n",
      "7  인천  2020  5513651  수도권\n"
     ]
    }
   ],
   "source": [
    "# 반복처리를 통해해 그룹핑 결과 출력\n",
    "for nm, gp in groupby:\n",
    "    print(f'{nm} \\n {gp}')\n",
    "    "
   ]
  },
  {
   "cell_type": "code",
   "execution_count": 109,
   "id": "4c10ad61-b6bc-4af8-82e5-18091d7d7302",
   "metadata": {},
   "outputs": [],
   "source": [
    "pd.set_option('display.float_format','{:.2f}'.format)"
   ]
  },
  {
   "cell_type": "code",
   "execution_count": 119,
   "id": "a9f5c1d4-53b3-4d95-a798-97298c131519",
   "metadata": {},
   "outputs": [
    {
     "data": {
      "text/html": [
       "<div>\n",
       "<style scoped>\n",
       "    .dataframe tbody tr th:only-of-type {\n",
       "        vertical-align: middle;\n",
       "    }\n",
       "\n",
       "    .dataframe tbody tr th {\n",
       "        vertical-align: top;\n",
       "    }\n",
       "\n",
       "    .dataframe thead th {\n",
       "        text-align: right;\n",
       "    }\n",
       "</style>\n",
       "<table border=\"1\" class=\"dataframe\">\n",
       "  <thead>\n",
       "    <tr style=\"text-align: right;\">\n",
       "      <th></th>\n",
       "      <th>연도</th>\n",
       "      <th>인구</th>\n",
       "    </tr>\n",
       "    <tr>\n",
       "      <th>도시</th>\n",
       "      <th></th>\n",
       "      <th></th>\n",
       "    </tr>\n",
       "  </thead>\n",
       "  <tbody>\n",
       "    <tr>\n",
       "      <th>부산</th>\n",
       "      <td>2010.00</td>\n",
       "      <td>2654794.00</td>\n",
       "    </tr>\n",
       "    <tr>\n",
       "      <th>서울</th>\n",
       "      <td>2010.00</td>\n",
       "      <td>9766113.33</td>\n",
       "    </tr>\n",
       "    <tr>\n",
       "      <th>인천</th>\n",
       "      <td>2017.50</td>\n",
       "      <td>5523497.00</td>\n",
       "    </tr>\n",
       "  </tbody>\n",
       "</table>\n",
       "</div>"
      ],
      "text/plain": [
       "        연도         인구\n",
       "도시                   \n",
       "부산 2010.00 2654794.00\n",
       "서울 2010.00 9766113.33\n",
       "인천 2017.50 5523497.00"
      ]
     },
     "execution_count": 119,
     "metadata": {},
     "output_type": "execute_result"
    }
   ],
   "source": [
    "# 그룹핑 결과에 집계함수 적용\n",
    "groupby.agg(np.sum)\n",
    "groupby.agg(np.mean)"
   ]
  },
  {
   "cell_type": "code",
   "execution_count": 111,
   "id": "23f2e2db-5672-46a3-a741-14e53f270006",
   "metadata": {},
   "outputs": [
    {
     "data": {
      "text/html": [
       "<div>\n",
       "<style scoped>\n",
       "    .dataframe tbody tr th:only-of-type {\n",
       "        vertical-align: middle;\n",
       "    }\n",
       "\n",
       "    .dataframe tbody tr th {\n",
       "        vertical-align: top;\n",
       "    }\n",
       "\n",
       "    .dataframe thead th {\n",
       "        text-align: right;\n",
       "    }\n",
       "</style>\n",
       "<table border=\"1\" class=\"dataframe\">\n",
       "  <thead>\n",
       "    <tr style=\"text-align: right;\">\n",
       "      <th></th>\n",
       "      <th>연도</th>\n",
       "      <th>인구</th>\n",
       "    </tr>\n",
       "    <tr>\n",
       "      <th>도시</th>\n",
       "      <th></th>\n",
       "      <th></th>\n",
       "    </tr>\n",
       "  </thead>\n",
       "  <tbody>\n",
       "    <tr>\n",
       "      <th>부산</th>\n",
       "      <td>2010.00</td>\n",
       "      <td>2654794.00</td>\n",
       "    </tr>\n",
       "    <tr>\n",
       "      <th>서울</th>\n",
       "      <td>2010.00</td>\n",
       "      <td>9766113.33</td>\n",
       "    </tr>\n",
       "    <tr>\n",
       "      <th>인천</th>\n",
       "      <td>2017.50</td>\n",
       "      <td>5523497.00</td>\n",
       "    </tr>\n",
       "  </tbody>\n",
       "</table>\n",
       "</div>"
      ],
      "text/plain": [
       "        연도         인구\n",
       "도시                   \n",
       "부산 2010.00 2654794.00\n",
       "서울 2010.00 9766113.33\n",
       "인천 2017.50 5523497.00"
      ]
     },
     "execution_count": 111,
     "metadata": {},
     "output_type": "execute_result"
    }
   ],
   "source": [
    "groupby.sum()\n",
    "groupby.mean()"
   ]
  },
  {
   "cell_type": "code",
   "execution_count": 112,
   "id": "a8d5b67e-f6fd-4303-ad75-6d81d8fdedda",
   "metadata": {},
   "outputs": [
    {
     "data": {
      "text/plain": [
       "도시\n",
       "부산   2654794.00\n",
       "서울   9766113.33\n",
       "인천   5523497.00\n",
       "Name: 인구, dtype: float64"
      ]
     },
     "execution_count": 112,
     "metadata": {},
     "output_type": "execute_result"
    }
   ],
   "source": [
    "groupby['인구'].sum()\n",
    "groupby['인구'].mean()\n",
    "\n"
   ]
  },
  {
   "cell_type": "code",
   "execution_count": 128,
   "id": "ccf04419-02b0-412e-9797-ebd8f295e833",
   "metadata": {},
   "outputs": [
    {
     "data": {
      "text/html": [
       "<style type=\"text/css\">\n",
       "</style>\n",
       "<table id=\"T_2f84a_\">\n",
       "  <thead>\n",
       "    <tr>\n",
       "      <th class=\"blank level0\" >&nbsp;</th>\n",
       "      <th class=\"col_heading level0 col0\" >인구</th>\n",
       "    </tr>\n",
       "    <tr>\n",
       "      <th class=\"index_name level0\" >연도</th>\n",
       "      <th class=\"blank col0\" >&nbsp;</th>\n",
       "    </tr>\n",
       "  </thead>\n",
       "  <tbody>\n",
       "    <tr>\n",
       "      <th id=\"T_2f84a_level0_row0\" class=\"row_heading level0 row0\" >2005</th>\n",
       "      <td id=\"T_2f84a_row0_col0\" class=\"data row0 col0\" >10,885,000</td>\n",
       "    </tr>\n",
       "    <tr>\n",
       "      <th id=\"T_2f84a_level0_row1\" class=\"row_heading level0 row1\" >2010</th>\n",
       "      <td id=\"T_2f84a_row1_col0\" class=\"data row1 col0\" >13,024,673</td>\n",
       "    </tr>\n",
       "    <tr>\n",
       "      <th id=\"T_2f84a_level0_row2\" class=\"row_heading level0 row2\" >2015</th>\n",
       "      <td id=\"T_2f84a_row2_col0\" class=\"data row2 col0\" >18,886,392</td>\n",
       "    </tr>\n",
       "    <tr>\n",
       "      <th id=\"T_2f84a_level0_row3\" class=\"row_heading level0 row3\" >2020</th>\n",
       "      <td id=\"T_2f84a_row3_col0\" class=\"data row3 col0\" >5,513,651</td>\n",
       "    </tr>\n",
       "  </tbody>\n",
       "</table>\n"
      ],
      "text/plain": [
       "<pandas.io.formats.style.Styler at 0x7f1e6d0c9c10>"
      ]
     },
     "execution_count": 128,
     "metadata": {},
     "output_type": "execute_result"
    }
   ],
   "source": [
    "# 년도별 총 인구수\n",
    "df.groupby('연도').sum().style.format('{:,}')"
   ]
  },
  {
   "cell_type": "code",
   "execution_count": 131,
   "id": "5b43ee8f-6410-4f52-a7de-f10a1d2a9e68",
   "metadata": {},
   "outputs": [
    {
     "data": {
      "text/html": [
       "<style type=\"text/css\">\n",
       "</style>\n",
       "<table id=\"T_534d9_\">\n",
       "  <thead>\n",
       "    <tr>\n",
       "      <th class=\"blank\" >&nbsp;</th>\n",
       "      <th class=\"blank level0\" >&nbsp;</th>\n",
       "      <th class=\"col_heading level0 col0\" >인구</th>\n",
       "    </tr>\n",
       "    <tr>\n",
       "      <th class=\"index_name level0\" >지역</th>\n",
       "      <th class=\"index_name level1\" >연도</th>\n",
       "      <th class=\"blank col0\" >&nbsp;</th>\n",
       "    </tr>\n",
       "  </thead>\n",
       "  <tbody>\n",
       "    <tr>\n",
       "      <th id=\"T_534d9_level0_row0\" class=\"row_heading level0 row0\" rowspan=\"3\">경상권</th>\n",
       "      <th id=\"T_534d9_level1_row0\" class=\"row_heading level1 row0\" >2005</th>\n",
       "      <td id=\"T_534d9_row0_col0\" class=\"data row0 col0\" >1,122,454</td>\n",
       "    </tr>\n",
       "    <tr>\n",
       "      <th id=\"T_534d9_level1_row1\" class=\"row_heading level1 row1\" >2010</th>\n",
       "      <td id=\"T_534d9_row1_col0\" class=\"data row1 col0\" >3,393,191</td>\n",
       "    </tr>\n",
       "    <tr>\n",
       "      <th id=\"T_534d9_level1_row2\" class=\"row_heading level1 row2\" >2015</th>\n",
       "      <td id=\"T_534d9_row2_col0\" class=\"data row2 col0\" >3,448,737</td>\n",
       "    </tr>\n",
       "    <tr>\n",
       "      <th id=\"T_534d9_level0_row3\" class=\"row_heading level0 row3\" rowspan=\"4\">수도권</th>\n",
       "      <th id=\"T_534d9_level1_row3\" class=\"row_heading level1 row3\" >2005</th>\n",
       "      <td id=\"T_534d9_row3_col0\" class=\"data row3 col0\" >9,762,546</td>\n",
       "    </tr>\n",
       "    <tr>\n",
       "      <th id=\"T_534d9_level1_row4\" class=\"row_heading level1 row4\" >2010</th>\n",
       "      <td id=\"T_534d9_row4_col0\" class=\"data row4 col0\" >9,631,482</td>\n",
       "    </tr>\n",
       "    <tr>\n",
       "      <th id=\"T_534d9_level1_row5\" class=\"row_heading level1 row5\" >2015</th>\n",
       "      <td id=\"T_534d9_row5_col0\" class=\"data row5 col0\" >15,437,655</td>\n",
       "    </tr>\n",
       "    <tr>\n",
       "      <th id=\"T_534d9_level1_row6\" class=\"row_heading level1 row6\" >2020</th>\n",
       "      <td id=\"T_534d9_row6_col0\" class=\"data row6 col0\" >5,513,651</td>\n",
       "    </tr>\n",
       "  </tbody>\n",
       "</table>\n"
      ],
      "text/plain": [
       "<pandas.io.formats.style.Styler at 0x7f1e3e617c10>"
      ]
     },
     "execution_count": 131,
     "metadata": {},
     "output_type": "execute_result"
    }
   ],
   "source": [
    "# 지역별 연도별 총 인구수\n",
    "df.groupby(['지역','연도']).sum().style.format('{:,}')"
   ]
  },
  {
   "cell_type": "markdown",
   "id": "2e394eac-9373-4808-81e4-ebd2f4e82057",
   "metadata": {},
   "source": [
    "### 미국 질병통제센터에서 수집한 연도별 신생아 성별 출생수 데이터\n",
    "* 1969 ~ 2008\n"
   ]
  },
  {
   "cell_type": "code",
   "execution_count": 134,
   "id": "189cdca6-d5d5-4ba8-8ea3-a3bb6d5838a2",
   "metadata": {},
   "outputs": [
    {
     "data": {
      "text/html": [
       "<div>\n",
       "<style scoped>\n",
       "    .dataframe tbody tr th:only-of-type {\n",
       "        vertical-align: middle;\n",
       "    }\n",
       "\n",
       "    .dataframe tbody tr th {\n",
       "        vertical-align: top;\n",
       "    }\n",
       "\n",
       "    .dataframe thead th {\n",
       "        text-align: right;\n",
       "    }\n",
       "</style>\n",
       "<table border=\"1\" class=\"dataframe\">\n",
       "  <thead>\n",
       "    <tr style=\"text-align: right;\">\n",
       "      <th></th>\n",
       "      <th>year</th>\n",
       "      <th>month</th>\n",
       "      <th>day</th>\n",
       "      <th>gender</th>\n",
       "      <th>births</th>\n",
       "    </tr>\n",
       "  </thead>\n",
       "  <tbody>\n",
       "    <tr>\n",
       "      <th>15542</th>\n",
       "      <td>2008</td>\n",
       "      <td>10</td>\n",
       "      <td>NaN</td>\n",
       "      <td>M</td>\n",
       "      <td>183219</td>\n",
       "    </tr>\n",
       "    <tr>\n",
       "      <th>15543</th>\n",
       "      <td>2008</td>\n",
       "      <td>11</td>\n",
       "      <td>NaN</td>\n",
       "      <td>F</td>\n",
       "      <td>158939</td>\n",
       "    </tr>\n",
       "    <tr>\n",
       "      <th>15544</th>\n",
       "      <td>2008</td>\n",
       "      <td>11</td>\n",
       "      <td>NaN</td>\n",
       "      <td>M</td>\n",
       "      <td>165468</td>\n",
       "    </tr>\n",
       "    <tr>\n",
       "      <th>15545</th>\n",
       "      <td>2008</td>\n",
       "      <td>12</td>\n",
       "      <td>NaN</td>\n",
       "      <td>F</td>\n",
       "      <td>173215</td>\n",
       "    </tr>\n",
       "    <tr>\n",
       "      <th>15546</th>\n",
       "      <td>2008</td>\n",
       "      <td>12</td>\n",
       "      <td>NaN</td>\n",
       "      <td>M</td>\n",
       "      <td>181235</td>\n",
       "    </tr>\n",
       "  </tbody>\n",
       "</table>\n",
       "</div>"
      ],
      "text/plain": [
       "       year  month  day gender  births\n",
       "15542  2008     10  NaN      M  183219\n",
       "15543  2008     11  NaN      F  158939\n",
       "15544  2008     11  NaN      M  165468\n",
       "15545  2008     12  NaN      F  173215\n",
       "15546  2008     12  NaN      M  181235"
      ]
     },
     "execution_count": 134,
     "metadata": {},
     "output_type": "execute_result"
    }
   ],
   "source": [
    "births = pd.read_csv('csv/births.csv')\n",
    "\n",
    "births.head()\n",
    "births.tail()"
   ]
  },
  {
   "cell_type": "code",
   "execution_count": 145,
   "id": "ca0e1070-a8a9-4d62-aca9-70bdef38e66e",
   "metadata": {},
   "outputs": [
    {
     "data": {
      "text/plain": [
       "year\n",
       "1969    3,600,206명\n",
       "1970    3,737,800명\n",
       "1971    3,563,548명\n",
       "1972    3,266,235명\n",
       "1973    3,146,125명\n",
       "1974    3,170,631명\n",
       "1975    3,153,556명\n",
       "1976    3,176,476명\n",
       "1977    3,332,159명\n",
       "1978    3,338,300명\n",
       "1979    3,499,795명\n",
       "1980    3,617,981명\n",
       "1981    3,635,515명\n",
       "1982    3,685,457명\n",
       "1983    3,642,821명\n",
       "1984    3,673,568명\n",
       "1985    3,765,064명\n",
       "1986    3,760,695명\n",
       "1987    3,813,216명\n",
       "1988    3,913,793명\n",
       "1989    4,045,693명\n",
       "1990    4,162,917명\n",
       "1991    4,115,342명\n",
       "1992    4,069,428명\n",
       "1993    4,004,523명\n",
       "1994    3,956,925명\n",
       "1995    3,903,012명\n",
       "1996    3,894,874명\n",
       "1997    3,884,329명\n",
       "1998    3,945,192명\n",
       "1999    3,963,465명\n",
       "2000    4,063,823명\n",
       "2001    4,031,531명\n",
       "2002    4,027,376명\n",
       "2003    4,096,092명\n",
       "2004    4,118,907명\n",
       "2005    4,145,619명\n",
       "2006    4,273,225명\n",
       "2007    4,324,008명\n",
       "2008    4,255,156명\n",
       "Name: births, dtype: object"
      ]
     },
     "execution_count": 145,
     "metadata": {},
     "output_type": "execute_result"
    }
   ],
   "source": [
    "# 연도별 출생수  :: Series로 구성되잇을때 format 법\n",
    "births.groupby('year')['births'].sum().map('{:,}명'.format)"
   ]
  },
  {
   "cell_type": "code",
   "execution_count": 147,
   "id": "337e5d13-d7e9-4539-b975-e4bb764be1a4",
   "metadata": {},
   "outputs": [
    {
     "data": {
      "text/plain": [
       "month\n",
       "1     12,364,197명\n",
       "2     11,541,178명\n",
       "3     12,678,844명\n",
       "4     12,085,891명\n",
       "5     12,624,972명\n",
       "6     12,521,070명\n",
       "7     13,367,556명\n",
       "8     13,528,007명\n",
       "9     13,252,831명\n",
       "10    12,954,950명\n",
       "11    12,197,967명\n",
       "12    12,656,915명\n",
       "Name: births, dtype: object"
      ]
     },
     "execution_count": 147,
     "metadata": {},
     "output_type": "execute_result"
    }
   ],
   "source": [
    "# 월별 출생수는?\n",
    "births.groupby('month')['births'].sum().map('{:,}명'.format)"
   ]
  },
  {
   "cell_type": "code",
   "execution_count": 155,
   "id": "4266e0a1-b4c6-4437-8b8d-831f181330d3",
   "metadata": {},
   "outputs": [
    {
     "data": {
      "text/plain": [
       "month\n",
       "1     293940\n",
       "2     270786\n",
       "3     296550\n",
       "4     282638\n",
       "5     289124\n",
       "6     291610\n",
       "7     318356\n",
       "8     321034\n",
       "9     312620\n",
       "10    311972\n",
       "11    297054\n",
       "12    314522\n",
       "Name: births, dtype: int64"
      ]
     },
     "execution_count": 155,
     "metadata": {},
     "output_type": "execute_result"
    }
   ],
   "source": [
    "# 1969년의 월별 출생수는\n",
    "search = births.year == 1969\n",
    "b1969 = births[search]\n",
    "\n",
    "b1969.head()\n",
    "b1969.groupby('month')['births'].sum()"
   ]
  },
  {
   "cell_type": "code",
   "execution_count": 156,
   "id": "fbee4ab1-c547-44af-a38f-110280a0acd3",
   "metadata": {},
   "outputs": [
    {
     "data": {
      "text/plain": [
       "gender\n",
       "F    74035823\n",
       "M    77738555\n",
       "Name: births, dtype: int64"
      ]
     },
     "execution_count": 156,
     "metadata": {},
     "output_type": "execute_result"
    }
   ],
   "source": [
    "births.groupby('gender')['births'].sum()"
   ]
  },
  {
   "cell_type": "code",
   "execution_count": 158,
   "id": "199e5c6c-5cfc-4e46-81c0-f80edba4154c",
   "metadata": {},
   "outputs": [
    {
     "data": {
      "text/plain": [
       "year  gender\n",
       "1969  F         1753634\n",
       "      M         1846572\n",
       "1970  F         1819164\n",
       "      M         1918636\n",
       "1971  F         1736774\n",
       "                 ...   \n",
       "2006  M         2188268\n",
       "2007  F         2111890\n",
       "      M         2212118\n",
       "2008  F         2077929\n",
       "      M         2177227\n",
       "Name: births, Length: 80, dtype: int64"
      ]
     },
     "execution_count": 158,
     "metadata": {},
     "output_type": "execute_result"
    }
   ],
   "source": [
    "# 연도별 성별 출생수 \n",
    "births.groupby(['year', 'gender'])['births'].sum()"
   ]
  },
  {
   "cell_type": "code",
   "execution_count": null,
   "id": "b5589489-a92f-44c8-a1f6-b1f9e0ed0675",
   "metadata": {},
   "outputs": [],
   "source": []
  },
  {
   "cell_type": "code",
   "execution_count": null,
   "id": "13e51c92-fedd-49bf-a163-d8d1411033b8",
   "metadata": {},
   "outputs": [],
   "source": []
  },
  {
   "cell_type": "code",
   "execution_count": null,
   "id": "a45412f9-b0d7-4779-9e9b-5bdaf5272bf5",
   "metadata": {},
   "outputs": [],
   "source": []
  },
  {
   "cell_type": "code",
   "execution_count": null,
   "id": "1e1844b0-36f9-4c35-bab4-ac680002ed1f",
   "metadata": {},
   "outputs": [],
   "source": []
  },
  {
   "cell_type": "code",
   "execution_count": null,
   "id": "4b399b1d-086d-4322-8407-ca984bc3da19",
   "metadata": {},
   "outputs": [],
   "source": []
  },
  {
   "cell_type": "code",
   "execution_count": null,
   "id": "171d2352-abc0-4c13-a51a-60c71cdf070d",
   "metadata": {},
   "outputs": [],
   "source": []
  }
 ],
 "metadata": {
  "kernelspec": {
   "display_name": "Python 3 (ipykernel)",
   "language": "python",
   "name": "python3"
  },
  "language_info": {
   "codemirror_mode": {
    "name": "ipython",
    "version": 3
   },
   "file_extension": ".py",
   "mimetype": "text/x-python",
   "name": "python",
   "nbconvert_exporter": "python",
   "pygments_lexer": "ipython3",
   "version": "3.7.10"
  }
 },
 "nbformat": 4,
 "nbformat_minor": 5
}
