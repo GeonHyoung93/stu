{
 "cells": [
  {
   "cell_type": "markdown",
   "id": "8cc0ce58-80a8-4eaa-a999-dad18ad46e75",
   "metadata": {},
   "source": [
    "## 선형회귀분석 오류 \n",
    "* 곤충질량(g)에 따라 암수구분하는 모델 생성\n",
    "* 0 : 암, 1 : 수\n",
    "\n"
   ]
  },
  {
   "cell_type": "code",
   "execution_count": 6,
   "id": "b6f1fe9a-4dab-489c-9d05-87630268c403",
   "metadata": {},
   "outputs": [],
   "source": [
    "X = wght = [1.94,1.67,0.92,1.11,1.41,1.65,2.28,0.47,1.07,2.19,2.08,1.02,0.91,1.16,1.46,1.02,0.85,0.89,1.79,1.89,0.75,0.9,1.87,0.5,0.69,1.5,0.96,0.53,1.21,0.6]\n",
    "y = spcs = [1,1,0,0,1,1,1,0,0,1,1,0,0,0,1,0,0,0,1,1,0,1,1,0,0,1,1,0,1,0]"
   ]
  },
  {
   "cell_type": "code",
   "execution_count": 13,
   "id": "3cc05772-0930-48b2-bb7a-738e30802f33",
   "metadata": {},
   "outputs": [],
   "source": [
    "import numpy as np\n",
    "import pandas as pd\n",
    "import matplotlib.pyplot as plt\n",
    "import warnings\n",
    "warnings.filterwarnings(action='ignore')\n",
    "\n",
    "from sklearn.linear_model import LinearRegression\n",
    "from sklearn.model_selection import train_test_split\n",
    "from sklearn.metrics import mean_squared_error\n",
    "from sklearn.metrics import r2_score"
   ]
  },
  {
   "cell_type": "code",
   "execution_count": 17,
   "id": "b521c35d-8251-468f-8cfe-6dde82338aa1",
   "metadata": {},
   "outputs": [
    {
     "data": {
      "text/plain": [
       "[<matplotlib.lines.Line2D at 0x7f01589cdb10>]"
      ]
     },
     "execution_count": 17,
     "metadata": {},
     "output_type": "execute_result"
    },
    {
     "data": {
      "image/png": "[encoded data removed]",
      "text/plain": [
       "<Figure size 432x288 with 1 Axes>"
      ]
     },
     "metadata": {
      "needs_background": "light"
     },
     "output_type": "display_data"
    }
   ],
   "source": [
    "# 시각화\n",
    "plt.plot(X,y, 'bo')"
   ]
  },
  {
   "cell_type": "code",
   "execution_count": 10,
   "id": "63c62c5d-94f8-46de-89dc-febeb238525a",
   "metadata": {},
   "outputs": [],
   "source": [
    "# 단순 선형 회귀 실시해보자\n",
    "X = np.array(X).reshape(-1,1)\n",
    "lrclf = LinearRegression()\n",
    "lrclf.fit(X,y)\n",
    "pred = lrclf.predict(X)"
   ]
  },
  {
   "cell_type": "code",
   "execution_count": 11,
   "id": "61e030e6-e4d1-4501-8a29-11434e0c5f65",
   "metadata": {},
   "outputs": [
    {
     "name": "stdout",
     "output_type": "stream",
     "text": [
      "[0.74825276] -0.43007818056050295\n"
     ]
    }
   ],
   "source": [
    "# 선형모델 계수\n",
    "a = lrclf.coef_\n",
    "b = lrclf.intercept_   # 절편\n",
    "\n",
    "print(a,b)         # 9.1  -34.67"
   ]
  },
  {
   "cell_type": "code",
   "execution_count": 14,
   "id": "4db63fff-037f-4baf-8ba3-789c4b394ec3",
   "metadata": {},
   "outputs": [
    {
     "name": "stdout",
     "output_type": "stream",
     "text": [
      "0.3106178929591639 0.6140660982944375\n"
     ]
    }
   ],
   "source": [
    "# 모델 성능 평가\n",
    "rmse = np.sqrt(mean_squared_error(y,pred))\n",
    "r2 = r2_score(y,pred)\n",
    "print(rmse, r2)      # 6.6  0.48"
   ]
  },
  {
   "cell_type": "code",
   "execution_count": 22,
   "id": "34d88660-efbf-4114-aa07-fecae9d12010",
   "metadata": {},
   "outputs": [
    {
     "data": {
      "text/plain": [
       "[<matplotlib.lines.Line2D at 0x7f01587f7850>]"
      ]
     },
     "execution_count": 22,
     "metadata": {},
     "output_type": "execute_result"
    },
    {
     "data": {
      "image/png": "[encoded data removed]",
      "text/plain": [
       "<Figure size 432x288 with 1 Axes>"
      ]
     },
     "metadata": {
      "needs_background": "light"
     },
     "output_type": "display_data"
    }
   ],
   "source": [
    "# 회귀선 시각화\n",
    "z = lrclf.predict(X)\n",
    "plt.plot(X,y, 'bo')\n",
    "plt.plot(X,z, 'r-')"
   ]
  },
  {
   "cell_type": "code",
   "execution_count": null,
   "id": "9cbe8977-fe54-477b-8234-791571357397",
   "metadata": {},
   "outputs": [],
   "source": []
  },
  {
   "cell_type": "code",
   "execution_count": null,
   "id": "b0c30016-bc34-44ac-892f-5870f7714944",
   "metadata": {},
   "outputs": [],
   "source": []
  },
  {
   "cell_type": "code",
   "execution_count": null,
   "id": "e7f9747f-1b2d-474a-98e6-68483a2a994e",
   "metadata": {},
   "outputs": [],
   "source": []
  },
  {
   "cell_type": "code",
   "execution_count": 44,
   "id": "500232cd-ebc9-441b-a141-fda24434c9db",
   "metadata": {},
   "outputs": [],
   "source": [
    "wght = [1.94,1.67,0.92,1.11,1.41,1.65,2.28,0.47,1.07,2.19,2.08,1.02,0.91,1.16,1.46,1.02,0.85,0.89,1.79,1.89,0.75,0.9,1.87,0.5,0.69,1.5,0.96,0.53,1.21,0.6]\n",
    "spcs = [1,1,0,0,1,1,1,0,0,1,1,0,0,0,1,0,0,0,1,1,0,1,1,0,0,1,1,0,1,0]"
   ]
  },
  {
   "cell_type": "code",
   "execution_count": 20,
   "id": "5caeee27-b321-4fde-8b81-6e6475e8810e",
   "metadata": {},
   "outputs": [
    {
     "data": {
      "text/plain": [
       "(array([0.74825276]), -0.43007818056050295)"
      ]
     },
     "execution_count": 20,
     "metadata": {},
     "output_type": "execute_result"
    }
   ],
   "source": [
    "# 선형회귀 분석\n",
    "lr = LinearRegression()\n",
    "lr.fit(np.array(wght).reshape(-1,1),spcs)\n",
    "\n",
    "lr.coef_, lr.intercept_"
   ]
  },
  {
   "cell_type": "code",
   "execution_count": 27,
   "id": "4ab7463a-a203-4574-87db-8b43a1a25f6b",
   "metadata": {},
   "outputs": [
    {
     "data": {
      "text/plain": [
       "0.6140660982944375"
      ]
     },
     "execution_count": 27,
     "metadata": {},
     "output_type": "execute_result"
    }
   ],
   "source": [
    "pred = lr.predict(np.array(wght).reshape(-1,1))\n",
    "r2_score(spcs,pred)  # 결정계수 값"
   ]
  },
  {
   "cell_type": "code",
   "execution_count": 28,
   "id": "d421c7d3-dcee-446b-be20-7ddd521bff2c",
   "metadata": {},
   "outputs": [
    {
     "data": {
      "text/plain": [
       "[<matplotlib.lines.Line2D at 0x7f01586a25d0>]"
      ]
     },
     "execution_count": 28,
     "metadata": {},
     "output_type": "execute_result"
    },
    {
     "data": {
      "image/png": "[encoded data removed]",
      "text/plain": [
       "<Figure size 432x288 with 1 Axes>"
      ]
     },
     "metadata": {
      "needs_background": "light"
     },
     "output_type": "display_data"
    }
   ],
   "source": [
    "plt.plot(wght, spcs, 'bo')\n",
    "plt.plot(wght,z,'r-')   # 0.61"
   ]
  },
  {
   "cell_type": "markdown",
   "id": "ca43e8a5-6a9d-42dc-b0a7-5767bfdc20a6",
   "metadata": {},
   "source": [
    "## 종속변수가 범주형인 경우\n",
    "* 선형방정식은 이항분보를 따르는 데이터에 적용하기에 다소 맞지 않는다.\n",
    "    + $ y = ax + b $\n",
    "* 즉, 우변값의 범위는 ' -무한대~ +무한대 '이지만, 좌변값의 범위는 '0~1' 이다.\n",
    "* 따라서, 좌변값의 범위를 우변과 동일하게 '-무한대~+무한대'로 하려면 적절한 변환함수가 필요\n",
    "    + 로짓함수를 이용해서 변환함\n",
    "    + ### $ f(x) = \\frac {1} {1 + e^2{-x}} $"
   ]
  },
  {
   "cell_type": "code",
   "execution_count": 46,
   "id": "4f49e98a-f420-475b-85b1-33d540f1f782",
   "metadata": {},
   "outputs": [],
   "source": [
    "# 로짓함수 정의\n",
    "def logistic(x, w):\n",
    "    yy = 1 / (1 + np.exp(-(w[0]*x + w[1])))\n",
    "    return yy"
   ]
  },
  {
   "cell_type": "code",
   "execution_count": 77,
   "id": "e2bb8047-a9ba-455f-8555-55a9a5e301c3",
   "metadata": {},
   "outputs": [],
   "source": [
    "# 로짓함수를 이용해서 다시 그래프를 그림\n",
    "W = [8, -10]  # 기울기와 절편을 임의로 지정\n",
    "xx = np.linspace(0.5, 2.25, 50)  # 0.5~2.25내 50 개 값 생성 \n",
    "yy = logistic(xx, W)"
   ]
  },
  {
   "cell_type": "code",
   "execution_count": 78,
   "id": "37d44ae7-9b81-4c73-b654-15fcb7812c20",
   "metadata": {},
   "outputs": [
    {
     "data": {
      "text/plain": [
       "[<matplotlib.lines.Line2D at 0x7f0156fccd10>]"
      ]
     },
     "execution_count": 78,
     "metadata": {},
     "output_type": "execute_result"
    },
    {
     "data": {
      "image/png": "[encoded data removed]",
      "text/plain": [
       "<Figure size 432x288 with 1 Axes>"
      ]
     },
     "metadata": {
      "needs_background": "light"
     },
     "output_type": "display_data"
    }
   ],
   "source": [
    "plt.plot(wght,spcs,'bo')\n",
    "plt.plot(xx.reshape(-1,1), yy, 'r-')"
   ]
  },
  {
   "cell_type": "code",
   "execution_count": 79,
   "id": "057a628d-6a27-4238-b1ae-9ba69781f313",
   "metadata": {},
   "outputs": [
    {
     "data": {
      "text/plain": [
       "[<matplotlib.lines.Line2D at 0x7f01571f89d0>]"
      ]
     },
     "execution_count": 79,
     "metadata": {},
     "output_type": "execute_result"
    },
    {
     "data": {
      "image/png": "[encoded data removed]",
      "text/plain": [
       "<Figure size 432x288 with 1 Axes>"
      ]
     },
     "metadata": {
      "needs_background": "light"
     },
     "output_type": "display_data"
    }
   ],
   "source": [
    "# 결정경계 표시 (yy가 0.5이상 되는 지점 확인)\n",
    "plt.scatter(pd.Series(wght),pd.Series(spcs), c=spcs)\n",
    "plt.plot(xx,yy,'r-')\n",
    "\n",
    "i = np.min(np.where(yy >= 0.5))\n",
    "xp = (xx[i])\n",
    "plt.plot([xp,xp], [-.5,1.5], 'g--')"
   ]
  },
  {
   "cell_type": "code",
   "execution_count": 94,
   "id": "708204fc-3a91-4bcf-a477-d39c1da6a305",
   "metadata": {},
   "outputs": [
    {
     "name": "stdout",
     "output_type": "stream",
     "text": [
      "임계값 [1.07142857]\n"
     ]
    },
    {
     "data": {
      "image/png": "[encoded data removed]",
      "text/plain": [
       "<Figure size 432x288 with 1 Axes>"
      ]
     },
     "metadata": {
      "needs_background": "light"
     },
     "output_type": "display_data"
    }
   ],
   "source": [
    "# sklearn에서 제공하는 LogisticRegression으로 분석\n",
    "from sklearn.linear_model import LogisticRegression\n",
    "from sklearn.metrics import accuracy_score\n",
    "\n",
    "X = np.array(wght).reshape(-1,1)\n",
    "y = spcs\n",
    "\n",
    "# solver : sklearn 20.x 이상부터는 명시적 지정 필요 \n",
    "# liblinear : 이항회귀, 비교적 작은 데이터셋에 적합\n",
    "# lbfgs, newton-cg : 다항 회귀, L1제약\n",
    "# sag, saga : 다항회귀, L2제약, 확률적경사하강법 적용\n",
    "\n",
    "# multi_class  = 'multinomial'  # 다항회귀 설정\n",
    "lrclf = LogisticRegression(solver='liblinear')\n",
    "lrclf.fit(X,y)\n",
    "pred = lrclf.predict(X)\n",
    "\n",
    "accuracy_score(y,pred) # 0.9\n",
    "\n",
    "plt.scatter(X,y,c=y)\n",
    "\n",
    "xx = np.linspace(0.5, 2.25, 50).reshape(-1,1)\n",
    "yy = lrclf.predict_proba(xx)     # 0.1일 확률\n",
    "plt.plot(xx, yy[:,1],'r--')\n",
    "\n",
    "i = np.min(np.where(yy[:, 1] >= 0.5))\n",
    "xp = xx[i]\n",
    "plt.plot([xp,xp], [-.5, 1.5], 'g--')\n",
    "print('임계값', xp)"
   ]
  },
  {
   "cell_type": "code",
   "execution_count": 90,
   "id": "81eb2f1c-ae8c-42b1-8972-78e3aa805512",
   "metadata": {},
   "outputs": [],
   "source": [
    "# xx = np.linspace(0.5, 2.25, 50).reshape(-1,1)\n",
    "# yy = lrclf.predict_proba(xx)\n",
    "# plt.plot(xx, yy[:, 1],'r-')\n",
    "\n",
    "# i = np.min(np.where(yy[:, 1] >= 0.5))\n",
    "# xp = xx[i]\n",
    "# plt.plot([xp,xp], [-.5, 1.5], 'r-')\n",
    "# print('임계값', xp)"
   ]
  },
  {
   "cell_type": "code",
   "execution_count": null,
   "id": "e1b6edbe-1a65-4e83-89f1-f8e6b2039747",
   "metadata": {},
   "outputs": [],
   "source": []
  },
  {
   "cell_type": "markdown",
   "id": "f02141cf-d74f-4f91-b7f5-71cb9fe468f2",
   "metadata": {},
   "source": [
    "## iris 데이터셋을 이용한 로지스틱 회귀\n",
    "* 4+1 변수, 150개 데이터로 구성 \n",
    "* 결과값은 3가지 : setosa, versicolor, verginica"
   ]
  },
  {
   "cell_type": "code",
   "execution_count": 105,
   "id": "7682746e-2aa6-488f-a698-983dc9d601fb",
   "metadata": {},
   "outputs": [
    {
     "data": {
      "text/plain": [
       "0.8444444444444444"
      ]
     },
     "execution_count": 105,
     "metadata": {},
     "output_type": "execute_result"
    }
   ],
   "source": [
    "# 꽃잎너비, 레이블이 verginica인 경우에 대한 경계값 알아보기\n",
    "from sklearn.datasets import load_iris\n",
    "from sklearn.model_selection import train_test_split\n",
    "iris = load_iris()\n",
    "\n",
    "Xtrain, Xtest, ytrain, ytest = train_test_split(iris.data,iris.target, test_size = 0.3, stratify=iris.target, random_state=2111091510)\n",
    "\n",
    "lrclf = LogisticRegression(solver='sag', multi_class='multinomial', C = 0.01)\n",
    "\n",
    "lrclf.fit(Xtrain, ytrain)\n",
    "pred = lrclf.predict(Xtest)\n",
    "\n",
    "accuracy_score(ytest, pred)  # 0.84\n"
   ]
  },
  {
   "cell_type": "code",
   "execution_count": 107,
   "id": "4b8053c6-ed13-4a2d-a85f-06fa153e8afe",
   "metadata": {},
   "outputs": [
    {
     "data": {
      "text/plain": [
       "array([0, 0, 0, 0, 0], dtype=int32)"
      ]
     },
     "execution_count": 107,
     "metadata": {},
     "output_type": "execute_result"
    }
   ],
   "source": [
    "X = iris.data[:, 3]  # petal width\n",
    "y = (iris.target == 2).astype(np.int32)\n",
    "\n",
    "np.min(X), np.max(X)\n",
    "\n",
    "y[:5]"
   ]
  },
  {
   "cell_type": "code",
   "execution_count": 110,
   "id": "9908f21f-a769-4800-be75-3dd2046d453d",
   "metadata": {},
   "outputs": [
    {
     "data": {
      "text/plain": [
       "LogisticRegression(solver='liblinear')"
      ]
     },
     "execution_count": 110,
     "metadata": {},
     "output_type": "execute_result"
    }
   ],
   "source": [
    "lrclf = LogisticRegression(solver='liblinear')\n",
    "lrclf.fit(X.reshape(-1,1), y)"
   ]
  },
  {
   "cell_type": "code",
   "execution_count": 114,
   "id": "76546de4-6601-4c5f-aa58-35d265f7bd4a",
   "metadata": {},
   "outputs": [
    {
     "data": {
      "text/plain": [
       "[<matplotlib.lines.Line2D at 0x7f015725cf10>]"
      ]
     },
     "execution_count": 114,
     "metadata": {},
     "output_type": "execute_result"
    },
    {
     "data": {
      "image/png": "[encoded data removed]",
      "text/plain": [
       "<Figure size 432x288 with 1 Axes>"
      ]
     },
     "metadata": {
      "needs_background": "light"
     },
     "output_type": "display_data"
    }
   ],
   "source": [
    "plt.scatter(X,y,c=y)\n",
    "\n",
    "xx = np.linspace(0,2.5, 100).reshape(-1,1)\n",
    "yy = lrclf.predict_proba(xx)\n",
    "plt.plot(xx, yy[:,1], 'r')\n"
   ]
  },
  {
   "cell_type": "code",
   "execution_count": 117,
   "id": "522deee4-8af6-47b4-bc18-2214226acadc",
   "metadata": {},
   "outputs": [
    {
     "name": "stdout",
     "output_type": "stream",
     "text": [
      "임계값 [1.61616162]\n"
     ]
    },
    {
     "data": {
      "image/png": "[encoded data removed]",
      "text/plain": [
       "<Figure size 432x288 with 1 Axes>"
      ]
     },
     "metadata": {
      "needs_background": "light"
     },
     "output_type": "display_data"
    }
   ],
   "source": [
    "# 임계값 확인\n",
    "plt.scatter(X,y,c=y)\n",
    "\n",
    "xx = np.linspace(0,2.5, 100).reshape(-1,1)\n",
    "yy = lrclf.predict_proba(xx)\n",
    "plt.plot(xx, yy[:,1], 'r')\n",
    "\n",
    "\n",
    "i = np.min(np.where(yy[:, 1] >= 0.5))\n",
    "xp = xx[i]\n",
    "plt.plot([xp,xp], [-.5, 1.5], 'g--')\n",
    "print('임계값', xp)"
   ]
  },
  {
   "cell_type": "markdown",
   "id": "b891a9ed-9350-4552-9dde-476af0922d75",
   "metadata": {},
   "source": [
    "## 결정경계 시각화\n",
    "* iris의 feature를 2개로 나눠 재학습\n"
   ]
  },
  {
   "cell_type": "code",
   "execution_count": 119,
   "id": "cde68a34-8d0d-41b3-b6d2-891cbf32c699",
   "metadata": {},
   "outputs": [
    {
     "name": "stdout",
     "output_type": "stream",
     "text": [
      "0.82\n"
     ]
    }
   ],
   "source": [
    "# 시각화를 위해 두 변수만 지정\n",
    "data = iris.data[:, :2] # Sepal 속성만\n",
    "# data = iris.data[:,2:] # petal 속성만\n",
    "\n",
    "target = iris.target\n",
    "\n",
    "# 분석시작\n",
    "lrclf = LogisticRegression(solver='lbfgs')\n",
    "lrclf.fit(data, target)\n",
    "print(lrclf.score(data, target))  # 훈련 정확도"
   ]
  },
  {
   "cell_type": "code",
   "execution_count": 147,
   "id": "d74ac24c-2c00-490b-a5e1-9040c1c2ef5b",
   "metadata": {},
   "outputs": [],
   "source": [
    "# pcolormesh 함수 사용시 필요하다!\n",
    "plt.rcParams['pcolor.shading'] = 'nearest'"
   ]
  },
  {
   "cell_type": "code",
   "execution_count": 120,
   "id": "7841d9a4-6d6f-4934-b134-4d42318551ef",
   "metadata": {},
   "outputs": [],
   "source": [
    "# 다항 로지스틱 결정경계 시각화\n",
    "x_min = data[:,0].min() - 0.5 # x축 최대/최소\n",
    "x_max = data[:,0].max() + 0.5\n",
    "\n",
    "y_min = data[:,1].min() - 0.5 # y축 최대/최소\n",
    "y_max = data[:,1].max() + 0.5\n"
   ]
  },
  {
   "cell_type": "code",
   "execution_count": 121,
   "id": "14d71221-09c9-4c5b-8d85-3962a53f09d6",
   "metadata": {},
   "outputs": [],
   "source": [
    "# x/y축 범위의 값들 생성\n",
    "xm = np.arange(x_min, x_max, 0.02)\n",
    "ym = np.arange(y_min, y_max, 0.02)"
   ]
  },
  {
   "cell_type": "code",
   "execution_count": 138,
   "id": "2be160df-0456-45de-898e-62d1e14a561e",
   "metadata": {},
   "outputs": [],
   "source": [
    "# 생성한 값들을 x,y쌍으로 좌표평면에 배치\n",
    "# 즉, 예측값을 나타낼 좌표평면 지정\n",
    "xx, yy = np.meshgrid(xm, ym)\n"
   ]
  },
  {
   "cell_type": "code",
   "execution_count": 142,
   "id": "5747fb9e-d5b5-4302-9646-20a1a0577276",
   "metadata": {},
   "outputs": [
    {
     "data": {
      "text/plain": [
       "array([[3.8 , 3.82, 3.84, 3.86, 3.88, 3.9 , 3.92, 3.94, 3.96, 3.98, 4.  ,\n",
       "        4.02, 4.04, 4.06, 4.08, 4.1 , 4.12, 4.14, 4.16, 4.18, 4.2 , 4.22,\n",
       "        4.24, 4.26, 4.28, 4.3 , 4.32, 4.34, 4.36, 4.38, 4.4 , 4.42, 4.44,\n",
       "        4.46, 4.48, 4.5 , 4.52, 4.54, 4.56, 4.58, 4.6 , 4.62, 4.64, 4.66,\n",
       "        4.68, 4.7 , 4.72, 4.74, 4.76, 4.78, 4.8 , 4.82, 4.84, 4.86, 4.88,\n",
       "        4.9 , 4.92, 4.94, 4.96, 4.98, 5.  , 5.02, 5.04, 5.06, 5.08, 5.1 ,\n",
       "        5.12, 5.14, 5.16, 5.18, 5.2 , 5.22, 5.24, 5.26, 5.28, 5.3 , 5.32,\n",
       "        5.34, 5.36, 5.38, 5.4 , 5.42, 5.44, 5.46, 5.48, 5.5 , 5.52, 5.54,\n",
       "        5.56, 5.58, 5.6 , 5.62, 5.64, 5.66, 5.68, 5.7 , 5.72, 5.74, 5.76,\n",
       "        5.78, 5.8 , 5.82, 5.84, 5.86, 5.88, 5.9 , 5.92, 5.94, 5.96, 5.98,\n",
       "        6.  , 6.02, 6.04, 6.06, 6.08, 6.1 , 6.12, 6.14, 6.16, 6.18, 6.2 ,\n",
       "        6.22, 6.24, 6.26, 6.28, 6.3 , 6.32, 6.34, 6.36, 6.38, 6.4 , 6.42,\n",
       "        6.44, 6.46, 6.48, 6.5 , 6.52, 6.54, 6.56, 6.58, 6.6 , 6.62, 6.64,\n",
       "        6.66, 6.68, 6.7 , 6.72, 6.74, 6.76, 6.78, 6.8 , 6.82, 6.84, 6.86,\n",
       "        6.88, 6.9 , 6.92, 6.94, 6.96, 6.98, 7.  , 7.02, 7.04, 7.06, 7.08,\n",
       "        7.1 , 7.12, 7.14, 7.16, 7.18, 7.2 , 7.22, 7.24, 7.26, 7.28, 7.3 ,\n",
       "        7.32, 7.34, 7.36, 7.38, 7.4 , 7.42, 7.44, 7.46, 7.48, 7.5 , 7.52,\n",
       "        7.54, 7.56, 7.58, 7.6 , 7.62, 7.64, 7.66, 7.68, 7.7 , 7.72, 7.74,\n",
       "        7.76, 7.78, 7.8 , 7.82, 7.84, 7.86, 7.88, 7.9 , 7.92, 7.94, 7.96,\n",
       "        7.98, 8.  , 8.02, 8.04, 8.06, 8.08, 8.1 , 8.12, 8.14, 8.16, 8.18,\n",
       "        8.2 , 8.22, 8.24, 8.26, 8.28, 8.3 , 8.32, 8.34, 8.36, 8.38, 8.4 ]])"
      ]
     },
     "execution_count": 142,
     "metadata": {},
     "output_type": "execute_result"
    }
   ],
   "source": [
    "xx[:1]"
   ]
  },
  {
   "cell_type": "code",
   "execution_count": 136,
   "id": "b8342cad-4438-4cf2-89d1-b5d404739128",
   "metadata": {},
   "outputs": [
    {
     "data": {
      "text/plain": [
       "array([[1.5 , 1.5 , 1.5 , 1.5 , 1.5 , 1.5 , 1.5 , 1.5 , 1.5 , 1.5 , 1.5 ,\n",
       "        1.5 , 1.5 , 1.5 , 1.5 , 1.5 , 1.5 , 1.5 , 1.5 , 1.5 , 1.5 , 1.5 ,\n",
       "        1.5 , 1.5 , 1.5 , 1.5 , 1.5 , 1.5 , 1.5 , 1.5 , 1.5 , 1.5 , 1.5 ,\n",
       "        1.5 , 1.5 , 1.5 , 1.5 , 1.5 , 1.5 , 1.5 , 1.5 , 1.5 , 1.5 , 1.5 ,\n",
       "        1.5 , 1.5 , 1.5 , 1.5 , 1.5 , 1.5 , 1.5 , 1.5 , 1.5 , 1.5 , 1.5 ,\n",
       "        1.5 , 1.5 , 1.5 , 1.5 , 1.5 , 1.5 , 1.5 , 1.5 , 1.5 , 1.5 , 1.5 ,\n",
       "        1.5 , 1.5 , 1.5 , 1.5 , 1.5 , 1.5 , 1.5 , 1.5 , 1.5 , 1.5 , 1.5 ,\n",
       "        1.5 , 1.5 , 1.5 , 1.5 , 1.5 , 1.5 , 1.5 , 1.5 , 1.5 , 1.5 , 1.5 ,\n",
       "        1.5 , 1.5 , 1.5 , 1.5 , 1.5 , 1.5 , 1.5 , 1.5 , 1.5 , 1.5 , 1.5 ,\n",
       "        1.5 , 1.5 , 1.5 , 1.5 , 1.5 , 1.5 , 1.5 , 1.5 , 1.5 , 1.5 , 1.5 ,\n",
       "        1.5 , 1.5 , 1.5 , 1.5 , 1.5 , 1.5 , 1.5 , 1.5 , 1.5 , 1.5 , 1.5 ,\n",
       "        1.5 , 1.5 , 1.5 , 1.5 , 1.5 , 1.5 , 1.5 , 1.5 , 1.5 , 1.5 , 1.5 ,\n",
       "        1.5 , 1.5 , 1.5 , 1.5 , 1.5 , 1.5 , 1.5 , 1.5 , 1.5 , 1.5 , 1.5 ,\n",
       "        1.5 , 1.5 , 1.5 , 1.5 , 1.5 , 1.5 , 1.5 , 1.5 , 1.5 , 1.5 , 1.5 ,\n",
       "        1.5 , 1.5 , 1.5 , 1.5 , 1.5 , 1.5 , 1.5 , 1.5 , 1.5 , 1.5 , 1.5 ,\n",
       "        1.5 , 1.5 , 1.5 , 1.5 , 1.5 , 1.5 , 1.5 , 1.5 , 1.5 , 1.5 , 1.5 ,\n",
       "        1.5 , 1.5 , 1.5 , 1.5 , 1.5 , 1.5 , 1.5 , 1.5 , 1.5 , 1.5 , 1.5 ,\n",
       "        1.5 , 1.5 , 1.5 , 1.5 , 1.5 , 1.5 , 1.5 , 1.5 , 1.5 , 1.5 , 1.5 ,\n",
       "        1.5 , 1.5 , 1.5 , 1.5 , 1.5 , 1.5 , 1.5 , 1.5 , 1.5 , 1.5 , 1.5 ,\n",
       "        1.5 , 1.5 , 1.5 , 1.5 , 1.5 , 1.5 , 1.5 , 1.5 , 1.5 , 1.5 , 1.5 ,\n",
       "        1.5 , 1.5 , 1.5 , 1.5 , 1.5 , 1.5 , 1.5 , 1.5 , 1.5 , 1.5 , 1.5 ],\n",
       "       [1.52, 1.52, 1.52, 1.52, 1.52, 1.52, 1.52, 1.52, 1.52, 1.52, 1.52,\n",
       "        1.52, 1.52, 1.52, 1.52, 1.52, 1.52, 1.52, 1.52, 1.52, 1.52, 1.52,\n",
       "        1.52, 1.52, 1.52, 1.52, 1.52, 1.52, 1.52, 1.52, 1.52, 1.52, 1.52,\n",
       "        1.52, 1.52, 1.52, 1.52, 1.52, 1.52, 1.52, 1.52, 1.52, 1.52, 1.52,\n",
       "        1.52, 1.52, 1.52, 1.52, 1.52, 1.52, 1.52, 1.52, 1.52, 1.52, 1.52,\n",
       "        1.52, 1.52, 1.52, 1.52, 1.52, 1.52, 1.52, 1.52, 1.52, 1.52, 1.52,\n",
       "        1.52, 1.52, 1.52, 1.52, 1.52, 1.52, 1.52, 1.52, 1.52, 1.52, 1.52,\n",
       "        1.52, 1.52, 1.52, 1.52, 1.52, 1.52, 1.52, 1.52, 1.52, 1.52, 1.52,\n",
       "        1.52, 1.52, 1.52, 1.52, 1.52, 1.52, 1.52, 1.52, 1.52, 1.52, 1.52,\n",
       "        1.52, 1.52, 1.52, 1.52, 1.52, 1.52, 1.52, 1.52, 1.52, 1.52, 1.52,\n",
       "        1.52, 1.52, 1.52, 1.52, 1.52, 1.52, 1.52, 1.52, 1.52, 1.52, 1.52,\n",
       "        1.52, 1.52, 1.52, 1.52, 1.52, 1.52, 1.52, 1.52, 1.52, 1.52, 1.52,\n",
       "        1.52, 1.52, 1.52, 1.52, 1.52, 1.52, 1.52, 1.52, 1.52, 1.52, 1.52,\n",
       "        1.52, 1.52, 1.52, 1.52, 1.52, 1.52, 1.52, 1.52, 1.52, 1.52, 1.52,\n",
       "        1.52, 1.52, 1.52, 1.52, 1.52, 1.52, 1.52, 1.52, 1.52, 1.52, 1.52,\n",
       "        1.52, 1.52, 1.52, 1.52, 1.52, 1.52, 1.52, 1.52, 1.52, 1.52, 1.52,\n",
       "        1.52, 1.52, 1.52, 1.52, 1.52, 1.52, 1.52, 1.52, 1.52, 1.52, 1.52,\n",
       "        1.52, 1.52, 1.52, 1.52, 1.52, 1.52, 1.52, 1.52, 1.52, 1.52, 1.52,\n",
       "        1.52, 1.52, 1.52, 1.52, 1.52, 1.52, 1.52, 1.52, 1.52, 1.52, 1.52,\n",
       "        1.52, 1.52, 1.52, 1.52, 1.52, 1.52, 1.52, 1.52, 1.52, 1.52, 1.52,\n",
       "        1.52, 1.52, 1.52, 1.52, 1.52, 1.52, 1.52, 1.52, 1.52, 1.52, 1.52],\n",
       "       [1.54, 1.54, 1.54, 1.54, 1.54, 1.54, 1.54, 1.54, 1.54, 1.54, 1.54,\n",
       "        1.54, 1.54, 1.54, 1.54, 1.54, 1.54, 1.54, 1.54, 1.54, 1.54, 1.54,\n",
       "        1.54, 1.54, 1.54, 1.54, 1.54, 1.54, 1.54, 1.54, 1.54, 1.54, 1.54,\n",
       "        1.54, 1.54, 1.54, 1.54, 1.54, 1.54, 1.54, 1.54, 1.54, 1.54, 1.54,\n",
       "        1.54, 1.54, 1.54, 1.54, 1.54, 1.54, 1.54, 1.54, 1.54, 1.54, 1.54,\n",
       "        1.54, 1.54, 1.54, 1.54, 1.54, 1.54, 1.54, 1.54, 1.54, 1.54, 1.54,\n",
       "        1.54, 1.54, 1.54, 1.54, 1.54, 1.54, 1.54, 1.54, 1.54, 1.54, 1.54,\n",
       "        1.54, 1.54, 1.54, 1.54, 1.54, 1.54, 1.54, 1.54, 1.54, 1.54, 1.54,\n",
       "        1.54, 1.54, 1.54, 1.54, 1.54, 1.54, 1.54, 1.54, 1.54, 1.54, 1.54,\n",
       "        1.54, 1.54, 1.54, 1.54, 1.54, 1.54, 1.54, 1.54, 1.54, 1.54, 1.54,\n",
       "        1.54, 1.54, 1.54, 1.54, 1.54, 1.54, 1.54, 1.54, 1.54, 1.54, 1.54,\n",
       "        1.54, 1.54, 1.54, 1.54, 1.54, 1.54, 1.54, 1.54, 1.54, 1.54, 1.54,\n",
       "        1.54, 1.54, 1.54, 1.54, 1.54, 1.54, 1.54, 1.54, 1.54, 1.54, 1.54,\n",
       "        1.54, 1.54, 1.54, 1.54, 1.54, 1.54, 1.54, 1.54, 1.54, 1.54, 1.54,\n",
       "        1.54, 1.54, 1.54, 1.54, 1.54, 1.54, 1.54, 1.54, 1.54, 1.54, 1.54,\n",
       "        1.54, 1.54, 1.54, 1.54, 1.54, 1.54, 1.54, 1.54, 1.54, 1.54, 1.54,\n",
       "        1.54, 1.54, 1.54, 1.54, 1.54, 1.54, 1.54, 1.54, 1.54, 1.54, 1.54,\n",
       "        1.54, 1.54, 1.54, 1.54, 1.54, 1.54, 1.54, 1.54, 1.54, 1.54, 1.54,\n",
       "        1.54, 1.54, 1.54, 1.54, 1.54, 1.54, 1.54, 1.54, 1.54, 1.54, 1.54,\n",
       "        1.54, 1.54, 1.54, 1.54, 1.54, 1.54, 1.54, 1.54, 1.54, 1.54, 1.54,\n",
       "        1.54, 1.54, 1.54, 1.54, 1.54, 1.54, 1.54, 1.54, 1.54, 1.54, 1.54]])"
      ]
     },
     "execution_count": 136,
     "metadata": {},
     "output_type": "execute_result"
    }
   ],
   "source": [
    "yy[:3]"
   ]
  },
  {
   "cell_type": "code",
   "execution_count": 139,
   "id": "94b19fe9-b8a6-42bb-86a3-0e0442be8749",
   "metadata": {},
   "outputs": [
    {
     "data": {
      "image/png": "[encoded data removed]",
      "text/plain": [
       "<Figure size 432x288 with 1 Axes>"
      ]
     },
     "metadata": {
      "needs_background": "light"
     },
     "output_type": "display_data"
    }
   ],
   "source": [
    "# 지금까지의 작업 확인\n",
    "plt.plot(xx, yy)\n",
    "plt.show()"
   ]
  },
  {
   "cell_type": "code",
   "execution_count": 146,
   "id": "67e2dbdd-49f0-40fd-b979-21eb018d5f9f",
   "metadata": {},
   "outputs": [
    {
     "data": {
      "image/png": "[encoded data removed]",
      "text/plain": [
       "<Figure size 432x288 with 1 Axes>"
      ]
     },
     "metadata": {
      "needs_background": "light"
     },
     "output_type": "display_data"
    }
   ],
   "source": [
    "# 위에서 만든 x,y 좌표쌍을 모델을 통해 예측\n",
    "# pcolormesh : 내장된 칼라맵을 통해 지정한 위치에 히트맵을 그려주는 함수 \n",
    "# pcolormesh(x좌표, y좌표, 색강값, 칼라맵 \n",
    "results = lrclf.predict(np.c_[xx.ravel(), yy.ravel()])\n",
    "results = result.reshape(xx.shape)\n",
    "plt.pcolormesh(xx, yy, results, cmap=plt.cm.tab20c)\n",
    "plt.show()"
   ]
  },
  {
   "cell_type": "code",
   "execution_count": 149,
   "id": "35036c30-a360-4ef6-93dc-095e82ef6301",
   "metadata": {},
   "outputs": [
    {
     "data": {
      "image/png": "[encoded data removed]",
      "text/plain": [
       "<Figure size 432x288 with 1 Axes>"
      ]
     },
     "metadata": {
      "needs_background": "light"
     },
     "output_type": "display_data"
    }
   ],
   "source": [
    "# 원본데이터를 산점도에 표시\n",
    "plt.scatter(data[:,0], data[:,1], c=target, cmap=plt.cm.tab20c, edgecolors='k')\n",
    "plt.show()"
   ]
  },
  {
   "cell_type": "code",
   "execution_count": null,
   "id": "1f17b0a3-bd01-42de-8842-c72be1dfccc3",
   "metadata": {},
   "outputs": [],
   "source": [
    "# 시각화를 위헤 두 변수만 지정 ( petal 게열)"
   ]
  },
  {
   "cell_type": "code",
   "execution_count": null,
   "id": "730e3a3d-c3f1-4e8d-b656-f50155e58080",
   "metadata": {},
   "outputs": [],
   "source": [
    "d"
   ]
  },
  {
   "cell_type": "code",
   "execution_count": 150,
   "id": "d81eefcc-ad7f-4985-b904-af46b0490644",
   "metadata": {},
   "outputs": [
    {
     "name": "stdout",
     "output_type": "stream",
     "text": [
      "0.9666666666666667\n"
     ]
    }
   ],
   "source": [
    "data = iris.data[:,2:] # petal 속성만\n",
    "\n",
    "target = iris.target\n",
    "\n",
    "# 분석시작\n",
    "lrclf = LogisticRegression(solver='lbfgs')\n",
    "lrclf.fit(data, target)\n",
    "print(lrclf.score(data, target))  # 훈련 정확도"
   ]
  },
  {
   "cell_type": "code",
   "execution_count": 151,
   "id": "e4d97e2d-1c58-4498-98eb-29822fa268ba",
   "metadata": {},
   "outputs": [],
   "source": [
    "# 다항 로지스틱 결정경계 시각화\n",
    "x_min = data[:,0].min() - 0.5 # x축 최대/최소\n",
    "x_max = data[:,0].max() + 0.5\n",
    "\n",
    "y_min = data[:,1].min() - 0.5 # y축 최대/최소\n",
    "y_max = data[:,1].max() + 0.5\n"
   ]
  },
  {
   "cell_type": "code",
   "execution_count": 152,
   "id": "5379509c-8498-42af-8669-71b50b6d5015",
   "metadata": {},
   "outputs": [],
   "source": [
    "# x/y축 범위의 값들 생성\n",
    "xm = np.arange(x_min, x_max, 0.02)\n",
    "ym = np.arange(y_min, y_max, 0.02)"
   ]
  },
  {
   "cell_type": "code",
   "execution_count": 159,
   "id": "3ce6d0e0-c6b4-4295-919e-0c49cf13c821",
   "metadata": {},
   "outputs": [],
   "source": [
    "# results = lrclf.predict(np.c_[xx.ravel(), yy.ravel()])\n",
    "# results = result.reshape(xx.shape)\n",
    "# plt.pcolormesh(xx, yy, results, cmap=plt.cm.tab20c)\n",
    "# plt.scatter(data[:,0], data[:,1], c=target, cmap=plt.cm.tab20c, edgecolors='k')\n",
    "# # plt.show()"
   ]
  },
  {
   "cell_type": "code",
   "execution_count": 157,
   "id": "d828c52a-ef9a-4a94-ab79-d781bbb624cd",
   "metadata": {},
   "outputs": [
    {
     "data": {
      "image/png": "[encoded data removed]",
      "text/plain": [
       "<Figure size 432x288 with 1 Axes>"
      ]
     },
     "metadata": {
      "needs_background": "light"
     },
     "output_type": "display_data"
    }
   ],
   "source": [
    "import mldlpy3\n",
    "\n",
    "mldlpy3.plot_decision_regions(data, target, lrclf)"
   ]
  },
  {
   "cell_type": "code",
   "execution_count": null,
   "id": "33541c37-7a1f-4ca7-886a-918f2c4651d3",
   "metadata": {},
   "outputs": [],
   "source": []
  },
  {
   "cell_type": "code",
   "execution_count": null,
   "id": "d9da84bd-7b08-4ae3-964c-01072b2c6f53",
   "metadata": {},
   "outputs": [],
   "source": []
  },
  {
   "cell_type": "code",
   "execution_count": null,
   "id": "b79ffccf-3a38-4497-a88c-1ff3548d8ec2",
   "metadata": {},
   "outputs": [],
   "source": []
  },
  {
   "cell_type": "code",
   "execution_count": null,
   "id": "0e09dfb7-144a-407d-b896-040792713754",
   "metadata": {},
   "outputs": [],
   "source": []
  },
  {
   "cell_type": "code",
   "execution_count": null,
   "id": "6e1d0e3b-3684-4132-b219-3b744ce31049",
   "metadata": {},
   "outputs": [],
   "source": []
  },
  {
   "cell_type": "code",
   "execution_count": null,
   "id": "6b4b247b-647a-4250-8036-b982e085cf54",
   "metadata": {},
   "outputs": [],
   "source": []
  },
  {
   "cell_type": "code",
   "execution_count": null,
   "id": "3ddc3c5b-d0dc-422c-8e2e-ff84f60c2c70",
   "metadata": {},
   "outputs": [],
   "source": []
  },
  {
   "cell_type": "code",
   "execution_count": null,
   "id": "ebd2fe8c-c703-41ae-8e48-ea91a1d07bec",
   "metadata": {},
   "outputs": [],
   "source": []
  },
  {
   "cell_type": "code",
   "execution_count": null,
   "id": "bf3a13a0-aea9-48ff-9be0-d95839cbfd35",
   "metadata": {},
   "outputs": [],
   "source": []
  }
 ],
 "metadata": {
  "kernelspec": {
   "display_name": "Python 3 (ipykernel)",
   "language": "python",
   "name": "python3"
  },
  "language_info": {
   "codemirror_mode": {
    "name": "ipython",
    "version": 3
   },
   "file_extension": ".py",
   "mimetype": "text/x-python",
   "name": "python",
   "nbconvert_exporter": "python",
   "pygments_lexer": "ipython3",
   "version": "3.7.10"
  }
 },
 "nbformat": 4,
 "nbformat_minor": 5
}
