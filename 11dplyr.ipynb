{
 "cells": [
  {
   "cell_type": "markdown",
   "id": "dc26c5e0-97c9-4fb3-bd5c-a47cb8266783",
   "metadata": {},
   "source": [
    "## dplyr\n",
    "+ select : 열 선택\n",
    "+ filter : 조건 검색\n",
    "+ group_by : 데이터 그룹화\n",
    "+ mutate : 행/열 추가\n",
    "+ summarise : 데이터 집계\n",
    "+ arrange : 데이터 정렬"
   ]
  },
  {
   "cell_type": "code",
   "execution_count": 53,
   "id": "5b7f6d78-07fb-4d91-9bc9-61c9d16315b8",
   "metadata": {},
   "outputs": [],
   "source": [
    "library(ggplot2)\n",
    "library(dplyr)\n",
    "\n",
    "# mpg"
   ]
  },
  {
   "cell_type": "code",
   "execution_count": 54,
   "id": "add69f98-d41d-4698-885d-04dc0ed3abc8",
   "metadata": {},
   "outputs": [
    {
     "data": {
      "text/html": [
       "<table class=\"dataframe\">\n",
       "<caption>A tibble: 6 × 4</caption>\n",
       "<thead>\n",
       "\t<tr><th scope=col>model</th><th scope=col>manufacturer</th><th scope=col>allmpg</th><th scope=col>avgmpg</th></tr>\n",
       "\t<tr><th scope=col>&lt;chr&gt;</th><th scope=col>&lt;chr&gt;</th><th scope=col>&lt;int&gt;</th><th scope=col>&lt;dbl&gt;</th></tr>\n",
       "</thead>\n",
       "<tbody>\n",
       "\t<tr><td>a4</td><td>audi</td><td>47</td><td>23.5</td></tr>\n",
       "\t<tr><td>a4</td><td>audi</td><td>50</td><td>25.0</td></tr>\n",
       "\t<tr><td>a4</td><td>audi</td><td>51</td><td>25.5</td></tr>\n",
       "\t<tr><td>a4</td><td>audi</td><td>51</td><td>25.5</td></tr>\n",
       "\t<tr><td>a4</td><td>audi</td><td>42</td><td>21.0</td></tr>\n",
       "\t<tr><td>a4</td><td>audi</td><td>44</td><td>22.0</td></tr>\n",
       "</tbody>\n",
       "</table>\n"
      ],
      "text/latex": [
       "A tibble: 6 × 4\n",
       "\\begin{tabular}{llll}\n",
       " model & manufacturer & allmpg & avgmpg\\\\\n",
       " <chr> & <chr> & <int> & <dbl>\\\\\n",
       "\\hline\n",
       "\t a4 & audi & 47 & 23.5\\\\\n",
       "\t a4 & audi & 50 & 25.0\\\\\n",
       "\t a4 & audi & 51 & 25.5\\\\\n",
       "\t a4 & audi & 51 & 25.5\\\\\n",
       "\t a4 & audi & 42 & 21.0\\\\\n",
       "\t a4 & audi & 44 & 22.0\\\\\n",
       "\\end{tabular}\n"
      ],
      "text/markdown": [
       "\n",
       "A tibble: 6 × 4\n",
       "\n",
       "| model &lt;chr&gt; | manufacturer &lt;chr&gt; | allmpg &lt;int&gt; | avgmpg &lt;dbl&gt; |\n",
       "|---|---|---|---|\n",
       "| a4 | audi | 47 | 23.5 |\n",
       "| a4 | audi | 50 | 25.0 |\n",
       "| a4 | audi | 51 | 25.5 |\n",
       "| a4 | audi | 51 | 25.5 |\n",
       "| a4 | audi | 42 | 21.0 |\n",
       "| a4 | audi | 44 | 22.0 |\n",
       "\n"
      ],
      "text/plain": [
       "  model manufacturer allmpg avgmpg\n",
       "1 a4    audi         47     23.5  \n",
       "2 a4    audi         50     25.0  \n",
       "3 a4    audi         51     25.5  \n",
       "4 a4    audi         51     25.5  \n",
       "5 a4    audi         42     21.0  \n",
       "6 a4    audi         44     22.0  "
      ]
     },
     "metadata": {},
     "output_type": "display_data"
    }
   ],
   "source": [
    "mpg %>% mutate(allmpg = cty + hwy,\n",
    "               avgmpg = allmpg/2) %>%\n",
    "        select(model, manufacturer, allmpg, avgmpg)%>%\n",
    "        head()"
   ]
  },
  {
   "cell_type": "markdown",
   "id": "9e50adbf-ef44-4405-9805-ba8b637a9a2c",
   "metadata": {},
   "source": [
    "## arrange(데이터 정렬)\n"
   ]
  },
  {
   "cell_type": "code",
   "execution_count": 55,
   "id": "28f52e22-ff00-4e60-9610-08507c0afea6",
   "metadata": {},
   "outputs": [
    {
     "data": {
      "text/html": [
       "<table class=\"dataframe\">\n",
       "<caption>A data.frame: 4 × 4</caption>\n",
       "<thead>\n",
       "\t<tr><th scope=col>name</th><th scope=col>eng</th><th scope=col>mat</th><th scope=col>sci</th></tr>\n",
       "\t<tr><th scope=col>&lt;fct&gt;</th><th scope=col>&lt;dbl&gt;</th><th scope=col>&lt;dbl&gt;</th><th scope=col>&lt;dbl&gt;</th></tr>\n",
       "</thead>\n",
       "<tbody>\n",
       "\t<tr><td>John</td><td>90</td><td>85</td><td>90</td></tr>\n",
       "\t<tr><td>Tom </td><td>95</td><td>96</td><td>80</td></tr>\n",
       "\t<tr><td>Mark</td><td>69</td><td>49</td><td>70</td></tr>\n",
       "\t<tr><td>Jane</td><td>78</td><td>95</td><td>60</td></tr>\n",
       "</tbody>\n",
       "</table>\n"
      ],
      "text/latex": [
       "A data.frame: 4 × 4\n",
       "\\begin{tabular}{llll}\n",
       " name & eng & mat & sci\\\\\n",
       " <fct> & <dbl> & <dbl> & <dbl>\\\\\n",
       "\\hline\n",
       "\t John & 90 & 85 & 90\\\\\n",
       "\t Tom  & 95 & 96 & 80\\\\\n",
       "\t Mark & 69 & 49 & 70\\\\\n",
       "\t Jane & 78 & 95 & 60\\\\\n",
       "\\end{tabular}\n"
      ],
      "text/markdown": [
       "\n",
       "A data.frame: 4 × 4\n",
       "\n",
       "| name &lt;fct&gt; | eng &lt;dbl&gt; | mat &lt;dbl&gt; | sci &lt;dbl&gt; |\n",
       "|---|---|---|---|\n",
       "| John | 90 | 85 | 90 |\n",
       "| Tom  | 95 | 96 | 80 |\n",
       "| Mark | 69 | 49 | 70 |\n",
       "| Jane | 78 | 95 | 60 |\n",
       "\n"
      ],
      "text/plain": [
       "  name eng mat sci\n",
       "1 John 90  85  90 \n",
       "2 Tom  95  96  80 \n",
       "3 Mark 69  49  70 \n",
       "4 Jane 78  95  60 "
      ]
     },
     "metadata": {},
     "output_type": "display_data"
    }
   ],
   "source": [
    "load('sungjuk.rdata')\n",
    "\n",
    "sungjuk"
   ]
  },
  {
   "cell_type": "code",
   "execution_count": 56,
   "id": "3cb7c6f9-9f61-49e2-b718-5e18e34f1d9f",
   "metadata": {},
   "outputs": [
    {
     "data": {
      "text/html": [
       "<table class=\"dataframe\">\n",
       "<caption>A data.frame: 4 × 4</caption>\n",
       "<thead>\n",
       "\t<tr><th scope=col>name</th><th scope=col>eng</th><th scope=col>mat</th><th scope=col>sci</th></tr>\n",
       "\t<tr><th scope=col>&lt;fct&gt;</th><th scope=col>&lt;dbl&gt;</th><th scope=col>&lt;dbl&gt;</th><th scope=col>&lt;dbl&gt;</th></tr>\n",
       "</thead>\n",
       "<tbody>\n",
       "\t<tr><td>Jane</td><td>78</td><td>95</td><td>60</td></tr>\n",
       "\t<tr><td>John</td><td>90</td><td>85</td><td>90</td></tr>\n",
       "\t<tr><td>Mark</td><td>69</td><td>49</td><td>70</td></tr>\n",
       "\t<tr><td>Tom </td><td>95</td><td>96</td><td>80</td></tr>\n",
       "</tbody>\n",
       "</table>\n"
      ],
      "text/latex": [
       "A data.frame: 4 × 4\n",
       "\\begin{tabular}{llll}\n",
       " name & eng & mat & sci\\\\\n",
       " <fct> & <dbl> & <dbl> & <dbl>\\\\\n",
       "\\hline\n",
       "\t Jane & 78 & 95 & 60\\\\\n",
       "\t John & 90 & 85 & 90\\\\\n",
       "\t Mark & 69 & 49 & 70\\\\\n",
       "\t Tom  & 95 & 96 & 80\\\\\n",
       "\\end{tabular}\n"
      ],
      "text/markdown": [
       "\n",
       "A data.frame: 4 × 4\n",
       "\n",
       "| name &lt;fct&gt; | eng &lt;dbl&gt; | mat &lt;dbl&gt; | sci &lt;dbl&gt; |\n",
       "|---|---|---|---|\n",
       "| Jane | 78 | 95 | 60 |\n",
       "| John | 90 | 85 | 90 |\n",
       "| Mark | 69 | 49 | 70 |\n",
       "| Tom  | 95 | 96 | 80 |\n",
       "\n"
      ],
      "text/plain": [
       "  name eng mat sci\n",
       "1 Jane 78  95  60 \n",
       "2 John 90  85  90 \n",
       "3 Mark 69  49  70 \n",
       "4 Tom  95  96  80 "
      ]
     },
     "metadata": {},
     "output_type": "display_data"
    }
   ],
   "source": [
    "# 이름순으로 오름차순\n",
    "sungjuk %>% arrange(name)"
   ]
  },
  {
   "cell_type": "code",
   "execution_count": 57,
   "id": "71cc7c6f-f9e6-4df5-aa18-87d583ceb8a4",
   "metadata": {},
   "outputs": [
    {
     "data": {
      "text/html": [
       "<table class=\"dataframe\">\n",
       "<caption>A data.frame: 4 × 4</caption>\n",
       "<thead>\n",
       "\t<tr><th scope=col>name</th><th scope=col>eng</th><th scope=col>mat</th><th scope=col>sci</th></tr>\n",
       "\t<tr><th scope=col>&lt;fct&gt;</th><th scope=col>&lt;dbl&gt;</th><th scope=col>&lt;dbl&gt;</th><th scope=col>&lt;dbl&gt;</th></tr>\n",
       "</thead>\n",
       "<tbody>\n",
       "\t<tr><td>Tom </td><td>95</td><td>96</td><td>80</td></tr>\n",
       "\t<tr><td>Mark</td><td>69</td><td>49</td><td>70</td></tr>\n",
       "\t<tr><td>John</td><td>90</td><td>85</td><td>90</td></tr>\n",
       "\t<tr><td>Jane</td><td>78</td><td>95</td><td>60</td></tr>\n",
       "</tbody>\n",
       "</table>\n"
      ],
      "text/latex": [
       "A data.frame: 4 × 4\n",
       "\\begin{tabular}{llll}\n",
       " name & eng & mat & sci\\\\\n",
       " <fct> & <dbl> & <dbl> & <dbl>\\\\\n",
       "\\hline\n",
       "\t Tom  & 95 & 96 & 80\\\\\n",
       "\t Mark & 69 & 49 & 70\\\\\n",
       "\t John & 90 & 85 & 90\\\\\n",
       "\t Jane & 78 & 95 & 60\\\\\n",
       "\\end{tabular}\n"
      ],
      "text/markdown": [
       "\n",
       "A data.frame: 4 × 4\n",
       "\n",
       "| name &lt;fct&gt; | eng &lt;dbl&gt; | mat &lt;dbl&gt; | sci &lt;dbl&gt; |\n",
       "|---|---|---|---|\n",
       "| Tom  | 95 | 96 | 80 |\n",
       "| Mark | 69 | 49 | 70 |\n",
       "| John | 90 | 85 | 90 |\n",
       "| Jane | 78 | 95 | 60 |\n",
       "\n"
      ],
      "text/plain": [
       "  name eng mat sci\n",
       "1 Tom  95  96  80 \n",
       "2 Mark 69  49  70 \n",
       "3 John 90  85  90 \n",
       "4 Jane 78  95  60 "
      ]
     },
     "metadata": {},
     "output_type": "display_data"
    }
   ],
   "source": [
    "# 이름순으로 내림차순\n",
    "sungjuk %>% arrange(desc(name))"
   ]
  },
  {
   "cell_type": "code",
   "execution_count": 58,
   "id": "6d5ae8c2-c2dc-41cd-8d8e-a356b94997a4",
   "metadata": {},
   "outputs": [
    {
     "data": {
      "text/html": [
       "<table class=\"dataframe\">\n",
       "<caption>A data.frame: 4 × 4</caption>\n",
       "<thead>\n",
       "\t<tr><th scope=col>name</th><th scope=col>eng</th><th scope=col>mat</th><th scope=col>sci</th></tr>\n",
       "\t<tr><th scope=col>&lt;fct&gt;</th><th scope=col>&lt;dbl&gt;</th><th scope=col>&lt;dbl&gt;</th><th scope=col>&lt;dbl&gt;</th></tr>\n",
       "</thead>\n",
       "<tbody>\n",
       "\t<tr><td>Mark</td><td>69</td><td>49</td><td>70</td></tr>\n",
       "\t<tr><td>Jane</td><td>78</td><td>95</td><td>60</td></tr>\n",
       "\t<tr><td>John</td><td>90</td><td>85</td><td>90</td></tr>\n",
       "\t<tr><td>Tom </td><td>95</td><td>96</td><td>80</td></tr>\n",
       "</tbody>\n",
       "</table>\n"
      ],
      "text/latex": [
       "A data.frame: 4 × 4\n",
       "\\begin{tabular}{llll}\n",
       " name & eng & mat & sci\\\\\n",
       " <fct> & <dbl> & <dbl> & <dbl>\\\\\n",
       "\\hline\n",
       "\t Mark & 69 & 49 & 70\\\\\n",
       "\t Jane & 78 & 95 & 60\\\\\n",
       "\t John & 90 & 85 & 90\\\\\n",
       "\t Tom  & 95 & 96 & 80\\\\\n",
       "\\end{tabular}\n"
      ],
      "text/markdown": [
       "\n",
       "A data.frame: 4 × 4\n",
       "\n",
       "| name &lt;fct&gt; | eng &lt;dbl&gt; | mat &lt;dbl&gt; | sci &lt;dbl&gt; |\n",
       "|---|---|---|---|\n",
       "| Mark | 69 | 49 | 70 |\n",
       "| Jane | 78 | 95 | 60 |\n",
       "| John | 90 | 85 | 90 |\n",
       "| Tom  | 95 | 96 | 80 |\n",
       "\n"
      ],
      "text/plain": [
       "  name eng mat sci\n",
       "1 Mark 69  49  70 \n",
       "2 Jane 78  95  60 \n",
       "3 John 90  85  90 \n",
       "4 Tom  95  96  80 "
      ]
     },
     "metadata": {},
     "output_type": "display_data"
    }
   ],
   "source": [
    "# 영/수/과 점수를 내림차순\n",
    "sungjuk %>% arrange(eng, mat, sci)"
   ]
  },
  {
   "cell_type": "markdown",
   "id": "c9ff1fa9-6dbc-4e63-ae7c-1524dc1d2e9b",
   "metadata": {},
   "source": [
    "## summarise (데이터 집계)"
   ]
  },
  {
   "cell_type": "code",
   "execution_count": 59,
   "id": "f1c5316b-174f-4e3c-b6a1-38cc00c7c380",
   "metadata": {},
   "outputs": [
    {
     "data": {
      "text/html": [
       "<table class=\"dataframe\">\n",
       "<caption>A data.frame: 1 × 1</caption>\n",
       "<thead>\n",
       "\t<tr><th scope=col>평균영어점수</th></tr>\n",
       "\t<tr><th scope=col>&lt;dbl&gt;</th></tr>\n",
       "</thead>\n",
       "<tbody>\n",
       "\t<tr><td>83</td></tr>\n",
       "</tbody>\n",
       "</table>\n"
      ],
      "text/latex": [
       "A data.frame: 1 × 1\n",
       "\\begin{tabular}{l}\n",
       " 평균영어점수\\\\\n",
       " <dbl>\\\\\n",
       "\\hline\n",
       "\t 83\\\\\n",
       "\\end{tabular}\n"
      ],
      "text/markdown": [
       "\n",
       "A data.frame: 1 × 1\n",
       "\n",
       "| 평균영어점수 &lt;dbl&gt; |\n",
       "|---|\n",
       "| 83 |\n",
       "\n"
      ],
      "text/plain": [
       "  평균영어점수\n",
       "1 83          "
      ]
     },
     "metadata": {},
     "output_type": "display_data"
    }
   ],
   "source": [
    "# 평균 영어 점수 출력\n",
    "sungjuk %>% summarise(평균영어점수 = mean(eng))"
   ]
  },
  {
   "cell_type": "code",
   "execution_count": 60,
   "id": "5c165bf3-b16d-4733-bb3d-00f8d32557ef",
   "metadata": {},
   "outputs": [
    {
     "data": {
      "text/html": [
       "<table class=\"dataframe\">\n",
       "<caption>A data.frame: 1 × 9</caption>\n",
       "<thead>\n",
       "\t<tr><th scope=col>평균영어점수</th><th scope=col>최고영어점수</th><th scope=col>최소영어점수</th><th scope=col>평균수학점수</th><th scope=col>최고수학점수</th><th scope=col>최소수학점수</th><th scope=col>평균과학점수</th><th scope=col>최고과학점수</th><th scope=col>최소과학점수</th></tr>\n",
       "\t<tr><th scope=col>&lt;dbl&gt;</th><th scope=col>&lt;dbl&gt;</th><th scope=col>&lt;dbl&gt;</th><th scope=col>&lt;dbl&gt;</th><th scope=col>&lt;dbl&gt;</th><th scope=col>&lt;dbl&gt;</th><th scope=col>&lt;dbl&gt;</th><th scope=col>&lt;dbl&gt;</th><th scope=col>&lt;dbl&gt;</th></tr>\n",
       "</thead>\n",
       "<tbody>\n",
       "\t<tr><td>83</td><td>95</td><td>69</td><td>81.25</td><td>96</td><td>49</td><td>75</td><td>90</td><td>60</td></tr>\n",
       "</tbody>\n",
       "</table>\n"
      ],
      "text/latex": [
       "A data.frame: 1 × 9\n",
       "\\begin{tabular}{lllllllll}\n",
       " 평균영어점수 & 최고영어점수 & 최소영어점수 & 평균수학점수 & 최고수학점수 & 최소수학점수 & 평균과학점수 & 최고과학점수 & 최소과학점수\\\\\n",
       " <dbl> & <dbl> & <dbl> & <dbl> & <dbl> & <dbl> & <dbl> & <dbl> & <dbl>\\\\\n",
       "\\hline\n",
       "\t 83 & 95 & 69 & 81.25 & 96 & 49 & 75 & 90 & 60\\\\\n",
       "\\end{tabular}\n"
      ],
      "text/markdown": [
       "\n",
       "A data.frame: 1 × 9\n",
       "\n",
       "| 평균영어점수 &lt;dbl&gt; | 최고영어점수 &lt;dbl&gt; | 최소영어점수 &lt;dbl&gt; | 평균수학점수 &lt;dbl&gt; | 최고수학점수 &lt;dbl&gt; | 최소수학점수 &lt;dbl&gt; | 평균과학점수 &lt;dbl&gt; | 최고과학점수 &lt;dbl&gt; | 최소과학점수 &lt;dbl&gt; |\n",
       "|---|---|---|---|---|---|---|---|---|\n",
       "| 83 | 95 | 69 | 81.25 | 96 | 49 | 75 | 90 | 60 |\n",
       "\n"
      ],
      "text/plain": [
       "  평균영어점수 최고영어점수 최소영어점수 평균수학점수 최고수학점수 최소수학점수\n",
       "1 83           95           69           81.25        96           49          \n",
       "  평균과학점수 최고과학점수 최소과학점수\n",
       "1 75           90           60          "
      ]
     },
     "metadata": {},
     "output_type": "display_data"
    }
   ],
   "source": [
    "# 각 과목별로 평균/최고/최소 점수 출력 \n",
    "sungjuk %>% summarise(평균영어점수 = mean(eng),\n",
    "                      최고영어점수 = max(eng),\n",
    "                      최소영어점수 = min(eng),\n",
    "                      평균수학점수 = mean(mat),\n",
    "                      최고수학점수 = max(mat),\n",
    "                      최소수학점수 = min(mat),\n",
    "                      평균과학점수 = mean(sci),\n",
    "                      최고과학점수 = max(sci),\n",
    "                      최소과학점수 = min(sci),)"
   ]
  },
  {
   "cell_type": "markdown",
   "id": "d90215a3-eabe-4d26-9c1d-e9fe492e0472",
   "metadata": {},
   "source": [
    "## group_by (데이터 그룹화)"
   ]
  },
  {
   "cell_type": "code",
   "execution_count": null,
   "id": "74b2ac1b-60a3-4111-b9bb-8d579118abfb",
   "metadata": {},
   "outputs": [],
   "source": []
  },
  {
   "cell_type": "code",
   "execution_count": 61,
   "id": "a45ac87c-a172-452b-b866-e2c87fabcc1e",
   "metadata": {},
   "outputs": [],
   "source": [
    "# 새 컬럼 추가 \n",
    "sungjuk$class <- c(2,1,2,3)"
   ]
  },
  {
   "cell_type": "code",
   "execution_count": 62,
   "id": "d5b04a73-2a42-4d15-8716-fae11b7c5e0a",
   "metadata": {},
   "outputs": [
    {
     "data": {
      "text/html": [
       "<table class=\"dataframe\">\n",
       "<caption>A tibble: 3 × 2</caption>\n",
       "<thead>\n",
       "\t<tr><th scope=col>class</th><th scope=col>평균영어</th></tr>\n",
       "\t<tr><th scope=col>&lt;dbl&gt;</th><th scope=col>&lt;dbl&gt;</th></tr>\n",
       "</thead>\n",
       "<tbody>\n",
       "\t<tr><td>1</td><td>95.0</td></tr>\n",
       "\t<tr><td>2</td><td>79.5</td></tr>\n",
       "\t<tr><td>3</td><td>78.0</td></tr>\n",
       "</tbody>\n",
       "</table>\n"
      ],
      "text/latex": [
       "A tibble: 3 × 2\n",
       "\\begin{tabular}{ll}\n",
       " class & 평균영어\\\\\n",
       " <dbl> & <dbl>\\\\\n",
       "\\hline\n",
       "\t 1 & 95.0\\\\\n",
       "\t 2 & 79.5\\\\\n",
       "\t 3 & 78.0\\\\\n",
       "\\end{tabular}\n"
      ],
      "text/markdown": [
       "\n",
       "A tibble: 3 × 2\n",
       "\n",
       "| class &lt;dbl&gt; | 평균영어 &lt;dbl&gt; |\n",
       "|---|---|\n",
       "| 1 | 95.0 |\n",
       "| 2 | 79.5 |\n",
       "| 3 | 78.0 |\n",
       "\n"
      ],
      "text/plain": [
       "  class 평균영어\n",
       "1 1     95.0    \n",
       "2 2     79.5    \n",
       "3 3     78.0    "
      ]
     },
     "metadata": {},
     "output_type": "display_data"
    }
   ],
   "source": [
    "# 클래스별 평균 영어점수 출력\n",
    "sungjuk %>% group_by(class) %>%\n",
    "            summarise(평균영어 = mean(eng))"
   ]
  },
  {
   "cell_type": "code",
   "execution_count": 63,
   "id": "62cf0452-a110-4ab2-bf26-e78c8ae6975c",
   "metadata": {},
   "outputs": [
    {
     "data": {
      "text/html": [
       "<table class=\"dataframe\">\n",
       "<caption>A tibble: 3 × 3</caption>\n",
       "<thead>\n",
       "\t<tr><th scope=col>class</th><th scope=col>최고영어</th><th scope=col>최소영어</th></tr>\n",
       "\t<tr><th scope=col>&lt;dbl&gt;</th><th scope=col>&lt;dbl&gt;</th><th scope=col>&lt;dbl&gt;</th></tr>\n",
       "</thead>\n",
       "<tbody>\n",
       "\t<tr><td>1</td><td>95</td><td>95</td></tr>\n",
       "\t<tr><td>2</td><td>90</td><td>69</td></tr>\n",
       "\t<tr><td>3</td><td>78</td><td>78</td></tr>\n",
       "</tbody>\n",
       "</table>\n"
      ],
      "text/latex": [
       "A tibble: 3 × 3\n",
       "\\begin{tabular}{lll}\n",
       " class & 최고영어 & 최소영어\\\\\n",
       " <dbl> & <dbl> & <dbl>\\\\\n",
       "\\hline\n",
       "\t 1 & 95 & 95\\\\\n",
       "\t 2 & 90 & 69\\\\\n",
       "\t 3 & 78 & 78\\\\\n",
       "\\end{tabular}\n"
      ],
      "text/markdown": [
       "\n",
       "A tibble: 3 × 3\n",
       "\n",
       "| class &lt;dbl&gt; | 최고영어 &lt;dbl&gt; | 최소영어 &lt;dbl&gt; |\n",
       "|---|---|---|\n",
       "| 1 | 95 | 95 |\n",
       "| 2 | 90 | 69 |\n",
       "| 3 | 78 | 78 |\n",
       "\n"
      ],
      "text/plain": [
       "  class 최고영어 최소영어\n",
       "1 1     95       95      \n",
       "2 2     90       69      \n",
       "3 3     78       78      "
      ]
     },
     "metadata": {},
     "output_type": "display_data"
    }
   ],
   "source": [
    "# 클래스별 최고/최소 영어점수 출력\n",
    "sungjuk %>% group_by(class) %>%\n",
    "            summarise(최고영어 = max(eng), 최소영어=min(eng))"
   ]
  },
  {
   "cell_type": "code",
   "execution_count": 64,
   "id": "2e5f58fd-087a-40c2-b8db-98e56ac33994",
   "metadata": {},
   "outputs": [
    {
     "data": {
      "text/html": [
       "<table class=\"dataframe\">\n",
       "<caption>A tibble: 6 × 10</caption>\n",
       "<thead>\n",
       "\t<tr><th scope=col>carat</th><th scope=col>cut</th><th scope=col>color</th><th scope=col>clarity</th><th scope=col>depth</th><th scope=col>table</th><th scope=col>price</th><th scope=col>x</th><th scope=col>y</th><th scope=col>z</th></tr>\n",
       "\t<tr><th scope=col>&lt;dbl&gt;</th><th scope=col>&lt;ord&gt;</th><th scope=col>&lt;ord&gt;</th><th scope=col>&lt;ord&gt;</th><th scope=col>&lt;dbl&gt;</th><th scope=col>&lt;dbl&gt;</th><th scope=col>&lt;int&gt;</th><th scope=col>&lt;dbl&gt;</th><th scope=col>&lt;dbl&gt;</th><th scope=col>&lt;dbl&gt;</th></tr>\n",
       "</thead>\n",
       "<tbody>\n",
       "\t<tr><td>0.23</td><td>Ideal    </td><td>E</td><td>SI2 </td><td>61.5</td><td>55</td><td>326</td><td>3.95</td><td>3.98</td><td>2.43</td></tr>\n",
       "\t<tr><td>0.21</td><td>Premium  </td><td>E</td><td>SI1 </td><td>59.8</td><td>61</td><td>326</td><td>3.89</td><td>3.84</td><td>2.31</td></tr>\n",
       "\t<tr><td>0.23</td><td>Good     </td><td>E</td><td>VS1 </td><td>56.9</td><td>65</td><td>327</td><td>4.05</td><td>4.07</td><td>2.31</td></tr>\n",
       "\t<tr><td>0.29</td><td>Premium  </td><td>I</td><td>VS2 </td><td>62.4</td><td>58</td><td>334</td><td>4.20</td><td>4.23</td><td>2.63</td></tr>\n",
       "\t<tr><td>0.31</td><td>Good     </td><td>J</td><td>SI2 </td><td>63.3</td><td>58</td><td>335</td><td>4.34</td><td>4.35</td><td>2.75</td></tr>\n",
       "\t<tr><td>0.24</td><td>Very Good</td><td>J</td><td>VVS2</td><td>62.8</td><td>57</td><td>336</td><td>3.94</td><td>3.96</td><td>2.48</td></tr>\n",
       "</tbody>\n",
       "</table>\n"
      ],
      "text/latex": [
       "A tibble: 6 × 10\n",
       "\\begin{tabular}{llllllllll}\n",
       " carat & cut & color & clarity & depth & table & price & x & y & z\\\\\n",
       " <dbl> & <ord> & <ord> & <ord> & <dbl> & <dbl> & <int> & <dbl> & <dbl> & <dbl>\\\\\n",
       "\\hline\n",
       "\t 0.23 & Ideal     & E & SI2  & 61.5 & 55 & 326 & 3.95 & 3.98 & 2.43\\\\\n",
       "\t 0.21 & Premium   & E & SI1  & 59.8 & 61 & 326 & 3.89 & 3.84 & 2.31\\\\\n",
       "\t 0.23 & Good      & E & VS1  & 56.9 & 65 & 327 & 4.05 & 4.07 & 2.31\\\\\n",
       "\t 0.29 & Premium   & I & VS2  & 62.4 & 58 & 334 & 4.20 & 4.23 & 2.63\\\\\n",
       "\t 0.31 & Good      & J & SI2  & 63.3 & 58 & 335 & 4.34 & 4.35 & 2.75\\\\\n",
       "\t 0.24 & Very Good & J & VVS2 & 62.8 & 57 & 336 & 3.94 & 3.96 & 2.48\\\\\n",
       "\\end{tabular}\n"
      ],
      "text/markdown": [
       "\n",
       "A tibble: 6 × 10\n",
       "\n",
       "| carat &lt;dbl&gt; | cut &lt;ord&gt; | color &lt;ord&gt; | clarity &lt;ord&gt; | depth &lt;dbl&gt; | table &lt;dbl&gt; | price &lt;int&gt; | x &lt;dbl&gt; | y &lt;dbl&gt; | z &lt;dbl&gt; |\n",
       "|---|---|---|---|---|---|---|---|---|---|\n",
       "| 0.23 | Ideal     | E | SI2  | 61.5 | 55 | 326 | 3.95 | 3.98 | 2.43 |\n",
       "| 0.21 | Premium   | E | SI1  | 59.8 | 61 | 326 | 3.89 | 3.84 | 2.31 |\n",
       "| 0.23 | Good      | E | VS1  | 56.9 | 65 | 327 | 4.05 | 4.07 | 2.31 |\n",
       "| 0.29 | Premium   | I | VS2  | 62.4 | 58 | 334 | 4.20 | 4.23 | 2.63 |\n",
       "| 0.31 | Good      | J | SI2  | 63.3 | 58 | 335 | 4.34 | 4.35 | 2.75 |\n",
       "| 0.24 | Very Good | J | VVS2 | 62.8 | 57 | 336 | 3.94 | 3.96 | 2.48 |\n",
       "\n"
      ],
      "text/plain": [
       "  carat cut       color clarity depth table price x    y    z   \n",
       "1 0.23  Ideal     E     SI2     61.5  55    326   3.95 3.98 2.43\n",
       "2 0.21  Premium   E     SI1     59.8  61    326   3.89 3.84 2.31\n",
       "3 0.23  Good      E     VS1     56.9  65    327   4.05 4.07 2.31\n",
       "4 0.29  Premium   I     VS2     62.4  58    334   4.20 4.23 2.63\n",
       "5 0.31  Good      J     SI2     63.3  58    335   4.34 4.35 2.75\n",
       "6 0.24  Very Good J     VVS2    62.8  57    336   3.94 3.96 2.48"
      ]
     },
     "metadata": {},
     "output_type": "display_data"
    }
   ],
   "source": [
    "# diamonds 데이터셋을 이용, 다음 문제를 풀어보자\n",
    "library(ggplot2)\n",
    "head(diamonds)\n"
   ]
  },
  {
   "cell_type": "code",
   "execution_count": 65,
   "id": "af4a5489-f89a-4262-b97c-cebef162ca60",
   "metadata": {},
   "outputs": [
    {
     "name": "stdout",
     "output_type": "stream",
     "text": [
      "tibble [53,940 × 10] (S3: tbl_df/tbl/data.frame)\n",
      " $ carat  : num [1:53940] 0.23 0.21 0.23 0.29 0.31 0.24 0.24 0.26 0.22 0.23 ...\n",
      " $ cut    : Ord.factor w/ 5 levels \"Fair\"<\"Good\"<..: 5 4 2 4 2 3 3 3 1 3 ...\n",
      " $ color  : Ord.factor w/ 7 levels \"D\"<\"E\"<\"F\"<\"G\"<..: 2 2 2 6 7 7 6 5 2 5 ...\n",
      " $ clarity: Ord.factor w/ 8 levels \"I1\"<\"SI2\"<\"SI1\"<..: 2 3 5 4 2 6 7 3 4 5 ...\n",
      " $ depth  : num [1:53940] 61.5 59.8 56.9 62.4 63.3 62.8 62.3 61.9 65.1 59.4 ...\n",
      " $ table  : num [1:53940] 55 61 65 58 58 57 57 55 61 61 ...\n",
      " $ price  : int [1:53940] 326 326 327 334 335 336 336 337 337 338 ...\n",
      " $ x      : num [1:53940] 3.95 3.89 4.05 4.2 4.34 3.94 3.95 4.07 3.87 4 ...\n",
      " $ y      : num [1:53940] 3.98 3.84 4.07 4.23 4.35 3.96 3.98 4.11 3.78 4.05 ...\n",
      " $ z      : num [1:53940] 2.43 2.31 2.31 2.63 2.75 2.48 2.47 2.53 2.49 2.39 ...\n"
     ]
    }
   ],
   "source": [
    "str(diamonds)"
   ]
  },
  {
   "cell_type": "code",
   "execution_count": 66,
   "id": "2187f7d7-dfee-4163-a1be-6fdb1b2c3633",
   "metadata": {},
   "outputs": [],
   "source": [
    "# carat과 price 변수 출력\n",
    "# head(diamonds[, c('carat','price')])\n",
    "# head(diamonds[.c(1,7)])\n",
    "# diamonds %>% select(carat, price) %>%  head()\n",
    "# head(select(diamonds, carat, price))\n",
    "# head(select(diamonds, 1, 7))"
   ]
  },
  {
   "cell_type": "code",
   "execution_count": 67,
   "id": "d8c7181d-0496-4c48-aac2-e801b261cb2b",
   "metadata": {},
   "outputs": [
    {
     "data": {
      "text/html": [
       "<table class=\"dataframe\">\n",
       "<caption>A tibble: 6 × 8</caption>\n",
       "<thead>\n",
       "\t<tr><th scope=col>cut</th><th scope=col>color</th><th scope=col>clarity</th><th scope=col>depth</th><th scope=col>table</th><th scope=col>x</th><th scope=col>y</th><th scope=col>z</th></tr>\n",
       "\t<tr><th scope=col>&lt;ord&gt;</th><th scope=col>&lt;ord&gt;</th><th scope=col>&lt;ord&gt;</th><th scope=col>&lt;dbl&gt;</th><th scope=col>&lt;dbl&gt;</th><th scope=col>&lt;dbl&gt;</th><th scope=col>&lt;dbl&gt;</th><th scope=col>&lt;dbl&gt;</th></tr>\n",
       "</thead>\n",
       "<tbody>\n",
       "\t<tr><td>Ideal    </td><td>E</td><td>SI2 </td><td>61.5</td><td>55</td><td>3.95</td><td>3.98</td><td>2.43</td></tr>\n",
       "\t<tr><td>Premium  </td><td>E</td><td>SI1 </td><td>59.8</td><td>61</td><td>3.89</td><td>3.84</td><td>2.31</td></tr>\n",
       "\t<tr><td>Good     </td><td>E</td><td>VS1 </td><td>56.9</td><td>65</td><td>4.05</td><td>4.07</td><td>2.31</td></tr>\n",
       "\t<tr><td>Premium  </td><td>I</td><td>VS2 </td><td>62.4</td><td>58</td><td>4.20</td><td>4.23</td><td>2.63</td></tr>\n",
       "\t<tr><td>Good     </td><td>J</td><td>SI2 </td><td>63.3</td><td>58</td><td>4.34</td><td>4.35</td><td>2.75</td></tr>\n",
       "\t<tr><td>Very Good</td><td>J</td><td>VVS2</td><td>62.8</td><td>57</td><td>3.94</td><td>3.96</td><td>2.48</td></tr>\n",
       "</tbody>\n",
       "</table>\n"
      ],
      "text/latex": [
       "A tibble: 6 × 8\n",
       "\\begin{tabular}{llllllll}\n",
       " cut & color & clarity & depth & table & x & y & z\\\\\n",
       " <ord> & <ord> & <ord> & <dbl> & <dbl> & <dbl> & <dbl> & <dbl>\\\\\n",
       "\\hline\n",
       "\t Ideal     & E & SI2  & 61.5 & 55 & 3.95 & 3.98 & 2.43\\\\\n",
       "\t Premium   & E & SI1  & 59.8 & 61 & 3.89 & 3.84 & 2.31\\\\\n",
       "\t Good      & E & VS1  & 56.9 & 65 & 4.05 & 4.07 & 2.31\\\\\n",
       "\t Premium   & I & VS2  & 62.4 & 58 & 4.20 & 4.23 & 2.63\\\\\n",
       "\t Good      & J & SI2  & 63.3 & 58 & 4.34 & 4.35 & 2.75\\\\\n",
       "\t Very Good & J & VVS2 & 62.8 & 57 & 3.94 & 3.96 & 2.48\\\\\n",
       "\\end{tabular}\n"
      ],
      "text/markdown": [
       "\n",
       "A tibble: 6 × 8\n",
       "\n",
       "| cut &lt;ord&gt; | color &lt;ord&gt; | clarity &lt;ord&gt; | depth &lt;dbl&gt; | table &lt;dbl&gt; | x &lt;dbl&gt; | y &lt;dbl&gt; | z &lt;dbl&gt; |\n",
       "|---|---|---|---|---|---|---|---|\n",
       "| Ideal     | E | SI2  | 61.5 | 55 | 3.95 | 3.98 | 2.43 |\n",
       "| Premium   | E | SI1  | 59.8 | 61 | 3.89 | 3.84 | 2.31 |\n",
       "| Good      | E | VS1  | 56.9 | 65 | 4.05 | 4.07 | 2.31 |\n",
       "| Premium   | I | VS2  | 62.4 | 58 | 4.20 | 4.23 | 2.63 |\n",
       "| Good      | J | SI2  | 63.3 | 58 | 4.34 | 4.35 | 2.75 |\n",
       "| Very Good | J | VVS2 | 62.8 | 57 | 3.94 | 3.96 | 2.48 |\n",
       "\n"
      ],
      "text/plain": [
       "  cut       color clarity depth table x    y    z   \n",
       "1 Ideal     E     SI2     61.5  55    3.95 3.98 2.43\n",
       "2 Premium   E     SI1     59.8  61    3.89 3.84 2.31\n",
       "3 Good      E     VS1     56.9  65    4.05 4.07 2.31\n",
       "4 Premium   I     VS2     62.4  58    4.20 4.23 2.63\n",
       "5 Good      J     SI2     63.3  58    4.34 4.35 2.75\n",
       "6 Very Good J     VVS2    62.8  57    3.94 3.96 2.48"
      ]
     },
     "metadata": {},
     "output_type": "display_data"
    }
   ],
   "source": [
    "# 변수들 중 carat, price 제외, 모두 출력\n",
    "# head(diamonds[, -c('carat', 'price')] )\n",
    " diamonds %>% select(-carat, -price) %>% head()\n",
    "# diamonds %>% select(-1, -7) %>% head()\n",
    "# diamonds %>% select(-c(carat, price)) %>% head()\n",
    "# head(select(diamonds, -carat, -price))\n",
    "# head(select(diamonds, -c(carat, price)))"
   ]
  },
  {
   "cell_type": "code",
   "execution_count": 68,
   "id": "f76a0916-d641-44fd-9691-4e46eb30d45b",
   "metadata": {},
   "outputs": [],
   "source": [
    "# 변수명 중 c로 시작하는 것만 출력 : starts_with\n",
    "# diamonds[, starts_with('c')] # 실행 오류\n",
    "# head(diamonds %>% select(starts_with('c')))\n",
    "# head(select(diamonds, starts_with('c')))\n"
   ]
  },
  {
   "cell_type": "code",
   "execution_count": 69,
   "id": "cbbb9603-9672-4706-a22d-1615dc41e231",
   "metadata": {},
   "outputs": [],
   "source": [
    "# 변수명 중 e로 끝나는 것만 출력 : ends_with\n",
    "# head(diamonds %>% select(ends_with('e')))"
   ]
  },
  {
   "cell_type": "code",
   "execution_count": 70,
   "id": "f77ea720-b393-4002-89cd-36d32e13ad6f",
   "metadata": {},
   "outputs": [
    {
     "data": {
      "text/html": [
       "<table class=\"dataframe\">\n",
       "<caption>A tibble: 6 × 3</caption>\n",
       "<thead>\n",
       "\t<tr><th scope=col>color</th><th scope=col>clarity</th><th scope=col>table</th></tr>\n",
       "\t<tr><th scope=col>&lt;ord&gt;</th><th scope=col>&lt;ord&gt;</th><th scope=col>&lt;dbl&gt;</th></tr>\n",
       "</thead>\n",
       "<tbody>\n",
       "\t<tr><td>E</td><td>SI2 </td><td>55</td></tr>\n",
       "\t<tr><td>E</td><td>SI1 </td><td>61</td></tr>\n",
       "\t<tr><td>E</td><td>VS1 </td><td>65</td></tr>\n",
       "\t<tr><td>I</td><td>VS2 </td><td>58</td></tr>\n",
       "\t<tr><td>J</td><td>SI2 </td><td>58</td></tr>\n",
       "\t<tr><td>J</td><td>VVS2</td><td>57</td></tr>\n",
       "</tbody>\n",
       "</table>\n"
      ],
      "text/latex": [
       "A tibble: 6 × 3\n",
       "\\begin{tabular}{lll}\n",
       " color & clarity & table\\\\\n",
       " <ord> & <ord> & <dbl>\\\\\n",
       "\\hline\n",
       "\t E & SI2  & 55\\\\\n",
       "\t E & SI1  & 61\\\\\n",
       "\t E & VS1  & 65\\\\\n",
       "\t I & VS2  & 58\\\\\n",
       "\t J & SI2  & 58\\\\\n",
       "\t J & VVS2 & 57\\\\\n",
       "\\end{tabular}\n"
      ],
      "text/markdown": [
       "\n",
       "A tibble: 6 × 3\n",
       "\n",
       "| color &lt;ord&gt; | clarity &lt;ord&gt; | table &lt;dbl&gt; |\n",
       "|---|---|---|\n",
       "| E | SI2  | 55 |\n",
       "| E | SI1  | 61 |\n",
       "| E | VS1  | 65 |\n",
       "| I | VS2  | 58 |\n",
       "| J | SI2  | 58 |\n",
       "| J | VVS2 | 57 |\n",
       "\n"
      ],
      "text/plain": [
       "  color clarity table\n",
       "1 E     SI2     55   \n",
       "2 E     SI1     61   \n",
       "3 E     VS1     65   \n",
       "4 I     VS2     58   \n",
       "5 J     SI2     58   \n",
       "6 J     VVS2    57   "
      ]
     },
     "metadata": {},
     "output_type": "display_data"
    }
   ],
   "source": [
    "# 변수명중 l을 포함하는 것만 출력 :contains/ matches\n",
    "head(diamonds %>% select(contains('l')))"
   ]
  },
  {
   "cell_type": "code",
   "execution_count": 71,
   "id": "4614e087-2ab5-4a1f-892a-ace5acf22322",
   "metadata": {},
   "outputs": [
    {
     "data": {
      "text/html": [
       "<table class=\"dataframe\">\n",
       "<caption>A tibble: 6 × 2</caption>\n",
       "<thead>\n",
       "\t<tr><th scope=col>carat</th><th scope=col>clarity</th></tr>\n",
       "\t<tr><th scope=col>&lt;dbl&gt;</th><th scope=col>&lt;ord&gt;</th></tr>\n",
       "</thead>\n",
       "<tbody>\n",
       "\t<tr><td>0.23</td><td>SI2 </td></tr>\n",
       "\t<tr><td>0.21</td><td>SI1 </td></tr>\n",
       "\t<tr><td>0.23</td><td>VS1 </td></tr>\n",
       "\t<tr><td>0.29</td><td>VS2 </td></tr>\n",
       "\t<tr><td>0.31</td><td>SI2 </td></tr>\n",
       "\t<tr><td>0.24</td><td>VVS2</td></tr>\n",
       "</tbody>\n",
       "</table>\n"
      ],
      "text/latex": [
       "A tibble: 6 × 2\n",
       "\\begin{tabular}{ll}\n",
       " carat & clarity\\\\\n",
       " <dbl> & <ord>\\\\\n",
       "\\hline\n",
       "\t 0.23 & SI2 \\\\\n",
       "\t 0.21 & SI1 \\\\\n",
       "\t 0.23 & VS1 \\\\\n",
       "\t 0.29 & VS2 \\\\\n",
       "\t 0.31 & SI2 \\\\\n",
       "\t 0.24 & VVS2\\\\\n",
       "\\end{tabular}\n"
      ],
      "text/markdown": [
       "\n",
       "A tibble: 6 × 2\n",
       "\n",
       "| carat &lt;dbl&gt; | clarity &lt;ord&gt; |\n",
       "|---|---|\n",
       "| 0.23 | SI2  |\n",
       "| 0.21 | SI1  |\n",
       "| 0.23 | VS1  |\n",
       "| 0.29 | VS2  |\n",
       "| 0.31 | SI2  |\n",
       "| 0.24 | VVS2 |\n",
       "\n"
      ],
      "text/plain": [
       "  carat clarity\n",
       "1 0.23  SI2    \n",
       "2 0.21  SI1    \n",
       "3 0.23  VS1    \n",
       "4 0.29  VS2    \n",
       "5 0.31  SI2    \n",
       "6 0.24  VVS2   "
      ]
     },
     "metadata": {},
     "output_type": "display_data"
    }
   ],
   "source": [
    "# 변수명중 r과 t를 포함 \n",
    "# head(diamonds %>% select(contains('r') & contains('t')))\n",
    "# diamonds %>% select(contains('r') & contains('t')) %>% head()\n",
    "# diamonds %>% select(matches('r.t')) %>% head()\n",
    "diamonds %>% select(matches('r.+t')) %>% head()"
   ]
  },
  {
   "cell_type": "code",
   "execution_count": 72,
   "id": "d65c43ca-cb42-4c6a-a375-f56d68eec3e9",
   "metadata": {},
   "outputs": [
    {
     "data": {
      "text/html": [
       "<table class=\"dataframe\">\n",
       "<caption>A tibble: 6 × 10</caption>\n",
       "<thead>\n",
       "\t<tr><th scope=col>carat</th><th scope=col>cut</th><th scope=col>color</th><th scope=col>clarity</th><th scope=col>depth</th><th scope=col>table</th><th scope=col>price</th><th scope=col>x</th><th scope=col>y</th><th scope=col>z</th></tr>\n",
       "\t<tr><th scope=col>&lt;dbl&gt;</th><th scope=col>&lt;ord&gt;</th><th scope=col>&lt;ord&gt;</th><th scope=col>&lt;ord&gt;</th><th scope=col>&lt;dbl&gt;</th><th scope=col>&lt;dbl&gt;</th><th scope=col>&lt;int&gt;</th><th scope=col>&lt;dbl&gt;</th><th scope=col>&lt;dbl&gt;</th><th scope=col>&lt;dbl&gt;</th></tr>\n",
       "</thead>\n",
       "<tbody>\n",
       "\t<tr><td>0.23</td><td>Ideal</td><td>E</td><td>SI2</td><td>61.5</td><td>55</td><td>326</td><td>3.95</td><td>3.98</td><td>2.43</td></tr>\n",
       "\t<tr><td>0.23</td><td>Ideal</td><td>J</td><td>VS1</td><td>62.8</td><td>56</td><td>340</td><td>3.93</td><td>3.90</td><td>2.46</td></tr>\n",
       "\t<tr><td>0.31</td><td>Ideal</td><td>J</td><td>SI2</td><td>62.2</td><td>54</td><td>344</td><td>4.35</td><td>4.37</td><td>2.71</td></tr>\n",
       "\t<tr><td>0.30</td><td>Ideal</td><td>I</td><td>SI2</td><td>62.0</td><td>54</td><td>348</td><td>4.31</td><td>4.34</td><td>2.68</td></tr>\n",
       "\t<tr><td>0.33</td><td>Ideal</td><td>I</td><td>SI2</td><td>61.8</td><td>55</td><td>403</td><td>4.49</td><td>4.51</td><td>2.78</td></tr>\n",
       "\t<tr><td>0.33</td><td>Ideal</td><td>I</td><td>SI2</td><td>61.2</td><td>56</td><td>403</td><td>4.49</td><td>4.50</td><td>2.75</td></tr>\n",
       "</tbody>\n",
       "</table>\n"
      ],
      "text/latex": [
       "A tibble: 6 × 10\n",
       "\\begin{tabular}{llllllllll}\n",
       " carat & cut & color & clarity & depth & table & price & x & y & z\\\\\n",
       " <dbl> & <ord> & <ord> & <ord> & <dbl> & <dbl> & <int> & <dbl> & <dbl> & <dbl>\\\\\n",
       "\\hline\n",
       "\t 0.23 & Ideal & E & SI2 & 61.5 & 55 & 326 & 3.95 & 3.98 & 2.43\\\\\n",
       "\t 0.23 & Ideal & J & VS1 & 62.8 & 56 & 340 & 3.93 & 3.90 & 2.46\\\\\n",
       "\t 0.31 & Ideal & J & SI2 & 62.2 & 54 & 344 & 4.35 & 4.37 & 2.71\\\\\n",
       "\t 0.30 & Ideal & I & SI2 & 62.0 & 54 & 348 & 4.31 & 4.34 & 2.68\\\\\n",
       "\t 0.33 & Ideal & I & SI2 & 61.8 & 55 & 403 & 4.49 & 4.51 & 2.78\\\\\n",
       "\t 0.33 & Ideal & I & SI2 & 61.2 & 56 & 403 & 4.49 & 4.50 & 2.75\\\\\n",
       "\\end{tabular}\n"
      ],
      "text/markdown": [
       "\n",
       "A tibble: 6 × 10\n",
       "\n",
       "| carat &lt;dbl&gt; | cut &lt;ord&gt; | color &lt;ord&gt; | clarity &lt;ord&gt; | depth &lt;dbl&gt; | table &lt;dbl&gt; | price &lt;int&gt; | x &lt;dbl&gt; | y &lt;dbl&gt; | z &lt;dbl&gt; |\n",
       "|---|---|---|---|---|---|---|---|---|---|\n",
       "| 0.23 | Ideal | E | SI2 | 61.5 | 55 | 326 | 3.95 | 3.98 | 2.43 |\n",
       "| 0.23 | Ideal | J | VS1 | 62.8 | 56 | 340 | 3.93 | 3.90 | 2.46 |\n",
       "| 0.31 | Ideal | J | SI2 | 62.2 | 54 | 344 | 4.35 | 4.37 | 2.71 |\n",
       "| 0.30 | Ideal | I | SI2 | 62.0 | 54 | 348 | 4.31 | 4.34 | 2.68 |\n",
       "| 0.33 | Ideal | I | SI2 | 61.8 | 55 | 403 | 4.49 | 4.51 | 2.78 |\n",
       "| 0.33 | Ideal | I | SI2 | 61.2 | 56 | 403 | 4.49 | 4.50 | 2.75 |\n",
       "\n"
      ],
      "text/plain": [
       "  carat cut   color clarity depth table price x    y    z   \n",
       "1 0.23  Ideal E     SI2     61.5  55    326   3.95 3.98 2.43\n",
       "2 0.23  Ideal J     VS1     62.8  56    340   3.93 3.90 2.46\n",
       "3 0.31  Ideal J     SI2     62.2  54    344   4.35 4.37 2.71\n",
       "4 0.30  Ideal I     SI2     62.0  54    348   4.31 4.34 2.68\n",
       "5 0.33  Ideal I     SI2     61.8  55    403   4.49 4.51 2.78\n",
       "6 0.33  Ideal I     SI2     61.2  56    403   4.49 4.50 2.75"
      ]
     },
     "metadata": {},
     "output_type": "display_data"
    }
   ],
   "source": [
    "# cut 변수 값 중 'Ideal'인 데이터 조회\n",
    "# head(diamonds[diamonds$cut == 'Ideal',])\n",
    "diamonds %>% filter(cut == 'Ideal') %>% head()\n",
    "# head(filter(diamonds, cut == 'Ideal'))"
   ]
  },
  {
   "cell_type": "code",
   "execution_count": 73,
   "id": "e0ff18ea-f092-4f8d-ae22-407d8766827f",
   "metadata": {},
   "outputs": [
    {
     "data": {
      "text/html": [
       "<table class=\"dataframe\">\n",
       "<caption>A tibble: 6 × 10</caption>\n",
       "<thead>\n",
       "\t<tr><th scope=col>carat</th><th scope=col>cut</th><th scope=col>color</th><th scope=col>clarity</th><th scope=col>depth</th><th scope=col>table</th><th scope=col>price</th><th scope=col>x</th><th scope=col>y</th><th scope=col>z</th></tr>\n",
       "\t<tr><th scope=col>&lt;dbl&gt;</th><th scope=col>&lt;ord&gt;</th><th scope=col>&lt;ord&gt;</th><th scope=col>&lt;ord&gt;</th><th scope=col>&lt;dbl&gt;</th><th scope=col>&lt;dbl&gt;</th><th scope=col>&lt;int&gt;</th><th scope=col>&lt;dbl&gt;</th><th scope=col>&lt;dbl&gt;</th><th scope=col>&lt;dbl&gt;</th></tr>\n",
       "</thead>\n",
       "<tbody>\n",
       "\t<tr><td>0.70</td><td>Ideal    </td><td>E</td><td>SI1</td><td>62.5</td><td>57</td><td>2757</td><td>5.70</td><td>5.72</td><td>3.57</td></tr>\n",
       "\t<tr><td>0.86</td><td>Fair     </td><td>E</td><td>SI2</td><td>55.1</td><td>69</td><td>2757</td><td>6.45</td><td>6.33</td><td>3.52</td></tr>\n",
       "\t<tr><td>0.70</td><td>Ideal    </td><td>G</td><td>VS2</td><td>61.6</td><td>56</td><td>2757</td><td>5.70</td><td>5.67</td><td>3.50</td></tr>\n",
       "\t<tr><td>0.71</td><td>Very Good</td><td>E</td><td>VS2</td><td>62.4</td><td>57</td><td>2759</td><td>5.68</td><td>5.73</td><td>3.56</td></tr>\n",
       "\t<tr><td>0.78</td><td>Very Good</td><td>G</td><td>SI2</td><td>63.8</td><td>56</td><td>2759</td><td>5.81</td><td>5.85</td><td>3.72</td></tr>\n",
       "\t<tr><td>0.70</td><td>Good     </td><td>E</td><td>VS2</td><td>57.5</td><td>58</td><td>2759</td><td>5.85</td><td>5.90</td><td>3.38</td></tr>\n",
       "</tbody>\n",
       "</table>\n"
      ],
      "text/latex": [
       "A tibble: 6 × 10\n",
       "\\begin{tabular}{llllllllll}\n",
       " carat & cut & color & clarity & depth & table & price & x & y & z\\\\\n",
       " <dbl> & <ord> & <ord> & <ord> & <dbl> & <dbl> & <int> & <dbl> & <dbl> & <dbl>\\\\\n",
       "\\hline\n",
       "\t 0.70 & Ideal     & E & SI1 & 62.5 & 57 & 2757 & 5.70 & 5.72 & 3.57\\\\\n",
       "\t 0.86 & Fair      & E & SI2 & 55.1 & 69 & 2757 & 6.45 & 6.33 & 3.52\\\\\n",
       "\t 0.70 & Ideal     & G & VS2 & 61.6 & 56 & 2757 & 5.70 & 5.67 & 3.50\\\\\n",
       "\t 0.71 & Very Good & E & VS2 & 62.4 & 57 & 2759 & 5.68 & 5.73 & 3.56\\\\\n",
       "\t 0.78 & Very Good & G & SI2 & 63.8 & 56 & 2759 & 5.81 & 5.85 & 3.72\\\\\n",
       "\t 0.70 & Good      & E & VS2 & 57.5 & 58 & 2759 & 5.85 & 5.90 & 3.38\\\\\n",
       "\\end{tabular}\n"
      ],
      "text/markdown": [
       "\n",
       "A tibble: 6 × 10\n",
       "\n",
       "| carat &lt;dbl&gt; | cut &lt;ord&gt; | color &lt;ord&gt; | clarity &lt;ord&gt; | depth &lt;dbl&gt; | table &lt;dbl&gt; | price &lt;int&gt; | x &lt;dbl&gt; | y &lt;dbl&gt; | z &lt;dbl&gt; |\n",
       "|---|---|---|---|---|---|---|---|---|---|\n",
       "| 0.70 | Ideal     | E | SI1 | 62.5 | 57 | 2757 | 5.70 | 5.72 | 3.57 |\n",
       "| 0.86 | Fair      | E | SI2 | 55.1 | 69 | 2757 | 6.45 | 6.33 | 3.52 |\n",
       "| 0.70 | Ideal     | G | VS2 | 61.6 | 56 | 2757 | 5.70 | 5.67 | 3.50 |\n",
       "| 0.71 | Very Good | E | VS2 | 62.4 | 57 | 2759 | 5.68 | 5.73 | 3.56 |\n",
       "| 0.78 | Very Good | G | SI2 | 63.8 | 56 | 2759 | 5.81 | 5.85 | 3.72 |\n",
       "| 0.70 | Good      | E | VS2 | 57.5 | 58 | 2759 | 5.85 | 5.90 | 3.38 |\n",
       "\n"
      ],
      "text/plain": [
       "  carat cut       color clarity depth table price x    y    z   \n",
       "1 0.70  Ideal     E     SI1     62.5  57    2757  5.70 5.72 3.57\n",
       "2 0.86  Fair      E     SI2     55.1  69    2757  6.45 6.33 3.52\n",
       "3 0.70  Ideal     G     VS2     61.6  56    2757  5.70 5.67 3.50\n",
       "4 0.71  Very Good E     VS2     62.4  57    2759  5.68 5.73 3.56\n",
       "5 0.78  Very Good G     SI2     63.8  56    2759  5.81 5.85 3.72\n",
       "6 0.70  Good      E     VS2     57.5  58    2759  5.85 5.90 3.38"
      ]
     },
     "metadata": {},
     "output_type": "display_data"
    }
   ],
   "source": [
    "# price가 1000 이상인 데이터 조회\n",
    "# head(diamonds[diamonds$price >= 1000, ])\n",
    "diamonds %>% filter(price >= 1000) %>% head()\n",
    "# head( filter(diamonds, price >= 1000))"
   ]
  },
  {
   "cell_type": "code",
   "execution_count": 74,
   "id": "7c859d29-55d5-4dca-a46e-3e73c3723811",
   "metadata": {},
   "outputs": [
    {
     "data": {
      "text/html": [
       "<table class=\"dataframe\">\n",
       "<caption>A tibble: 6 × 10</caption>\n",
       "<thead>\n",
       "\t<tr><th scope=col>carat</th><th scope=col>cut</th><th scope=col>color</th><th scope=col>clarity</th><th scope=col>depth</th><th scope=col>table</th><th scope=col>price</th><th scope=col>x</th><th scope=col>y</th><th scope=col>z</th></tr>\n",
       "\t<tr><th scope=col>&lt;dbl&gt;</th><th scope=col>&lt;ord&gt;</th><th scope=col>&lt;ord&gt;</th><th scope=col>&lt;ord&gt;</th><th scope=col>&lt;dbl&gt;</th><th scope=col>&lt;dbl&gt;</th><th scope=col>&lt;int&gt;</th><th scope=col>&lt;dbl&gt;</th><th scope=col>&lt;dbl&gt;</th><th scope=col>&lt;dbl&gt;</th></tr>\n",
       "</thead>\n",
       "<tbody>\n",
       "\t<tr><td>2.00</td><td>Premium</td><td>J</td><td>I1</td><td>61.5</td><td>59</td><td>5051</td><td>8.11</td><td>8.06</td><td>4.97</td></tr>\n",
       "\t<tr><td>2.06</td><td>Premium</td><td>J</td><td>I1</td><td>61.2</td><td>58</td><td>5203</td><td>8.10</td><td>8.07</td><td>4.95</td></tr>\n",
       "\t<tr><td>2.14</td><td>Fair   </td><td>J</td><td>I1</td><td>69.4</td><td>57</td><td>5405</td><td>7.74</td><td>7.70</td><td>5.36</td></tr>\n",
       "\t<tr><td>2.15</td><td>Fair   </td><td>J</td><td>I1</td><td>65.5</td><td>57</td><td>5430</td><td>8.01</td><td>7.95</td><td>5.23</td></tr>\n",
       "\t<tr><td>2.22</td><td>Fair   </td><td>J</td><td>I1</td><td>66.7</td><td>56</td><td>5607</td><td>8.04</td><td>8.02</td><td>5.36</td></tr>\n",
       "\t<tr><td>2.00</td><td>Fair   </td><td>I</td><td>I1</td><td>66.0</td><td>60</td><td>5667</td><td>7.78</td><td>7.74</td><td>5.10</td></tr>\n",
       "</tbody>\n",
       "</table>\n"
      ],
      "text/latex": [
       "A tibble: 6 × 10\n",
       "\\begin{tabular}{llllllllll}\n",
       " carat & cut & color & clarity & depth & table & price & x & y & z\\\\\n",
       " <dbl> & <ord> & <ord> & <ord> & <dbl> & <dbl> & <int> & <dbl> & <dbl> & <dbl>\\\\\n",
       "\\hline\n",
       "\t 2.00 & Premium & J & I1 & 61.5 & 59 & 5051 & 8.11 & 8.06 & 4.97\\\\\n",
       "\t 2.06 & Premium & J & I1 & 61.2 & 58 & 5203 & 8.10 & 8.07 & 4.95\\\\\n",
       "\t 2.14 & Fair    & J & I1 & 69.4 & 57 & 5405 & 7.74 & 7.70 & 5.36\\\\\n",
       "\t 2.15 & Fair    & J & I1 & 65.5 & 57 & 5430 & 8.01 & 7.95 & 5.23\\\\\n",
       "\t 2.22 & Fair    & J & I1 & 66.7 & 56 & 5607 & 8.04 & 8.02 & 5.36\\\\\n",
       "\t 2.00 & Fair    & I & I1 & 66.0 & 60 & 5667 & 7.78 & 7.74 & 5.10\\\\\n",
       "\\end{tabular}\n"
      ],
      "text/markdown": [
       "\n",
       "A tibble: 6 × 10\n",
       "\n",
       "| carat &lt;dbl&gt; | cut &lt;ord&gt; | color &lt;ord&gt; | clarity &lt;ord&gt; | depth &lt;dbl&gt; | table &lt;dbl&gt; | price &lt;int&gt; | x &lt;dbl&gt; | y &lt;dbl&gt; | z &lt;dbl&gt; |\n",
       "|---|---|---|---|---|---|---|---|---|---|\n",
       "| 2.00 | Premium | J | I1 | 61.5 | 59 | 5051 | 8.11 | 8.06 | 4.97 |\n",
       "| 2.06 | Premium | J | I1 | 61.2 | 58 | 5203 | 8.10 | 8.07 | 4.95 |\n",
       "| 2.14 | Fair    | J | I1 | 69.4 | 57 | 5405 | 7.74 | 7.70 | 5.36 |\n",
       "| 2.15 | Fair    | J | I1 | 65.5 | 57 | 5430 | 8.01 | 7.95 | 5.23 |\n",
       "| 2.22 | Fair    | J | I1 | 66.7 | 56 | 5607 | 8.04 | 8.02 | 5.36 |\n",
       "| 2.00 | Fair    | I | I1 | 66.0 | 60 | 5667 | 7.78 | 7.74 | 5.10 |\n",
       "\n"
      ],
      "text/plain": [
       "  carat cut     color clarity depth table price x    y    z   \n",
       "1 2.00  Premium J     I1      61.5  59    5051  8.11 8.06 4.97\n",
       "2 2.06  Premium J     I1      61.2  58    5203  8.10 8.07 4.95\n",
       "3 2.14  Fair    J     I1      69.4  57    5405  7.74 7.70 5.36\n",
       "4 2.15  Fair    J     I1      65.5  57    5430  8.01 7.95 5.23\n",
       "5 2.22  Fair    J     I1      66.7  56    5607  8.04 8.02 5.36\n",
       "6 2.00  Fair    I     I1      66.0  60    5667  7.78 7.74 5.10"
      ]
     },
     "metadata": {},
     "output_type": "display_data"
    }
   ],
   "source": [
    "# carat이 2이상, price가 14000이하 데이터 조회\n",
    "# head(diamonds[diamonds$carat >= 2 & diamonds$price <= 14000,])\n",
    "diamonds %>% filter(carat >= 2 & price <= 14000) %>% head()\n",
    "# head(filter(diamonds, carat >= 2 & price <= 14000))"
   ]
  },
  {
   "cell_type": "code",
   "execution_count": 75,
   "id": "85425691-bf64-4302-baa1-91d0b5b9c90f",
   "metadata": {},
   "outputs": [
    {
     "data": {
      "text/html": [
       "<table class=\"dataframe\">\n",
       "<caption>A tibble: 6 × 10</caption>\n",
       "<thead>\n",
       "\t<tr><th scope=col>carat</th><th scope=col>cut</th><th scope=col>color</th><th scope=col>clarity</th><th scope=col>depth</th><th scope=col>table</th><th scope=col>price</th><th scope=col>x</th><th scope=col>y</th><th scope=col>z</th></tr>\n",
       "\t<tr><th scope=col>&lt;dbl&gt;</th><th scope=col>&lt;ord&gt;</th><th scope=col>&lt;ord&gt;</th><th scope=col>&lt;ord&gt;</th><th scope=col>&lt;dbl&gt;</th><th scope=col>&lt;dbl&gt;</th><th scope=col>&lt;int&gt;</th><th scope=col>&lt;dbl&gt;</th><th scope=col>&lt;dbl&gt;</th><th scope=col>&lt;dbl&gt;</th></tr>\n",
       "</thead>\n",
       "<tbody>\n",
       "\t<tr><td>0.23</td><td>Ideal    </td><td>E</td><td>SI2 </td><td>61.5</td><td>55</td><td>326</td><td>3.95</td><td>3.98</td><td>2.43</td></tr>\n",
       "\t<tr><td>0.21</td><td>Premium  </td><td>E</td><td>SI1 </td><td>59.8</td><td>61</td><td>326</td><td>3.89</td><td>3.84</td><td>2.31</td></tr>\n",
       "\t<tr><td>0.23</td><td>Good     </td><td>E</td><td>VS1 </td><td>56.9</td><td>65</td><td>327</td><td>4.05</td><td>4.07</td><td>2.31</td></tr>\n",
       "\t<tr><td>0.29</td><td>Premium  </td><td>I</td><td>VS2 </td><td>62.4</td><td>58</td><td>334</td><td>4.20</td><td>4.23</td><td>2.63</td></tr>\n",
       "\t<tr><td>0.31</td><td>Good     </td><td>J</td><td>SI2 </td><td>63.3</td><td>58</td><td>335</td><td>4.34</td><td>4.35</td><td>2.75</td></tr>\n",
       "\t<tr><td>0.24</td><td>Very Good</td><td>J</td><td>VVS2</td><td>62.8</td><td>57</td><td>336</td><td>3.94</td><td>3.96</td><td>2.48</td></tr>\n",
       "</tbody>\n",
       "</table>\n"
      ],
      "text/latex": [
       "A tibble: 6 × 10\n",
       "\\begin{tabular}{llllllllll}\n",
       " carat & cut & color & clarity & depth & table & price & x & y & z\\\\\n",
       " <dbl> & <ord> & <ord> & <ord> & <dbl> & <dbl> & <int> & <dbl> & <dbl> & <dbl>\\\\\n",
       "\\hline\n",
       "\t 0.23 & Ideal     & E & SI2  & 61.5 & 55 & 326 & 3.95 & 3.98 & 2.43\\\\\n",
       "\t 0.21 & Premium   & E & SI1  & 59.8 & 61 & 326 & 3.89 & 3.84 & 2.31\\\\\n",
       "\t 0.23 & Good      & E & VS1  & 56.9 & 65 & 327 & 4.05 & 4.07 & 2.31\\\\\n",
       "\t 0.29 & Premium   & I & VS2  & 62.4 & 58 & 334 & 4.20 & 4.23 & 2.63\\\\\n",
       "\t 0.31 & Good      & J & SI2  & 63.3 & 58 & 335 & 4.34 & 4.35 & 2.75\\\\\n",
       "\t 0.24 & Very Good & J & VVS2 & 62.8 & 57 & 336 & 3.94 & 3.96 & 2.48\\\\\n",
       "\\end{tabular}\n"
      ],
      "text/markdown": [
       "\n",
       "A tibble: 6 × 10\n",
       "\n",
       "| carat &lt;dbl&gt; | cut &lt;ord&gt; | color &lt;ord&gt; | clarity &lt;ord&gt; | depth &lt;dbl&gt; | table &lt;dbl&gt; | price &lt;int&gt; | x &lt;dbl&gt; | y &lt;dbl&gt; | z &lt;dbl&gt; |\n",
       "|---|---|---|---|---|---|---|---|---|---|\n",
       "| 0.23 | Ideal     | E | SI2  | 61.5 | 55 | 326 | 3.95 | 3.98 | 2.43 |\n",
       "| 0.21 | Premium   | E | SI1  | 59.8 | 61 | 326 | 3.89 | 3.84 | 2.31 |\n",
       "| 0.23 | Good      | E | VS1  | 56.9 | 65 | 327 | 4.05 | 4.07 | 2.31 |\n",
       "| 0.29 | Premium   | I | VS2  | 62.4 | 58 | 334 | 4.20 | 4.23 | 2.63 |\n",
       "| 0.31 | Good      | J | SI2  | 63.3 | 58 | 335 | 4.34 | 4.35 | 2.75 |\n",
       "| 0.24 | Very Good | J | VVS2 | 62.8 | 57 | 336 | 3.94 | 3.96 | 2.48 |\n",
       "\n"
      ],
      "text/plain": [
       "  carat cut       color clarity depth table price x    y    z   \n",
       "1 0.23  Ideal     E     SI2     61.5  55    326   3.95 3.98 2.43\n",
       "2 0.21  Premium   E     SI1     59.8  61    326   3.89 3.84 2.31\n",
       "3 0.23  Good      E     VS1     56.9  65    327   4.05 4.07 2.31\n",
       "4 0.29  Premium   I     VS2     62.4  58    334   4.20 4.23 2.63\n",
       "5 0.31  Good      J     SI2     63.3  58    335   4.34 4.35 2.75\n",
       "6 0.24  Very Good J     VVS2    62.8  57    336   3.94 3.96 2.48"
      ]
     },
     "metadata": {},
     "output_type": "display_data"
    }
   ],
   "source": [
    "# carat이 1초과 5미안인 데이터 조회\n",
    "# head(diamonds[diamonds$carat >1 | diamonds$carat < 5, ])\n",
    "diamonds %>% filter(carat >1 | carat < 5) %>% head()"
   ]
  },
  {
   "cell_type": "code",
   "execution_count": 76,
   "id": "abf4207a-69e0-4c30-844f-512cef42fbde",
   "metadata": {},
   "outputs": [
    {
     "data": {
      "text/html": [
       "<table class=\"dataframe\">\n",
       "<caption>A tibble: 6 × 10</caption>\n",
       "<thead>\n",
       "\t<tr><th scope=col>carat</th><th scope=col>cut</th><th scope=col>color</th><th scope=col>clarity</th><th scope=col>depth</th><th scope=col>table</th><th scope=col>price</th><th scope=col>x</th><th scope=col>y</th><th scope=col>z</th></tr>\n",
       "\t<tr><th scope=col>&lt;dbl&gt;</th><th scope=col>&lt;ord&gt;</th><th scope=col>&lt;ord&gt;</th><th scope=col>&lt;ord&gt;</th><th scope=col>&lt;dbl&gt;</th><th scope=col>&lt;dbl&gt;</th><th scope=col>&lt;int&gt;</th><th scope=col>&lt;dbl&gt;</th><th scope=col>&lt;dbl&gt;</th><th scope=col>&lt;dbl&gt;</th></tr>\n",
       "</thead>\n",
       "<tbody>\n",
       "\t<tr><td>0.23</td><td>Ideal</td><td>E</td><td>SI2</td><td>61.5</td><td>55</td><td>326</td><td>3.95</td><td>3.98</td><td>2.43</td></tr>\n",
       "\t<tr><td>0.23</td><td>Good </td><td>E</td><td>VS1</td><td>56.9</td><td>65</td><td>327</td><td>4.05</td><td>4.07</td><td>2.31</td></tr>\n",
       "\t<tr><td>0.31</td><td>Good </td><td>J</td><td>SI2</td><td>63.3</td><td>58</td><td>335</td><td>4.34</td><td>4.35</td><td>2.75</td></tr>\n",
       "\t<tr><td>0.30</td><td>Good </td><td>J</td><td>SI1</td><td>64.0</td><td>55</td><td>339</td><td>4.25</td><td>4.28</td><td>2.73</td></tr>\n",
       "\t<tr><td>0.23</td><td>Ideal</td><td>J</td><td>VS1</td><td>62.8</td><td>56</td><td>340</td><td>3.93</td><td>3.90</td><td>2.46</td></tr>\n",
       "\t<tr><td>0.31</td><td>Ideal</td><td>J</td><td>SI2</td><td>62.2</td><td>54</td><td>344</td><td>4.35</td><td>4.37</td><td>2.71</td></tr>\n",
       "</tbody>\n",
       "</table>\n"
      ],
      "text/latex": [
       "A tibble: 6 × 10\n",
       "\\begin{tabular}{llllllllll}\n",
       " carat & cut & color & clarity & depth & table & price & x & y & z\\\\\n",
       " <dbl> & <ord> & <ord> & <ord> & <dbl> & <dbl> & <int> & <dbl> & <dbl> & <dbl>\\\\\n",
       "\\hline\n",
       "\t 0.23 & Ideal & E & SI2 & 61.5 & 55 & 326 & 3.95 & 3.98 & 2.43\\\\\n",
       "\t 0.23 & Good  & E & VS1 & 56.9 & 65 & 327 & 4.05 & 4.07 & 2.31\\\\\n",
       "\t 0.31 & Good  & J & SI2 & 63.3 & 58 & 335 & 4.34 & 4.35 & 2.75\\\\\n",
       "\t 0.30 & Good  & J & SI1 & 64.0 & 55 & 339 & 4.25 & 4.28 & 2.73\\\\\n",
       "\t 0.23 & Ideal & J & VS1 & 62.8 & 56 & 340 & 3.93 & 3.90 & 2.46\\\\\n",
       "\t 0.31 & Ideal & J & SI2 & 62.2 & 54 & 344 & 4.35 & 4.37 & 2.71\\\\\n",
       "\\end{tabular}\n"
      ],
      "text/markdown": [
       "\n",
       "A tibble: 6 × 10\n",
       "\n",
       "| carat &lt;dbl&gt; | cut &lt;ord&gt; | color &lt;ord&gt; | clarity &lt;ord&gt; | depth &lt;dbl&gt; | table &lt;dbl&gt; | price &lt;int&gt; | x &lt;dbl&gt; | y &lt;dbl&gt; | z &lt;dbl&gt; |\n",
       "|---|---|---|---|---|---|---|---|---|---|\n",
       "| 0.23 | Ideal | E | SI2 | 61.5 | 55 | 326 | 3.95 | 3.98 | 2.43 |\n",
       "| 0.23 | Good  | E | VS1 | 56.9 | 65 | 327 | 4.05 | 4.07 | 2.31 |\n",
       "| 0.31 | Good  | J | SI2 | 63.3 | 58 | 335 | 4.34 | 4.35 | 2.75 |\n",
       "| 0.30 | Good  | J | SI1 | 64.0 | 55 | 339 | 4.25 | 4.28 | 2.73 |\n",
       "| 0.23 | Ideal | J | VS1 | 62.8 | 56 | 340 | 3.93 | 3.90 | 2.46 |\n",
       "| 0.31 | Ideal | J | SI2 | 62.2 | 54 | 344 | 4.35 | 4.37 | 2.71 |\n",
       "\n"
      ],
      "text/plain": [
       "  carat cut   color clarity depth table price x    y    z   \n",
       "1 0.23  Ideal E     SI2     61.5  55    326   3.95 3.98 2.43\n",
       "2 0.23  Good  E     VS1     56.9  65    327   4.05 4.07 2.31\n",
       "3 0.31  Good  J     SI2     63.3  58    335   4.34 4.35 2.75\n",
       "4 0.30  Good  J     SI1     64.0  55    339   4.25 4.28 2.73\n",
       "5 0.23  Ideal J     VS1     62.8  56    340   3.93 3.90 2.46\n",
       "6 0.31  Ideal J     SI2     62.2  54    344   4.35 4.37 2.71"
      ]
     },
     "metadata": {},
     "output_type": "display_data"
    }
   ],
   "source": [
    "# cut이 'Ideal'이거나 'Good'인 데이터 조회\n",
    "# head(diamonds[diamonds$cut == 'Ideal' | diamonds$cut == 'Good', ])\n",
    "# head(diamonds[diamonds$cut %in% c('Ideal','Good'),] )\n",
    "diamonds %>% filter(cut == 'Ideal' | cut == 'Good') %>% head()\n",
    "# diamonds %>% filter(cut %in% c('Ideal','Good')) %>% head()\n"
   ]
  },
  {
   "cell_type": "code",
   "execution_count": 77,
   "id": "1359f321-e5d0-4a98-8368-a289afd88102",
   "metadata": {},
   "outputs": [],
   "source": [
    "# cut, color 기준으로 평균 가격을 avgPrice로, 총 carat을 sumCarat이라는 이름으로 집계\n"
   ]
  },
  {
   "cell_type": "code",
   "execution_count": 78,
   "id": "8f29b3e9-5cdd-4555-8849-4f2c4e1f504d",
   "metadata": {},
   "outputs": [],
   "source": [
    "# color 기준으로 평균 가격을 avgPrice로, 총 carat을 sumCarat이라는\n",
    "# 이름으로 집계하고 평균가격으로 내림차순 정렬"
   ]
  },
  {
   "cell_type": "code",
   "execution_count": 79,
   "id": "d0897325-cfdf-4371-ba0e-36f80bd91ccd",
   "metadata": {},
   "outputs": [],
   "source": [
    "# color 기준으로 평균 가격을 avgPrice로, 총 carat을 sumCarat이라는 이름으로\n",
    "# 집계하고 평균가격은 내림차순 정렬, 총 carat은 오름차순으로 정렬"
   ]
  },
  {
   "cell_type": "code",
   "execution_count": 80,
   "id": "57e6c444-56bd-44e2-b1e3-132a4f675d29",
   "metadata": {},
   "outputs": [
    {
     "data": {
      "text/html": [
       "<table class=\"dataframe\">\n",
       "<caption>A tibble: 6 × 4</caption>\n",
       "<thead>\n",
       "\t<tr><th scope=col>carat</th><th scope=col>price</th><th scope=col>Ratio</th><th scope=col>Double</th></tr>\n",
       "\t<tr><th scope=col>&lt;dbl&gt;</th><th scope=col>&lt;int&gt;</th><th scope=col>&lt;dbl&gt;</th><th scope=col>&lt;dbl&gt;</th></tr>\n",
       "</thead>\n",
       "<tbody>\n",
       "\t<tr><td>0.23</td><td>326</td><td>1417.391</td><td>2008998</td></tr>\n",
       "\t<tr><td>0.21</td><td>326</td><td>1552.381</td><td>2409887</td></tr>\n",
       "\t<tr><td>0.23</td><td>327</td><td>1421.739</td><td>2021342</td></tr>\n",
       "\t<tr><td>0.29</td><td>334</td><td>1151.724</td><td>1326468</td></tr>\n",
       "\t<tr><td>0.31</td><td>335</td><td>1080.645</td><td>1167794</td></tr>\n",
       "\t<tr><td>0.24</td><td>336</td><td>1400.000</td><td>1960000</td></tr>\n",
       "</tbody>\n",
       "</table>\n"
      ],
      "text/latex": [
       "A tibble: 6 × 4\n",
       "\\begin{tabular}{llll}\n",
       " carat & price & Ratio & Double\\\\\n",
       " <dbl> & <int> & <dbl> & <dbl>\\\\\n",
       "\\hline\n",
       "\t 0.23 & 326 & 1417.391 & 2008998\\\\\n",
       "\t 0.21 & 326 & 1552.381 & 2409887\\\\\n",
       "\t 0.23 & 327 & 1421.739 & 2021342\\\\\n",
       "\t 0.29 & 334 & 1151.724 & 1326468\\\\\n",
       "\t 0.31 & 335 & 1080.645 & 1167794\\\\\n",
       "\t 0.24 & 336 & 1400.000 & 1960000\\\\\n",
       "\\end{tabular}\n"
      ],
      "text/markdown": [
       "\n",
       "A tibble: 6 × 4\n",
       "\n",
       "| carat &lt;dbl&gt; | price &lt;int&gt; | Ratio &lt;dbl&gt; | Double &lt;dbl&gt; |\n",
       "|---|---|---|---|\n",
       "| 0.23 | 326 | 1417.391 | 2008998 |\n",
       "| 0.21 | 326 | 1552.381 | 2409887 |\n",
       "| 0.23 | 327 | 1421.739 | 2021342 |\n",
       "| 0.29 | 334 | 1151.724 | 1326468 |\n",
       "| 0.31 | 335 | 1080.645 | 1167794 |\n",
       "| 0.24 | 336 | 1400.000 | 1960000 |\n",
       "\n"
      ],
      "text/plain": [
       "  carat price Ratio    Double \n",
       "1 0.23  326   1417.391 2008998\n",
       "2 0.21  326   1552.381 2409887\n",
       "3 0.23  327   1421.739 2021342\n",
       "4 0.29  334   1151.724 1326468\n",
       "5 0.31  335   1080.645 1167794\n",
       "6 0.24  336   1400.000 1960000"
      ]
     },
     "metadata": {},
     "output_type": "display_data"
    }
   ],
   "source": [
    "# price를 carat으로 나눈것을 Ratio 컬럼으로\n",
    "# Ratio 컬럼을 제곱한것을 Double이라는 컬럼으로 생성\n",
    "dia <- diamonds\n",
    "dia$Ratio <- dia$price / dia$carat\n",
    "dia$Double <- dia$Ratio ** 2\n",
    "head(dia[, c('carat','price','Ratio','Double')])"
   ]
  },
  {
   "cell_type": "code",
   "execution_count": 81,
   "id": "c99ea4e8-dac3-4f2d-b8cb-7dee5001b32a",
   "metadata": {},
   "outputs": [
    {
     "data": {
      "text/html": [
       "<table class=\"dataframe\">\n",
       "<caption>A tibble: 6 × 4</caption>\n",
       "<thead>\n",
       "\t<tr><th scope=col>carat</th><th scope=col>price</th><th scope=col>Ratio</th><th scope=col>Double</th></tr>\n",
       "\t<tr><th scope=col>&lt;dbl&gt;</th><th scope=col>&lt;int&gt;</th><th scope=col>&lt;dbl&gt;</th><th scope=col>&lt;dbl&gt;</th></tr>\n",
       "</thead>\n",
       "<tbody>\n",
       "\t<tr><td>0.23</td><td>326</td><td>1417.391</td><td>2008998</td></tr>\n",
       "\t<tr><td>0.21</td><td>326</td><td>1552.381</td><td>2409887</td></tr>\n",
       "\t<tr><td>0.23</td><td>327</td><td>1421.739</td><td>2021342</td></tr>\n",
       "\t<tr><td>0.29</td><td>334</td><td>1151.724</td><td>1326468</td></tr>\n",
       "\t<tr><td>0.31</td><td>335</td><td>1080.645</td><td>1167794</td></tr>\n",
       "\t<tr><td>0.24</td><td>336</td><td>1400.000</td><td>1960000</td></tr>\n",
       "</tbody>\n",
       "</table>\n"
      ],
      "text/latex": [
       "A tibble: 6 × 4\n",
       "\\begin{tabular}{llll}\n",
       " carat & price & Ratio & Double\\\\\n",
       " <dbl> & <int> & <dbl> & <dbl>\\\\\n",
       "\\hline\n",
       "\t 0.23 & 326 & 1417.391 & 2008998\\\\\n",
       "\t 0.21 & 326 & 1552.381 & 2409887\\\\\n",
       "\t 0.23 & 327 & 1421.739 & 2021342\\\\\n",
       "\t 0.29 & 334 & 1151.724 & 1326468\\\\\n",
       "\t 0.31 & 335 & 1080.645 & 1167794\\\\\n",
       "\t 0.24 & 336 & 1400.000 & 1960000\\\\\n",
       "\\end{tabular}\n"
      ],
      "text/markdown": [
       "\n",
       "A tibble: 6 × 4\n",
       "\n",
       "| carat &lt;dbl&gt; | price &lt;int&gt; | Ratio &lt;dbl&gt; | Double &lt;dbl&gt; |\n",
       "|---|---|---|---|\n",
       "| 0.23 | 326 | 1417.391 | 2008998 |\n",
       "| 0.21 | 326 | 1552.381 | 2409887 |\n",
       "| 0.23 | 327 | 1421.739 | 2021342 |\n",
       "| 0.29 | 334 | 1151.724 | 1326468 |\n",
       "| 0.31 | 335 | 1080.645 | 1167794 |\n",
       "| 0.24 | 336 | 1400.000 | 1960000 |\n",
       "\n"
      ],
      "text/plain": [
       "  carat price Ratio    Double \n",
       "1 0.23  326   1417.391 2008998\n",
       "2 0.21  326   1552.381 2409887\n",
       "3 0.23  327   1421.739 2021342\n",
       "4 0.29  334   1151.724 1326468\n",
       "5 0.31  335   1080.645 1167794\n",
       "6 0.24  336   1400.000 1960000"
      ]
     },
     "metadata": {},
     "output_type": "display_data"
    }
   ],
   "source": [
    "# price를 carat으로 나눈것을 Ratio 컬럼으로\n",
    "# Ratio 컬럼을 제곱한것을 Double이라는 컬럼으로 생성\n",
    "# 방법 2\n",
    "dia <- diamonds\n",
    "dia %>% mutate(Ratio = price / carat, \n",
    "               Double = Ratio ** 2) %>%\n",
    "        select(carat, price, Ratio, Double) %>%\n",
    "        head()"
   ]
  },
  {
   "cell_type": "code",
   "execution_count": 82,
   "id": "3f903f60-61d0-487f-a89b-9f4a09b6496c",
   "metadata": {},
   "outputs": [],
   "source": [
    "# 평균 가격 price와 price의 중앙값, 평균 carat를 집계\n",
    "c1 <- mean(diamonds$price)\n",
    "c2 <- median(diamonds$price)\n",
    "c3 <- mean(diamonds$carat)"
   ]
  },
  {
   "cell_type": "code",
   "execution_count": 83,
   "id": "4b3eca26-50a3-43ce-a0ab-073ddaf683f4",
   "metadata": {},
   "outputs": [
    {
     "data": {
      "text/html": [
       "<table class=\"dataframe\">\n",
       "<caption>A data.frame: 1 × 3</caption>\n",
       "<thead>\n",
       "\t<tr><th scope=col>avgPrice</th><th scope=col>medPrice</th><th scope=col>avgCarat</th></tr>\n",
       "\t<tr><th scope=col>&lt;dbl&gt;</th><th scope=col>&lt;dbl&gt;</th><th scope=col>&lt;dbl&gt;</th></tr>\n",
       "</thead>\n",
       "<tbody>\n",
       "\t<tr><td>3932.8</td><td>2401</td><td>0.7979397</td></tr>\n",
       "</tbody>\n",
       "</table>\n"
      ],
      "text/latex": [
       "A data.frame: 1 × 3\n",
       "\\begin{tabular}{lll}\n",
       " avgPrice & medPrice & avgCarat\\\\\n",
       " <dbl> & <dbl> & <dbl>\\\\\n",
       "\\hline\n",
       "\t 3932.8 & 2401 & 0.7979397\\\\\n",
       "\\end{tabular}\n"
      ],
      "text/markdown": [
       "\n",
       "A data.frame: 1 × 3\n",
       "\n",
       "| avgPrice &lt;dbl&gt; | medPrice &lt;dbl&gt; | avgCarat &lt;dbl&gt; |\n",
       "|---|---|---|\n",
       "| 3932.8 | 2401 | 0.7979397 |\n",
       "\n"
      ],
      "text/plain": [
       "  avgPrice medPrice avgCarat \n",
       "1 3932.8   2401     0.7979397"
      ]
     },
     "metadata": {},
     "output_type": "display_data"
    }
   ],
   "source": [
    "# 여러 컬럼을 하나로 묶음 : cbind, data.frame\n",
    "df <- data.frame(c1, c2, c3)\n",
    "colnames(df) <- c('avgPrice', 'medPrice','avgCarat')\n",
    "df"
   ]
  },
  {
   "cell_type": "code",
   "execution_count": 84,
   "id": "0c24f045-9541-4847-8ef5-61b5094260c9",
   "metadata": {},
   "outputs": [
    {
     "data": {
      "text/html": [
       "<table class=\"dataframe\">\n",
       "<caption>A tibble: 1 × 3</caption>\n",
       "<thead>\n",
       "\t<tr><th scope=col>avgPrice</th><th scope=col>medPrice</th><th scope=col>avgCarat</th></tr>\n",
       "\t<tr><th scope=col>&lt;dbl&gt;</th><th scope=col>&lt;dbl&gt;</th><th scope=col>&lt;dbl&gt;</th></tr>\n",
       "</thead>\n",
       "<tbody>\n",
       "\t<tr><td>3932.8</td><td>2401</td><td>0.7979397</td></tr>\n",
       "</tbody>\n",
       "</table>\n"
      ],
      "text/latex": [
       "A tibble: 1 × 3\n",
       "\\begin{tabular}{lll}\n",
       " avgPrice & medPrice & avgCarat\\\\\n",
       " <dbl> & <dbl> & <dbl>\\\\\n",
       "\\hline\n",
       "\t 3932.8 & 2401 & 0.7979397\\\\\n",
       "\\end{tabular}\n"
      ],
      "text/markdown": [
       "\n",
       "A tibble: 1 × 3\n",
       "\n",
       "| avgPrice &lt;dbl&gt; | medPrice &lt;dbl&gt; | avgCarat &lt;dbl&gt; |\n",
       "|---|---|---|\n",
       "| 3932.8 | 2401 | 0.7979397 |\n",
       "\n"
      ],
      "text/plain": [
       "  avgPrice medPrice avgCarat \n",
       "1 3932.8   2401     0.7979397"
      ]
     },
     "metadata": {},
     "output_type": "display_data"
    }
   ],
   "source": [
    "diamonds %>% summarise(avgPrice = mean(price),\n",
    "                       medPrice = median(price),\n",
    "                       avgCarat = mean(carat))"
   ]
  },
  {
   "cell_type": "markdown",
   "id": "37e08a3c-b3c9-44a2-ae74-2acb6b9b8886",
   "metadata": {},
   "source": [
    "## 집계처리 : aggregate\n",
    "+ aggregate(집계대상컬럼, by = 그룹대상컬럼, 집계함수)\n",
    "+ aggregate(인자식, 데이터, 집계함수)\n",
    "+ 집게시 사용하는 인자식 예 : a ~ b + c\n",
    "    - a : 집계하고자 하는 대상 \n",
    "    - b : 그룹으로 묶을 기준1\n",
    "    - c : 그룹으로 묶을 기준2\n",
    "\n"
   ]
  },
  {
   "cell_type": "code",
   "execution_count": 85,
   "id": "79520902-835e-4d7b-b68a-a9d2ee2be422",
   "metadata": {},
   "outputs": [
    {
     "data": {
      "text/html": [
       "<table class=\"dataframe\">\n",
       "<caption>A data.frame: 5 × 2</caption>\n",
       "<thead>\n",
       "\t<tr><th scope=col>cut</th><th scope=col>price</th></tr>\n",
       "\t<tr><th scope=col>&lt;ord&gt;</th><th scope=col>&lt;dbl&gt;</th></tr>\n",
       "</thead>\n",
       "<tbody>\n",
       "\t<tr><td>Fair     </td><td>4358.758</td></tr>\n",
       "\t<tr><td>Good     </td><td>3928.864</td></tr>\n",
       "\t<tr><td>Very Good</td><td>3981.760</td></tr>\n",
       "\t<tr><td>Premium  </td><td>4584.258</td></tr>\n",
       "\t<tr><td>Ideal    </td><td>3457.542</td></tr>\n",
       "</tbody>\n",
       "</table>\n"
      ],
      "text/latex": [
       "A data.frame: 5 × 2\n",
       "\\begin{tabular}{ll}\n",
       " cut & price\\\\\n",
       " <ord> & <dbl>\\\\\n",
       "\\hline\n",
       "\t Fair      & 4358.758\\\\\n",
       "\t Good      & 3928.864\\\\\n",
       "\t Very Good & 3981.760\\\\\n",
       "\t Premium   & 4584.258\\\\\n",
       "\t Ideal     & 3457.542\\\\\n",
       "\\end{tabular}\n"
      ],
      "text/markdown": [
       "\n",
       "A data.frame: 5 × 2\n",
       "\n",
       "| cut &lt;ord&gt; | price &lt;dbl&gt; |\n",
       "|---|---|\n",
       "| Fair      | 4358.758 |\n",
       "| Good      | 3928.864 |\n",
       "| Very Good | 3981.760 |\n",
       "| Premium   | 4584.258 |\n",
       "| Ideal     | 3457.542 |\n",
       "\n"
      ],
      "text/plain": [
       "  cut       price   \n",
       "1 Fair      4358.758\n",
       "2 Good      3928.864\n",
       "3 Very Good 3981.760\n",
       "4 Premium   4584.258\n",
       "5 Ideal     3457.542"
      ]
     },
     "metadata": {},
     "output_type": "display_data"
    }
   ],
   "source": [
    "# cut 기준으로 편균 price 집계\n",
    "# aggregate(diamonds$price, by=list(diamonds$cut), FUN=mean)\n",
    "aggregate(price ~ cut, diamonds, FUN=mean)\n",
    "# diamonds %>% group_by(cut) %>% summarise(avgPrice = mean(price))"
   ]
  },
  {
   "cell_type": "code",
   "execution_count": 86,
   "id": "7a06bab4-dc20-4df5-af25-29e0906f1819",
   "metadata": {},
   "outputs": [
    {
     "data": {
      "text/html": [
       "<table class=\"dataframe\">\n",
       "<caption>A data.frame: 35 × 3</caption>\n",
       "<thead>\n",
       "\t<tr><th scope=col>cut</th><th scope=col>color</th><th scope=col>price</th></tr>\n",
       "\t<tr><th scope=col>&lt;ord&gt;</th><th scope=col>&lt;ord&gt;</th><th scope=col>&lt;dbl&gt;</th></tr>\n",
       "</thead>\n",
       "<tbody>\n",
       "\t<tr><td>Fair     </td><td>D</td><td>4291.061</td></tr>\n",
       "\t<tr><td>Good     </td><td>D</td><td>3405.382</td></tr>\n",
       "\t<tr><td>Very Good</td><td>D</td><td>3470.467</td></tr>\n",
       "\t<tr><td>Premium  </td><td>D</td><td>3631.293</td></tr>\n",
       "\t<tr><td>Ideal    </td><td>D</td><td>2629.095</td></tr>\n",
       "\t<tr><td>Fair     </td><td>E</td><td>3682.312</td></tr>\n",
       "\t<tr><td>Good     </td><td>E</td><td>3423.644</td></tr>\n",
       "\t<tr><td>Very Good</td><td>E</td><td>3214.652</td></tr>\n",
       "\t<tr><td>Premium  </td><td>E</td><td>3538.914</td></tr>\n",
       "\t<tr><td>Ideal    </td><td>E</td><td>2597.550</td></tr>\n",
       "\t<tr><td>Fair     </td><td>F</td><td>3827.003</td></tr>\n",
       "\t<tr><td>Good     </td><td>F</td><td>3495.750</td></tr>\n",
       "\t<tr><td>Very Good</td><td>F</td><td>3778.820</td></tr>\n",
       "\t<tr><td>Premium  </td><td>F</td><td>4324.890</td></tr>\n",
       "\t<tr><td>Ideal    </td><td>F</td><td>3374.939</td></tr>\n",
       "\t<tr><td>Fair     </td><td>G</td><td>4239.255</td></tr>\n",
       "\t<tr><td>Good     </td><td>G</td><td>4123.482</td></tr>\n",
       "\t<tr><td>Very Good</td><td>G</td><td>3872.754</td></tr>\n",
       "\t<tr><td>Premium  </td><td>G</td><td>4500.742</td></tr>\n",
       "\t<tr><td>Ideal    </td><td>G</td><td>3720.706</td></tr>\n",
       "\t<tr><td>Fair     </td><td>H</td><td>5135.683</td></tr>\n",
       "\t<tr><td>Good     </td><td>H</td><td>4276.255</td></tr>\n",
       "\t<tr><td>Very Good</td><td>H</td><td>4535.390</td></tr>\n",
       "\t<tr><td>Premium  </td><td>H</td><td>5216.707</td></tr>\n",
       "\t<tr><td>Ideal    </td><td>H</td><td>3889.335</td></tr>\n",
       "\t<tr><td>Fair     </td><td>I</td><td>4685.446</td></tr>\n",
       "\t<tr><td>Good     </td><td>I</td><td>5078.533</td></tr>\n",
       "\t<tr><td>Very Good</td><td>I</td><td>5255.880</td></tr>\n",
       "\t<tr><td>Premium  </td><td>I</td><td>5946.181</td></tr>\n",
       "\t<tr><td>Ideal    </td><td>I</td><td>4451.970</td></tr>\n",
       "\t<tr><td>Fair     </td><td>J</td><td>4975.655</td></tr>\n",
       "\t<tr><td>Good     </td><td>J</td><td>4574.173</td></tr>\n",
       "\t<tr><td>Very Good</td><td>J</td><td>5103.513</td></tr>\n",
       "\t<tr><td>Premium  </td><td>J</td><td>6294.592</td></tr>\n",
       "\t<tr><td>Ideal    </td><td>J</td><td>4918.186</td></tr>\n",
       "</tbody>\n",
       "</table>\n"
      ],
      "text/latex": [
       "A data.frame: 35 × 3\n",
       "\\begin{tabular}{lll}\n",
       " cut & color & price\\\\\n",
       " <ord> & <ord> & <dbl>\\\\\n",
       "\\hline\n",
       "\t Fair      & D & 4291.061\\\\\n",
       "\t Good      & D & 3405.382\\\\\n",
       "\t Very Good & D & 3470.467\\\\\n",
       "\t Premium   & D & 3631.293\\\\\n",
       "\t Ideal     & D & 2629.095\\\\\n",
       "\t Fair      & E & 3682.312\\\\\n",
       "\t Good      & E & 3423.644\\\\\n",
       "\t Very Good & E & 3214.652\\\\\n",
       "\t Premium   & E & 3538.914\\\\\n",
       "\t Ideal     & E & 2597.550\\\\\n",
       "\t Fair      & F & 3827.003\\\\\n",
       "\t Good      & F & 3495.750\\\\\n",
       "\t Very Good & F & 3778.820\\\\\n",
       "\t Premium   & F & 4324.890\\\\\n",
       "\t Ideal     & F & 3374.939\\\\\n",
       "\t Fair      & G & 4239.255\\\\\n",
       "\t Good      & G & 4123.482\\\\\n",
       "\t Very Good & G & 3872.754\\\\\n",
       "\t Premium   & G & 4500.742\\\\\n",
       "\t Ideal     & G & 3720.706\\\\\n",
       "\t Fair      & H & 5135.683\\\\\n",
       "\t Good      & H & 4276.255\\\\\n",
       "\t Very Good & H & 4535.390\\\\\n",
       "\t Premium   & H & 5216.707\\\\\n",
       "\t Ideal     & H & 3889.335\\\\\n",
       "\t Fair      & I & 4685.446\\\\\n",
       "\t Good      & I & 5078.533\\\\\n",
       "\t Very Good & I & 5255.880\\\\\n",
       "\t Premium   & I & 5946.181\\\\\n",
       "\t Ideal     & I & 4451.970\\\\\n",
       "\t Fair      & J & 4975.655\\\\\n",
       "\t Good      & J & 4574.173\\\\\n",
       "\t Very Good & J & 5103.513\\\\\n",
       "\t Premium   & J & 6294.592\\\\\n",
       "\t Ideal     & J & 4918.186\\\\\n",
       "\\end{tabular}\n"
      ],
      "text/markdown": [
       "\n",
       "A data.frame: 35 × 3\n",
       "\n",
       "| cut &lt;ord&gt; | color &lt;ord&gt; | price &lt;dbl&gt; |\n",
       "|---|---|---|\n",
       "| Fair      | D | 4291.061 |\n",
       "| Good      | D | 3405.382 |\n",
       "| Very Good | D | 3470.467 |\n",
       "| Premium   | D | 3631.293 |\n",
       "| Ideal     | D | 2629.095 |\n",
       "| Fair      | E | 3682.312 |\n",
       "| Good      | E | 3423.644 |\n",
       "| Very Good | E | 3214.652 |\n",
       "| Premium   | E | 3538.914 |\n",
       "| Ideal     | E | 2597.550 |\n",
       "| Fair      | F | 3827.003 |\n",
       "| Good      | F | 3495.750 |\n",
       "| Very Good | F | 3778.820 |\n",
       "| Premium   | F | 4324.890 |\n",
       "| Ideal     | F | 3374.939 |\n",
       "| Fair      | G | 4239.255 |\n",
       "| Good      | G | 4123.482 |\n",
       "| Very Good | G | 3872.754 |\n",
       "| Premium   | G | 4500.742 |\n",
       "| Ideal     | G | 3720.706 |\n",
       "| Fair      | H | 5135.683 |\n",
       "| Good      | H | 4276.255 |\n",
       "| Very Good | H | 4535.390 |\n",
       "| Premium   | H | 5216.707 |\n",
       "| Ideal     | H | 3889.335 |\n",
       "| Fair      | I | 4685.446 |\n",
       "| Good      | I | 5078.533 |\n",
       "| Very Good | I | 5255.880 |\n",
       "| Premium   | I | 5946.181 |\n",
       "| Ideal     | I | 4451.970 |\n",
       "| Fair      | J | 4975.655 |\n",
       "| Good      | J | 4574.173 |\n",
       "| Very Good | J | 5103.513 |\n",
       "| Premium   | J | 6294.592 |\n",
       "| Ideal     | J | 4918.186 |\n",
       "\n"
      ],
      "text/plain": [
       "   cut       color price   \n",
       "1  Fair      D     4291.061\n",
       "2  Good      D     3405.382\n",
       "3  Very Good D     3470.467\n",
       "4  Premium   D     3631.293\n",
       "5  Ideal     D     2629.095\n",
       "6  Fair      E     3682.312\n",
       "7  Good      E     3423.644\n",
       "8  Very Good E     3214.652\n",
       "9  Premium   E     3538.914\n",
       "10 Ideal     E     2597.550\n",
       "11 Fair      F     3827.003\n",
       "12 Good      F     3495.750\n",
       "13 Very Good F     3778.820\n",
       "14 Premium   F     4324.890\n",
       "15 Ideal     F     3374.939\n",
       "16 Fair      G     4239.255\n",
       "17 Good      G     4123.482\n",
       "18 Very Good G     3872.754\n",
       "19 Premium   G     4500.742\n",
       "20 Ideal     G     3720.706\n",
       "21 Fair      H     5135.683\n",
       "22 Good      H     4276.255\n",
       "23 Very Good H     4535.390\n",
       "24 Premium   H     5216.707\n",
       "25 Ideal     H     3889.335\n",
       "26 Fair      I     4685.446\n",
       "27 Good      I     5078.533\n",
       "28 Very Good I     5255.880\n",
       "29 Premium   I     5946.181\n",
       "30 Ideal     I     4451.970\n",
       "31 Fair      J     4975.655\n",
       "32 Good      J     4574.173\n",
       "33 Very Good J     5103.513\n",
       "34 Premium   J     6294.592\n",
       "35 Ideal     J     4918.186"
      ]
     },
     "metadata": {},
     "output_type": "display_data"
    }
   ],
   "source": [
    "# cut, color 기준으로 평균 가격을 avgPrice로, 총 carat을 sumCarat이란 이름으로 집계 \n",
    "aggregate(price ~ cut + color, diamonds, FUN=mean)\n",
    "# aggregate(carat ~ cut + color, diamonds, FUN=sum)"
   ]
  },
  {
   "cell_type": "code",
   "execution_count": 87,
   "id": "37f3e05a-32f4-4e76-9fe0-afa7c8e9eb32",
   "metadata": {},
   "outputs": [],
   "source": [
    "# aggregate함수에 집계함수를 2개 이상 쓸려면\n",
    "# plyr 패키지의 each 함수를 사용해야 한다.\n",
    "# 단, 하나의 집계대상 컬럼에만 적용가능\n",
    "#install.packages('plyr')\n",
    "# library(plyr)\n",
    "# aggregate(carat ~ cut + color, diamonds, each(mean, sum))"
   ]
  },
  {
   "cell_type": "code",
   "execution_count": null,
   "id": "bde8525e-c190-4d11-9d3c-6a367b97a7be",
   "metadata": {},
   "outputs": [],
   "source": []
  },
  {
   "cell_type": "code",
   "execution_count": 88,
   "id": "9de1ed90-f31f-4031-8953-44d90d464f57",
   "metadata": {},
   "outputs": [
    {
     "name": "stderr",
     "output_type": "stream",
     "text": [
      "`summarise()` has grouped output by 'cut'. You can override using the `.groups` argument.\n",
      "\n"
     ]
    },
    {
     "data": {
      "text/html": [
       "<table class=\"dataframe\">\n",
       "<caption>A grouped_df: 35 × 4</caption>\n",
       "<thead>\n",
       "\t<tr><th scope=col>cut</th><th scope=col>color</th><th scope=col>avgPrice</th><th scope=col>sumCarat</th></tr>\n",
       "\t<tr><th scope=col>&lt;ord&gt;</th><th scope=col>&lt;ord&gt;</th><th scope=col>&lt;dbl&gt;</th><th scope=col>&lt;dbl&gt;</th></tr>\n",
       "</thead>\n",
       "<tbody>\n",
       "\t<tr><td>Fair     </td><td>D</td><td>4291.061</td><td> 149.98</td></tr>\n",
       "\t<tr><td>Fair     </td><td>E</td><td>3682.312</td><td> 191.88</td></tr>\n",
       "\t<tr><td>Fair     </td><td>F</td><td>3827.003</td><td> 282.27</td></tr>\n",
       "\t<tr><td>Fair     </td><td>G</td><td>4239.255</td><td> 321.48</td></tr>\n",
       "\t<tr><td>Fair     </td><td>H</td><td>5135.683</td><td> 369.41</td></tr>\n",
       "\t<tr><td>Fair     </td><td>I</td><td>4685.446</td><td> 209.66</td></tr>\n",
       "\t<tr><td>Fair     </td><td>J</td><td>4975.655</td><td> 159.60</td></tr>\n",
       "\t<tr><td>Good     </td><td>D</td><td>3405.382</td><td> 492.87</td></tr>\n",
       "\t<tr><td>Good     </td><td>E</td><td>3423.644</td><td> 695.21</td></tr>\n",
       "\t<tr><td>Good     </td><td>F</td><td>3495.750</td><td> 705.32</td></tr>\n",
       "\t<tr><td>Good     </td><td>G</td><td>4123.482</td><td> 741.13</td></tr>\n",
       "\t<tr><td>Good     </td><td>H</td><td>4276.255</td><td> 642.14</td></tr>\n",
       "\t<tr><td>Good     </td><td>I</td><td>5078.533</td><td> 551.87</td></tr>\n",
       "\t<tr><td>Good     </td><td>J</td><td>4574.173</td><td> 337.56</td></tr>\n",
       "\t<tr><td>Very Good</td><td>D</td><td>3470.467</td><td>1053.69</td></tr>\n",
       "\t<tr><td>Very Good</td><td>E</td><td>3214.652</td><td>1623.16</td></tr>\n",
       "\t<tr><td>Very Good</td><td>F</td><td>3778.820</td><td>1603.44</td></tr>\n",
       "\t<tr><td>Very Good</td><td>G</td><td>3872.754</td><td>1762.87</td></tr>\n",
       "\t<tr><td>Very Good</td><td>H</td><td>4535.390</td><td>1670.69</td></tr>\n",
       "\t<tr><td>Very Good</td><td>I</td><td>5255.880</td><td>1260.53</td></tr>\n",
       "\t<tr><td>Very Good</td><td>J</td><td>5103.513</td><td> 768.32</td></tr>\n",
       "\t<tr><td>Premium  </td><td>D</td><td>3631.293</td><td>1156.64</td></tr>\n",
       "\t<tr><td>Premium  </td><td>E</td><td>3538.914</td><td>1677.37</td></tr>\n",
       "\t<tr><td>Premium  </td><td>F</td><td>4324.890</td><td>1927.82</td></tr>\n",
       "\t<tr><td>Premium  </td><td>G</td><td>4500.742</td><td>2460.51</td></tr>\n",
       "\t<tr><td>Premium  </td><td>H</td><td>5216.707</td><td>2398.82</td></tr>\n",
       "\t<tr><td>Premium  </td><td>I</td><td>5946.181</td><td>1634.97</td></tr>\n",
       "\t<tr><td>Premium  </td><td>J</td><td>6294.592</td><td>1044.82</td></tr>\n",
       "\t<tr><td>Ideal    </td><td>D</td><td>2629.095</td><td>1603.38</td></tr>\n",
       "\t<tr><td>Ideal    </td><td>E</td><td>2597.550</td><td>2257.50</td></tr>\n",
       "\t<tr><td>Ideal    </td><td>F</td><td>3374.939</td><td>2509.20</td></tr>\n",
       "\t<tr><td>Ideal    </td><td>G</td><td>3720.706</td><td>3422.29</td></tr>\n",
       "\t<tr><td>Ideal    </td><td>H</td><td>3889.335</td><td>2490.52</td></tr>\n",
       "\t<tr><td>Ideal    </td><td>I</td><td>4451.970</td><td>1910.97</td></tr>\n",
       "\t<tr><td>Ideal    </td><td>J</td><td>4918.186</td><td> 952.98</td></tr>\n",
       "</tbody>\n",
       "</table>\n"
      ],
      "text/latex": [
       "A grouped\\_df: 35 × 4\n",
       "\\begin{tabular}{llll}\n",
       " cut & color & avgPrice & sumCarat\\\\\n",
       " <ord> & <ord> & <dbl> & <dbl>\\\\\n",
       "\\hline\n",
       "\t Fair      & D & 4291.061 &  149.98\\\\\n",
       "\t Fair      & E & 3682.312 &  191.88\\\\\n",
       "\t Fair      & F & 3827.003 &  282.27\\\\\n",
       "\t Fair      & G & 4239.255 &  321.48\\\\\n",
       "\t Fair      & H & 5135.683 &  369.41\\\\\n",
       "\t Fair      & I & 4685.446 &  209.66\\\\\n",
       "\t Fair      & J & 4975.655 &  159.60\\\\\n",
       "\t Good      & D & 3405.382 &  492.87\\\\\n",
       "\t Good      & E & 3423.644 &  695.21\\\\\n",
       "\t Good      & F & 3495.750 &  705.32\\\\\n",
       "\t Good      & G & 4123.482 &  741.13\\\\\n",
       "\t Good      & H & 4276.255 &  642.14\\\\\n",
       "\t Good      & I & 5078.533 &  551.87\\\\\n",
       "\t Good      & J & 4574.173 &  337.56\\\\\n",
       "\t Very Good & D & 3470.467 & 1053.69\\\\\n",
       "\t Very Good & E & 3214.652 & 1623.16\\\\\n",
       "\t Very Good & F & 3778.820 & 1603.44\\\\\n",
       "\t Very Good & G & 3872.754 & 1762.87\\\\\n",
       "\t Very Good & H & 4535.390 & 1670.69\\\\\n",
       "\t Very Good & I & 5255.880 & 1260.53\\\\\n",
       "\t Very Good & J & 5103.513 &  768.32\\\\\n",
       "\t Premium   & D & 3631.293 & 1156.64\\\\\n",
       "\t Premium   & E & 3538.914 & 1677.37\\\\\n",
       "\t Premium   & F & 4324.890 & 1927.82\\\\\n",
       "\t Premium   & G & 4500.742 & 2460.51\\\\\n",
       "\t Premium   & H & 5216.707 & 2398.82\\\\\n",
       "\t Premium   & I & 5946.181 & 1634.97\\\\\n",
       "\t Premium   & J & 6294.592 & 1044.82\\\\\n",
       "\t Ideal     & D & 2629.095 & 1603.38\\\\\n",
       "\t Ideal     & E & 2597.550 & 2257.50\\\\\n",
       "\t Ideal     & F & 3374.939 & 2509.20\\\\\n",
       "\t Ideal     & G & 3720.706 & 3422.29\\\\\n",
       "\t Ideal     & H & 3889.335 & 2490.52\\\\\n",
       "\t Ideal     & I & 4451.970 & 1910.97\\\\\n",
       "\t Ideal     & J & 4918.186 &  952.98\\\\\n",
       "\\end{tabular}\n"
      ],
      "text/markdown": [
       "\n",
       "A grouped_df: 35 × 4\n",
       "\n",
       "| cut &lt;ord&gt; | color &lt;ord&gt; | avgPrice &lt;dbl&gt; | sumCarat &lt;dbl&gt; |\n",
       "|---|---|---|---|\n",
       "| Fair      | D | 4291.061 |  149.98 |\n",
       "| Fair      | E | 3682.312 |  191.88 |\n",
       "| Fair      | F | 3827.003 |  282.27 |\n",
       "| Fair      | G | 4239.255 |  321.48 |\n",
       "| Fair      | H | 5135.683 |  369.41 |\n",
       "| Fair      | I | 4685.446 |  209.66 |\n",
       "| Fair      | J | 4975.655 |  159.60 |\n",
       "| Good      | D | 3405.382 |  492.87 |\n",
       "| Good      | E | 3423.644 |  695.21 |\n",
       "| Good      | F | 3495.750 |  705.32 |\n",
       "| Good      | G | 4123.482 |  741.13 |\n",
       "| Good      | H | 4276.255 |  642.14 |\n",
       "| Good      | I | 5078.533 |  551.87 |\n",
       "| Good      | J | 4574.173 |  337.56 |\n",
       "| Very Good | D | 3470.467 | 1053.69 |\n",
       "| Very Good | E | 3214.652 | 1623.16 |\n",
       "| Very Good | F | 3778.820 | 1603.44 |\n",
       "| Very Good | G | 3872.754 | 1762.87 |\n",
       "| Very Good | H | 4535.390 | 1670.69 |\n",
       "| Very Good | I | 5255.880 | 1260.53 |\n",
       "| Very Good | J | 5103.513 |  768.32 |\n",
       "| Premium   | D | 3631.293 | 1156.64 |\n",
       "| Premium   | E | 3538.914 | 1677.37 |\n",
       "| Premium   | F | 4324.890 | 1927.82 |\n",
       "| Premium   | G | 4500.742 | 2460.51 |\n",
       "| Premium   | H | 5216.707 | 2398.82 |\n",
       "| Premium   | I | 5946.181 | 1634.97 |\n",
       "| Premium   | J | 6294.592 | 1044.82 |\n",
       "| Ideal     | D | 2629.095 | 1603.38 |\n",
       "| Ideal     | E | 2597.550 | 2257.50 |\n",
       "| Ideal     | F | 3374.939 | 2509.20 |\n",
       "| Ideal     | G | 3720.706 | 3422.29 |\n",
       "| Ideal     | H | 3889.335 | 2490.52 |\n",
       "| Ideal     | I | 4451.970 | 1910.97 |\n",
       "| Ideal     | J | 4918.186 |  952.98 |\n",
       "\n"
      ],
      "text/plain": [
       "   cut       color avgPrice sumCarat\n",
       "1  Fair      D     4291.061  149.98 \n",
       "2  Fair      E     3682.312  191.88 \n",
       "3  Fair      F     3827.003  282.27 \n",
       "4  Fair      G     4239.255  321.48 \n",
       "5  Fair      H     5135.683  369.41 \n",
       "6  Fair      I     4685.446  209.66 \n",
       "7  Fair      J     4975.655  159.60 \n",
       "8  Good      D     3405.382  492.87 \n",
       "9  Good      E     3423.644  695.21 \n",
       "10 Good      F     3495.750  705.32 \n",
       "11 Good      G     4123.482  741.13 \n",
       "12 Good      H     4276.255  642.14 \n",
       "13 Good      I     5078.533  551.87 \n",
       "14 Good      J     4574.173  337.56 \n",
       "15 Very Good D     3470.467 1053.69 \n",
       "16 Very Good E     3214.652 1623.16 \n",
       "17 Very Good F     3778.820 1603.44 \n",
       "18 Very Good G     3872.754 1762.87 \n",
       "19 Very Good H     4535.390 1670.69 \n",
       "20 Very Good I     5255.880 1260.53 \n",
       "21 Very Good J     5103.513  768.32 \n",
       "22 Premium   D     3631.293 1156.64 \n",
       "23 Premium   E     3538.914 1677.37 \n",
       "24 Premium   F     4324.890 1927.82 \n",
       "25 Premium   G     4500.742 2460.51 \n",
       "26 Premium   H     5216.707 2398.82 \n",
       "27 Premium   I     5946.181 1634.97 \n",
       "28 Premium   J     6294.592 1044.82 \n",
       "29 Ideal     D     2629.095 1603.38 \n",
       "30 Ideal     E     2597.550 2257.50 \n",
       "31 Ideal     F     3374.939 2509.20 \n",
       "32 Ideal     G     3720.706 3422.29 \n",
       "33 Ideal     H     3889.335 2490.52 \n",
       "34 Ideal     I     4451.970 1910.97 \n",
       "35 Ideal     J     4918.186  952.98 "
      ]
     },
     "metadata": {},
     "output_type": "display_data"
    }
   ],
   "source": [
    "diamonds %>% group_by(cut, color) %>% summarise(avgPrice = mean(price), sumCarat=sum(carat)) "
   ]
  },
  {
   "cell_type": "code",
   "execution_count": 91,
   "id": "48929a40-5191-4099-bdf0-25d0beb7c74d",
   "metadata": {},
   "outputs": [
    {
     "data": {
      "text/html": [
       "<table class=\"dataframe\">\n",
       "<caption>A data.frame: 7 × 3</caption>\n",
       "<thead>\n",
       "\t<tr><th scope=col>color</th><th scope=col>avgPrice</th><th scope=col>sumCarat</th></tr>\n",
       "\t<tr><th scope=col>&lt;ord&gt;</th><th scope=col>&lt;dbl&gt;</th><th scope=col>&lt;dbl&gt;</th></tr>\n",
       "</thead>\n",
       "<tbody>\n",
       "\t<tr><td>D</td><td>3169.954</td><td>4456.56</td></tr>\n",
       "\t<tr><td>E</td><td>3076.752</td><td>6445.12</td></tr>\n",
       "\t<tr><td>F</td><td>3724.886</td><td>7028.05</td></tr>\n",
       "\t<tr><td>G</td><td>3999.136</td><td>8708.28</td></tr>\n",
       "\t<tr><td>H</td><td>4486.669</td><td>7571.58</td></tr>\n",
       "\t<tr><td>I</td><td>5091.875</td><td>5568.00</td></tr>\n",
       "\t<tr><td>J</td><td>5323.818</td><td>3263.28</td></tr>\n",
       "</tbody>\n",
       "</table>\n"
      ],
      "text/latex": [
       "A data.frame: 7 × 3\n",
       "\\begin{tabular}{lll}\n",
       " color & avgPrice & sumCarat\\\\\n",
       " <ord> & <dbl> & <dbl>\\\\\n",
       "\\hline\n",
       "\t D & 3169.954 & 4456.56\\\\\n",
       "\t E & 3076.752 & 6445.12\\\\\n",
       "\t F & 3724.886 & 7028.05\\\\\n",
       "\t G & 3999.136 & 8708.28\\\\\n",
       "\t H & 4486.669 & 7571.58\\\\\n",
       "\t I & 5091.875 & 5568.00\\\\\n",
       "\t J & 5323.818 & 3263.28\\\\\n",
       "\\end{tabular}\n"
      ],
      "text/markdown": [
       "\n",
       "A data.frame: 7 × 3\n",
       "\n",
       "| color &lt;ord&gt; | avgPrice &lt;dbl&gt; | sumCarat &lt;dbl&gt; |\n",
       "|---|---|---|\n",
       "| D | 3169.954 | 4456.56 |\n",
       "| E | 3076.752 | 6445.12 |\n",
       "| F | 3724.886 | 7028.05 |\n",
       "| G | 3999.136 | 8708.28 |\n",
       "| H | 4486.669 | 7571.58 |\n",
       "| I | 5091.875 | 5568.00 |\n",
       "| J | 5323.818 | 3263.28 |\n",
       "\n"
      ],
      "text/plain": [
       "  color avgPrice sumCarat\n",
       "1 D     3169.954 4456.56 \n",
       "2 E     3076.752 6445.12 \n",
       "3 F     3724.886 7028.05 \n",
       "4 G     3999.136 8708.28 \n",
       "5 H     4486.669 7571.58 \n",
       "6 I     5091.875 5568.00 \n",
       "7 J     5323.818 3263.28 "
      ]
     },
     "metadata": {},
     "output_type": "display_data"
    }
   ],
   "source": [
    "# cut, color 기준으로 평균 가격을 avgPrice로 총 carat을 sunCarat이란 이름으로 집계\n",
    "dia <- diamonds\n",
    "avgPrice <- aggregate(price ~ color, dia, FUN=mean)\n",
    "sumCarat <- aggregate(carat ~ color, dia, FUN=sum)\n",
    "\n",
    "df <- data.frame(avgPrice, sumCarat$carat)\n",
    "colnames(df) <- c('color','avgPrice','sumCarat')\n",
    "df"
   ]
  },
  {
   "cell_type": "code",
   "execution_count": 92,
   "id": "def5639f-7019-43cd-8625-2e0bd33031b7",
   "metadata": {},
   "outputs": [
    {
     "data": {
      "text/html": [
       "<table class=\"dataframe\">\n",
       "<caption>A data.frame: 7 × 3</caption>\n",
       "<thead>\n",
       "\t<tr><th></th><th scope=col>color</th><th scope=col>avgPrice</th><th scope=col>sumCarat</th></tr>\n",
       "\t<tr><th></th><th scope=col>&lt;ord&gt;</th><th scope=col>&lt;dbl&gt;</th><th scope=col>&lt;dbl&gt;</th></tr>\n",
       "</thead>\n",
       "<tbody>\n",
       "\t<tr><th scope=row>7</th><td>J</td><td>5323.818</td><td>3263.28</td></tr>\n",
       "\t<tr><th scope=row>6</th><td>I</td><td>5091.875</td><td>5568.00</td></tr>\n",
       "\t<tr><th scope=row>5</th><td>H</td><td>4486.669</td><td>7571.58</td></tr>\n",
       "\t<tr><th scope=row>4</th><td>G</td><td>3999.136</td><td>8708.28</td></tr>\n",
       "\t<tr><th scope=row>3</th><td>F</td><td>3724.886</td><td>7028.05</td></tr>\n",
       "\t<tr><th scope=row>1</th><td>D</td><td>3169.954</td><td>4456.56</td></tr>\n",
       "\t<tr><th scope=row>2</th><td>E</td><td>3076.752</td><td>6445.12</td></tr>\n",
       "</tbody>\n",
       "</table>\n"
      ],
      "text/latex": [
       "A data.frame: 7 × 3\n",
       "\\begin{tabular}{r|lll}\n",
       "  & color & avgPrice & sumCarat\\\\\n",
       "  & <ord> & <dbl> & <dbl>\\\\\n",
       "\\hline\n",
       "\t7 & J & 5323.818 & 3263.28\\\\\n",
       "\t6 & I & 5091.875 & 5568.00\\\\\n",
       "\t5 & H & 4486.669 & 7571.58\\\\\n",
       "\t4 & G & 3999.136 & 8708.28\\\\\n",
       "\t3 & F & 3724.886 & 7028.05\\\\\n",
       "\t1 & D & 3169.954 & 4456.56\\\\\n",
       "\t2 & E & 3076.752 & 6445.12\\\\\n",
       "\\end{tabular}\n"
      ],
      "text/markdown": [
       "\n",
       "A data.frame: 7 × 3\n",
       "\n",
       "| <!--/--> | color &lt;ord&gt; | avgPrice &lt;dbl&gt; | sumCarat &lt;dbl&gt; |\n",
       "|---|---|---|---|\n",
       "| 7 | J | 5323.818 | 3263.28 |\n",
       "| 6 | I | 5091.875 | 5568.00 |\n",
       "| 5 | H | 4486.669 | 7571.58 |\n",
       "| 4 | G | 3999.136 | 8708.28 |\n",
       "| 3 | F | 3724.886 | 7028.05 |\n",
       "| 1 | D | 3169.954 | 4456.56 |\n",
       "| 2 | E | 3076.752 | 6445.12 |\n",
       "\n"
      ],
      "text/plain": [
       "  color avgPrice sumCarat\n",
       "7 J     5323.818 3263.28 \n",
       "6 I     5091.875 5568.00 \n",
       "5 H     4486.669 7571.58 \n",
       "4 G     3999.136 8708.28 \n",
       "3 F     3724.886 7028.05 \n",
       "1 D     3169.954 4456.56 \n",
       "2 E     3076.752 6445.12 "
      ]
     },
     "metadata": {},
     "output_type": "display_data"
    }
   ],
   "source": [
    "df[order(-df$avgPrice),] # 정렬출력"
   ]
  },
  {
   "cell_type": "code",
   "execution_count": 93,
   "id": "3e2c5fd8-189f-4915-88f5-44233f098d4d",
   "metadata": {},
   "outputs": [
    {
     "data": {
      "text/html": [
       "<table class=\"dataframe\">\n",
       "<caption>A tibble: 7 × 3</caption>\n",
       "<thead>\n",
       "\t<tr><th scope=col>color</th><th scope=col>avgPrice</th><th scope=col>sumCarat</th></tr>\n",
       "\t<tr><th scope=col>&lt;ord&gt;</th><th scope=col>&lt;dbl&gt;</th><th scope=col>&lt;dbl&gt;</th></tr>\n",
       "</thead>\n",
       "<tbody>\n",
       "\t<tr><td>J</td><td>5323.818</td><td>3263.28</td></tr>\n",
       "\t<tr><td>I</td><td>5091.875</td><td>5568.00</td></tr>\n",
       "\t<tr><td>H</td><td>4486.669</td><td>7571.58</td></tr>\n",
       "\t<tr><td>G</td><td>3999.136</td><td>8708.28</td></tr>\n",
       "\t<tr><td>F</td><td>3724.886</td><td>7028.05</td></tr>\n",
       "\t<tr><td>D</td><td>3169.954</td><td>4456.56</td></tr>\n",
       "\t<tr><td>E</td><td>3076.752</td><td>6445.12</td></tr>\n",
       "</tbody>\n",
       "</table>\n"
      ],
      "text/latex": [
       "A tibble: 7 × 3\n",
       "\\begin{tabular}{lll}\n",
       " color & avgPrice & sumCarat\\\\\n",
       " <ord> & <dbl> & <dbl>\\\\\n",
       "\\hline\n",
       "\t J & 5323.818 & 3263.28\\\\\n",
       "\t I & 5091.875 & 5568.00\\\\\n",
       "\t H & 4486.669 & 7571.58\\\\\n",
       "\t G & 3999.136 & 8708.28\\\\\n",
       "\t F & 3724.886 & 7028.05\\\\\n",
       "\t D & 3169.954 & 4456.56\\\\\n",
       "\t E & 3076.752 & 6445.12\\\\\n",
       "\\end{tabular}\n"
      ],
      "text/markdown": [
       "\n",
       "A tibble: 7 × 3\n",
       "\n",
       "| color &lt;ord&gt; | avgPrice &lt;dbl&gt; | sumCarat &lt;dbl&gt; |\n",
       "|---|---|---|\n",
       "| J | 5323.818 | 3263.28 |\n",
       "| I | 5091.875 | 5568.00 |\n",
       "| H | 4486.669 | 7571.58 |\n",
       "| G | 3999.136 | 8708.28 |\n",
       "| F | 3724.886 | 7028.05 |\n",
       "| D | 3169.954 | 4456.56 |\n",
       "| E | 3076.752 | 6445.12 |\n",
       "\n"
      ],
      "text/plain": [
       "  color avgPrice sumCarat\n",
       "1 J     5323.818 3263.28 \n",
       "2 I     5091.875 5568.00 \n",
       "3 H     4486.669 7571.58 \n",
       "4 G     3999.136 8708.28 \n",
       "5 F     3724.886 7028.05 \n",
       "6 D     3169.954 4456.56 \n",
       "7 E     3076.752 6445.12 "
      ]
     },
     "metadata": {},
     "output_type": "display_data"
    }
   ],
   "source": [
    "diamonds %>% group_by(color) %>%\n",
    "             summarise(avgPrice = mean(price),\n",
    "                       sumCarat = sum(carat)) %>%\n",
    "             arrange(desc(avgPrice))"
   ]
  },
  {
   "cell_type": "code",
   "execution_count": 95,
   "id": "60480a11-d9a0-4b64-ab1c-696be14e9eaf",
   "metadata": {},
   "outputs": [
    {
     "data": {
      "text/html": [
       "<table class=\"dataframe\">\n",
       "<caption>A data.frame: 7 × 3</caption>\n",
       "<thead>\n",
       "\t<tr><th></th><th scope=col>color</th><th scope=col>avgPrice</th><th scope=col>sumCarat</th></tr>\n",
       "\t<tr><th></th><th scope=col>&lt;ord&gt;</th><th scope=col>&lt;dbl&gt;</th><th scope=col>&lt;dbl&gt;</th></tr>\n",
       "</thead>\n",
       "<tbody>\n",
       "\t<tr><th scope=row>7</th><td>J</td><td>5323.818</td><td>3263.28</td></tr>\n",
       "\t<tr><th scope=row>6</th><td>I</td><td>5091.875</td><td>5568.00</td></tr>\n",
       "\t<tr><th scope=row>5</th><td>H</td><td>4486.669</td><td>7571.58</td></tr>\n",
       "\t<tr><th scope=row>4</th><td>G</td><td>3999.136</td><td>8708.28</td></tr>\n",
       "\t<tr><th scope=row>3</th><td>F</td><td>3724.886</td><td>7028.05</td></tr>\n",
       "\t<tr><th scope=row>1</th><td>D</td><td>3169.954</td><td>4456.56</td></tr>\n",
       "\t<tr><th scope=row>2</th><td>E</td><td>3076.752</td><td>6445.12</td></tr>\n",
       "</tbody>\n",
       "</table>\n"
      ],
      "text/latex": [
       "A data.frame: 7 × 3\n",
       "\\begin{tabular}{r|lll}\n",
       "  & color & avgPrice & sumCarat\\\\\n",
       "  & <ord> & <dbl> & <dbl>\\\\\n",
       "\\hline\n",
       "\t7 & J & 5323.818 & 3263.28\\\\\n",
       "\t6 & I & 5091.875 & 5568.00\\\\\n",
       "\t5 & H & 4486.669 & 7571.58\\\\\n",
       "\t4 & G & 3999.136 & 8708.28\\\\\n",
       "\t3 & F & 3724.886 & 7028.05\\\\\n",
       "\t1 & D & 3169.954 & 4456.56\\\\\n",
       "\t2 & E & 3076.752 & 6445.12\\\\\n",
       "\\end{tabular}\n"
      ],
      "text/markdown": [
       "\n",
       "A data.frame: 7 × 3\n",
       "\n",
       "| <!--/--> | color &lt;ord&gt; | avgPrice &lt;dbl&gt; | sumCarat &lt;dbl&gt; |\n",
       "|---|---|---|---|\n",
       "| 7 | J | 5323.818 | 3263.28 |\n",
       "| 6 | I | 5091.875 | 5568.00 |\n",
       "| 5 | H | 4486.669 | 7571.58 |\n",
       "| 4 | G | 3999.136 | 8708.28 |\n",
       "| 3 | F | 3724.886 | 7028.05 |\n",
       "| 1 | D | 3169.954 | 4456.56 |\n",
       "| 2 | E | 3076.752 | 6445.12 |\n",
       "\n"
      ],
      "text/plain": [
       "  color avgPrice sumCarat\n",
       "7 J     5323.818 3263.28 \n",
       "6 I     5091.875 5568.00 \n",
       "5 H     4486.669 7571.58 \n",
       "4 G     3999.136 8708.28 \n",
       "3 F     3724.886 7028.05 \n",
       "1 D     3169.954 4456.56 \n",
       "2 E     3076.752 6445.12 "
      ]
     },
     "metadata": {},
     "output_type": "display_data"
    },
    {
     "data": {
      "text/html": [
       "<table class=\"dataframe\">\n",
       "<caption>A tibble: 7 × 3</caption>\n",
       "<thead>\n",
       "\t<tr><th scope=col>color</th><th scope=col>avgPrice</th><th scope=col>sumCarat</th></tr>\n",
       "\t<tr><th scope=col>&lt;ord&gt;</th><th scope=col>&lt;dbl&gt;</th><th scope=col>&lt;dbl&gt;</th></tr>\n",
       "</thead>\n",
       "<tbody>\n",
       "\t<tr><td>J</td><td>5323.818</td><td>3263.28</td></tr>\n",
       "\t<tr><td>I</td><td>5091.875</td><td>5568.00</td></tr>\n",
       "\t<tr><td>H</td><td>4486.669</td><td>7571.58</td></tr>\n",
       "\t<tr><td>G</td><td>3999.136</td><td>8708.28</td></tr>\n",
       "\t<tr><td>F</td><td>3724.886</td><td>7028.05</td></tr>\n",
       "\t<tr><td>D</td><td>3169.954</td><td>4456.56</td></tr>\n",
       "\t<tr><td>E</td><td>3076.752</td><td>6445.12</td></tr>\n",
       "</tbody>\n",
       "</table>\n"
      ],
      "text/latex": [
       "A tibble: 7 × 3\n",
       "\\begin{tabular}{lll}\n",
       " color & avgPrice & sumCarat\\\\\n",
       " <ord> & <dbl> & <dbl>\\\\\n",
       "\\hline\n",
       "\t J & 5323.818 & 3263.28\\\\\n",
       "\t I & 5091.875 & 5568.00\\\\\n",
       "\t H & 4486.669 & 7571.58\\\\\n",
       "\t G & 3999.136 & 8708.28\\\\\n",
       "\t F & 3724.886 & 7028.05\\\\\n",
       "\t D & 3169.954 & 4456.56\\\\\n",
       "\t E & 3076.752 & 6445.12\\\\\n",
       "\\end{tabular}\n"
      ],
      "text/markdown": [
       "\n",
       "A tibble: 7 × 3\n",
       "\n",
       "| color &lt;ord&gt; | avgPrice &lt;dbl&gt; | sumCarat &lt;dbl&gt; |\n",
       "|---|---|---|\n",
       "| J | 5323.818 | 3263.28 |\n",
       "| I | 5091.875 | 5568.00 |\n",
       "| H | 4486.669 | 7571.58 |\n",
       "| G | 3999.136 | 8708.28 |\n",
       "| F | 3724.886 | 7028.05 |\n",
       "| D | 3169.954 | 4456.56 |\n",
       "| E | 3076.752 | 6445.12 |\n",
       "\n"
      ],
      "text/plain": [
       "  color avgPrice sumCarat\n",
       "1 J     5323.818 3263.28 \n",
       "2 I     5091.875 5568.00 \n",
       "3 H     4486.669 7571.58 \n",
       "4 G     3999.136 8708.28 \n",
       "5 F     3724.886 7028.05 \n",
       "6 D     3169.954 4456.56 \n",
       "7 E     3076.752 6445.12 "
      ]
     },
     "metadata": {},
     "output_type": "display_data"
    }
   ],
   "source": [
    "# color 기준으로 평균 가격을 avgPrice로 총 carat을 sumCarat이라는 이름으로\n",
    "# 집계하고 평균가격으로 내림차순 정렬 총 carat은 오름차순으로 정렬 \n",
    "df[order(-df$avgPrice, df$sumCarat), ]\n",
    "\n",
    "diamonds %>% group_by(color) %>%\n",
    "             summarise(avgPrice = mean(price),\n",
    "                       sumCarat = sum(carat)) %>%\n",
    "             arrange(desc(avgPrice), sumCarat)"
   ]
  },
  {
   "cell_type": "code",
   "execution_count": null,
   "id": "1e17e87b-ea1b-46f0-9bda-50e1e5ff1c27",
   "metadata": {},
   "outputs": [],
   "source": []
  },
  {
   "cell_type": "code",
   "execution_count": null,
   "id": "18ddab5c-175e-4c61-b5b0-1c3a63c2b583",
   "metadata": {},
   "outputs": [],
   "source": []
  }
 ],
 "metadata": {
  "kernelspec": {
   "display_name": "R",
   "language": "R",
   "name": "ir"
  },
  "language_info": {
   "codemirror_mode": "r",
   "file_extension": ".r",
   "mimetype": "text/x-r-source",
   "name": "R",
   "pygments_lexer": "r",
   "version": "3.6.3"
  }
 },
 "nbformat": 4,
 "nbformat_minor": 5
}
