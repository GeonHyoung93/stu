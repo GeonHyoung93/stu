{
 "cells": [
  {
   "cell_type": "markdown",
   "id": "bc3a5aed-84bb-4839-964a-fbb3c0ddf788",
   "metadata": {},
   "source": [
    "## 짝 paired 표본을 이용한 가설검정\n",
    "* 동일한 집단의 전/후 차이를 비교하기 위해 사용\n",
    "* 짝paired 표본 : 동일한 모집단으로부터 추출된 서로 연관있는 2개의 표본을 의미\n",
    "* 주의점 : 짝paired 표본의 갯수는 서로 동일해야함\n",
    "* t.test(표본1, 표본2, 짝표본여부, 검정유형)\n",
    "* 표본에 대한 정규성 여부 확인 필요"
   ]
  },
  {
   "cell_type": "code",
   "execution_count": 1,
   "id": "c57eaf71-5432-440c-9d5a-b4150a71fa03",
   "metadata": {},
   "outputs": [],
   "source": [
    "# ex) 10명 학생의 과외 받기 전/후 수학\n",
    "# 성적차이를 비교 (유의수준 0.05)\n",
    "\n",
    "before <- c(16,20,21,22,23,22,27,25,27,28)\n",
    "after <- c(19,22,24,24,25,25,26,26,28,32)\n",
    "\n",
    "# 귀무가설 : 과외 전/후 수학 성적차이가 없다\n",
    "# 대립가설 : 과외 전/후 수학 성적차이가 있다. -> 양측검정\n",
    "# 유의수준 : 0.05\n",
    "# 자유도 : 10 - 1 = 9\n",
    "# 임계값 : -2.262, 2.262"
   ]
  },
  {
   "cell_type": "code",
   "execution_count": 2,
   "id": "d5e265ad-9388-4b68-ad76-c82d2091505a",
   "metadata": {},
   "outputs": [
    {
     "data": {
      "text/plain": [
       "\n",
       "\tShapiro-Wilk normality test\n",
       "\n",
       "data:  before\n",
       "W = 0.94809, p-value = 0.6459\n"
      ]
     },
     "metadata": {},
     "output_type": "display_data"
    },
    {
     "data": {
      "text/plain": [
       "\n",
       "\tShapiro-Wilk normality test\n",
       "\n",
       "data:  after\n",
       "W = 0.95546, p-value = 0.7332\n"
      ]
     },
     "metadata": {},
     "output_type": "display_data"
    }
   ],
   "source": [
    "shapiro.test(before)\n",
    "shapiro.test(after)"
   ]
  },
  {
   "cell_type": "code",
   "execution_count": 3,
   "id": "c7adbf39-deb4-4471-8c05-f05ec4037315",
   "metadata": {},
   "outputs": [
    {
     "data": {
      "text/plain": [
       "\n",
       "\tPaired t-test\n",
       "\n",
       "data:  before and after\n",
       "t = -4.4721, df = 9, p-value = 0.00155\n",
       "alternative hypothesis: true difference in means is not equal to 0\n",
       "95 percent confidence interval:\n",
       " -3.0116674 -0.9883326\n",
       "sample estimates:\n",
       "mean of the differences \n",
       "                     -2 \n"
      ]
     },
     "metadata": {},
     "output_type": "display_data"
    }
   ],
   "source": [
    "t.test(before, after, paired=T, alternative=c('two.sided'))\n",
    "# t = -4.4721, p-value = 0.00155\n",
    "# 귀무가설 기각 -> 과외 전/후 수학 성적차이가 있을수도 있다"
   ]
  },
  {
   "cell_type": "code",
   "execution_count": 19,
   "id": "e6942df1-2519-4fcd-acb9-e54d097e698d",
   "metadata": {},
   "outputs": [],
   "source": [
    "# ex) 상호금융회사는 부동산 가치 평가를 위해 2개의 평가회사를 고용했음\n",
    "# 임의로 10채의 주택을 추출해서 각 회사에 주택 가치평가 의뢰\n",
    "# 평가 회사별 가치 평가 차이가 있는가? 유의수준 0.05로 검정하시오 \n",
    "\n",
    "# 귀무가설 : \n",
    "# 대립가설 :\n",
    "# 유의수준 : 0.05\n",
    "# 자유도 : 9\n",
    "# 임계값 : +- 2.262\n",
    "w <- c(235, 210, 231, 242, 205, 230, 231, 210, 225, 249)\n",
    "s <- c(228, 205, 219, 240, 198, 223, 227, 215, 222, 245)\n"
   ]
  },
  {
   "cell_type": "code",
   "execution_count": null,
   "id": "72d69a49-ee35-482a-a8db-3e72b6df2a3f",
   "metadata": {},
   "outputs": [],
   "source": []
  },
  {
   "cell_type": "code",
   "execution_count": 20,
   "id": "02a3c50e-8817-461b-8778-eeedcb630cde",
   "metadata": {},
   "outputs": [
    {
     "data": {
      "text/plain": [
       "\n",
       "\tShapiro-Wilk normality test\n",
       "\n",
       "data:  w\n",
       "W = 0.9343, p-value = 0.4915\n"
      ]
     },
     "metadata": {},
     "output_type": "display_data"
    },
    {
     "data": {
      "text/plain": [
       "\n",
       "\tShapiro-Wilk normality test\n",
       "\n",
       "data:  s\n",
       "W = 0.97313, p-value = 0.9183\n"
      ]
     },
     "metadata": {},
     "output_type": "display_data"
    }
   ],
   "source": [
    "# 정규성 확인\n",
    "shapiro.test(w)\n",
    "shapiro.test(s)"
   ]
  },
  {
   "cell_type": "code",
   "execution_count": 21,
   "id": "9186afe2-16d1-4409-a7b1-2e4d581314cf",
   "metadata": {},
   "outputs": [
    {
     "data": {
      "text/plain": [
       "\n",
       "\tPaired t-test\n",
       "\n",
       "data:  w and s\n",
       "t = 3.3045, df = 9, p-value = 0.009164\n",
       "alternative hypothesis: true difference in means is not equal to 0\n",
       "95 percent confidence interval:\n",
       " 1.450985 7.749015\n",
       "sample estimates:\n",
       "mean of the differences \n",
       "                    4.6 \n"
      ]
     },
     "metadata": {},
     "output_type": "display_data"
    }
   ],
   "source": [
    "t.test(w, s, paired = T, alternative=c('two.sided'))\n",
    "# t=3.3045, p-value = 0.009164\n",
    "# 귀무가설 기각 -> 가치펴가 차이 있을 확률 있음"
   ]
  },
  {
   "cell_type": "code",
   "execution_count": 31,
   "id": "e6b038c2-7647-4a56-8bb1-842e14a719e0",
   "metadata": {},
   "outputs": [],
   "source": [
    "# ex) 신발 밑창 원재료에 따라 소모정도가 다른가?\n",
    "# 10명의 아이들에게 A/B사 밑창재료로 만든 신발을 신기고 각각의 소모정도를 조사하였을때\n",
    "# 유의수준 5%에서 각 원재료 소모정도는 차이가 있는가를 검정하시오\n",
    "\n",
    "# 10 - 1 = 9\n",
    "# +- 2.262\n",
    "library(MASS)\n"
   ]
  },
  {
   "cell_type": "code",
   "execution_count": 24,
   "id": "cb1296b1-2480-40e9-89b3-fe1a43a9b9d6",
   "metadata": {},
   "outputs": [
    {
     "data": {
      "text/html": [
       "<dl>\n",
       "\t<dt>$A</dt>\n",
       "\t\t<dd><style>\n",
       ".list-inline {list-style: none; margin:0; padding: 0}\n",
       ".list-inline>li {display: inline-block}\n",
       ".list-inline>li:not(:last-child)::after {content: \"\\00b7\"; padding: 0 .5ex}\n",
       "</style>\n",
       "<ol class=list-inline><li>13.2</li><li>8.2</li><li>10.9</li><li>14.3</li><li>10.7</li><li>6.6</li><li>9.5</li><li>10.8</li><li>8.8</li><li>13.3</li></ol>\n",
       "</dd>\n",
       "\t<dt>$B</dt>\n",
       "\t\t<dd><style>\n",
       ".list-inline {list-style: none; margin:0; padding: 0}\n",
       ".list-inline>li {display: inline-block}\n",
       ".list-inline>li:not(:last-child)::after {content: \"\\00b7\"; padding: 0 .5ex}\n",
       "</style>\n",
       "<ol class=list-inline><li>14</li><li>8.8</li><li>11.2</li><li>14.2</li><li>11.8</li><li>6.4</li><li>9.8</li><li>11.3</li><li>9.3</li><li>13.6</li></ol>\n",
       "</dd>\n",
       "</dl>\n"
      ],
      "text/latex": [
       "\\begin{description}\n",
       "\\item[\\$A] \\begin{enumerate*}\n",
       "\\item 13.2\n",
       "\\item 8.2\n",
       "\\item 10.9\n",
       "\\item 14.3\n",
       "\\item 10.7\n",
       "\\item 6.6\n",
       "\\item 9.5\n",
       "\\item 10.8\n",
       "\\item 8.8\n",
       "\\item 13.3\n",
       "\\end{enumerate*}\n",
       "\n",
       "\\item[\\$B] \\begin{enumerate*}\n",
       "\\item 14\n",
       "\\item 8.8\n",
       "\\item 11.2\n",
       "\\item 14.2\n",
       "\\item 11.8\n",
       "\\item 6.4\n",
       "\\item 9.8\n",
       "\\item 11.3\n",
       "\\item 9.3\n",
       "\\item 13.6\n",
       "\\end{enumerate*}\n",
       "\n",
       "\\end{description}\n"
      ],
      "text/markdown": [
       "$A\n",
       ":   1. 13.2\n",
       "2. 8.2\n",
       "3. 10.9\n",
       "4. 14.3\n",
       "5. 10.7\n",
       "6. 6.6\n",
       "7. 9.5\n",
       "8. 10.8\n",
       "9. 8.8\n",
       "10. 13.3\n",
       "\n",
       "\n",
       "\n",
       "$B\n",
       ":   1. 14\n",
       "2. 8.8\n",
       "3. 11.2\n",
       "4. 14.2\n",
       "5. 11.8\n",
       "6. 6.4\n",
       "7. 9.8\n",
       "8. 11.3\n",
       "9. 9.3\n",
       "10. 13.6\n",
       "\n",
       "\n",
       "\n",
       "\n",
       "\n"
      ],
      "text/plain": [
       "$A\n",
       " [1] 13.2  8.2 10.9 14.3 10.7  6.6  9.5 10.8  8.8 13.3\n",
       "\n",
       "$B\n",
       " [1] 14.0  8.8 11.2 14.2 11.8  6.4  9.8 11.3  9.3 13.6\n"
      ]
     },
     "metadata": {},
     "output_type": "display_data"
    }
   ],
   "source": [
    "head(shoes)"
   ]
  },
  {
   "cell_type": "code",
   "execution_count": 34,
   "id": "84b53840-d022-43d2-b0a0-b989873645c8",
   "metadata": {},
   "outputs": [
    {
     "data": {
      "text/plain": [
       "\n",
       "\tF test to compare two variances\n",
       "\n",
       "data:  shoes$A and shoes$B\n",
       "F = 0.94739, num df = 9, denom df = 9, p-value = 0.9372\n",
       "alternative hypothesis: true ratio of variances is not equal to 1\n",
       "95 percent confidence interval:\n",
       " 0.2353191 3.8142000\n",
       "sample estimates:\n",
       "ratio of variances \n",
       "         0.9473933 \n"
      ]
     },
     "metadata": {},
     "output_type": "display_data"
    }
   ],
   "source": [
    "var.test(shoes$A, shoes$B)"
   ]
  },
  {
   "cell_type": "code",
   "execution_count": 41,
   "id": "ffc5d69b-3e22-481f-abfd-0fb9683b388e",
   "metadata": {},
   "outputs": [
    {
     "data": {
      "text/plain": [
       "\n",
       "\tShapiro-Wilk normality test\n",
       "\n",
       "data:  shoes$A\n",
       "W = 0.9624, p-value = 0.8129\n"
      ]
     },
     "metadata": {},
     "output_type": "display_data"
    },
    {
     "data": {
      "text/plain": [
       "\n",
       "\tShapiro-Wilk normality test\n",
       "\n",
       "data:  shoes$B\n",
       "W = 0.94815, p-value = 0.6467\n"
      ]
     },
     "metadata": {},
     "output_type": "display_data"
    }
   ],
   "source": [
    "shapiro.test(shoes$A)\n",
    "shapiro.test(shoes$B)"
   ]
  },
  {
   "cell_type": "code",
   "execution_count": 54,
   "id": "3c860f69-760a-48ab-a52e-789d59e9b8c1",
   "metadata": {},
   "outputs": [
    {
     "data": {
      "text/plain": [
       "\n",
       "\tPaired t-test\n",
       "\n",
       "data:  shoes$A and shoes$B\n",
       "t = -3.3489, df = 9, p-value = 0.008539\n",
       "alternative hypothesis: true difference in means is not equal to 0\n",
       "95 percent confidence interval:\n",
       " -0.6869539 -0.1330461\n",
       "sample estimates:\n",
       "mean of the differences \n",
       "                  -0.41 \n"
      ]
     },
     "metadata": {},
     "output_type": "display_data"
    }
   ],
   "source": [
    "# t.test(shoes$A, shoes$B, var.equal=T, alternative=c('two.sided'))\n",
    "# t = -0.36891, df = 18, p-value = 0.7165\n",
    "# 귀무가설 채택 -> 원재료상의 차이가 없을 가능성이 크다\n",
    " t.test(shoes$A, shoes$B, paired=T, alternative=c('two.sided'))\n",
    "# t = -3.3489, df = 9, p-value = 0.008539\n",
    "# 귀무가설 기각 -> 원재료상의 차이가 있을 가능성이 크다"
   ]
  },
  {
   "cell_type": "code",
   "execution_count": null,
   "id": "d183b398-a64a-4ba4-9a03-a2f0aba06d37",
   "metadata": {},
   "outputs": [],
   "source": []
  },
  {
   "cell_type": "code",
   "execution_count": 45,
   "id": "cba7c03e-ca09-49f2-9475-44d20496b4d6",
   "metadata": {},
   "outputs": [],
   "source": [
    "# ex) 12명의 영업사원에게 인센티브 지급 전/후 주급 증가여부 확인하려 한다\n",
    "# 인센티브 지급 후 주급은 증가했는지를 유의수준 0.05로 검정하시오\n",
    "\n",
    "# 11 + 11  = 22 \n",
    "# +- 2.074\n",
    "\n",
    "# 11\n",
    "# +- 2.201\n",
    "before <- c(320, 290, 421, 510, 210, 402, 625, 560, 360, 431, 506, 505) \n",
    "after <- c(340, 285, 475, 510, 210, 500, 631, 560, 365, 431, 525, 619)"
   ]
  },
  {
   "cell_type": "code",
   "execution_count": 47,
   "id": "ea6338ee-dc8d-4893-aa89-2bcc3aab762b",
   "metadata": {},
   "outputs": [
    {
     "data": {
      "text/plain": [
       "\n",
       "\tShapiro-Wilk normality test\n",
       "\n",
       "data:  before\n",
       "W = 0.98183, p-value = 0.9899\n"
      ]
     },
     "metadata": {},
     "output_type": "display_data"
    },
    {
     "data": {
      "text/plain": [
       "\n",
       "\tShapiro-Wilk normality test\n",
       "\n",
       "data:  after\n",
       "W = 0.95762, p-value = 0.7493\n"
      ]
     },
     "metadata": {},
     "output_type": "display_data"
    }
   ],
   "source": [
    "shapiro.test(before)\n",
    "shapiro.test(after)"
   ]
  },
  {
   "cell_type": "code",
   "execution_count": 48,
   "id": "71908ea1-0cfe-4f25-8f3e-4c3335b88fe1",
   "metadata": {},
   "outputs": [
    {
     "data": {
      "text/plain": [
       "\n",
       "\tPaired t-test\n",
       "\n",
       "data:  before and after\n",
       "t = -2.2009, df = 11, p-value = 0.05\n",
       "alternative hypothesis: true difference in means is not equal to 0\n",
       "95 percent confidence interval:\n",
       " -5.183400e+01  6.658051e-04\n",
       "sample estimates:\n",
       "mean of the differences \n",
       "              -25.91667 \n"
      ]
     },
     "metadata": {},
     "output_type": "display_data"
    }
   ],
   "source": [
    "t.test(before, after, paired=T, alternative=c('two.sided'))\n",
    "# t = -2.2009, p-value = 0.05\n",
    "# 채택 -> 주급이 증가했을 가능성이 크다"
   ]
  },
  {
   "cell_type": "code",
   "execution_count": null,
   "id": "12f04a5e-9e9d-47c1-97f8-888f8bd3be75",
   "metadata": {},
   "outputs": [],
   "source": []
  },
  {
   "cell_type": "code",
   "execution_count": null,
   "id": "4ffdf984-5cba-4cd8-8abe-b5b206897b8e",
   "metadata": {},
   "outputs": [],
   "source": []
  },
  {
   "cell_type": "code",
   "execution_count": 50,
   "id": "47d86bf5-4621-4a7b-85a2-e9660b8bdfb4",
   "metadata": {},
   "outputs": [],
   "source": [
    "# ex) 새로운 당뇨병 치료제를 만든 제약회사에서 신약 효과를 알아보려 함. 10명의 당뇨병 환자를\n",
    "# 선별해서 혈당의 차이를 유의수준 5%에서 검정하시오\n",
    "\n",
    "# 9 + 9 = 18\n",
    "# +- 2.262\n",
    "\n",
    "old <- c(51.4, 52.0, 45.5, 54.5, 52.3, 50.9, 52.7, 50.3, 53.8, 53.1)\n",
    "new <- c(50.1, 51.5, 45.9, 53.1, 51.8, 50.3, 52.0, 49.9, 52.5, 53.0)"
   ]
  },
  {
   "cell_type": "code",
   "execution_count": 51,
   "id": "8a1ddaab-b29a-4680-9203-e9550eb68d1c",
   "metadata": {},
   "outputs": [
    {
     "data": {
      "text/plain": [
       "\n",
       "\tShapiro-Wilk normality test\n",
       "\n",
       "data:  old\n",
       "W = 0.85289, p-value = 0.06287\n"
      ]
     },
     "metadata": {},
     "output_type": "display_data"
    },
    {
     "data": {
      "text/plain": [
       "\n",
       "\tShapiro-Wilk normality test\n",
       "\n",
       "data:  new\n",
       "W = 0.84351, p-value = 0.04861\n"
      ]
     },
     "metadata": {},
     "output_type": "display_data"
    }
   ],
   "source": [
    "shapiro.test(old)\n",
    "shapiro.test(new)"
   ]
  },
  {
   "cell_type": "code",
   "execution_count": 53,
   "id": "548b41d8-7dd5-46e6-bdb3-852104e3f3e2",
   "metadata": {},
   "outputs": [
    {
     "data": {
      "text/plain": [
       "\n",
       "\tPaired t-test\n",
       "\n",
       "data:  old and new\n",
       "t = 3.5507, df = 9, p-value = 0.006209\n",
       "alternative hypothesis: true difference in means is not equal to 0\n",
       "95 percent confidence interval:\n",
       " 0.2322535 1.0477465\n",
       "sample estimates:\n",
       "mean of the differences \n",
       "                   0.64 \n"
      ]
     },
     "metadata": {},
     "output_type": "display_data"
    }
   ],
   "source": [
    "t.test(old, new, paired=T, alternative=c('two.sided'))\n",
    "# t = 3.5507, p-value = 0.006209\n",
    "# 기각 -> 혈당의 차이가 있을 가능성이 높다"
   ]
  },
  {
   "cell_type": "code",
   "execution_count": null,
   "id": "e472a671-0190-439f-a84a-b704e5bef227",
   "metadata": {},
   "outputs": [],
   "source": []
  },
  {
   "cell_type": "code",
   "execution_count": null,
   "id": "1295b4f4-41e2-4d2e-8bfe-223c71c9444d",
   "metadata": {},
   "outputs": [],
   "source": []
  },
  {
   "cell_type": "code",
   "execution_count": null,
   "id": "11872541-ab68-45e9-9143-d3e585f9927b",
   "metadata": {},
   "outputs": [],
   "source": []
  },
  {
   "cell_type": "code",
   "execution_count": null,
   "id": "fdc92c3c-d00c-4bde-8860-b7a9402c0409",
   "metadata": {},
   "outputs": [],
   "source": []
  }
 ],
 "metadata": {
  "kernelspec": {
   "display_name": "R",
   "language": "R",
   "name": "ir"
  },
  "language_info": {
   "codemirror_mode": "r",
   "file_extension": ".r",
   "mimetype": "text/x-r-source",
   "name": "R",
   "pygments_lexer": "r",
   "version": "3.6.3"
  }
 },
 "nbformat": 4,
 "nbformat_minor": 5
}
