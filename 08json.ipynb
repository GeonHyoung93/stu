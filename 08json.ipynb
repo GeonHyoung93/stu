{
 "cells": [
  {
   "cell_type": "markdown",
   "id": "8994bbba-aff6-4379-9647-a953f4a311cf",
   "metadata": {},
   "source": [
    "## 파이썬으로 JSON 형식 다루기\n",
    "* javascript object notation\n",
    "* 자바스크립트에서 객체를 표현하는 방식을 이용해서 각종 프로그래밍 언어에서 데이터를 표현한다.\n",
    "* 예전에는 csv, xml로 데이터를 표현했다면 지금은 json으로 거의 대부분 이용해서 표현\n",
    "* NoSQL 데이터베이스 중에서 MongoDB나 neo4j 역시 데이터를 다룰때에는 json형식을 주로 사용\n",
    "* json은 파이썬의 dict 자료형과 유사 \n",
    "     + [{'키':'값'},{...}, {,,,}]\n",
    "     + {'userid':'abc123','passwd':'987xyz', 'email':'abc123@xyz987.com'}\n",
    "     \n",
    "* xml 표기법\n",
    "    + \\<data\\> \n",
    "        \\<userid\\>abc123\\</userid\\>\n",
    "        \\<passwd\\>987xyz\\</passwd\\>\n",
    "        \\<email\\>abc123@xyz987.com\\</email\\>\n",
    "      \\</data\\>\n",
    "      "
   ]
  },
  {
   "cell_type": "code",
   "execution_count": 1,
   "id": "e062072f-c511-49cf-a20b-0beb3e612a9a",
   "metadata": {},
   "outputs": [],
   "source": [
    "# 파이썬에서 json 내장객체 초기화\n",
    "import json\n"
   ]
  },
  {
   "cell_type": "code",
   "execution_count": 3,
   "id": "304633ac-199d-4806-b4c8-bab8569329d3",
   "metadata": {},
   "outputs": [],
   "source": [
    "# JSON파일을 만들기 위해 사전형(dict) 객체 생성\n",
    "from collections import OrderedDict\n"
   ]
  },
  {
   "cell_type": "markdown",
   "id": "3ed1d99c-7986-46fd-bbaa-f47e492d19c6",
   "metadata": {},
   "source": [
    "## json 객체 생성 1 - text 이용\n",
    "* python의 dict처럼 정의"
   ]
  },
  {
   "cell_type": "code",
   "execution_count": 4,
   "id": "f8c1c22f-c894-4353-80f2-a731d54e0df9",
   "metadata": {},
   "outputs": [
    {
     "name": "stdout",
     "output_type": "stream",
     "text": [
      "{'userid': 'abc123', 'passwd': '987xyz', 'email': 'abc123@xyz987.com'}\n"
     ]
    }
   ],
   "source": [
    "member = {'userid':'abc123','passwd':'987xyz', 'email':'abc123@xyz987.com'}\n",
    "print(member)"
   ]
  },
  {
   "cell_type": "code",
   "execution_count": 5,
   "id": "05df48cf-1829-43fe-8682-e72ea9bf50ee",
   "metadata": {},
   "outputs": [
    {
     "name": "stdout",
     "output_type": "stream",
     "text": [
      "{\"userid\": \"abc123\", \"passwd\": \"987xyz\", \"email\": \"abc123@xyz987.com\"}\n"
     ]
    }
   ],
   "source": [
    "# dumps 함수를 이용해서 파이썬에서 만든 dict객체를 json객체로 만들 수 있다.\n",
    "obj = json.dumps(member)\n",
    "print(obj)"
   ]
  },
  {
   "cell_type": "code",
   "execution_count": 6,
   "id": "810c82fe-4796-4609-b04e-06315c6ec117",
   "metadata": {},
   "outputs": [
    {
     "name": "stdout",
     "output_type": "stream",
     "text": [
      "{\n",
      " \"userid\": \"abc123\",\n",
      " \"passwd\": \"987xyz\",\n",
      " \"email\": \"abc123@xyz987.com\"\n",
      "}\n"
     ]
    }
   ],
   "source": [
    "# indent 속성을 이용하면 json객체를 보기좋게 출력\n",
    "obj = json.dumps(member, indent=True)\n",
    "print(obj)"
   ]
  },
  {
   "cell_type": "code",
   "execution_count": 20,
   "id": "ec4562c0-9a6c-47ea-980a-6129509ef38c",
   "metadata": {},
   "outputs": [
    {
     "name": "stdout",
     "output_type": "stream",
     "text": [
      "{'name': '홍길동', 'call': '123-4567-8910', 'friends': ['지현', '혜교', '수지'], 'schools': {'mid': '서울중', 'high': '서울고'}}\n",
      "{\n",
      " \"name\": \"홍길동\",\n",
      " \"call\": \"123-4567-8910\",\n",
      " \"friends\": [\n",
      "  \"지현\",\n",
      "  \"혜교\",\n",
      "  \"수지\"\n",
      " ],\n",
      " \"schools\": {\n",
      "  \"mid\": \"서울중\",\n",
      "  \"high\": \"서울고\"\n",
      " }\n",
      "}\n"
     ]
    }
   ],
   "source": [
    "# 이름, 전화번호를 person이라는 json객체로 생성\n",
    "# 속성값이 여러개 존재할 경우 리스트로 정의\n",
    "person = {'name':'홍길동', 'call':'123-4567-8910', 'friends':['지현','혜교','수지'],\n",
    "         'schools':{'mid':'서울중','high':'서울고'} }\n",
    "print(person)\n",
    "\n",
    "\n",
    "# dumps 함수는 텍스트를 강제로 ascii로 인코딩을 하기 때문에\n",
    "# 한글의 경우 재대로 출력 안됨 따라서, 강제 ascii 인코딩을 중지\n",
    "obj2 = json.dumps(person, indent=True, ensure_ascii=False)\n",
    "print(obj2)"
   ]
  },
  {
   "cell_type": "markdown",
   "id": "21402d23-18fc-430a-a88d-d33339559b9a",
   "metadata": {},
   "source": [
    "## json 객체 생성2 - OrderedDict 이용\n",
    "* python의 dict를 이용하는 것보다 효율적\n"
   ]
  },
  {
   "cell_type": "code",
   "execution_count": 23,
   "id": "acc0979b-d78a-4d57-95ca-5bb78255ce66",
   "metadata": {},
   "outputs": [
    {
     "name": "stdout",
     "output_type": "stream",
     "text": [
      "OrderedDict([('name', '홍길동'), ('call', '123-4567-8910'), ('friends', ['지현', '혜교', '수지']), ('schools', OrderedDict([('mid', '서울중'), ('high', '서울고')]))])\n"
     ]
    }
   ],
   "source": [
    "person2 = OrderedDict()\n",
    "person2['name'] = '홍길동'\n",
    "person2['call'] = '123-4567-8910'\n",
    "person2['friends'] = ['지현','혜교','수지']\n",
    "\n",
    "schools = OrderedDict()\n",
    "schools['mid'] = '서울중'\n",
    "schools['high'] = '서울고'\n",
    "person2['schools'] = schools\n",
    "print(person2)"
   ]
  },
  {
   "cell_type": "code",
   "execution_count": 24,
   "id": "042075ca-b9c3-489a-b5e5-f67cc7551d63",
   "metadata": {},
   "outputs": [],
   "source": [
    "# 메모리에 생성된 json객체를 파일로 저장\n",
    "# dump(json객체, 파일객체, 옵션)\n",
    "\n",
    "with open('person.json', 'w', encoding='UTF8') as f:\n",
    "    json.dump(person, f, ensure_ascii=False)"
   ]
  },
  {
   "cell_type": "code",
   "execution_count": 25,
   "id": "3c489f45-9caf-4218-acbb-2f61bb16d98a",
   "metadata": {},
   "outputs": [
    {
     "name": "stdout",
     "output_type": "stream",
     "text": [
      "{'name': '홍길동', 'call': '123-4567-8910', 'friends': ['지현', '혜교', '수지'], 'schools': {'mid': '서울중', 'high': '서울고'}}\n"
     ]
    }
   ],
   "source": [
    "# 파일에 생성된 json객체를 메모리로 불러옴\n",
    "# load(파일객체)\n",
    "with open('person.json', encoding='UTF8') as f:\n",
    "    person_data = json.load(f)\n",
    "    \n",
    "print(person_data)"
   ]
  },
  {
   "cell_type": "code",
   "execution_count": null,
   "id": "3c8d4546-c450-4288-a45e-5d0933b677b8",
   "metadata": {},
   "outputs": [],
   "source": []
  },
  {
   "cell_type": "code",
   "execution_count": null,
   "id": "f68e50f6-8015-48e1-890e-9075b2bc08d4",
   "metadata": {},
   "outputs": [],
   "source": []
  }
 ],
 "metadata": {
  "kernelspec": {
   "display_name": "Python 3 (ipykernel)",
   "language": "python",
   "name": "python3"
  },
  "language_info": {
   "codemirror_mode": {
    "name": "ipython",
    "version": 3
   },
   "file_extension": ".py",
   "mimetype": "text/x-python",
   "name": "python",
   "nbconvert_exporter": "python",
   "pygments_lexer": "ipython3",
   "version": "3.7.10"
  }
 },
 "nbformat": 4,
 "nbformat_minor": 5
}
