{
 "cells": [
  {
   "cell_type": "code",
   "execution_count": null,
   "id": "bab51b96-3938-4e68-97c2-11cdbb7820ef",
   "metadata": {},
   "outputs": [],
   "source": [
    "# yes24.com에서 베스트셀러 도서중 20년10월 국내도서 종합 월별 베스트도서 목록 추출\n",
    "# 단, 추출할 도서는 40권정도로 한다.\n"
   ]
  },
  {
   "cell_type": "code",
   "execution_count": 29,
   "id": "77c92bc1-e6a1-4655-987c-056e6b7db0b2",
   "metadata": {},
   "outputs": [],
   "source": [
    "import json\n",
    "import requests\n",
    "import re\n",
    "from collections import OrderedDict\n",
    "from bs4 import BeautifulSoup\n",
    "import warnings\n",
    "warnings.filterwarnings(action='ignore')\n",
    "\n",
    "url = 'http://www.yes24.com/24/category/bestseller'\n",
    "params = {'CategoryNumber':'001', 'sumgb':'09', 'year':'2020', 'month':'10', 'PageNumber':'2' }\n",
    "header = { }"
   ]
  },
  {
   "cell_type": "code",
   "execution_count": 30,
   "id": "2ed6cbc4-bf6d-4301-8ac7-8966ca60e05c",
   "metadata": {},
   "outputs": [
    {
     "data": {
      "text/plain": [
       "'\\r\\n\\t<!DOCTYPE HTML PUBLIC \"-//W3C//DTD HTML 4.01 Transitional//EN\">\\r\\n\\t<html>\\r\\n\\r\\n<head><base href=\"http://www.yes24.com/24/\" />\\r\\n\\t<meta http-equiv=\"X-UA-Compatible\" content=\"IE=Edge\" />\\r\\n\\t<meta http-equiv=\"Content-Type\" content=\"text/html;charset=euc-kr\" />\\r\\n\\t<meta http-equiv=\"Accept-CH\" content=\"dpr,'"
      ]
     },
     "execution_count": 30,
     "metadata": {},
     "output_type": "execute_result"
    }
   ],
   "source": [
    "res = requests.get(url, headers=headers, params=params)\n",
    "html = BeautifulSoup(res.text, 'lxml')\n",
    "\n",
    "res.text[:300]"
   ]
  },
  {
   "cell_type": "code",
   "execution_count": 45,
   "id": "22ae551b-ba3b-4009-af51-3d41aa12d69d",
   "metadata": {},
   "outputs": [],
   "source": [
    "titles = []\n",
    "writers = []\n",
    "pubs = []\n",
    "pubdates = []\n",
    "prices = []"
   ]
  },
  {
   "cell_type": "code",
   "execution_count": 56,
   "id": "6bd4ff92-a8a6-4407-984a-e09cbe501609",
   "metadata": {},
   "outputs": [],
   "source": [
    "# 도서 제목 추출\n",
    "for title in html.select('td.goodsTxtInfo p:first-child'):\n",
    "    # title = re.sub('\\[도서\\] ', '', title.text)\n",
    "    titles.append(title.text.strip())\n",
    "    #print(title.text.strip())\n",
    "    "
   ]
  },
  {
   "cell_type": "code",
   "execution_count": 57,
   "id": "9fef03b3-e02c-480d-8029-fc0e52da8470",
   "metadata": {},
   "outputs": [],
   "source": [
    "# 저자\n",
    "for writer in html.select('div.aupu'):\n",
    "    writer = writer.text.split('|')[0].strip()\n",
    "    #print(writer)\n",
    "    \n",
    "    writers.append(writer.strip())\n",
    "    "
   ]
  },
  {
   "cell_type": "code",
   "execution_count": 58,
   "id": "d0316b10-eabe-48e8-b9ad-6c61e5dece66",
   "metadata": {},
   "outputs": [],
   "source": [
    "# 출판사\n",
    "for pub in html.select('div.aupu'):\n",
    "    pub = pub.text.split('|')[1].strip()\n",
    "    # print(pub.strip())\n",
    "    \n",
    "    pubs.append(pub.strip())"
   ]
  },
  {
   "cell_type": "code",
   "execution_count": 59,
   "id": "74db0597-d27a-447f-b7a8-d72da1c68eaa",
   "metadata": {},
   "outputs": [],
   "source": [
    "# 날짜\n",
    "for pubdate in html.select('div.aupu'):\n",
    "    pubdate = pubdate.text.split('|')[2]\n",
    "    # print(pubdate.strip())\n",
    "    pubdates.append(pubdate.strip())"
   ]
  },
  {
   "cell_type": "code",
   "execution_count": 60,
   "id": "ebe242a8-ba72-4050-8add-63270efbe87e",
   "metadata": {},
   "outputs": [],
   "source": [
    "# 가격\n",
    "for price in html.select('td.goodsTxtInfo p:nth-of-type(2)'):\n",
    "    price = price.text.split('원')[0]\n",
    "    price = re.sub(',', '', price)\n",
    "    # print(price.strip())\n",
    "    prices.append(price.strip())"
   ]
  },
  {
   "cell_type": "code",
   "execution_count": 61,
   "id": "d39a87d7-0b6a-4e88-b1a3-44433a1c2bad",
   "metadata": {},
   "outputs": [
    {
     "name": "stdout",
     "output_type": "stream",
     "text": [
      "{\n",
      "  \"books2\": [\n",
      "    {\n",
      "      \"title\": \"[도서]   이토록 공부가 재미있어지는 순간 : 공부에 지친 청소년들을 위한 힐링 에세이(30만 부 기념 Magic 에디션, 양장)\",\n",
      "      \"writer\": \"박성혁 저\",\n",
      "      \"pub\": \"다산북스\",\n",
      "      \"pubdate\": \"2020년 07월\",\n",
      "      \"price\": \"15000\"\n",
      "    },\n",
      "    {\n",
      "      \"title\": \"[도서]   돈의 속성  : 최상위 부자가 말하는 돈에 대한 모든 것\",\n",
      "      \"writer\": \"김승호 저\",\n",
      "      \"pub\": \"스노우폭스북스\",\n",
      "      \"pubdate\": \"2020년 06월\",\n",
      "      \"price\": \"16800\"\n",
      "    },\n",
      "    {\n",
      "      \"title\": \"[도서]   한번도 경험해보지 못한 나라 : \\\"민주주의는 어떻게 끝장나는가\\\"\",\n",
      "      \"writer\": \"강양구,권경애,김경율,서민,진중권 저\",\n",
      "      \"pub\": \"천년의상상\",\n",
      "      \"pubdate\": \"2020년 08월\",\n",
      "      \"price\": \"17800\"\n",
      "    },\n",
      "    {\n",
      "      \"title\": \"[도서]   아몬드(양장)\",\n",
      "      \"writer\": \"손원평 저\",\n",
      "      \"pub\": \"창비\",\n",
      "      \"pubdate\": \"2017년 03월\",\n",
      "      \"price\": \"12000\"\n",
      "    },\n",
      "    {\n",
      "      \"title\": \"[도서]   흔한남매의 흔한 호기심 1\",\n",
      "      \"writer\": \"흔한남매 원저/안치현 글/유난희 그림/이정모,흔한컴퍼니 감수\",\n",
      "      \"pub\": \"미래엔아이세움\",\n",
      "      \"pubdate\": \"2020년 09월\",\n",
      "      \"price\": \"12000\"\n",
      "    },\n",
      "    {\n",
      "      \"title\": \"[도서]   주식투자 무작정 따라하기 : 100만 왕초보가 감동한 최고의 주식투자 입문서(개정판)-길벗 무따기\",\n",
      "      \"writer\": \"윤재수 저\",\n",
      "      \"pub\": \"길벗\",\n",
      "      \"pubdate\": \"2020년 01월\",\n",
      "      \"price\": \"18000\"\n",
      "    },\n",
      "    {\n",
      "      \"title\": \"[도서]   심판(양장,  마우스패드 증정 (포인트 차감))\",\n",
      "      \"writer\": \"베르나르 베르베르 저/전미연 역\",\n",
      "      \"pub\": \"열린책들\",\n",
      "      \"pubdate\": \"2020년 08월\",\n",
      "      \"price\": \"12800\"\n",
      "    },\n",
      "    {\n",
      "      \"title\": \"[도서]   존리의 부자되기 습관 : 대한민국 경제독립 액션 플랜(20만부 기념 리커버 에디션)\",\n",
      "      \"writer\": \"존리 저\",\n",
      "      \"pub\": \"지식노마드\",\n",
      "      \"pubdate\": \"2020년 10월\",\n",
      "      \"price\": \"15000\"\n",
      "    },\n",
      "    {\n",
      "      \"title\": \"[도서]   이상한 과자 가게 전천당 8 (양장)\",\n",
      "      \"writer\": \"히로시마 레이코 글/쟈쟈 그림/김정화 역\",\n",
      "      \"pub\": \"길벗스쿨\",\n",
      "      \"pubdate\": \"2020년 09월\",\n",
      "      \"price\": \"12000\"\n",
      "    },\n",
      "    {\n",
      "      \"title\": \"[도서]   김미경의 리부트 : 코로나로 멈춘 나를 다시 일으켜 세우는 법\",\n",
      "      \"writer\": \"김미경 저\",\n",
      "      \"pub\": \"웅진지식하우스\",\n",
      "      \"pubdate\": \"2020년 07월\",\n",
      "      \"price\": \"16000\"\n",
      "    },\n",
      "    {\n",
      "      \"title\": \"[도서]   더 해빙 The Having (40만부 기념 리커버 에디션) : 부와 행운을 끌어당기는 힘(양장)\",\n",
      "      \"writer\": \"이서윤,홍주연 저\",\n",
      "      \"pub\": \"수오서재\",\n",
      "      \"pubdate\": \"2020년 03월\",\n",
      "      \"price\": \"16000\"\n",
      "    },\n",
      "    {\n",
      "      \"title\": \"[도서]   만남은 지겹고 이별은 지쳤다 : 색과 체 산문집\",\n",
      "      \"writer\": \"색과 체 저\",\n",
      "      \"pub\": \"떠오름\",\n",
      "      \"pubdate\": \"2020년 06월\",\n",
      "      \"price\": \"13800\"\n",
      "    },\n",
      "    {\n",
      "      \"title\": \"[도서]   기분이 태도가 되지 않게 : 기분 따라 행동하다 손해 보는 당신을 위한 심리 수업\",\n",
      "      \"writer\": \"레몬심리 저/박영란 역\",\n",
      "      \"pub\": \"갤리온\",\n",
      "      \"pubdate\": \"2020년 06월\",\n",
      "      \"price\": \"14000\"\n",
      "    },\n",
      "    {\n",
      "      \"title\": \"[도서]   살고 싶다는 농담 : 허지웅 에세이(양장)\",\n",
      "      \"writer\": \"허지웅 저\",\n",
      "      \"pub\": \"웅진지식하우스\",\n",
      "      \"pubdate\": \"2020년 08월\",\n",
      "      \"price\": \"16000\"\n",
      "    },\n",
      "    {\n",
      "      \"title\": \"[도서]   보건교사 안은영 (리커버 특별판)(양장)-오늘의 젊은 작가\",\n",
      "      \"writer\": \"정세랑 저\",\n",
      "      \"pub\": \"민음사\",\n",
      "      \"pubdate\": \"2020년 09월\",\n",
      "      \"price\": \"14000\"\n",
      "    },\n",
      "    {\n",
      "      \"title\": \"[도서]   마법천자문 49  : 마주 보는 그림자! 그림자 영(影)!\",\n",
      "      \"writer\": \"유대영 글/홍거북 그림/김창환 감수\",\n",
      "      \"pub\": \"아울북\",\n",
      "      \"pubdate\": \"2020년 09월\",\n",
      "      \"price\": \"12000\"\n",
      "    },\n",
      "    {\n",
      "      \"title\": \"[도서]   규칙 없음 : 넷플릭스, 지구상 가장 빠르고 유연한 기업의 비밀\",\n",
      "      \"writer\": \"리드 헤이스팅스,에린 마이어 저/이경남 역\",\n",
      "      \"pub\": \"알에이치코리아(RHK)\",\n",
      "      \"pubdate\": \"2020년 09월\",\n",
      "      \"price\": \"25000\"\n",
      "    },\n",
      "    {\n",
      "      \"title\": \"[도서]   어른의 어휘력 : 말에 품격을 더하고 세상을 올바르게 이해하는 힘\",\n",
      "      \"writer\": \"유선경 저\",\n",
      "      \"pub\": \"앤의서재\",\n",
      "      \"pubdate\": \"2020년 08월\",\n",
      "      \"price\": \"16500\"\n",
      "    },\n",
      "    {\n",
      "      \"title\": \"[도서]   완전학습 바이블 : 배운 것을 100% 이해하는 후천적 공부머리의 비밀(부모를 위한 습관노트 (포인트차감), [단독] 도서 포함 국내도서 2만원↑ 북 크로스 에코백 증정 (선착순, 포인트 차감))\",\n",
      "      \"writer\": \"임작가 저\",\n",
      "      \"pub\": \"다산에듀\",\n",
      "      \"pubdate\": \"2020년 08월\",\n",
      "      \"price\": \"17000\"\n",
      "    },\n",
      "    {\n",
      "      \"title\": \"[도서]   알사탕(양장)-그림책이 참 좋아 039\",\n",
      "      \"writer\": \"백희나 글그림\",\n",
      "      \"pub\": \"책읽는곰\",\n",
      "      \"pubdate\": \"2017년 03월\",\n",
      "      \"price\": \"12000\"\n",
      "    }\n",
      "  ]\n",
      "}\n"
     ]
    }
   ],
   "source": [
    "# 스크래핑한 도서목록을 json형식으로 재구성\n",
    "allbooks2 = OrderedDict()\n",
    "books2 = []\n",
    "\n",
    "for i in range(len(titles)):\n",
    "    book = OrderedDict()\n",
    "    book['title'] = titles[i]\n",
    "    book['writer'] = writers[i]\n",
    "    book['pub'] = pubs[i]\n",
    "    book['pubdate'] = pubdates[i]\n",
    "    book['price'] = prices[i]\n",
    "    books2.append(book)\n",
    "\n",
    "allbooks2['books2'] = books2\n",
    "print(json.dumps(allbooks2, ensure_ascii=False, indent=2))"
   ]
  },
  {
   "cell_type": "code",
   "execution_count": 62,
   "id": "db86da83-9576-4702-b046-31bf05b21399",
   "metadata": {},
   "outputs": [],
   "source": [
    "with open('allbooks2.json', 'w', encoding='UTF8') as f:\n",
    "    # 생성한 json 객체를 파일로 저장\n",
    "    json.dump(allbooks2, f, ensure_ascii=False)"
   ]
  },
  {
   "cell_type": "code",
   "execution_count": 63,
   "id": "bcb8c8b8-67ae-43f1-98ae-3ddd2ef57af5",
   "metadata": {},
   "outputs": [],
   "source": [
    "with open('allbooks2.json', encoding='UTF8')as f:\n",
    "    jbooks2 = json.load(f)"
   ]
  },
  {
   "cell_type": "code",
   "execution_count": null,
   "id": "24255c13-563b-4777-9480-d1790bdf062d",
   "metadata": {},
   "outputs": [],
   "source": []
  },
  {
   "cell_type": "code",
   "execution_count": null,
   "id": "80d79b1b-d10c-417a-bae4-4c9acd9449a6",
   "metadata": {},
   "outputs": [],
   "source": []
  },
  {
   "cell_type": "code",
   "execution_count": null,
   "id": "d2e200c8-13be-4c10-890b-01d2772ff0c2",
   "metadata": {},
   "outputs": [],
   "source": []
  },
  {
   "cell_type": "code",
   "execution_count": null,
   "id": "6935bb0d-06f7-466e-ab7a-be85f520f15e",
   "metadata": {},
   "outputs": [],
   "source": []
  },
  {
   "cell_type": "code",
   "execution_count": null,
   "id": "cd8ff128-ba6c-43aa-8041-a6e49495cd2c",
   "metadata": {},
   "outputs": [],
   "source": []
  }
 ],
 "metadata": {
  "kernelspec": {
   "display_name": "Python 3 (ipykernel)",
   "language": "python",
   "name": "python3"
  },
  "language_info": {
   "codemirror_mode": {
    "name": "ipython",
    "version": 3
   },
   "file_extension": ".py",
   "mimetype": "text/x-python",
   "name": "python",
   "nbconvert_exporter": "python",
   "pygments_lexer": "ipython3",
   "version": "3.7.10"
  }
 },
 "nbformat": 4,
 "nbformat_minor": 5
}
