{
 "cells": [
  {
   "cell_type": "markdown",
   "id": "4d28f3da-6317-4791-9bc8-8420179f7f4b",
   "metadata": {},
   "source": [
    "## 불순도\n",
    "* 데이터 그룹내 얼마나 다양한 객체가 있는지를 수치로 표현\n",
    "* 의사결정나무의 가지는 불순도가 적은 방향으로 형성해 나간다.\n",
    "* 불순도를 계산하는 알고리즘에는 CART, ID3/C4.5/C5, CHAID등이 있다.\n",
    "* 각각의 알고리즘을 통해 얻을수 있는 지표는 지니계수, 엔트로피등이 있다.\n"
   ]
  },
  {
   "cell_type": "markdown",
   "id": "c62f7c3d-8ef2-4fb2-92ac-91f01b30029f",
   "metadata": {},
   "source": [
    "<img src = 'img/impurity.png'>"
   ]
  },
  {
   "cell_type": "markdown",
   "id": "471606a5-f5f4-4c8b-9267-104995611e6b",
   "metadata": {},
   "source": [
    "## 불순도 계산 알고리즘 비교\n",
    "* CART : 보편적 알고리즘, 불순도 지표로 지니계수 사용, 계산속도 빠름\n",
    "* ID3: 범주형변수를 이용한 이항분류, 불순도 지표로 엔트로피 사용\n",
    "    + C4.5 : 다항분류, 연속형변수를 이용한 회귀에도 사용가능\n",
    "    + C5 : 저작권이 걸린 알고리즘, 앙상블트리 생성\n",
    "* CHAID : 통계적 분석 적용, 범주형변수는 카이젭곱 검정을 연속형변수는 F검정을 통해 분류작업 수행"
   ]
  },
  {
   "cell_type": "markdown",
   "id": "7bbaf144-d08e-4522-86cd-ca5c17d05214",
   "metadata": {},
   "source": [
    "## 엔트로피 \n",
    "* 물리 열역학에서의 관점\n",
    "    + 물질의 열적상태를 나타내는 물리량의 하나 \n",
    "    + 보통 무질서도 라고 한다.\n",
    "    + 엔트로피가 높으면 무질서도 가 증가\n",
    "* 통계에서의 관점\n",
    "    + 정보이득의 혼잡도/불순도\n",
    "    + 엔트로피가 높으면 정보이해가 어려워진다.\n",
    "    + 즉, 정보의 불확실성을 수치로 나타낸 것\n",
    "* 학습데이터는 기본적으로 혼잡한 상태\n",
    "    + 따라서, 어떤 조건으로 분류해야만 전체 불순도가 개선되는지 계산\n",
    "    + 정리한 결과에 대해 다시 계산해서 처리를 반복 적용\n"
   ]
  },
  {
   "cell_type": "code",
   "execution_count": 1,
   "id": "c33b1552-c8a6-4dd0-91aa-f51f076a549b",
   "metadata": {},
   "outputs": [],
   "source": [
    "# x = [1,2,3,4,5,6,7,8]\n",
    "# y = [0,0,0,1,1,1,1,1]\n",
    "# x를 기준으로 y를 나누는 가장 좋은 방법은\n",
    "# 방법1) x = 3.5(최적의 조건)\n",
    "# 방법2) x = 4.5(오분류 가능성 존재)"
   ]
  },
  {
   "cell_type": "markdown",
   "id": "51ff1b68-ff5a-48a6-a1ce-8680f3935967",
   "metadata": {},
   "source": [
    "## 엔트로피 공식\n",
    "* $ entropy = - \\sum p_k \\log2 p_k $\n",
    "* 복수의 현상 n개가 존재할때 그 불순도를 나타내는 엔트로피 식은\n",
    "    + -p(현상1) * log(p(현상1)) + -p(현상2) * log(p(현상2)) + ... + -p(현상n) * log(p(현상n)) \n",
    "* 엔트로피는 일반적으로 2를 밑으로 하는 로그로 계산"
   ]
  },
  {
   "cell_type": "code",
   "execution_count": 3,
   "id": "1e1bbd32-725a-422c-8c6c-e7ce885f21bd",
   "metadata": {},
   "outputs": [
    {
     "data": {
      "text/plain": [
       "-3.3219280948873626"
      ]
     },
     "execution_count": 3,
     "metadata": {},
     "output_type": "execute_result"
    }
   ],
   "source": [
    "import math\n",
    "\n",
    "# 확률 0.1 현상이 10개 일어난 경우 엔트로피는?\n",
    "-1 * (-0.1 * math.log2(0.1)) * 10"
   ]
  },
  {
   "cell_type": "code",
   "execution_count": 6,
   "id": "88e95142-4e41-431d-b7d7-d44d2670add8",
   "metadata": {},
   "outputs": [
    {
     "data": {
      "text/plain": [
       "-2.0"
      ]
     },
     "execution_count": 6,
     "metadata": {},
     "output_type": "execute_result"
    }
   ],
   "source": [
    "# 확률 0.25 현상이 4개 일어난 경우 엔트로피는?\n",
    "-1 * (-0.25 * math.log2(0.25)) * 4"
   ]
  },
  {
   "cell_type": "code",
   "execution_count": 8,
   "id": "f8cf3b91-d861-4565-b274-8d553ef2ffd2",
   "metadata": {},
   "outputs": [],
   "source": [
    "# 3가지 특성에 따라 10마리 동물을 개/고양이로 분류\n",
    "# big, follow,    walking, class\n",
    "# yes,    yes,      yes,    dog\n",
    "# yes,    yes,       no,    cat\n",
    "# no,     yes,      yes,    dog\n",
    "# yes,    yes,      yes,    dog\n",
    "# no,      no,      yes,    cat\n",
    "# yes,     no,      yes,    dog\n",
    "# yes,     no,      yes,    cat\n",
    "# no,      no,       no,    cat\n",
    "# yes,    yes,      yes,    dog\n",
    "# no,     yes,       no,    dog"
   ]
  },
  {
   "cell_type": "code",
   "execution_count": 12,
   "id": "38bff374-0e92-4b18-ac16-905026992cb0",
   "metadata": {},
   "outputs": [
    {
     "data": {
      "text/plain": [
       "0.9709505944546686"
      ]
     },
     "execution_count": 12,
     "metadata": {},
     "output_type": "execute_result"
    }
   ],
   "source": [
    "# 1) target 엔트로피 계산\n",
    "# 10마리 중 개는 6마리, 고양이는 4마리\n",
    "# 개로 분류될 확률 : 6/10  = 0.6\n",
    "# 고양이로 분류될 학률 : 4/10 =0.4\n",
    "# 따라서 엔트로피는 \n",
    "# -0.6 * log2(0.6) - 0.4 * log2(0.4)\n",
    "\n",
    "a = -0.6 * math.log2(0.6)\n",
    "b = -0.4 * math.log2(0.4)\n",
    "a + b"
   ]
  },
  {
   "cell_type": "code",
   "execution_count": 14,
   "id": "6d3cb483-9489-40ed-bda3-2cbf0aa6629c",
   "metadata": {},
   "outputs": [
    {
     "data": {
      "text/plain": [
       "0.9179621399872384"
      ]
     },
     "execution_count": 14,
     "metadata": {},
     "output_type": "execute_result"
    }
   ],
   "source": [
    "# 2) 덩치(big)로 분류했을때 엔트로피 계산\n",
    "# big 큰것으로 분류 : 개:고양이 -> 4:2\n",
    "# 덩치가 클때 개로 분류될 확률 : 4/6 = 0.667\n",
    "# 덩치가 클때 고양이로 분류될 확률 : 2/6 = 0.333\n",
    "a = -0.667 * math.log2(0.667)\n",
    "b = -0.333 * math.log2(0.333)\n",
    "a+b"
   ]
  },
  {
   "cell_type": "code",
   "execution_count": 20,
   "id": "20ae0b63-10a7-419a-9d23-094e2b3e05fa",
   "metadata": {},
   "outputs": [
    {
     "data": {
      "text/plain": [
       "1.0"
      ]
     },
     "execution_count": 20,
     "metadata": {},
     "output_type": "execute_result"
    }
   ],
   "source": [
    "# big 작은것으로 분류 :  개 : 고양이 -> 2:2\n",
    "# 덩치가 작을때 개로 분류될 확률 : 2:4\n",
    "# 덩치가 작을때 고양이로 분류될 확률 : 2:4\n",
    "a = -0.5 * math.log2(0.5) * 2\n",
    "a"
   ]
  },
  {
   "cell_type": "markdown",
   "id": "ab60ce5e-0a56-4327-8f6e-fabe569b24da",
   "metadata": {},
   "source": [
    "## 정보획득 \n",
    "* 불순도 지표를 구할 수 있다면, 이를 통해 어떤 질문에서 얻을 수 있는 정보획득량을 계산할 수 있음\n",
    "    + 분할되기전 데이터에서 얻을 수 있는 정보획등량과\n",
    "    + 어떤 기준에 따라 분할된 데이터에서 얻을 수 있는 정보획득량 비교\n",
    "* 생성된 크기에 따라 가중치를 구하고 이를 불순도에 곱함 "
   ]
  },
  {
   "cell_type": "code",
   "execution_count": 24,
   "id": "8c491cae-7fd4-43d2-8a9f-aa44f63f7399",
   "metadata": {},
   "outputs": [
    {
     "data": {
      "text/plain": [
       "0.9508"
      ]
     },
     "execution_count": 24,
     "metadata": {},
     "output_type": "execute_result"
    }
   ],
   "source": [
    "# 덩치로 분류했을때의 정보획득량은\n",
    "# 개로 분류될 확률 X 덩치로 분류 했을때 불순도와\n",
    "# 고양이로 분류될 확률 X 덩치로 분류했을때 불순도를 더한 결과값\n",
    "6/10 * 0.918 + 4/10 * 1.0   # 0.971 -> 0.951"
   ]
  },
  {
   "cell_type": "code",
   "execution_count": 29,
   "id": "898c4970-3a25-40f5-a352-d84e579e3296",
   "metadata": {},
   "outputs": [
    {
     "data": {
      "text/plain": [
       "0.6507958209094192"
      ]
     },
     "execution_count": 29,
     "metadata": {},
     "output_type": "execute_result"
    }
   ],
   "source": [
    "# 3) 따름 fellow로 분류했을때 엔트로피 계산\n",
    "# 잘 따름으로 분류 = 개:고양이 ->  5:1\n",
    "# 잘 따를때 개로 분류될 확률 :   5:6  -> 0.833\n",
    "# 잘 따를때 고양이로 분류될 확률 : 1:6 -> 0.167\n",
    "a = -0.833 * math.log2(0.833)\n",
    "b = -0.167 * math.log2(0.167)\n",
    "a+b   # 0.651"
   ]
  },
  {
   "cell_type": "code",
   "execution_count": 31,
   "id": "ffe9ad8a-d430-4da5-ac87-699a35cd16a0",
   "metadata": {},
   "outputs": [
    {
     "data": {
      "text/plain": [
       "0.8112781244591328"
      ]
     },
     "execution_count": 31,
     "metadata": {},
     "output_type": "execute_result"
    }
   ],
   "source": [
    "# 잘 안따름으로 분류 = 개:고양이  1:3\n",
    "# 잘 안따를때 개로 분류될 확률 :  1/4  -> 0.25\n",
    "# 잘 안따를때 고양이로 분류될 확률 : 3/4 -> 0.75\n",
    "\n",
    "a = -0.25 * math.log2(0.25)\n",
    "b = -0.75 * math.log2(0.75)\n",
    "a+b"
   ]
  },
  {
   "cell_type": "code",
   "execution_count": 32,
   "id": "497ae7ed-93c6-4d0f-9f2d-feb18cd1bd21",
   "metadata": {},
   "outputs": [
    {
     "data": {
      "text/plain": [
       "0.7150000000000001"
      ]
     },
     "execution_count": 32,
     "metadata": {},
     "output_type": "execute_result"
    }
   ],
   "source": [
    "# 따름으로 분류 했을때의 정보획득량은 \n",
    "# 개로 분류될 확률 x 따름으로 분류했을때 불순도와\n",
    "# 고양이로 분류될 확률 x 따름으로 분류했을때 불순도를 더한 결과값\n",
    "\n",
    "6/10 * 0.651 + 4/10 * 0.811 "
   ]
  },
  {
   "cell_type": "code",
   "execution_count": 36,
   "id": "82f6bc81-fa8e-4ef8-90b3-8a559acd4def",
   "metadata": {},
   "outputs": [
    {
     "data": {
      "text/plain": [
       "0.8649106771796271"
      ]
     },
     "execution_count": 36,
     "metadata": {},
     "output_type": "execute_result"
    }
   ],
   "source": [
    "# 4) 산책 walking로 분류했을때 엔트로피 계산\n",
    "# 산책한다로 분류 = 개:고양이 ->  5:2\n",
    "# 산책하는데 개로 분류될 확률 :   5:7 -> 0.714\n",
    "# 산책하는데 고양이로 분류될 확률 : 2:7 -> 0.29\n",
    "\n",
    "a = -0.714 * math.log2(0.714)\n",
    "b = -0.29 * math.log2(0.29)\n",
    "a+b"
   ]
  },
  {
   "cell_type": "code",
   "execution_count": 40,
   "id": "c39145f1-d64d-45e5-a562-5403cb85032c",
   "metadata": {},
   "outputs": [
    {
     "data": {
      "text/plain": [
       "0.9179621399872384"
      ]
     },
     "execution_count": 40,
     "metadata": {},
     "output_type": "execute_result"
    }
   ],
   "source": [
    "# 산책안한다로 분류 : 개:고양이 -> 1:2\n",
    "# 산책안하는데 개로 분류될 확률 : 1:3 -> 0333\n",
    "# 산책안하는데 고양이로 분류될 확률 : 2:3 -> 0.667\n",
    "a = -0.333 * math.log2(0.333)\n",
    "b = -0.667 * math.log2(0.667)\n",
    "a+b"
   ]
  },
  {
   "cell_type": "code",
   "execution_count": 44,
   "id": "52ccce1b-29ba-4c0c-b83f-8399af560d30",
   "metadata": {},
   "outputs": [
    {
     "data": {
      "text/plain": [
       "0.8855999999999999"
      ]
     },
     "execution_count": 44,
     "metadata": {},
     "output_type": "execute_result"
    }
   ],
   "source": [
    "# 산책으로 분류했을때의 정보획득량은 \n",
    "# 개로 분류될 확률 x 산책으로 분류했을때 불순도와\n",
    "# 고양이로 분류될 확률 x 산책으로 분류했을때 불순도를 더한 결과값\n",
    "6/10 * 0.864 + 4/10 * 0.918"
   ]
  },
  {
   "cell_type": "code",
   "execution_count": 43,
   "id": "eed3e097-255f-4075-8c5e-a1bb555f79d7",
   "metadata": {},
   "outputs": [],
   "source": [
    "# 따라서, 덩치, 산책, 따름 여부에 따라 정보의 불순도 비교\n",
    "# 덩치 : 0.971 -> 0.951\n",
    "# 산책 : 0.971 -> 0.885\n",
    "# 따름 : 0.971 -> 0.715(!!)"
   ]
  },
  {
   "cell_type": "code",
   "execution_count": 67,
   "id": "5d87271a-861d-4685-9f59-bb2a87c25abd",
   "metadata": {},
   "outputs": [],
   "source": [
    "## 개/고양이 분류를 의사결정 나무 분석\n",
    "\n",
    "import numpy as np\n",
    "import pandas as pd\n",
    "import matplotlib.pyplot as plt\n",
    "import seaborn as sns\n",
    "import warnings\n",
    "warnings.filterwarnings(action='ignore')\n",
    "\n",
    "from sklearn.tree import DecisionTreeClassifier\n",
    "from sklearn.metrics import accuracy_score\n",
    "from sklearn.model_selection import train_test_split\n",
    "\n",
    "import pydotplus\n",
    "from sklearn import tree\n",
    "import matplotlib.image as pltimg"
   ]
  },
  {
   "cell_type": "code",
   "execution_count": 52,
   "id": "3998ea6b-4632-431c-82ae-737328bd4438",
   "metadata": {},
   "outputs": [
    {
     "data": {
      "text/html": [
       "<div>\n",
       "<style scoped>\n",
       "    .dataframe tbody tr th:only-of-type {\n",
       "        vertical-align: middle;\n",
       "    }\n",
       "\n",
       "    .dataframe tbody tr th {\n",
       "        vertical-align: top;\n",
       "    }\n",
       "\n",
       "    .dataframe thead th {\n",
       "        text-align: right;\n",
       "    }\n",
       "</style>\n",
       "<table border=\"1\" class=\"dataframe\">\n",
       "  <thead>\n",
       "    <tr style=\"text-align: right;\">\n",
       "      <th></th>\n",
       "      <th>big</th>\n",
       "      <th>follow</th>\n",
       "      <th>walking</th>\n",
       "      <th>class</th>\n",
       "    </tr>\n",
       "  </thead>\n",
       "  <tbody>\n",
       "    <tr>\n",
       "      <th>0</th>\n",
       "      <td>yes</td>\n",
       "      <td>yes</td>\n",
       "      <td>yes</td>\n",
       "      <td>dog</td>\n",
       "    </tr>\n",
       "    <tr>\n",
       "      <th>1</th>\n",
       "      <td>yes</td>\n",
       "      <td>yes</td>\n",
       "      <td>no</td>\n",
       "      <td>cat</td>\n",
       "    </tr>\n",
       "    <tr>\n",
       "      <th>2</th>\n",
       "      <td>no</td>\n",
       "      <td>yes</td>\n",
       "      <td>yes</td>\n",
       "      <td>dog</td>\n",
       "    </tr>\n",
       "    <tr>\n",
       "      <th>3</th>\n",
       "      <td>yes</td>\n",
       "      <td>yes</td>\n",
       "      <td>yes</td>\n",
       "      <td>dog</td>\n",
       "    </tr>\n",
       "    <tr>\n",
       "      <th>4</th>\n",
       "      <td>no</td>\n",
       "      <td>no</td>\n",
       "      <td>yes</td>\n",
       "      <td>cat</td>\n",
       "    </tr>\n",
       "  </tbody>\n",
       "</table>\n",
       "</div>"
      ],
      "text/plain": [
       "   big follow walking class\n",
       "0  yes    yes     yes   dog\n",
       "1  yes    yes      no   cat\n",
       "2   no    yes     yes   dog\n",
       "3  yes    yes     yes   dog\n",
       "4   no     no     yes   cat"
      ]
     },
     "execution_count": 52,
     "metadata": {},
     "output_type": "execute_result"
    }
   ],
   "source": [
    "catdog = pd.read_csv('csv/catdog.csv')\n",
    "\n",
    "catdog.head()"
   ]
  },
  {
   "cell_type": "code",
   "execution_count": 65,
   "id": "153fceef-256d-415c-85f4-24380693cc84",
   "metadata": {},
   "outputs": [
    {
     "data": {
      "text/plain": [
       "dog    6\n",
       "cat    4\n",
       "Name: class, dtype: int64"
      ]
     },
     "execution_count": 65,
     "metadata": {},
     "output_type": "execute_result"
    }
   ],
   "source": [
    "# 종속변수 빈도 확인\n",
    "catdog['class'].value_counts()"
   ]
  },
  {
   "cell_type": "code",
   "execution_count": 70,
   "id": "b2ebe30e-52d5-42a2-93ae-bdd496b817e6",
   "metadata": {},
   "outputs": [
    {
     "data": {
      "text/plain": [
       "<AxesSubplot:xlabel='class', ylabel='count'>"
      ]
     },
     "execution_count": 70,
     "metadata": {},
     "output_type": "execute_result"
    },
    {
     "data": {
      "image/png": "[encoded data removed]",
      "text/plain": [
       "<Figure size 432x288 with 1 Axes>"
      ]
     },
     "metadata": {
      "needs_background": "light"
     },
     "output_type": "display_data"
    }
   ],
   "source": [
    "sns.countplot(catdog['class'], data=catdog)"
   ]
  },
  {
   "cell_type": "code",
   "execution_count": 71,
   "id": "da97b59d-4d92-41aa-bc93-480e7525bf9e",
   "metadata": {},
   "outputs": [
    {
     "data": {
      "text/html": [
       "<div>\n",
       "<style scoped>\n",
       "    .dataframe tbody tr th:only-of-type {\n",
       "        vertical-align: middle;\n",
       "    }\n",
       "\n",
       "    .dataframe tbody tr th {\n",
       "        vertical-align: top;\n",
       "    }\n",
       "\n",
       "    .dataframe thead th {\n",
       "        text-align: right;\n",
       "    }\n",
       "</style>\n",
       "<table border=\"1\" class=\"dataframe\">\n",
       "  <thead>\n",
       "    <tr style=\"text-align: right;\">\n",
       "      <th></th>\n",
       "      <th>big</th>\n",
       "      <th>follow</th>\n",
       "      <th>walking</th>\n",
       "      <th>class</th>\n",
       "    </tr>\n",
       "  </thead>\n",
       "  <tbody>\n",
       "    <tr>\n",
       "      <th>0</th>\n",
       "      <td>1</td>\n",
       "      <td>1</td>\n",
       "      <td>1</td>\n",
       "      <td>1</td>\n",
       "    </tr>\n",
       "    <tr>\n",
       "      <th>1</th>\n",
       "      <td>1</td>\n",
       "      <td>1</td>\n",
       "      <td>0</td>\n",
       "      <td>0</td>\n",
       "    </tr>\n",
       "    <tr>\n",
       "      <th>2</th>\n",
       "      <td>0</td>\n",
       "      <td>1</td>\n",
       "      <td>1</td>\n",
       "      <td>1</td>\n",
       "    </tr>\n",
       "    <tr>\n",
       "      <th>3</th>\n",
       "      <td>1</td>\n",
       "      <td>1</td>\n",
       "      <td>1</td>\n",
       "      <td>1</td>\n",
       "    </tr>\n",
       "    <tr>\n",
       "      <th>4</th>\n",
       "      <td>0</td>\n",
       "      <td>0</td>\n",
       "      <td>1</td>\n",
       "      <td>0</td>\n",
       "    </tr>\n",
       "  </tbody>\n",
       "</table>\n",
       "</div>"
      ],
      "text/plain": [
       "   big  follow  walking  class\n",
       "0    1       1        1      1\n",
       "1    1       1        0      0\n",
       "2    0       1        1      1\n",
       "3    1       1        1      1\n",
       "4    0       0        1      0"
      ]
     },
     "execution_count": 71,
     "metadata": {},
     "output_type": "execute_result"
    }
   ],
   "source": [
    "# 전처리 - 레이블인코딩\n",
    "cols = ['big','follow','walking','class']\n",
    "\n",
    "for c in cols:\n",
    "    catdog[c] = pd.Categorical(catdog[c])\n",
    "    catdog[c] = catdog[c].cat.codes\n",
    "    \n",
    "catdog.head()"
   ]
  },
  {
   "cell_type": "code",
   "execution_count": 75,
   "id": "57d33952-c379-45d9-b869-ce90b4648fa8",
   "metadata": {},
   "outputs": [],
   "source": [
    "# 데이터 분리 및 분석\n",
    "data = catdog.iloc[:, :3]\n",
    "target = catdog['class']"
   ]
  },
  {
   "cell_type": "code",
   "execution_count": 76,
   "id": "8b53b33e-a236-4186-83fd-452ec84b10ef",
   "metadata": {},
   "outputs": [
    {
     "data": {
      "text/plain": [
       "0.9"
      ]
     },
     "execution_count": 76,
     "metadata": {},
     "output_type": "execute_result"
    }
   ],
   "source": [
    "dtc = DecisionTreeClassifier(criterion='entropy')\n",
    "dtc.fit(data, target)\n",
    "dtc.score(data, target)"
   ]
  },
  {
   "cell_type": "code",
   "execution_count": 77,
   "id": "e7584119-088a-4eee-bae9-bbb60b95bcab",
   "metadata": {},
   "outputs": [
    {
     "data": {
      "text/plain": [
       "(-0.5, 710.5, 580.5, -0.5)"
      ]
     },
     "execution_count": 77,
     "metadata": {},
     "output_type": "execute_result"
    },
    {
     "data": {
      "image/png": "[encoded data removed]",
      "text/plain": [
       "<Figure size 864x720 with 1 Axes>"
      ]
     },
     "metadata": {
      "needs_background": "light"
     },
     "output_type": "display_data"
    }
   ],
   "source": [
    "# 분석결과 시각화\n",
    "# 의사결정나무 분석 시각화\n",
    "\n",
    "# feature_names : 특성명 지정\n",
    "# class_names : 레이블명 지정\n",
    "dot_data = tree.export_graphviz(dtc, out_file=None, feature_names=cols[:3], class_names=['cat','dog'])\n",
    "graph = pydotplus.graph_from_dot_data(dot_data)\n",
    "graph.write_png('img/catdog.png')\n",
    "\n",
    "img = plt.imread('img/catdog.png')\n",
    "plt.figure(figsize=(12,10))\n",
    "plt.imshow(img)\n",
    "plt.axis('off')"
   ]
  },
  {
   "cell_type": "code",
   "execution_count": null,
   "id": "18e4b9b7-e1b0-4e31-85fb-5763d1e205c9",
   "metadata": {},
   "outputs": [],
   "source": []
  },
  {
   "cell_type": "code",
   "execution_count": 117,
   "id": "d0c18da1-a0f1-4f40-afca-d12e31fdba44",
   "metadata": {},
   "outputs": [
    {
     "data": {
      "text/html": [
       "<div>\n",
       "<style scoped>\n",
       "    .dataframe tbody tr th:only-of-type {\n",
       "        vertical-align: middle;\n",
       "    }\n",
       "\n",
       "    .dataframe tbody tr th {\n",
       "        vertical-align: top;\n",
       "    }\n",
       "\n",
       "    .dataframe thead th {\n",
       "        text-align: right;\n",
       "    }\n",
       "</style>\n",
       "<table border=\"1\" class=\"dataframe\">\n",
       "  <thead>\n",
       "    <tr style=\"text-align: right;\">\n",
       "      <th></th>\n",
       "      <th>OUTLOOK</th>\n",
       "      <th>TEMPERATURE</th>\n",
       "      <th>HUMIDITY</th>\n",
       "      <th>WINDY</th>\n",
       "      <th>PLAY</th>\n",
       "    </tr>\n",
       "  </thead>\n",
       "  <tbody>\n",
       "    <tr>\n",
       "      <th>0</th>\n",
       "      <td>sunny</td>\n",
       "      <td>85</td>\n",
       "      <td>85</td>\n",
       "      <td>False</td>\n",
       "      <td>Don'tPlay</td>\n",
       "    </tr>\n",
       "    <tr>\n",
       "      <th>1</th>\n",
       "      <td>sunny</td>\n",
       "      <td>80</td>\n",
       "      <td>90</td>\n",
       "      <td>True</td>\n",
       "      <td>Don'tPlay</td>\n",
       "    </tr>\n",
       "    <tr>\n",
       "      <th>2</th>\n",
       "      <td>overcast</td>\n",
       "      <td>83</td>\n",
       "      <td>78</td>\n",
       "      <td>False</td>\n",
       "      <td>Play</td>\n",
       "    </tr>\n",
       "    <tr>\n",
       "      <th>3</th>\n",
       "      <td>rain</td>\n",
       "      <td>70</td>\n",
       "      <td>96</td>\n",
       "      <td>False</td>\n",
       "      <td>Play</td>\n",
       "    </tr>\n",
       "    <tr>\n",
       "      <th>4</th>\n",
       "      <td>rain</td>\n",
       "      <td>68</td>\n",
       "      <td>80</td>\n",
       "      <td>False</td>\n",
       "      <td>Play</td>\n",
       "    </tr>\n",
       "    <tr>\n",
       "      <th>5</th>\n",
       "      <td>rain</td>\n",
       "      <td>65</td>\n",
       "      <td>70</td>\n",
       "      <td>True</td>\n",
       "      <td>Don'tPlay</td>\n",
       "    </tr>\n",
       "    <tr>\n",
       "      <th>6</th>\n",
       "      <td>overcast</td>\n",
       "      <td>64</td>\n",
       "      <td>65</td>\n",
       "      <td>True</td>\n",
       "      <td>Play</td>\n",
       "    </tr>\n",
       "    <tr>\n",
       "      <th>7</th>\n",
       "      <td>sunny</td>\n",
       "      <td>72</td>\n",
       "      <td>95</td>\n",
       "      <td>False</td>\n",
       "      <td>Don'tPlay</td>\n",
       "    </tr>\n",
       "    <tr>\n",
       "      <th>8</th>\n",
       "      <td>sunny</td>\n",
       "      <td>69</td>\n",
       "      <td>70</td>\n",
       "      <td>False</td>\n",
       "      <td>Play</td>\n",
       "    </tr>\n",
       "    <tr>\n",
       "      <th>9</th>\n",
       "      <td>rain</td>\n",
       "      <td>75</td>\n",
       "      <td>80</td>\n",
       "      <td>False</td>\n",
       "      <td>Play</td>\n",
       "    </tr>\n",
       "    <tr>\n",
       "      <th>10</th>\n",
       "      <td>sunny</td>\n",
       "      <td>75</td>\n",
       "      <td>70</td>\n",
       "      <td>True</td>\n",
       "      <td>Play</td>\n",
       "    </tr>\n",
       "    <tr>\n",
       "      <th>11</th>\n",
       "      <td>overcast</td>\n",
       "      <td>72</td>\n",
       "      <td>90</td>\n",
       "      <td>True</td>\n",
       "      <td>Play</td>\n",
       "    </tr>\n",
       "    <tr>\n",
       "      <th>12</th>\n",
       "      <td>overcast</td>\n",
       "      <td>81</td>\n",
       "      <td>75</td>\n",
       "      <td>False</td>\n",
       "      <td>Play</td>\n",
       "    </tr>\n",
       "    <tr>\n",
       "      <th>13</th>\n",
       "      <td>rain</td>\n",
       "      <td>71</td>\n",
       "      <td>80</td>\n",
       "      <td>True</td>\n",
       "      <td>Don'tPlay</td>\n",
       "    </tr>\n",
       "  </tbody>\n",
       "</table>\n",
       "</div>"
      ],
      "text/plain": [
       "     OUTLOOK  TEMPERATURE  HUMIDITY  WINDY       PLAY\n",
       "0      sunny           85        85  False  Don'tPlay\n",
       "1      sunny           80        90   True  Don'tPlay\n",
       "2   overcast           83        78  False       Play\n",
       "3       rain           70        96  False       Play\n",
       "4       rain           68        80  False       Play\n",
       "5       rain           65        70   True  Don'tPlay\n",
       "6   overcast           64        65   True       Play\n",
       "7      sunny           72        95  False  Don'tPlay\n",
       "8      sunny           69        70  False       Play\n",
       "9       rain           75        80  False       Play\n",
       "10     sunny           75        70   True       Play\n",
       "11  overcast           72        90   True       Play\n",
       "12  overcast           81        75  False       Play\n",
       "13      rain           71        80   True  Don'tPlay"
      ]
     },
     "execution_count": 117,
     "metadata": {},
     "output_type": "execute_result"
    }
   ],
   "source": [
    "pgolf = pd.read_csv('csv/playgolf.csv', sep='|')\n",
    "\n",
    "pgolf"
   ]
  },
  {
   "cell_type": "code",
   "execution_count": 118,
   "id": "fa69df8e-6fb5-48f2-9dbe-6c10b81c7f0f",
   "metadata": {},
   "outputs": [
    {
     "data": {
      "text/html": [
       "<div>\n",
       "<style scoped>\n",
       "    .dataframe tbody tr th:only-of-type {\n",
       "        vertical-align: middle;\n",
       "    }\n",
       "\n",
       "    .dataframe tbody tr th {\n",
       "        vertical-align: top;\n",
       "    }\n",
       "\n",
       "    .dataframe thead th {\n",
       "        text-align: right;\n",
       "    }\n",
       "</style>\n",
       "<table border=\"1\" class=\"dataframe\">\n",
       "  <thead>\n",
       "    <tr style=\"text-align: right;\">\n",
       "      <th></th>\n",
       "      <th>OUTLOOK</th>\n",
       "      <th>TEMPERATURE</th>\n",
       "      <th>HUMIDITY</th>\n",
       "      <th>WINDY</th>\n",
       "      <th>PLAY</th>\n",
       "    </tr>\n",
       "  </thead>\n",
       "  <tbody>\n",
       "    <tr>\n",
       "      <th>0</th>\n",
       "      <td>2</td>\n",
       "      <td>11</td>\n",
       "      <td>5</td>\n",
       "      <td>0</td>\n",
       "      <td>0</td>\n",
       "    </tr>\n",
       "    <tr>\n",
       "      <th>1</th>\n",
       "      <td>2</td>\n",
       "      <td>8</td>\n",
       "      <td>6</td>\n",
       "      <td>1</td>\n",
       "      <td>0</td>\n",
       "    </tr>\n",
       "    <tr>\n",
       "      <th>2</th>\n",
       "      <td>0</td>\n",
       "      <td>10</td>\n",
       "      <td>3</td>\n",
       "      <td>0</td>\n",
       "      <td>1</td>\n",
       "    </tr>\n",
       "    <tr>\n",
       "      <th>3</th>\n",
       "      <td>1</td>\n",
       "      <td>4</td>\n",
       "      <td>8</td>\n",
       "      <td>0</td>\n",
       "      <td>1</td>\n",
       "    </tr>\n",
       "    <tr>\n",
       "      <th>4</th>\n",
       "      <td>1</td>\n",
       "      <td>2</td>\n",
       "      <td>4</td>\n",
       "      <td>0</td>\n",
       "      <td>1</td>\n",
       "    </tr>\n",
       "  </tbody>\n",
       "</table>\n",
       "</div>"
      ],
      "text/plain": [
       "   OUTLOOK  TEMPERATURE  HUMIDITY  WINDY  PLAY\n",
       "0        2           11         5      0     0\n",
       "1        2            8         6      1     0\n",
       "2        0           10         3      0     1\n",
       "3        1            4         8      0     1\n",
       "4        1            2         4      0     1"
      ]
     },
     "execution_count": 118,
     "metadata": {},
     "output_type": "execute_result"
    }
   ],
   "source": [
    "# 전처리 - 레이블인코딩\n",
    "cols = ['OUTLOOK','TEMPERATURE','HUMIDITY','WINDY','PLAY']\n",
    "\n",
    "for c in cols:\n",
    "    pgolf[c] = pd.Categorical(pgolf[c])\n",
    "    pgolf[c] = pgolf[c].cat.codes\n",
    "    \n",
    "pgolf.head()"
   ]
  },
  {
   "cell_type": "code",
   "execution_count": 122,
   "id": "00ae66f4-25cd-4b78-8097-3b86b6fb29ce",
   "metadata": {},
   "outputs": [],
   "source": [
    "# 데이터 분리 및 분석\n",
    "data = pgolf.iloc[:, :4]\n",
    "target = pgolf['PLAY']"
   ]
  },
  {
   "cell_type": "code",
   "execution_count": 123,
   "id": "7dcad3f5-b3f9-443c-b62f-28a085d729c2",
   "metadata": {},
   "outputs": [
    {
     "data": {
      "text/plain": [
       "1.0"
      ]
     },
     "execution_count": 123,
     "metadata": {},
     "output_type": "execute_result"
    }
   ],
   "source": [
    "dtc = DecisionTreeClassifier(criterion='entropy')\n",
    "dtc.fit(data, target)\n",
    "dtc.score(data, target)"
   ]
  },
  {
   "cell_type": "code",
   "execution_count": 126,
   "id": "1ebb8719-691d-4e04-8763-a7abc9697515",
   "metadata": {},
   "outputs": [],
   "source": [
    "# # 분석결과 시각화\n",
    "# # 의사결정나무 분석 시각화\n",
    "\n",
    "# # feature_names : 특성명 지정\n",
    "# # class_names : 레이블명 지정\n",
    "\n",
    "# dot_data = tree.export_graphviz(dtc, out_file=None, feature_names=cols[:4], class_names=['PLAY'])\n",
    "# graph = pydotplus.graph_from_dot_data(dot_data)\n",
    "# graph.write_png('img/pgolf.png')\n",
    "\n",
    "# img = plt.imread('img/pgolf.png')\n",
    "# plt.figure(figsize=(12,10))\n",
    "# plt.imshow(img)\n",
    "# plt.axis('off')"
   ]
  },
  {
   "cell_type": "code",
   "execution_count": null,
   "id": "a1325a93-0ea4-415d-99d4-18a657248af4",
   "metadata": {},
   "outputs": [],
   "source": []
  },
  {
   "cell_type": "code",
   "execution_count": null,
   "id": "ba6c1b8a-fff4-4812-96d5-9bab7396d948",
   "metadata": {},
   "outputs": [],
   "source": []
  },
  {
   "cell_type": "code",
   "execution_count": null,
   "id": "81d41b44-39af-4116-8076-83829cb9c10e",
   "metadata": {},
   "outputs": [],
   "source": []
  },
  {
   "cell_type": "code",
   "execution_count": null,
   "id": "4b039694-f0ca-48a5-96d6-ebd25bdd8cbd",
   "metadata": {},
   "outputs": [],
   "source": []
  },
  {
   "cell_type": "code",
   "execution_count": null,
   "id": "1e9c94bf-c829-4326-99b2-8c3681f253ee",
   "metadata": {},
   "outputs": [],
   "source": []
  },
  {
   "cell_type": "code",
   "execution_count": null,
   "id": "8fad5ff1-2ee6-4df0-aba2-fac45dc7214a",
   "metadata": {},
   "outputs": [],
   "source": []
  },
  {
   "cell_type": "code",
   "execution_count": null,
   "id": "43fed113-0a06-4810-ad64-56e3fd53e0b4",
   "metadata": {},
   "outputs": [],
   "source": []
  }
 ],
 "metadata": {
  "kernelspec": {
   "display_name": "Python 3 (ipykernel)",
   "language": "python",
   "name": "python3"
  },
  "language_info": {
   "codemirror_mode": {
    "name": "ipython",
    "version": 3
   },
   "file_extension": ".py",
   "mimetype": "text/x-python",
   "name": "python",
   "nbconvert_exporter": "python",
   "pygments_lexer": "ipython3",
   "version": "3.7.10"
  }
 },
 "nbformat": 4,
 "nbformat_minor": 5
}
