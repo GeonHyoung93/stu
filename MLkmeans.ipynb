{
 "cells": [
  {
   "cell_type": "markdown",
   "id": "483f98c7-8c19-4823-a130-b643dfef0dcc",
   "metadata": {},
   "source": [
    "## 지도학습 vs 비지도학습\n",
    "* 지도학습 : 데이터와 레이블을 이용해서 규칙/패턴 파악\n",
    "* 비지도학습 : 데이터만을 이용해서 유사도에 따른 패턴/규칙 파악"
   ]
  },
  {
   "cell_type": "markdown",
   "id": "2d6d4952-cc68-404d-ad23-52c97638e93d",
   "metadata": {},
   "source": [
    "## K-means\n",
    "* 대표적 군집 알고리즘\n",
    "* 서로 유사성이 높은 것끼리 관측값을 묶어 다수의 그룹을 만드는 알고리즘\n",
    "* 즉, 동일 그룹내 구성원끼리 유사성이 높고 다른 그룹내 구성원과의 유사성은 거의 없다는 의미\n",
    "* 군집기반 분석기법 :: SSW, SSB"
   ]
  },
  {
   "cell_type": "markdown",
   "id": "62ef1f50-46cf-4907-a4ee-887d3c1b995b",
   "metadata": {},
   "source": [
    "## 유사도 파악\n",
    "* K-means에서는 각 점간의 거리가 가까울수록 비슷한 특성을 가진다고 보고 데이터들을 모은다.(군집)\n",
    "* 따라서, 유사도 측정을 위해 임의의 기준점(centeroid(평균))을 선정"
   ]
  },
  {
   "cell_type": "code",
   "execution_count": 18,
   "id": "31eaee02-a019-407c-b38c-4db8eb66a9b4",
   "metadata": {},
   "outputs": [],
   "source": [
    "import math\n",
    "import numpy as np\n",
    "import pandas as pd\n",
    "import matplotlib.pyplot as plt\n",
    "import seaborn as sns\n",
    "import warnings\n",
    "warnings.filterwarnings(action='ignore')"
   ]
  },
  {
   "cell_type": "code",
   "execution_count": 19,
   "id": "fb69a227-e0e0-4f38-83a0-c86dd7f8fe5c",
   "metadata": {},
   "outputs": [],
   "source": [
    "# 데이터정의\n",
    "x = 7,2,6,3,6,5,3,1,5,7,7,2\n",
    "y = 8,4,4,2,5,7,3,4,4,7,6,1"
   ]
  },
  {
   "cell_type": "code",
   "execution_count": 21,
   "id": "f996ce1b-3fe0-4e59-8ddc-6f631f06153d",
   "metadata": {},
   "outputs": [
    {
     "data": {
      "image/png": "[encoded data removed]",
      "text/plain": [
       "<Figure size 432x288 with 1 Axes>"
      ]
     },
     "metadata": {
      "needs_background": "light"
     },
     "output_type": "display_data"
    }
   ],
   "source": [
    "# 시각화\n",
    "plt.plot(x,y,'ro')\n",
    "plt.grid()"
   ]
  },
  {
   "cell_type": "code",
   "execution_count": 24,
   "id": "c6f60855-7592-47f1-85b4-d6162b9fd1ab",
   "metadata": {},
   "outputs": [
    {
     "data": {
      "image/png": "[encoded data removed]",
      "text/plain": [
       "<Figure size 432x288 with 1 Axes>"
      ]
     },
     "metadata": {
      "needs_background": "light"
     },
     "output_type": "display_data"
    }
   ],
   "source": [
    "# 임의의 센터로 설정 \n",
    "# -> C1(1,4), C2(7,8)\n",
    "\n",
    "plt.plot(x, y, 'ro')\n",
    "plt.plot([1,7],[4,8], 'bX')\n",
    "plt.grid()"
   ]
  },
  {
   "cell_type": "code",
   "execution_count": 29,
   "id": "23603e0a-710a-46a5-a508-c518d929d675",
   "metadata": {},
   "outputs": [],
   "source": [
    "# 센터로이드와 각 점들간 거리 계산 : 유클리드 거리 계산\n",
    "# 즉, A(X1,Y1)와B(X2,Y2)간의 거리계산은\n",
    "# sqrt((X2-X1)^2 + (Y2-Y1)^2) 이다."
   ]
  },
  {
   "cell_type": "code",
   "execution_count": 35,
   "id": "76af58bc-2045-42b4-ae8b-5f998be45513",
   "metadata": {},
   "outputs": [
    {
     "data": {
      "text/plain": [
       "5.0"
      ]
     },
     "execution_count": 35,
     "metadata": {},
     "output_type": "execute_result"
    }
   ],
   "source": [
    "# C(2,4)와 D(6,4)는 A(1,4),B(7,8) 중 어디와 가까운가.\n",
    "math.sqrt((1-2)**2 + (4-4)**2)  # A ~ C -> 1\n",
    "math.sqrt((1-6)**2 + (4-4)**2)  # A ~ D -> 5\n",
    "\n",
    "# C1으로 분류"
   ]
  },
  {
   "cell_type": "code",
   "execution_count": 37,
   "id": "ebc96355-61eb-4714-84f9-9a3b3b689326",
   "metadata": {},
   "outputs": [
    {
     "data": {
      "text/plain": [
       "4.123105625617661"
      ]
     },
     "execution_count": 37,
     "metadata": {},
     "output_type": "execute_result"
    }
   ],
   "source": [
    "# C(2,4)와 D(6,4)는 A(1,4),B(7,8) 중 어디와 가까운가.\n",
    "math.sqrt((7-2)**2 + (8-4)**2)  # B ~ C -> 6.4\n",
    "math.sqrt((7-6)**2 + (8-4)**2)  # B ~ D -> 4.1\n",
    "\n",
    "# C2으로 분류"
   ]
  },
  {
   "cell_type": "markdown",
   "id": "2bb7e77f-deb1-4674-8973-82d362151e26",
   "metadata": {},
   "source": [
    "## 새로운 중심점 설정\n",
    "* 모든 데이터에 대한 군집화가 수행된 후 새로운 중심점을 선정한 후 다시 유사도에 의한 군집실시\n",
    "* 새로운 중심점을 선정하는 방법은 각 군집별 평균값을 이용\n",
    "* 즉, 군집 C1, C2의 각 x/y 좌표간 평균값 계산\n",
    "    + C1의 새로운 좌표\n",
    "        - X좌표 : 1,2,2,3,3 / 5 = 2.2\n",
    "        - Y좌표 : 1,2,3,4,4 / 5 = 2.8\n",
    "        - A(1,4) -> (2.2, 2.8)\n",
    "    + C2의 새로운 좌표 \n",
    "        - X좌표 : 5,5,6,6,7,7,7 / 7 = 6.14\n",
    "        - Y좌표 : 4,4,5,6,7,7,8 / 7 = 5.85\n",
    "        - B(7,8) -> (6.14, 5.85)"
   ]
  },
  {
   "cell_type": "code",
   "execution_count": 44,
   "id": "69d0a029-ab43-4193-92a9-bec9dde99654",
   "metadata": {},
   "outputs": [
    {
     "data": {
      "image/png": "[encoded data removed]",
      "text/plain": [
       "<Figure size 432x288 with 1 Axes>"
      ]
     },
     "metadata": {
      "needs_background": "light"
     },
     "output_type": "display_data"
    }
   ],
   "source": [
    "# 새로운 좌표 시각화\n",
    "plt.plot(x,y, 'ro')\n",
    "plt.plot([2.2, 6.14],[2.8, 5.85],'bX')\n",
    "plt.grid()"
   ]
  },
  {
   "cell_type": "markdown",
   "id": "ceb8a1c0-dc2f-47c4-986a-0227167d19d0",
   "metadata": {},
   "source": [
    "## iris 데이터셋을 Kmeans로 군집하기"
   ]
  },
  {
   "cell_type": "code",
   "execution_count": 125,
   "id": "7a9267c2-9869-4baa-aa2c-7734e059c485",
   "metadata": {},
   "outputs": [],
   "source": [
    "from sklearn.datasets import load_iris\n",
    "from sklearn.cluster import KMeans\n",
    "from sklearn.metrics import silhouette_score\n",
    "from sklearn.model_selection import train_test_split\n",
    "from sklearn.metrics import accuracy_score, precision_score, recall_score, f1_score, roc_auc_score"
   ]
  },
  {
   "cell_type": "code",
   "execution_count": 148,
   "id": "237cabb4-3b6e-4903-bd54-3febb4a2e114",
   "metadata": {},
   "outputs": [],
   "source": [
    "# 데이터 적재\n",
    "iris = load_iris()"
   ]
  },
  {
   "cell_type": "code",
   "execution_count": 149,
   "id": "c58ac106-24f7-42c6-a3a2-75558d3ba57a",
   "metadata": {},
   "outputs": [],
   "source": [
    "# 데이터 분할\n",
    "Xtrain, Xtest, ytrain, ytest = train_test_split(iris.data, iris.target, stratify=iris.target, test_size = 0.3, random_state=2111151155)"
   ]
  },
  {
   "cell_type": "code",
   "execution_count": 150,
   "id": "5eeef11b-5fc2-4b03-8060-d0e03e0c9e19",
   "metadata": {},
   "outputs": [],
   "source": [
    "# 군집분석 실시\n",
    "# n_cluster : 군집수\n",
    "# max_iter : 군집화 시도횟수\n",
    "kms = KMeans(n_clusters = 3, max_iter=100)"
   ]
  },
  {
   "cell_type": "code",
   "execution_count": 162,
   "id": "6fa0f513-c226-470c-a1a8-6a880d74ee25",
   "metadata": {},
   "outputs": [
    {
     "data": {
      "text/plain": [
       "KMeans(max_iter=100, n_clusters=3)"
      ]
     },
     "execution_count": 162,
     "metadata": {},
     "output_type": "execute_result"
    }
   ],
   "source": [
    "kms.fit(Xtrain)"
   ]
  },
  {
   "cell_type": "code",
   "execution_count": 152,
   "id": "706c55ac-68c4-49e6-944e-df0036d2a02c",
   "metadata": {},
   "outputs": [
    {
     "data": {
      "image/png": "[encoded data removed]",
      "text/plain": [
       "<Figure size 432x288 with 1 Axes>"
      ]
     },
     "metadata": {
      "needs_background": "light"
     },
     "output_type": "display_data"
    }
   ],
   "source": [
    "# 군집 시각화 1\n",
    "plt.scatter(Xtrain[kms.labels_ == 0, 0], Xtrain[kms.labels_ == 0, 1], s= 50, marker='o', c='r', edgecolor='black')\n",
    "plt.scatter(Xtrain[kms.labels_ == 1, 0], Xtrain[kms.labels_ == 1, 1], s= 50, marker='o', c='b', edgecolor='black')\n",
    "plt.scatter(Xtrain[kms.labels_ == 2, 0], Xtrain[kms.labels_ == 2, 1], s= 50, marker='o', c='g', edgecolor='black')\n",
    "plt.scatter(kms.cluster_centers_[:,0], kms.cluster_centers_[:,1], s= 200, marker='*', c='black', edgecolor='r')\n",
    "plt.grid()"
   ]
  },
  {
   "cell_type": "code",
   "execution_count": 153,
   "id": "fa370278-6bc8-45ce-a878-48818467c3fb",
   "metadata": {},
   "outputs": [
    {
     "data": {
      "text/plain": [
       "array([1, 0, 0, 0, 2, 1, 0, 1, 2, 2, 1, 0, 1, 0, 0, 1, 1, 2, 0, 2, 0, 0,\n",
       "       2, 0, 2, 0, 1, 0, 0, 2, 2, 2, 1, 0, 1, 1, 2, 0, 2, 1, 1, 0, 0, 1,\n",
       "       0, 0, 0, 0, 0, 1, 1, 1, 0, 0, 1, 0, 0, 0, 2, 0, 1, 1, 2, 0, 1, 0,\n",
       "       0, 2, 0, 1, 1, 2, 1, 1, 1, 0, 0, 1, 1, 2, 1, 2, 2, 2, 0, 0, 2, 1,\n",
       "       1, 1, 2, 2, 2, 0, 1, 0, 0, 0, 1, 0, 1, 2, 0, 2, 2], dtype=int32)"
      ]
     },
     "execution_count": 153,
     "metadata": {},
     "output_type": "execute_result"
    }
   ],
   "source": [
    "# 군집 결과 평가 : 객체명.labels_에 저장되어 있음\n",
    "kms.labels_"
   ]
  },
  {
   "cell_type": "code",
   "execution_count": 154,
   "id": "80229564-3ae7-4d6d-af1a-29cfd458f789",
   "metadata": {},
   "outputs": [
    {
     "data": {
      "text/plain": [
       "0.24761904761904763"
      ]
     },
     "execution_count": 154,
     "metadata": {},
     "output_type": "execute_result"
    }
   ],
   "source": [
    "# 정확도\n",
    "accuracy_score(kms.labels_, ytrain)"
   ]
  },
  {
   "cell_type": "code",
   "execution_count": 155,
   "id": "5a4e1603-c53a-4255-b5c8-c5494ef59f86",
   "metadata": {},
   "outputs": [
    {
     "data": {
      "image/png": "[encoded data removed]",
      "text/plain": [
       "<Figure size 432x288 with 1 Axes>"
      ]
     },
     "metadata": {
      "needs_background": "light"
     },
     "output_type": "display_data"
    }
   ],
   "source": [
    "# 군집 시각화 2\n",
    "plt.scatter(Xtrain[kms.labels_ == 0, 2], Xtrain[kms.labels_ == 0, 3], s= 50, marker='o', c='r', edgecolor='black')\n",
    "plt.scatter(Xtrain[kms.labels_ == 1, 2], Xtrain[kms.labels_ == 1, 3], s= 50, marker='o', c='b', edgecolor='black')\n",
    "plt.scatter(Xtrain[kms.labels_ == 2, 2], Xtrain[kms.labels_ == 2, 3], s= 50, marker='o', c='g', edgecolor='black')\n",
    "\n",
    "# 군집 중심점은 객체명.cluster_centers_에 저장 되어 있다.\n",
    "plt.scatter(kms.cluster_centers_[:,2], kms.cluster_centers_[:,3], s= 200, marker='*', c='black', edgecolor='r')\n",
    "plt.grid()"
   ]
  },
  {
   "cell_type": "code",
   "execution_count": 157,
   "id": "1390b678-c89e-4e8c-8a89-7791a90cbdfc",
   "metadata": {},
   "outputs": [
    {
     "data": {
      "text/plain": [
       "0.1111111111111111"
      ]
     },
     "execution_count": 157,
     "metadata": {},
     "output_type": "execute_result"
    }
   ],
   "source": [
    "# 정확도 확인\n",
    "accuracy_score(kms.labels_, ytest)"
   ]
  },
  {
   "cell_type": "code",
   "execution_count": 163,
   "id": "576c7d59-f2f2-41e3-b23c-d132450daf06",
   "metadata": {},
   "outputs": [
    {
     "data": {
      "text/plain": [
       "0.568307598040377"
      ]
     },
     "execution_count": 163,
     "metadata": {},
     "output_type": "execute_result"
    }
   ],
   "source": [
    "# 군집 성능  평가\n",
    "# 실루엣 계수: 군집 적합도를 수치로 나타낸 것\n",
    "# 1에 가까울수록 군집이 잘된것으로 파악\n",
    "silhouette_score(Xtrain, kms.labels_, metric='euclidean')"
   ]
  },
  {
   "cell_type": "code",
   "execution_count": 177,
   "id": "a513e74f-b36d-4865-88ea-e9554cf9a246",
   "metadata": {},
   "outputs": [
    {
     "data": {
      "text/plain": [
       "[<matplotlib.lines.Line2D at 0x7f6ba438cb50>]"
      ]
     },
     "execution_count": 177,
     "metadata": {},
     "output_type": "execute_result"
    },
    {
     "data": {
      "image/png": "[encoded data removed]",
      "text/plain": [
       "<Figure size 432x288 with 1 Axes>"
      ]
     },
     "metadata": {
      "needs_background": "light"
     },
     "output_type": "display_data"
    }
   ],
   "source": [
    "# 반복문을 통해 적절한 군집갯수와 그에 따른 실루엣 계수 확인\n",
    "sss = []\n",
    "for k in range(2,11):\n",
    "    kms = KMeans(n_clusters=k, max_iter=100)\n",
    "    kms.fit(Xtest)\n",
    "    ss = silhouette_score(Xtest, kms.labels_, metric='euclidean')\n",
    "    sss.append(ss)\n",
    "plt.plot(sss, 'ro-')"
   ]
  },
  {
   "cell_type": "markdown",
   "id": "78c1b5d8-0017-4e2a-b8bc-7d4d89553edf",
   "metadata": {},
   "source": [
    "### 엘보우계수 : 군집화가 된 후 각 중심점에서 군집 데이터간의 거리를 합산한 값\n",
    "* 군집이 어느정도로 잘되어 있는지를 나타내는 값 \n",
    "* 이 값이 작을수록 군집의 응집이 높다는 의미.\n",
    "* 객체명.inertia_"
   ]
  },
  {
   "cell_type": "code",
   "execution_count": 183,
   "id": "232d433c-3653-4413-a0ca-3813c2c5e0ef",
   "metadata": {},
   "outputs": [
    {
     "data": {
      "text/plain": [
       "[<matplotlib.lines.Line2D at 0x7f6ba4499a10>]"
      ]
     },
     "execution_count": 183,
     "metadata": {},
     "output_type": "execute_result"
    },
    {
     "data": {
      "image/png": "[encoded data removed]",
      "text/plain": [
       "<Figure size 432x288 with 1 Axes>"
      ]
     },
     "metadata": {
      "needs_background": "light"
     },
     "output_type": "display_data"
    }
   ],
   "source": [
    "# 반복문을 통해 적절한 군집갯수와 그에 따른 실루엣 계수 확인\n",
    "# sss = []\n",
    "els = []\n",
    "for k in range(2,11):\n",
    "    kms = KMeans(n_clusters=k, max_iter=100)\n",
    "    kms.fit(Xtest)\n",
    "    # ss = silhouette_score(Xtest, kms.labels_, metric='euclidean')\n",
    "    # sss.append(ss)\n",
    "    els.append(kms.inertia_)\n",
    "# plt.plot(sss, 'ro-')\n",
    "# 실루엣 계수만으로는 적절한 군집의 수를 파악하기 어려움\n",
    "\n",
    "plt.plot(els, 'bo-')\n",
    "# 엘보우 계수로 적절한 군집의 수를 파악하기에 다소 쉬운편\n",
    "# 즉, 엘보우 계수값이 급변하는 구간의 K값이 적절한 군집수를 인식"
   ]
  },
  {
   "cell_type": "code",
   "execution_count": 196,
   "id": "c6ab3c9d-bbd9-4937-ab46-8583110e71f2",
   "metadata": {},
   "outputs": [
    {
     "data": {
      "text/html": [
       "<div>\n",
       "<style scoped>\n",
       "    .dataframe tbody tr th:only-of-type {\n",
       "        vertical-align: middle;\n",
       "    }\n",
       "\n",
       "    .dataframe tbody tr th {\n",
       "        vertical-align: top;\n",
       "    }\n",
       "\n",
       "    .dataframe thead th {\n",
       "        text-align: right;\n",
       "    }\n",
       "</style>\n",
       "<table border=\"1\" class=\"dataframe\">\n",
       "  <thead>\n",
       "    <tr style=\"text-align: right;\">\n",
       "      <th></th>\n",
       "      <th>학생번호</th>\n",
       "      <th>국어점수평균</th>\n",
       "      <th>수학점수평균</th>\n",
       "      <th>영어점수평균</th>\n",
       "      <th>과학점수평균</th>\n",
       "      <th>학업집중도</th>\n",
       "    </tr>\n",
       "  </thead>\n",
       "  <tbody>\n",
       "    <tr>\n",
       "      <th>0</th>\n",
       "      <td>1</td>\n",
       "      <td>90</td>\n",
       "      <td>75</td>\n",
       "      <td>85</td>\n",
       "      <td>60</td>\n",
       "      <td>70</td>\n",
       "    </tr>\n",
       "    <tr>\n",
       "      <th>1</th>\n",
       "      <td>2</td>\n",
       "      <td>65</td>\n",
       "      <td>90</td>\n",
       "      <td>60</td>\n",
       "      <td>88</td>\n",
       "      <td>80</td>\n",
       "    </tr>\n",
       "    <tr>\n",
       "      <th>2</th>\n",
       "      <td>3</td>\n",
       "      <td>45</td>\n",
       "      <td>53</td>\n",
       "      <td>48</td>\n",
       "      <td>50</td>\n",
       "      <td>60</td>\n",
       "    </tr>\n",
       "    <tr>\n",
       "      <th>3</th>\n",
       "      <td>4</td>\n",
       "      <td>77</td>\n",
       "      <td>96</td>\n",
       "      <td>62</td>\n",
       "      <td>92</td>\n",
       "      <td>70</td>\n",
       "    </tr>\n",
       "    <tr>\n",
       "      <th>4</th>\n",
       "      <td>5</td>\n",
       "      <td>88</td>\n",
       "      <td>89</td>\n",
       "      <td>80</td>\n",
       "      <td>82</td>\n",
       "      <td>90</td>\n",
       "    </tr>\n",
       "  </tbody>\n",
       "</table>\n",
       "</div>"
      ],
      "text/plain": [
       "   학생번호  국어점수평균  수학점수평균  영어점수평균  과학점수평균  학업집중도\n",
       "0     1      90      75      85      60     70\n",
       "1     2      65      90      60      88     80\n",
       "2     3      45      53      48      50     60\n",
       "3     4      77      96      62      92     70\n",
       "4     5      88      89      80      82     90"
      ]
     },
     "execution_count": 196,
     "metadata": {},
     "output_type": "execute_result"
    }
   ],
   "source": [
    "# 학생성적과 집중도를 기준으로 클래스를 나눌려고 할때 몇개의 반으로 나누는 것이 좋을지 알아보자\n",
    "ac = pd.read_csv('csv/academy.csv', encoding='euc-kr')\n",
    "ac.head()"
   ]
  },
  {
   "cell_type": "code",
   "execution_count": 200,
   "id": "15a10b93-4fc4-4a81-8dc1-dc3f296f64b4",
   "metadata": {},
   "outputs": [
    {
     "name": "stdout",
     "output_type": "stream",
     "text": [
      "<class 'pandas.core.frame.DataFrame'>\n",
      "RangeIndex: 52 entries, 0 to 51\n",
      "Data columns (total 6 columns):\n",
      " #   Column  Non-Null Count  Dtype\n",
      "---  ------  --------------  -----\n",
      " 0   학생번호    52 non-null     int64\n",
      " 1   국어점수평균  52 non-null     int64\n",
      " 2   수학점수평균  52 non-null     int64\n",
      " 3   영어점수평균  52 non-null     int64\n",
      " 4   과학점수평균  52 non-null     int64\n",
      " 5   학업집중도   52 non-null     int64\n",
      "dtypes: int64(6)\n",
      "memory usage: 2.6 KB\n"
     ]
    }
   ],
   "source": [
    "# ac 구조 확인\n",
    "ac.info()"
   ]
  },
  {
   "cell_type": "code",
   "execution_count": 203,
   "id": "7309020e-c15b-4602-9ee1-3599e54f4506",
   "metadata": {},
   "outputs": [],
   "source": [
    "# 반복문을 통해 적절한 군집갯수와 그에 따른 실루엣 계수 확인\n",
    "data = ac.iloc[:, 1:]\n",
    "sss = []\n",
    "els = []\n",
    "for k in range(2,11):\n",
    "    kms = KMeans(n_clusters=k, max_iter=100)\n",
    "    kms.fit(data)\n",
    "    ss = silhouette_score(data, kms.labels_, metric='euclidean')\n",
    "    sss.append(ss)\n",
    "    els.append(kms.inertia_)"
   ]
  },
  {
   "cell_type": "code",
   "execution_count": 204,
   "id": "4f54a0cf-8f27-46a0-89fa-0f3cc6a871ba",
   "metadata": {},
   "outputs": [
    {
     "data": {
      "text/plain": [
       "[<matplotlib.lines.Line2D at 0x7f6ba3b59f90>]"
      ]
     },
     "execution_count": 204,
     "metadata": {},
     "output_type": "execute_result"
    },
    {
     "data": {
      "image/png": "[encoded data removed]",
      "text/plain": [
       "<Figure size 432x288 with 1 Axes>"
      ]
     },
     "metadata": {
      "needs_background": "light"
     },
     "output_type": "display_data"
    }
   ],
   "source": [
    "plt.plot(sss, 'ro-')\n",
    "# 실루엣 계수만으로는 적절한 군집의 수를 파악하기 어려움"
   ]
  },
  {
   "cell_type": "code",
   "execution_count": 206,
   "id": "8716a808-1fd8-48d0-b011-96bd8222b69e",
   "metadata": {},
   "outputs": [
    {
     "data": {
      "text/plain": [
       "[<matplotlib.lines.Line2D at 0x7f6ba3b33950>]"
      ]
     },
     "execution_count": 206,
     "metadata": {},
     "output_type": "execute_result"
    },
    {
     "data": {
      "image/png": "[encoded data removed]",
      "text/plain": [
       "<Figure size 432x288 with 1 Axes>"
      ]
     },
     "metadata": {
      "needs_background": "light"
     },
     "output_type": "display_data"
    }
   ],
   "source": [
    "plt.plot(els, 'bo-')\n",
    "# 엘보우 계수로 적절한 군집의 수를 파악하기에 다소 쉬운편\n",
    "# 즉, 엘보우 계수값이 급변하는 구간의 K값이 적절한 군집수를 인식"
   ]
  },
  {
   "cell_type": "code",
   "execution_count": 221,
   "id": "02bb601a-afd0-4f91-80ba-a06b3fcc1d84",
   "metadata": {},
   "outputs": [
    {
     "data": {
      "text/plain": [
       "KMeans(max_iter=100, n_clusters=3, random_state=2111151440)"
      ]
     },
     "execution_count": 221,
     "metadata": {},
     "output_type": "execute_result"
    }
   ],
   "source": [
    "# 엘보우 계수를 확인 결과 적절한 군집의 갯수는 3~4로 보인다.\n",
    "# 군집의 갯수가 3일때\n",
    "kms = KMeans(n_clusters=3, max_iter=100, random_state=2111151440)\n",
    "kms.fit(data)"
   ]
  },
  {
   "cell_type": "code",
   "execution_count": 222,
   "id": "c7d65091-1c60-47c2-8b28-22d447ea76e7",
   "metadata": {},
   "outputs": [
    {
     "data": {
      "text/plain": [
       "<matplotlib.collections.PathCollection at 0x7f6ba34aed50>"
      ]
     },
     "execution_count": 222,
     "metadata": {},
     "output_type": "execute_result"
    },
    {
     "data": {
      "image/png": "[encoded data removed]",
      "text/plain": [
       "<Figure size 432x288 with 1 Axes>"
      ]
     },
     "metadata": {
      "needs_background": "light"
     },
     "output_type": "display_data"
    }
   ],
   "source": [
    "plt.scatter(data.iloc[kms.labels_ == 0, 0], data.iloc[kms.labels_ == 0, 1], s=50, c='red', marker='o')\n",
    "plt.scatter(data.iloc[kms.labels_ == 1, 0], data.iloc[kms.labels_ == 1, 1], s=50, c='blue', marker='x')\n",
    "plt.scatter(data.iloc[kms.labels_ == 2, 0], data.iloc[kms.labels_ == 2, 1], s=50, c='green', marker='*')\n",
    "plt.scatter(kms.cluster_centers_[:,1], kms.cluster_centers_[:, 2], s=100, c='magenta', marker='x', edgecolors='k')"
   ]
  },
  {
   "cell_type": "code",
   "execution_count": 223,
   "id": "8cafe1fc-e336-479c-b554-e711e6d2c7eb",
   "metadata": {},
   "outputs": [
    {
     "data": {
      "text/plain": [
       "<matplotlib.collections.PathCollection at 0x7f6ba33e86d0>"
      ]
     },
     "execution_count": 223,
     "metadata": {},
     "output_type": "execute_result"
    },
    {
     "data": {
      "image/png": "[encoded data removed]",
      "text/plain": [
       "<Figure size 432x288 with 1 Axes>"
      ]
     },
     "metadata": {
      "needs_background": "light"
     },
     "output_type": "display_data"
    }
   ],
   "source": [
    "plt.scatter(data.iloc[kms.labels_ == 0, 2], data.iloc[kms.labels_ == 0, 3], s=50, c='red', marker='o')\n",
    "plt.scatter(data.iloc[kms.labels_ == 1, 2], data.iloc[kms.labels_ == 1, 3], s=50, c='blue', marker='x')\n",
    "plt.scatter(data.iloc[kms.labels_ == 2, 2], data.iloc[kms.labels_ == 2, 3], s=50, c='green', marker='*')"
   ]
  },
  {
   "cell_type": "code",
   "execution_count": 224,
   "id": "8709cf7f-c2b7-4b04-9c2d-56f15095c3f3",
   "metadata": {},
   "outputs": [
    {
     "data": {
      "text/plain": [
       "<matplotlib.collections.PathCollection at 0x7f6ba3356f90>"
      ]
     },
     "execution_count": 224,
     "metadata": {},
     "output_type": "execute_result"
    },
    {
     "data": {
      "image/png": "[encoded data removed]",
      "text/plain": [
       "<Figure size 432x288 with 1 Axes>"
      ]
     },
     "metadata": {
      "needs_background": "light"
     },
     "output_type": "display_data"
    }
   ],
   "source": [
    "plt.scatter(data.iloc[kms.labels_ == 0, 3], data.iloc[kms.labels_ == 0, 4], s=50, c='red', marker='o')\n",
    "plt.scatter(data.iloc[kms.labels_ == 1, 3], data.iloc[kms.labels_ == 1, 4], s=50, c='blue', marker='x')\n",
    "plt.scatter(data.iloc[kms.labels_ == 2, 3], data.iloc[kms.labels_ == 2, 4], s=50, c='green', marker='*')"
   ]
  },
  {
   "cell_type": "code",
   "execution_count": 225,
   "id": "fa2f06cb-bf51-4a50-8ad8-32bd5382eb55",
   "metadata": {},
   "outputs": [
    {
     "data": {
      "text/plain": [
       "<matplotlib.collections.PathCollection at 0x7f6ba350f3d0>"
      ]
     },
     "execution_count": 225,
     "metadata": {},
     "output_type": "execute_result"
    },
    {
     "data": {
      "image/png": "[encoded data removed]",
      "text/plain": [
       "<Figure size 432x288 with 1 Axes>"
      ]
     },
     "metadata": {
      "needs_background": "light"
     },
     "output_type": "display_data"
    }
   ],
   "source": [
    "plt.scatter(data.iloc[kms.labels_ == 0, 0], data.iloc[kms.labels_ == 0, 4], s=50, c='red', marker='o')\n",
    "plt.scatter(data.iloc[kms.labels_ == 1, 0], data.iloc[kms.labels_ == 1, 4], s=50, c='blue', marker='x')\n",
    "plt.scatter(data.iloc[kms.labels_ == 2, 0], data.iloc[kms.labels_ == 2, 4], s=50, c='green', marker='*')"
   ]
  },
  {
   "cell_type": "code",
   "execution_count": 227,
   "id": "880237b6-9200-4c55-9e73-869384991be9",
   "metadata": {},
   "outputs": [
    {
     "data": {
      "text/plain": [
       "KMeans(max_iter=100, n_clusters=4, random_state=2111151440)"
      ]
     },
     "execution_count": 227,
     "metadata": {},
     "output_type": "execute_result"
    }
   ],
   "source": [
    "# 군집의 갯수가 4일때\n",
    "kms = KMeans(n_clusters=4, max_iter=100, random_state=2111151440)\n",
    "kms.fit(data)"
   ]
  },
  {
   "cell_type": "code",
   "execution_count": 228,
   "id": "50de1348-d117-44e1-b2b8-a61bbeb99441",
   "metadata": {},
   "outputs": [
    {
     "data": {
      "text/plain": [
       "<matplotlib.collections.PathCollection at 0x7f6ba31ac410>"
      ]
     },
     "execution_count": 228,
     "metadata": {},
     "output_type": "execute_result"
    },
    {
     "data": {
      "image/png": "[encoded data removed]",
      "text/plain": [
       "<Figure size 432x288 with 1 Axes>"
      ]
     },
     "metadata": {
      "needs_background": "light"
     },
     "output_type": "display_data"
    }
   ],
   "source": [
    "plt.scatter(data.iloc[kms.labels_ == 0, 0], data.iloc[kms.labels_ == 0, 1], s=50, c='red', marker='o')\n",
    "plt.scatter(data.iloc[kms.labels_ == 1, 0], data.iloc[kms.labels_ == 1, 1], s=50, c='blue', marker='x')\n",
    "plt.scatter(data.iloc[kms.labels_ == 2, 0], data.iloc[kms.labels_ == 2, 1], s=50, c='green', marker='*')\n",
    "plt.scatter(data.iloc[kms.labels_ == 3, 0], data.iloc[kms.labels_ == 3, 1], s=50, c='orange', marker='s')\n",
    "# plt.scatter(kms.cluster_centers_[:,1], kms.cluster_centers_[:, 2], s=100, c='magenta', marker='x', edgecolors='k')"
   ]
  },
  {
   "cell_type": "code",
   "execution_count": 229,
   "id": "a3e65ba4-6d65-41d0-87a0-d41627e348ad",
   "metadata": {},
   "outputs": [
    {
     "data": {
      "text/plain": [
       "<matplotlib.collections.PathCollection at 0x7f6ba30c04d0>"
      ]
     },
     "execution_count": 229,
     "metadata": {},
     "output_type": "execute_result"
    },
    {
     "data": {
      "image/png": "[encoded data removed]",
      "text/plain": [
       "<Figure size 432x288 with 1 Axes>"
      ]
     },
     "metadata": {
      "needs_background": "light"
     },
     "output_type": "display_data"
    }
   ],
   "source": [
    "plt.scatter(data.iloc[kms.labels_ == 0, 2], data.iloc[kms.labels_ == 0, 3], s=50, c='red', marker='o')\n",
    "plt.scatter(data.iloc[kms.labels_ == 1, 2], data.iloc[kms.labels_ == 1, 3], s=50, c='blue', marker='x')\n",
    "plt.scatter(data.iloc[kms.labels_ == 2, 2], data.iloc[kms.labels_ == 2, 3], s=50, c='green', marker='*')\n",
    "plt.scatter(data.iloc[kms.labels_ == 3, 2], data.iloc[kms.labels_ == 3, 3], s=50, c='orange', marker='s')"
   ]
  },
  {
   "cell_type": "markdown",
   "id": "6aed6bea-853d-4b94-960c-b7e4a616e8e4",
   "metadata": {},
   "source": [
    "#### 결론 : 4개로 나누는 것이 적절해 보인다"
   ]
  },
  {
   "cell_type": "code",
   "execution_count": null,
   "id": "5a2438c9-f8a1-4326-81eb-8388fc7d6ea0",
   "metadata": {},
   "outputs": [],
   "source": []
  },
  {
   "cell_type": "code",
   "execution_count": null,
   "id": "5607cee7-a443-47bb-b5f8-1a5d33994889",
   "metadata": {},
   "outputs": [],
   "source": []
  },
  {
   "cell_type": "code",
   "execution_count": null,
   "id": "371b66ef-0f60-4593-9976-d076fe801013",
   "metadata": {},
   "outputs": [],
   "source": []
  },
  {
   "cell_type": "code",
   "execution_count": null,
   "id": "d048aec2-b60e-4a8e-9d7a-8bbe0645c815",
   "metadata": {},
   "outputs": [],
   "source": []
  },
  {
   "cell_type": "code",
   "execution_count": null,
   "id": "77c1ad24-0904-4181-b8b2-34239ab7a715",
   "metadata": {},
   "outputs": [],
   "source": []
  },
  {
   "cell_type": "code",
   "execution_count": null,
   "id": "53fe7e84-3874-4718-9825-9f71bea8ea45",
   "metadata": {},
   "outputs": [],
   "source": []
  },
  {
   "cell_type": "code",
   "execution_count": null,
   "id": "6073879d-fcef-4214-9576-f8d17e91a71f",
   "metadata": {},
   "outputs": [],
   "source": []
  }
 ],
 "metadata": {
  "kernelspec": {
   "display_name": "Python 3 (ipykernel)",
   "language": "python",
   "name": "python3"
  },
  "language_info": {
   "codemirror_mode": {
    "name": "ipython",
    "version": 3
   },
   "file_extension": ".py",
   "mimetype": "text/x-python",
   "name": "python",
   "nbconvert_exporter": "python",
   "pygments_lexer": "ipython3",
   "version": "3.7.10"
  }
 },
 "nbformat": 4,
 "nbformat_minor": 5
}
