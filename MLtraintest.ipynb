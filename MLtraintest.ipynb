{
 "cells": [
  {
   "cell_type": "code",
   "execution_count": 1,
   "id": "67e598a6-368b-43ac-a764-61f4a9bc7a52",
   "metadata": {},
   "outputs": [],
   "source": [
    "import numpy as np\n",
    "import pandas as pd\n",
    "import matplotlib.pyplot as plt\n",
    "import sklearn"
   ]
  },
  {
   "cell_type": "markdown",
   "id": "24d36f9c-0d97-4321-9bc4-331d1e7cd28a",
   "metadata": {},
   "source": [
    "## 훈련과 테스트 데이터\n",
    "* 머신러닝 모델을 만들기 위해서는 훈련(학습)에 필요한 데이터집합이 있어야 함\n",
    "* 하지만, 전체 데이터 모두를 학습에 사요하면 과적합(Overfiting) 문제 발생\n"
   ]
  },
  {
   "cell_type": "code",
   "execution_count": 2,
   "id": "82585392-0373-427b-8a57-85bc8e54fd46",
   "metadata": {},
   "outputs": [],
   "source": [
    "# train/test 뎅이터 분할의 필요성 알아보자\n",
    "from sklearn.datasets import load_iris\n",
    "from sklearn.tree import DecisionTreeClassifier\n",
    "from sklearn.metrics import accuracy_score"
   ]
  },
  {
   "cell_type": "code",
   "execution_count": 3,
   "id": "42da0a4b-d513-490a-93ba-f708527bbbde",
   "metadata": {},
   "outputs": [],
   "source": [
    "# 데이터 적재\n",
    "iris = load_iris()\n",
    "data = iris.data   # 특성/독립변수\n",
    "label = iris.target # 레이블/종속변수"
   ]
  },
  {
   "cell_type": "code",
   "execution_count": 4,
   "id": "7d118e50-6e54-4208-b401-5252b2518593",
   "metadata": {},
   "outputs": [
    {
     "data": {
      "text/plain": [
       "DecisionTreeClassifier()"
      ]
     },
     "execution_count": 4,
     "metadata": {},
     "output_type": "execute_result"
    }
   ],
   "source": [
    "# 의사결정나무 모델 생성을 위해 주어진 변수들로 학습을 시켜본다.\n",
    "dtclf = DecisionTreeClassifier()\n",
    "dtclf.fit(data, label)"
   ]
  },
  {
   "cell_type": "code",
   "execution_count": 5,
   "id": "281d6b43-3ea9-49d5-a5ab-fcc32978a5f1",
   "metadata": {},
   "outputs": [],
   "source": [
    "# 생성된 모델에 기존 변수를 이용해서 예측(predict)을 해보자 \n",
    "pred = dtclf.predict(data)"
   ]
  },
  {
   "cell_type": "code",
   "execution_count": 6,
   "id": "77231d7b-81a9-462f-a337-a98444598097",
   "metadata": {},
   "outputs": [
    {
     "data": {
      "text/plain": [
       "1.0"
      ]
     },
     "execution_count": 6,
     "metadata": {},
     "output_type": "execute_result"
    }
   ],
   "source": [
    "# 예측값과 실제값을 비교해서 정확도를 알아봄\n",
    "accuracy_score(label, pred)"
   ]
  },
  {
   "cell_type": "code",
   "execution_count": 7,
   "id": "229f9b69-ce02-4ecd-bf9d-656abbef5f12",
   "metadata": {},
   "outputs": [],
   "source": [
    "# 모델을 학습할때 사용한 데이터를 \n",
    "# 모델을 평가할때도 사용함 -> 정확도 : 1 -> 과적합"
   ]
  },
  {
   "cell_type": "markdown",
   "id": "6407ef02-08cd-41f6-b973-569f14c4385c",
   "metadata": {},
   "source": [
    "## 데이터를 학습용/평가용 데이터로 분할 1\n",
    "* 분할 비율 = 7:3\n",
    "* iris 데이터의 건수 : 150 -> 105 : 45"
   ]
  },
  {
   "cell_type": "code",
   "execution_count": 13,
   "id": "21516081-9595-4b1b-8fd1-79bcd2eb5083",
   "metadata": {},
   "outputs": [],
   "source": [
    "train_data = iris.data[:105, ]\n",
    "test_data = iris.data[105:,]\n",
    "\n",
    "train_target = iris.target[:105, ]\n",
    "test_target = iris.target[105:, ]"
   ]
  },
  {
   "cell_type": "code",
   "execution_count": 15,
   "id": "26784218-533d-4eda-a147-09fe23a92138",
   "metadata": {},
   "outputs": [
    {
     "data": {
      "text/plain": [
       "0.7333333333333333"
      ]
     },
     "execution_count": 15,
     "metadata": {},
     "output_type": "execute_result"
    }
   ],
   "source": [
    "dtclf = DecisionTreeClassifier()\n",
    "dtclf.fit(train_data, train_target)\n",
    "\n",
    "pred = dtclf.predict(test_data)\n",
    "accuracy_score(test_target, pred)"
   ]
  },
  {
   "cell_type": "code",
   "execution_count": 24,
   "id": "0cc81fde-f1d9-4c70-8cbe-e4b245352c88",
   "metadata": {},
   "outputs": [
    {
     "name": "stdout",
     "output_type": "stream",
     "text": [
      "0    50\n",
      "1    50\n",
      "2     5\n",
      "dtype: int64\n",
      "2    45\n",
      "dtype: int64\n"
     ]
    }
   ],
   "source": [
    "# 데이터분할이 잘되었는지 확인\n",
    "print(pd.Series(train_target).value_counts())\n",
    "print(pd.Series(test_target).value_counts())"
   ]
  },
  {
   "cell_type": "code",
   "execution_count": 25,
   "id": "984e07da-da5d-4569-9b43-329a8e848dd8",
   "metadata": {},
   "outputs": [],
   "source": [
    "# 데이터를 앞에서부터 순서대로 나눴기 때문에 종속변수의 비율이 일정하지 않음\n",
    "# setosa, versicolor, verginica의 비율이 모두 같아야하는데 \n",
    "# train에는 setosa, versicolor 위주로 test에는 verginica위주로 데이터 분할되었다."
   ]
  },
  {
   "cell_type": "code",
   "execution_count": null,
   "id": "7e68975d-4f9e-4c72-a2bd-2ed24bb44322",
   "metadata": {},
   "outputs": [],
   "source": []
  },
  {
   "cell_type": "code",
   "execution_count": null,
   "id": "dd6db266-7314-4180-bbe3-1f126b1888ab",
   "metadata": {},
   "outputs": [],
   "source": []
  },
  {
   "cell_type": "code",
   "execution_count": null,
   "id": "ef1a47f2-1f12-41b0-b59c-03afcdb00bf0",
   "metadata": {},
   "outputs": [],
   "source": []
  },
  {
   "cell_type": "code",
   "execution_count": null,
   "id": "c3bdf6a4-775b-4f6c-8395-265a27b58379",
   "metadata": {},
   "outputs": [],
   "source": []
  },
  {
   "cell_type": "code",
   "execution_count": null,
   "id": "71117836-c81b-4c5d-998a-9213006b55da",
   "metadata": {},
   "outputs": [],
   "source": []
  },
  {
   "cell_type": "code",
   "execution_count": null,
   "id": "a193ee61-4a27-438c-b542-9909d10e7b97",
   "metadata": {},
   "outputs": [],
   "source": []
  },
  {
   "cell_type": "code",
   "execution_count": null,
   "id": "bc31ab16-a3ee-4acd-8fb3-2604aa03902e",
   "metadata": {},
   "outputs": [],
   "source": []
  },
  {
   "cell_type": "code",
   "execution_count": null,
   "id": "11345586-d837-43fb-8d6f-e2f240f37d15",
   "metadata": {},
   "outputs": [],
   "source": []
  },
  {
   "cell_type": "code",
   "execution_count": null,
   "id": "316b8376-ea30-49de-a9cf-7387f52ec974",
   "metadata": {},
   "outputs": [],
   "source": []
  },
  {
   "cell_type": "code",
   "execution_count": null,
   "id": "bb3a2167-efec-4bb6-95c4-ffd9a224f873",
   "metadata": {},
   "outputs": [],
   "source": []
  }
 ],
 "metadata": {
  "kernelspec": {
   "display_name": "Python 3 (ipykernel)",
   "language": "python",
   "name": "python3"
  },
  "language_info": {
   "codemirror_mode": {
    "name": "ipython",
    "version": 3
   },
   "file_extension": ".py",
   "mimetype": "text/x-python",
   "name": "python",
   "nbconvert_exporter": "python",
   "pygments_lexer": "ipython3",
   "version": "3.7.10"
  }
 },
 "nbformat": 4,
 "nbformat_minor": 5
}
