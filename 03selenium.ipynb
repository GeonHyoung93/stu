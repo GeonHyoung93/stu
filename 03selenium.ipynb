{
 "cells": [
  {
   "cell_type": "markdown",
   "id": "1dd93ac8-9479-4761-96f9-40f109aeda03",
   "metadata": {},
   "source": [
    "## selenium\n",
    "\n",
    "* selenium.dev\n",
    "* 웹브라우져를 이용한 작업들을 자동화할 수 있도록\n",
    "  특수 제작된 브라우저\n",
    "* requests, bs4로 스크래핑할 수 없는 동적 데이터를\n",
    "  포함하는 웹페이지를 원격조작이 가능한 웹브라우져를\n",
    "  이용해서 처리"
   ]
  },
  {
   "cell_type": "code",
   "execution_count": 17,
   "id": "4e886229-7765-495d-ba76-0e16e13435e3",
   "metadata": {
    "tags": []
   },
   "outputs": [],
   "source": [
    "# !pip install selenium\n",
    "# !pip install beautifulsoup4"
   ]
  },
  {
   "cell_type": "code",
   "execution_count": 1,
   "id": "a08cc3a6-e997-4019-ace1-9c68544c2346",
   "metadata": {},
   "outputs": [],
   "source": [
    "from selenium import webdriver\n",
    "from bs4 import BeautifulSoup\n",
    "from selenium.webdriver.chrome.options import Options\n",
    "from selenium.webdriver.common.by import By"
   ]
  },
  {
   "cell_type": "code",
   "execution_count": 2,
   "id": "969ca8ce-2343-4c8d-9648-dc385eecfffe",
   "metadata": {},
   "outputs": [],
   "source": [
    "import warnings\n",
    "warnings.filterwarnings(action='ignore')"
   ]
  },
  {
   "cell_type": "code",
   "execution_count": 3,
   "id": "d59adfcf-0d27-42d4-bf40-6b7e49874161",
   "metadata": {},
   "outputs": [],
   "source": [
    "# 다음 영화 사이트에서 영화제목, 평점, 예매율 추출\n",
    "url = 'https://movie.daum.net/main'"
   ]
  },
  {
   "cell_type": "code",
   "execution_count": 4,
   "id": "74c230ba-3f0c-4cd2-875a-e72f526aba37",
   "metadata": {},
   "outputs": [],
   "source": [
    "# Chrom WebDriver 실행 2 Linux\n",
    "# 1. 리눅스용 크롬 웹브라우저 설치\n",
    "# 2. 리눅스용 크롬 드라이버 설치\n",
    "\n",
    "options = Options()\n",
    "options.add_argument('--headless')\n",
    "\n",
    "path = '/home/hadoop/chromedriver'\n",
    "chrome = webdriver.Chrome(executable_path=path, options=options)"
   ]
  },
  {
   "cell_type": "code",
   "execution_count": 5,
   "id": "06ca1ac4-d71c-42ee-8dda-479e7d16ce9c",
   "metadata": {},
   "outputs": [],
   "source": [
    "# 지정한 url 접속\n",
    "chrome.get(url)"
   ]
  },
  {
   "cell_type": "code",
   "execution_count": 6,
   "id": "81581773-b498-459d-9ed6-7ecb56518659",
   "metadata": {},
   "outputs": [],
   "source": [
    "# 응답받은 소스 출력\n",
    "res = chrome.page_source"
   ]
  },
  {
   "cell_type": "code",
   "execution_count": 7,
   "id": "50559f89-2bcf-4a33-81e8-9fa4dda88bca",
   "metadata": {},
   "outputs": [],
   "source": [
    "chrome.close()"
   ]
  },
  {
   "cell_type": "code",
   "execution_count": 8,
   "id": "3dab401c-2121-4966-a581-ecba9d98184f",
   "metadata": {},
   "outputs": [],
   "source": [
    "html = BeautifulSoup(res, 'lxml')"
   ]
  },
  {
   "cell_type": "code",
   "execution_count": 9,
   "id": "d8f16b25-2bdf-46af-b24a-669a406b1064",
   "metadata": {},
   "outputs": [
    {
     "name": "stdout",
     "output_type": "stream",
     "text": [
      "이터널스\n",
      "듄\n",
      "베놈 2: 렛 데어 비 카니지\n",
      "고장난 론\n",
      "아네트\n",
      "당신은 믿지 않겠지만\n",
      "라스트 듀얼: 최후의 결투\n",
      "007 노 타임 투 다이\n",
      "한창나이 선녀님\n",
      "첫눈이 사라졌다\n",
      "타다: 대한민국 스타트업의 초상\n",
      "보이스\n",
      "수색자\n",
      "색다른 그녀\n",
      "그림자꽃\n",
      "발신제한\n",
      "무수단\n",
      "세자매\n",
      "내일의 기억\n",
      "007 스펙터\n",
      "파이프라인\n",
      "명탐정 코난 : 베이커가의 망령\n",
      "샤크 : 더 비기닝\n",
      "추억의 검정고무신\n",
      "담보\n",
      "극장판 짱구는 못말려: 격돌! 낙서왕국과 얼추 네 명의 용사들\n",
      "모가디슈\n",
      "애프터: 그 후\n",
      "조제, 호랑이 그리고 물고기들\n",
      "베놈\n",
      "졸트\n",
      "애프터\n",
      "극장판 귀멸의 칼날: 무한열차편\n",
      "싱크홀\n",
      "인질\n",
      "8.7\n",
      "7.0\n",
      "6.0\n",
      "10.0\n",
      "10.0\n",
      "7.8\n",
      "8.8\n",
      "5.9\n",
      "10.0\n",
      "7.3\n",
      "9.7\n",
      "8.4\n",
      "7.2\n",
      "4.0\n",
      "7.0\n",
      "38.7%\n",
      "22.1%\n",
      "9.6%\n",
      "5.9%\n",
      "4.3%\n",
      "1.7%\n",
      "1.4%\n",
      "0.8%\n",
      "0.7%\n",
      "0.6%\n",
      "0.5%\n",
      "0.4%\n",
      "0.4%\n",
      "0.4%\n",
      "0.4%\n"
     ]
    }
   ],
   "source": [
    "# from selenium import webdriver\n",
    "# from bs4 import BeautifulSoup\n",
    "# from selenium.webdriver.chrome.options import Options\n",
    "\n",
    "\n",
    "# 다음 영화 사이트에서 영화제목, 평점, 예매율 추출\n",
    "# url = 'https://movie.daum.net/main'\n",
    "\n",
    "# headless 를 위한 설정\n",
    "# options = Options()\n",
    "# options.add_argument('--headless')\n",
    "\n",
    "# WebDriver 실행\n",
    "# path = r'C:\\Program Files\\Google\\Chrome\\Application\\chromedriver.exe'\n",
    "# chrome = webdriver.Chrome(executable_path=path)\n",
    "# chrome = webdriver.Chrome(executable_path=path, options=options)\n",
    "\n",
    "# 지정한 url 접속\n",
    "# chrome.get(url)\n",
    "\n",
    "# 응답받은 소스 출력\n",
    "# print(chrome.page_source)\n",
    "# res = chrome.page_source\n",
    "\n",
    "# 크롬웹드라이버 종료\n",
    "# chrome.close()\n",
    "\n",
    "# 읽어들인 페이지소스를 BeautifulSoup 으로 파싱\n",
    "# html = BeautifulSoup(res, 'lxml')\n",
    "\n",
    "# 영화제목 추출\n",
    "for title in html.select('strong.tit_item a'):\n",
    "    print(title.text)\n",
    "\n",
    "# 영화 평점 출력\n",
    "for rate in html.select('span.txt_append span:first-child'):\n",
    "    print(rate.text)\n",
    "\n",
    "# 영화 예매율 출력\n",
    "for resrv in html.select('span.txt_append span:last-child'):\n",
    "    print(resrv.text)"
   ]
  },
  {
   "cell_type": "code",
   "execution_count": null,
   "id": "e2d67ae4-34ff-4e1f-bf78-8dd28cdf7147",
   "metadata": {},
   "outputs": [],
   "source": []
  },
  {
   "cell_type": "code",
   "execution_count": null,
   "id": "dd450d4d-f786-4b20-a2dd-4e4c221c9ce8",
   "metadata": {},
   "outputs": [],
   "source": []
  },
  {
   "cell_type": "code",
   "execution_count": null,
   "id": "05a07f4e-a582-47e0-8791-4306ecf3621a",
   "metadata": {},
   "outputs": [],
   "source": []
  },
  {
   "cell_type": "code",
   "execution_count": null,
   "id": "186c508e-a8d7-4970-ba36-f43f211656d5",
   "metadata": {},
   "outputs": [],
   "source": []
  }
 ],
 "metadata": {
  "kernelspec": {
   "display_name": "Python 3 (ipykernel)",
   "language": "python",
   "name": "python3"
  },
  "language_info": {
   "codemirror_mode": {
    "name": "ipython",
    "version": 3
   },
   "file_extension": ".py",
   "mimetype": "text/x-python",
   "name": "python",
   "nbconvert_exporter": "python",
   "pygments_lexer": "ipython3",
   "version": "3.7.10"
  }
 },
 "nbformat": 4,
 "nbformat_minor": 5
}
