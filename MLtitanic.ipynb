{
 "cells": [
  {
   "cell_type": "markdown",
   "id": "fa1a62a1-f745-4a49-b903-111c719a3034",
   "metadata": {},
   "source": [
    "## 타이타닉 데이터 분석\n",
    "\n",
    "* 다양한 머신러닝 알고리즘을 이용해서 교차검증 방식으로 모델을 훈련시키고 예측 정확도를 평가해 봄"
   ]
  },
  {
   "cell_type": "code",
   "execution_count": 1,
   "id": "1e5b6fd0-e5cc-4427-bc70-7bd130630744",
   "metadata": {},
   "outputs": [],
   "source": [
    "import numpy as np\n",
    "import pandas as pd\n",
    "import matplotlib.pyplot as plt\n",
    "import sklearn"
   ]
  },
  {
   "cell_type": "code",
   "execution_count": 2,
   "id": "f4bd0423-46c3-431e-a62f-dd7e46b34854",
   "metadata": {},
   "outputs": [
    {
     "data": {
      "text/html": [
       "<div>\n",
       "<style scoped>\n",
       "    .dataframe tbody tr th:only-of-type {\n",
       "        vertical-align: middle;\n",
       "    }\n",
       "\n",
       "    .dataframe tbody tr th {\n",
       "        vertical-align: top;\n",
       "    }\n",
       "\n",
       "    .dataframe thead th {\n",
       "        text-align: right;\n",
       "    }\n",
       "</style>\n",
       "<table border=\"1\" class=\"dataframe\">\n",
       "  <thead>\n",
       "    <tr style=\"text-align: right;\">\n",
       "      <th></th>\n",
       "      <th>pclass</th>\n",
       "      <th>survived</th>\n",
       "      <th>name</th>\n",
       "      <th>sex</th>\n",
       "      <th>age</th>\n",
       "      <th>sibsp</th>\n",
       "      <th>parch</th>\n",
       "      <th>ticket</th>\n",
       "      <th>fare</th>\n",
       "      <th>embarked</th>\n",
       "      <th>life</th>\n",
       "      <th>seat</th>\n",
       "      <th>port</th>\n",
       "    </tr>\n",
       "  </thead>\n",
       "  <tbody>\n",
       "    <tr>\n",
       "      <th>0</th>\n",
       "      <td>1</td>\n",
       "      <td>1</td>\n",
       "      <td>Allen, Miss. Elisabeth Walton</td>\n",
       "      <td>female</td>\n",
       "      <td>29.0000</td>\n",
       "      <td>0</td>\n",
       "      <td>0</td>\n",
       "      <td>24160</td>\n",
       "      <td>211.3375</td>\n",
       "      <td>S</td>\n",
       "      <td>live</td>\n",
       "      <td>1st</td>\n",
       "      <td>southampthon</td>\n",
       "    </tr>\n",
       "    <tr>\n",
       "      <th>1</th>\n",
       "      <td>1</td>\n",
       "      <td>1</td>\n",
       "      <td>Allison, Master. Hudson Trevor</td>\n",
       "      <td>male</td>\n",
       "      <td>0.9167</td>\n",
       "      <td>1</td>\n",
       "      <td>2</td>\n",
       "      <td>113781</td>\n",
       "      <td>151.5500</td>\n",
       "      <td>S</td>\n",
       "      <td>live</td>\n",
       "      <td>1st</td>\n",
       "      <td>southampthon</td>\n",
       "    </tr>\n",
       "    <tr>\n",
       "      <th>2</th>\n",
       "      <td>1</td>\n",
       "      <td>0</td>\n",
       "      <td>Allison, Miss. Helen Loraine</td>\n",
       "      <td>female</td>\n",
       "      <td>2.0000</td>\n",
       "      <td>1</td>\n",
       "      <td>2</td>\n",
       "      <td>113781</td>\n",
       "      <td>151.5500</td>\n",
       "      <td>S</td>\n",
       "      <td>dead</td>\n",
       "      <td>1st</td>\n",
       "      <td>southampthon</td>\n",
       "    </tr>\n",
       "    <tr>\n",
       "      <th>3</th>\n",
       "      <td>1</td>\n",
       "      <td>0</td>\n",
       "      <td>Allison, Mr. Hudson Joshua Creighton</td>\n",
       "      <td>male</td>\n",
       "      <td>30.0000</td>\n",
       "      <td>1</td>\n",
       "      <td>2</td>\n",
       "      <td>113781</td>\n",
       "      <td>151.5500</td>\n",
       "      <td>S</td>\n",
       "      <td>dead</td>\n",
       "      <td>1st</td>\n",
       "      <td>southampthon</td>\n",
       "    </tr>\n",
       "    <tr>\n",
       "      <th>4</th>\n",
       "      <td>1</td>\n",
       "      <td>0</td>\n",
       "      <td>Allison, Mrs. Hudson J C (Bessie Waldo Daniels)</td>\n",
       "      <td>female</td>\n",
       "      <td>25.0000</td>\n",
       "      <td>1</td>\n",
       "      <td>2</td>\n",
       "      <td>113781</td>\n",
       "      <td>151.5500</td>\n",
       "      <td>S</td>\n",
       "      <td>dead</td>\n",
       "      <td>1st</td>\n",
       "      <td>southampthon</td>\n",
       "    </tr>\n",
       "  </tbody>\n",
       "</table>\n",
       "</div>"
      ],
      "text/plain": [
       "   pclass  survived                                             name     sex  \\\n",
       "0       1         1                    Allen, Miss. Elisabeth Walton  female   \n",
       "1       1         1                   Allison, Master. Hudson Trevor    male   \n",
       "2       1         0                     Allison, Miss. Helen Loraine  female   \n",
       "3       1         0             Allison, Mr. Hudson Joshua Creighton    male   \n",
       "4       1         0  Allison, Mrs. Hudson J C (Bessie Waldo Daniels)  female   \n",
       "\n",
       "       age  sibsp  parch  ticket      fare embarked  life seat          port  \n",
       "0  29.0000      0      0   24160  211.3375        S  live  1st  southampthon  \n",
       "1   0.9167      1      2  113781  151.5500        S  live  1st  southampthon  \n",
       "2   2.0000      1      2  113781  151.5500        S  dead  1st  southampthon  \n",
       "3  30.0000      1      2  113781  151.5500        S  dead  1st  southampthon  \n",
       "4  25.0000      1      2  113781  151.5500        S  dead  1st  southampthon  "
      ]
     },
     "execution_count": 2,
     "metadata": {},
     "output_type": "execute_result"
    }
   ],
   "source": [
    "titanic = pd.read_csv('csv/titanic.csv')\n",
    "titanic.head()"
   ]
  },
  {
   "cell_type": "code",
   "execution_count": 5,
   "id": "c62911c0-f788-400d-a1fa-133b5084bd7c",
   "metadata": {},
   "outputs": [
    {
     "name": "stdout",
     "output_type": "stream",
     "text": [
      "<class 'pandas.core.frame.DataFrame'>\n",
      "RangeIndex: 1306 entries, 0 to 1305\n",
      "Data columns (total 13 columns):\n",
      " #   Column    Non-Null Count  Dtype  \n",
      "---  ------    --------------  -----  \n",
      " 0   pclass    1306 non-null   int64  \n",
      " 1   survived  1306 non-null   int64  \n",
      " 2   name      1306 non-null   object \n",
      " 3   sex       1306 non-null   object \n",
      " 4   age       1306 non-null   float64\n",
      " 5   sibsp     1306 non-null   int64  \n",
      " 6   parch     1306 non-null   int64  \n",
      " 7   ticket    1306 non-null   object \n",
      " 8   fare      1306 non-null   float64\n",
      " 9   embarked  1306 non-null   object \n",
      " 10  life      1306 non-null   object \n",
      " 11  seat      1306 non-null   object \n",
      " 12  port      1306 non-null   object \n",
      "dtypes: float64(2), int64(4), object(7)\n",
      "memory usage: 132.8+ KB\n"
     ]
    }
   ],
   "source": [
    "# 결측치 확인\n",
    "titanic.info()"
   ]
  },
  {
   "cell_type": "code",
   "execution_count": 6,
   "id": "7b7b414b-9ca9-4238-b023-367acace272b",
   "metadata": {},
   "outputs": [
    {
     "data": {
      "text/plain": [
       "dead    808\n",
       "live    498\n",
       "Name: life, dtype: int64"
      ]
     },
     "execution_count": 6,
     "metadata": {},
     "output_type": "execute_result"
    }
   ],
   "source": [
    "# 레이블 분포 확인\n",
    "titanic.life.value_counts()"
   ]
  },
  {
   "cell_type": "code",
   "execution_count": 8,
   "id": "b75e3ec3-6a77-486f-903e-25b7499306b0",
   "metadata": {},
   "outputs": [
    {
     "data": {
      "text/plain": [
       "3rd    708\n",
       "1st    321\n",
       "2nd    277\n",
       "Name: seat, dtype: int64"
      ]
     },
     "execution_count": 8,
     "metadata": {},
     "output_type": "execute_result"
    }
   ],
   "source": [
    "# 여러특성들 중 좌석 분포 확인\n",
    "titanic.seat.value_counts()"
   ]
  },
  {
   "cell_type": "code",
   "execution_count": 10,
   "id": "ca5d424b-b8d8-4746-bae8-0bdee72a96bc",
   "metadata": {},
   "outputs": [
    {
     "data": {
      "text/plain": [
       "male      842\n",
       "female    464\n",
       "Name: sex, dtype: int64"
      ]
     },
     "execution_count": 10,
     "metadata": {},
     "output_type": "execute_result"
    }
   ],
   "source": [
    "# 여러 특성들 중 성별 분포 확인\n",
    "titanic.sex.value_counts()"
   ]
  },
  {
   "cell_type": "code",
   "execution_count": 12,
   "id": "ffd32196-f240-4c46-9b08-0306293ee527",
   "metadata": {},
   "outputs": [
    {
     "data": {
      "text/plain": [
       "southampthon    913\n",
       "cherbourg       270\n",
       "qeenstown       123\n",
       "Name: port, dtype: int64"
      ]
     },
     "execution_count": 12,
     "metadata": {},
     "output_type": "execute_result"
    }
   ],
   "source": [
    "# 여러 특성들 중 승선위치 분포 확인\n",
    "titanic.port.value_counts()"
   ]
  },
  {
   "cell_type": "code",
   "execution_count": 13,
   "id": "8737589e-848c-47a4-8e40-a6eeee455ea2",
   "metadata": {},
   "outputs": [
    {
     "data": {
      "text/html": [
       "<div>\n",
       "<style scoped>\n",
       "    .dataframe tbody tr th:only-of-type {\n",
       "        vertical-align: middle;\n",
       "    }\n",
       "\n",
       "    .dataframe tbody tr th {\n",
       "        vertical-align: top;\n",
       "    }\n",
       "\n",
       "    .dataframe thead th {\n",
       "        text-align: right;\n",
       "    }\n",
       "</style>\n",
       "<table border=\"1\" class=\"dataframe\">\n",
       "  <thead>\n",
       "    <tr style=\"text-align: right;\">\n",
       "      <th></th>\n",
       "      <th>sex</th>\n",
       "      <th>gender</th>\n",
       "    </tr>\n",
       "  </thead>\n",
       "  <tbody>\n",
       "    <tr>\n",
       "      <th>0</th>\n",
       "      <td>female</td>\n",
       "      <td>0</td>\n",
       "    </tr>\n",
       "    <tr>\n",
       "      <th>1</th>\n",
       "      <td>male</td>\n",
       "      <td>1</td>\n",
       "    </tr>\n",
       "    <tr>\n",
       "      <th>2</th>\n",
       "      <td>female</td>\n",
       "      <td>0</td>\n",
       "    </tr>\n",
       "    <tr>\n",
       "      <th>3</th>\n",
       "      <td>male</td>\n",
       "      <td>1</td>\n",
       "    </tr>\n",
       "    <tr>\n",
       "      <th>4</th>\n",
       "      <td>female</td>\n",
       "      <td>0</td>\n",
       "    </tr>\n",
       "  </tbody>\n",
       "</table>\n",
       "</div>"
      ],
      "text/plain": [
       "      sex  gender\n",
       "0  female       0\n",
       "1    male       1\n",
       "2  female       0\n",
       "3    male       1\n",
       "4  female       0"
      ]
     },
     "execution_count": 13,
     "metadata": {},
     "output_type": "execute_result"
    }
   ],
   "source": [
    "# 데이터 분석시 문자형 값보다는 숫자형 값을 더 잘 인식함\n",
    "# 문자형값 -> 숫자형값으로 변환하는 과정 필요\n",
    "# 성별을 레이블인코딩으로 숫자형으로 변환 -> 파생변수\n",
    "\n",
    "titanic['gender'] = titanic['sex'].apply(lambda x: 0 if x == 'female' else 1)\n",
    "\n",
    "titanic.iloc[:, [3, 13]].head(5)\n",
    "\n",
    "# titanic.loc[:, ['sex', 'gender']].head(5)\n",
    "\n"
   ]
  },
  {
   "cell_type": "code",
   "execution_count": 15,
   "id": "41efa38b-c04d-407d-85ff-01ca3261ead0",
   "metadata": {},
   "outputs": [
    {
     "data": {
      "text/html": [
       "<div>\n",
       "<style scoped>\n",
       "    .dataframe tbody tr th:only-of-type {\n",
       "        vertical-align: middle;\n",
       "    }\n",
       "\n",
       "    .dataframe tbody tr th {\n",
       "        vertical-align: top;\n",
       "    }\n",
       "\n",
       "    .dataframe thead th {\n",
       "        text-align: right;\n",
       "    }\n",
       "</style>\n",
       "<table border=\"1\" class=\"dataframe\">\n",
       "  <thead>\n",
       "    <tr style=\"text-align: right;\">\n",
       "      <th></th>\n",
       "      <th>embarked</th>\n",
       "      <th>harbor</th>\n",
       "    </tr>\n",
       "  </thead>\n",
       "  <tbody>\n",
       "    <tr>\n",
       "      <th>0</th>\n",
       "      <td>S</td>\n",
       "      <td>1</td>\n",
       "    </tr>\n",
       "    <tr>\n",
       "      <th>1</th>\n",
       "      <td>S</td>\n",
       "      <td>1</td>\n",
       "    </tr>\n",
       "    <tr>\n",
       "      <th>2</th>\n",
       "      <td>S</td>\n",
       "      <td>1</td>\n",
       "    </tr>\n",
       "    <tr>\n",
       "      <th>3</th>\n",
       "      <td>S</td>\n",
       "      <td>1</td>\n",
       "    </tr>\n",
       "    <tr>\n",
       "      <th>4</th>\n",
       "      <td>S</td>\n",
       "      <td>1</td>\n",
       "    </tr>\n",
       "  </tbody>\n",
       "</table>\n",
       "</div>"
      ],
      "text/plain": [
       "  embarked  harbor\n",
       "0        S       1\n",
       "1        S       1\n",
       "2        S       1\n",
       "3        S       1\n",
       "4        S       1"
      ]
     },
     "execution_count": 15,
     "metadata": {},
     "output_type": "execute_result"
    }
   ],
   "source": [
    "# 승선위치를 레이블인코딩으로 숫자형으로 변환 -> 파생변수\n",
    "titanic['harbor'] = titanic['embarked'].apply(lambda x: 0 if x == 'C' else (1 if x == 'S' else 2))\n",
    "titanic.iloc[:, [9,14]].head(5)"
   ]
  },
  {
   "cell_type": "code",
   "execution_count": 16,
   "id": "7c11a1ac-9e9e-408c-a029-5ba2df3a8828",
   "metadata": {},
   "outputs": [],
   "source": [
    "# 분석에 필요한 컬럼을 뽑아 특성/레이블을 만듦\n",
    "data = titanic.iloc[:, [0, 4, 5, 6, 8, 13, 14]]\n",
    "target = titanic.survived"
   ]
  },
  {
   "cell_type": "code",
   "execution_count": 17,
   "id": "6aa550af-f412-470c-87ac-013223164bc3",
   "metadata": {},
   "outputs": [],
   "source": [
    "from sklearn.model_selection import train_test_split\n",
    "from sklearn.model_selection import cross_val_score\n",
    "from sklearn.model_selection import KFold\n",
    "from sklearn.tree import DecisionTreeClassifier\n",
    "from sklearn.ensemble import RandomForestClassifier\n",
    "from sklearn.linear_model import LogisticRegression\n",
    "from sklearn.neighbors import KNeighborsClassifier\n",
    "from sklearn.metrics import accuracy_score"
   ]
  },
  {
   "cell_type": "code",
   "execution_count": 18,
   "id": "881ccd5c-17be-4d41-ae5e-463149d6403a",
   "metadata": {},
   "outputs": [],
   "source": [
    "# 훈련/평가 데이터 분할\n",
    "Xtrain, Xtest, ytrain, ytest = train_test_split(data, target, train_size = 0.7, random_state = 2111041110)"
   ]
  },
  {
   "cell_type": "code",
   "execution_count": 19,
   "id": "ff34c897-903a-46ef-8ae9-049d54b119a4",
   "metadata": {},
   "outputs": [
    {
     "data": {
      "text/plain": [
       "0.6301020408163265"
      ]
     },
     "execution_count": 19,
     "metadata": {},
     "output_type": "execute_result"
    }
   ],
   "source": [
    "# 알고리즘 적용\n",
    "# 의사결정나무\n",
    "dtclf = DecisionTreeClassifier()\n",
    "dtclf.fit(Xtrain, ytrain)\n",
    "pred = dtclf.predict(Xtest)\n",
    "accuracy_score(ytest, pred) # 0.77"
   ]
  },
  {
   "cell_type": "code",
   "execution_count": 20,
   "id": "9c729e6a-e6a2-4afd-b81e-e166db88bdd6",
   "metadata": {},
   "outputs": [
    {
     "name": "stderr",
     "output_type": "stream",
     "text": [
      "/home/hadoop/.local/lib/python3.7/site-packages/sklearn/linear_model/_logistic.py:818: ConvergenceWarning: lbfgs failed to converge (status=1):\n",
      "STOP: TOTAL NO. of ITERATIONS REACHED LIMIT.\n",
      "\n",
      "Increase the number of iterations (max_iter) or scale the data as shown in:\n",
      "    https://scikit-learn.org/stable/modules/preprocessing.html\n",
      "Please also refer to the documentation for alternative solver options:\n",
      "    https://scikit-learn.org/stable/modules/linear_model.html#logistic-regression\n",
      "  extra_warning_msg=_LOGISTIC_SOLVER_CONVERGENCE_MSG,\n"
     ]
    },
    {
     "data": {
      "text/plain": [
       "0.7193877551020408"
      ]
     },
     "execution_count": 20,
     "metadata": {},
     "output_type": "execute_result"
    }
   ],
   "source": [
    "# 로지스틱 회귀\n",
    "lrclf = LogisticRegression()\n",
    "lrclf.fit(Xtrain, ytrain)\n",
    "pred = lrclf.predict(Xtest)\n",
    "accuracy_score(ytest, pred)"
   ]
  },
  {
   "cell_type": "code",
   "execution_count": 22,
   "id": "8a4fa857-ac4c-4a3d-87f1-400d8a6c89c9",
   "metadata": {},
   "outputs": [
    {
     "data": {
      "text/plain": [
       "0.6530612244897959"
      ]
     },
     "execution_count": 22,
     "metadata": {},
     "output_type": "execute_result"
    }
   ],
   "source": [
    "# 랜덤포레스트\n",
    "rfclf = RandomForestClassifier()\n",
    "rfclf.fit(Xtrain, ytrain)\n",
    "pred = rfclf .predict(Xtest)\n",
    "accuracy_score(ytest, pred) # 0.78"
   ]
  },
  {
   "cell_type": "code",
   "execution_count": 25,
   "id": "365a1aa3-f8cf-440e-b946-333f0ab65086",
   "metadata": {},
   "outputs": [
    {
     "data": {
      "text/plain": [
       "0.63936582501468"
      ]
     },
     "execution_count": 25,
     "metadata": {},
     "output_type": "execute_result"
    }
   ],
   "source": [
    "# 교차검증 1\n",
    "dtclf = DecisionTreeClassifier(max_depth = 3)\n",
    "scores = cross_val_score(dtclf, data, target, cv=10, scoring='accuracy')\n",
    "np.mean(scores)"
   ]
  },
  {
   "cell_type": "code",
   "execution_count": 26,
   "id": "446cb8f9-c271-4359-a284-c604b0e53c99",
   "metadata": {},
   "outputs": [
    {
     "data": {
      "text/plain": [
       "dead    808\n",
       "live    498\n",
       "Name: life, dtype: int64"
      ]
     },
     "execution_count": 26,
     "metadata": {},
     "output_type": "execute_result"
    }
   ],
   "source": [
    "# 머신러닝 모델 평가\n",
    "# 정확도만으로 모델의 성능을 평가하는 것이 옳은것인가?\n",
    "titanic.life.value_counts()"
   ]
  },
  {
   "cell_type": "code",
   "execution_count": 33,
   "id": "fc5544b0-66a5-4a38-bb23-754311581ee4",
   "metadata": {},
   "outputs": [
    {
     "data": {
      "text/plain": [
       "sex     life\n",
       "female  dead    127\n",
       "        live    337\n",
       "male    dead    681\n",
       "        live    161\n",
       "Name: life, dtype: int64"
      ]
     },
     "execution_count": 33,
     "metadata": {},
     "output_type": "execute_result"
    }
   ],
   "source": [
    "# 성별에 따른 생존 여부\n",
    "titanic.groupby(['sex','life'])['life'].count()\n",
    "\n",
    "\n",
    "# 여성의 생존율이 남성의 생존율 보다 높기 때문에 간단한 조건문만으로 모델을 만들수도 있다.\n",
    "# 입력값 : 여성 -> 생존 , 남성 -> 사망"
   ]
  },
  {
   "cell_type": "markdown",
   "id": "8a3c1342-dded-4552-8cae-97e8b8482435",
   "metadata": {},
   "source": [
    "## 머신러닝 모델 평가\n",
    "* 일반적으로 머신러닝은\n",
    "   + 데이터가공/변환(전처리)\n",
    "   + 모델 학습/예측\n",
    "   + 평가의 과정을 거침\n",
    "* 앞의 타이타닉 분석에서 모델의 평가는 정확도만 사용함\n",
    "* 한편, 머신러닝의 예측성능의 평가방법은\n",
    "  + 회귀 : R^2, MSE평균제곱오차\n",
    "  + 분류 : 오차행렬, 정밀도/재현율, ROC, AUC, F1스코어,\n",
    "          크로스엔트로피, 최대우도"
   ]
  },
  {
   "cell_type": "markdown",
   "id": "9a50b99c-12aa-4f3a-bead-435297b4f510",
   "metadata": {},
   "source": [
    "## 정확도의 함정\n",
    "* 탐색적 분석 시행시 성별 기준 생존비율은 여성이 더 높음\n",
    "* 따라서, 굳이 ML알고리즘을 적용하지 않아도 성별이 여성일 경우 생존, 남성일 경우 사망이라고 예측해도 크게 무리가 없음  \n",
    "* 즉, 단순히 성별 조건 하나만 적용해도 별거 아닌 알고리즘으로도 높은 정확도가 나타나는 상황 발생"
   ]
  },
  {
   "cell_type": "code",
   "execution_count": 38,
   "id": "00852504-d9bd-42bd-ace7-0a9de9daedda",
   "metadata": {},
   "outputs": [],
   "source": [
    "# BaseEstimator 클래스를 상속받아 가짜분류기 생성\n",
    "from sklearn.base import BaseEstimator\n",
    "class DummyClassifier(BaseEstimator):\n",
    "    # 아무것도 학습하지 않는 fit 메서드 정의\n",
    "    def fit(self, X, y=None):\n",
    "        pass \n",
    "# 성별이 1(남자)이면 사망(0)\n",
    "# 성별이 0(여자)이면 생존(1)이라고\n",
    "# 예측하는 predict메서드 정의\n",
    "    def predict(self, X):\n",
    "        # 입력데이터 크기만큼 0으로 채워진 1차원 행렬 생성\n",
    "        pred = np.zeros((X.shape[0], 1))\n",
    "        for i in range(X.shape[0]):\n",
    "           # 성별이 여성이면 무조건 생존이라 예측\n",
    "           if X['sex'].iloc[i] != 1:\n",
    "              pred[i] = 1\n",
    "        return pred"
   ]
  },
  {
   "cell_type": "code",
   "execution_count": 39,
   "id": "0bd49e36-c001-47b7-9c1a-c28901e614d5",
   "metadata": {},
   "outputs": [],
   "source": [
    "from sklearn.model_selection import train_test_split\n",
    "from sklearn.metrics import accuracy_score\n"
   ]
  },
  {
   "cell_type": "code",
   "execution_count": 45,
   "id": "d86a1039-2bf8-4e92-8eee-944cb3cae379",
   "metadata": {},
   "outputs": [
    {
     "data": {
      "text/html": [
       "<div>\n",
       "<style scoped>\n",
       "    .dataframe tbody tr th:only-of-type {\n",
       "        vertical-align: middle;\n",
       "    }\n",
       "\n",
       "    .dataframe tbody tr th {\n",
       "        vertical-align: top;\n",
       "    }\n",
       "\n",
       "    .dataframe thead th {\n",
       "        text-align: right;\n",
       "    }\n",
       "</style>\n",
       "<table border=\"1\" class=\"dataframe\">\n",
       "  <thead>\n",
       "    <tr style=\"text-align: right;\">\n",
       "      <th></th>\n",
       "      <th>pclass</th>\n",
       "      <th>survived</th>\n",
       "      <th>name</th>\n",
       "      <th>sex</th>\n",
       "      <th>age</th>\n",
       "      <th>sibsp</th>\n",
       "      <th>parch</th>\n",
       "      <th>ticket</th>\n",
       "      <th>fare</th>\n",
       "      <th>embarked</th>\n",
       "      <th>life</th>\n",
       "      <th>seat</th>\n",
       "      <th>port</th>\n",
       "    </tr>\n",
       "  </thead>\n",
       "  <tbody>\n",
       "    <tr>\n",
       "      <th>0</th>\n",
       "      <td>1</td>\n",
       "      <td>1</td>\n",
       "      <td>Allen, Miss. Elisabeth Walton</td>\n",
       "      <td>female</td>\n",
       "      <td>29.0000</td>\n",
       "      <td>0</td>\n",
       "      <td>0</td>\n",
       "      <td>24160</td>\n",
       "      <td>211.3375</td>\n",
       "      <td>S</td>\n",
       "      <td>live</td>\n",
       "      <td>1st</td>\n",
       "      <td>southampthon</td>\n",
       "    </tr>\n",
       "    <tr>\n",
       "      <th>1</th>\n",
       "      <td>1</td>\n",
       "      <td>1</td>\n",
       "      <td>Allison, Master. Hudson Trevor</td>\n",
       "      <td>male</td>\n",
       "      <td>0.9167</td>\n",
       "      <td>1</td>\n",
       "      <td>2</td>\n",
       "      <td>113781</td>\n",
       "      <td>151.5500</td>\n",
       "      <td>S</td>\n",
       "      <td>live</td>\n",
       "      <td>1st</td>\n",
       "      <td>southampthon</td>\n",
       "    </tr>\n",
       "    <tr>\n",
       "      <th>2</th>\n",
       "      <td>1</td>\n",
       "      <td>0</td>\n",
       "      <td>Allison, Miss. Helen Loraine</td>\n",
       "      <td>female</td>\n",
       "      <td>2.0000</td>\n",
       "      <td>1</td>\n",
       "      <td>2</td>\n",
       "      <td>113781</td>\n",
       "      <td>151.5500</td>\n",
       "      <td>S</td>\n",
       "      <td>dead</td>\n",
       "      <td>1st</td>\n",
       "      <td>southampthon</td>\n",
       "    </tr>\n",
       "    <tr>\n",
       "      <th>3</th>\n",
       "      <td>1</td>\n",
       "      <td>0</td>\n",
       "      <td>Allison, Mr. Hudson Joshua Creighton</td>\n",
       "      <td>male</td>\n",
       "      <td>30.0000</td>\n",
       "      <td>1</td>\n",
       "      <td>2</td>\n",
       "      <td>113781</td>\n",
       "      <td>151.5500</td>\n",
       "      <td>S</td>\n",
       "      <td>dead</td>\n",
       "      <td>1st</td>\n",
       "      <td>southampthon</td>\n",
       "    </tr>\n",
       "    <tr>\n",
       "      <th>4</th>\n",
       "      <td>1</td>\n",
       "      <td>0</td>\n",
       "      <td>Allison, Mrs. Hudson J C (Bessie Waldo Daniels)</td>\n",
       "      <td>female</td>\n",
       "      <td>25.0000</td>\n",
       "      <td>1</td>\n",
       "      <td>2</td>\n",
       "      <td>113781</td>\n",
       "      <td>151.5500</td>\n",
       "      <td>S</td>\n",
       "      <td>dead</td>\n",
       "      <td>1st</td>\n",
       "      <td>southampthon</td>\n",
       "    </tr>\n",
       "  </tbody>\n",
       "</table>\n",
       "</div>"
      ],
      "text/plain": [
       "   pclass  survived                                             name     sex  \\\n",
       "0       1         1                    Allen, Miss. Elisabeth Walton  female   \n",
       "1       1         1                   Allison, Master. Hudson Trevor    male   \n",
       "2       1         0                     Allison, Miss. Helen Loraine  female   \n",
       "3       1         0             Allison, Mr. Hudson Joshua Creighton    male   \n",
       "4       1         0  Allison, Mrs. Hudson J C (Bessie Waldo Daniels)  female   \n",
       "\n",
       "       age  sibsp  parch  ticket      fare embarked  life seat          port  \n",
       "0  29.0000      0      0   24160  211.3375        S  live  1st  southampthon  \n",
       "1   0.9167      1      2  113781  151.5500        S  live  1st  southampthon  \n",
       "2   2.0000      1      2  113781  151.5500        S  dead  1st  southampthon  \n",
       "3  30.0000      1      2  113781  151.5500        S  dead  1st  southampthon  \n",
       "4  25.0000      1      2  113781  151.5500        S  dead  1st  southampthon  "
      ]
     },
     "execution_count": 45,
     "metadata": {},
     "output_type": "execute_result"
    }
   ],
   "source": [
    "titanic = pd.read_csv('csv/titanic.csv')\n",
    "titanic.head()"
   ]
  },
  {
   "cell_type": "code",
   "execution_count": 41,
   "id": "b861cab8-e5b8-4c9d-b38b-65d07e207046",
   "metadata": {},
   "outputs": [],
   "source": [
    "titanic['sex'] = titanic['sex'].apply(lambda x:0 if x=='female' else 1)"
   ]
  },
  {
   "cell_type": "code",
   "execution_count": 42,
   "id": "53edce1f-1486-4505-a7fc-506df78f5b27",
   "metadata": {},
   "outputs": [],
   "source": [
    "data = titanic.iloc[:, [0,3,4,5,6,8]]\n",
    "target = titanic.survived"
   ]
  },
  {
   "cell_type": "code",
   "execution_count": 43,
   "id": "103bcdb6-4a8c-4786-a578-71cba155647a",
   "metadata": {},
   "outputs": [],
   "source": [
    "Xtrain, Xtest, ytrain, ytest = train_test_split(data,target,train_size=0.7, random_state=2111041205)"
   ]
  },
  {
   "cell_type": "code",
   "execution_count": 44,
   "id": "1fdc3a25-590c-4b2b-906c-205137d10c3a",
   "metadata": {},
   "outputs": [
    {
     "data": {
      "text/plain": [
       "0.798469387755102"
      ]
     },
     "execution_count": 44,
     "metadata": {},
     "output_type": "execute_result"
    }
   ],
   "source": [
    "myclf = DummyClassifier()\n",
    "myclf.fit(Xtrain, ytrain)\n",
    "pred = myclf.predict(Xtest)\n",
    "accuracy_score(pred, ytest)"
   ]
  },
  {
   "cell_type": "code",
   "execution_count": null,
   "id": "dedf71c8-151f-4919-bad8-13792390e61e",
   "metadata": {},
   "outputs": [],
   "source": []
  },
  {
   "cell_type": "code",
   "execution_count": null,
   "id": "0c6bc770-7ae1-44c7-8fce-e3aab09a736e",
   "metadata": {},
   "outputs": [],
   "source": []
  },
  {
   "cell_type": "code",
   "execution_count": null,
   "id": "ed84548f-4175-4191-84c8-31694c2337af",
   "metadata": {},
   "outputs": [],
   "source": []
  },
  {
   "cell_type": "code",
   "execution_count": null,
   "id": "815738ac-9ab4-4b04-95ce-fcb80b26abed",
   "metadata": {},
   "outputs": [],
   "source": []
  },
  {
   "cell_type": "code",
   "execution_count": null,
   "id": "1fd4a11c-bce5-4b42-93fd-0b02877d1d00",
   "metadata": {},
   "outputs": [],
   "source": []
  },
  {
   "cell_type": "code",
   "execution_count": null,
   "id": "7f4b40f2-b37f-4c03-9f59-98f6b4c20dda",
   "metadata": {},
   "outputs": [],
   "source": []
  },
  {
   "cell_type": "code",
   "execution_count": null,
   "id": "a74b6ba2-73cd-46c4-a9ad-ec7d74f8cdcd",
   "metadata": {},
   "outputs": [],
   "source": []
  },
  {
   "cell_type": "code",
   "execution_count": null,
   "id": "a7f2e8cd-902f-4cc9-b7a0-a459064277fd",
   "metadata": {},
   "outputs": [],
   "source": []
  },
  {
   "cell_type": "code",
   "execution_count": null,
   "id": "a8235de6-5b95-4f0d-a799-06bde5a3722e",
   "metadata": {},
   "outputs": [],
   "source": []
  },
  {
   "cell_type": "code",
   "execution_count": null,
   "id": "7954cace-77b9-4cf5-a005-69ad28666fcb",
   "metadata": {},
   "outputs": [],
   "source": []
  },
  {
   "cell_type": "code",
   "execution_count": null,
   "id": "99c2342e-a93c-485d-b7cf-55f6d16af487",
   "metadata": {},
   "outputs": [],
   "source": []
  },
  {
   "cell_type": "code",
   "execution_count": null,
   "id": "07df7be6-6588-44da-92fc-ee6e6d951f46",
   "metadata": {},
   "outputs": [],
   "source": []
  },
  {
   "cell_type": "code",
   "execution_count": null,
   "id": "0bd0abe7-9e38-47c5-8e5b-3719ea60cdc2",
   "metadata": {},
   "outputs": [],
   "source": []
  },
  {
   "cell_type": "code",
   "execution_count": null,
   "id": "45aad8ec-9f1c-4030-9a14-aa5e617489ef",
   "metadata": {},
   "outputs": [],
   "source": []
  },
  {
   "cell_type": "code",
   "execution_count": null,
   "id": "29bd63d0-2c4e-4c94-9ed0-4660ef7c03bc",
   "metadata": {},
   "outputs": [],
   "source": []
  },
  {
   "cell_type": "code",
   "execution_count": null,
   "id": "8570adef-26fe-4ca4-80cc-e55d3cbe4a15",
   "metadata": {},
   "outputs": [],
   "source": []
  },
  {
   "cell_type": "code",
   "execution_count": null,
   "id": "e4165237-776d-4c21-8673-e2d6a5d86ecb",
   "metadata": {},
   "outputs": [],
   "source": []
  },
  {
   "cell_type": "code",
   "execution_count": null,
   "id": "fb950ad8-b1ea-4dd4-bd7a-645f43a398f9",
   "metadata": {},
   "outputs": [],
   "source": []
  },
  {
   "cell_type": "code",
   "execution_count": null,
   "id": "bb8304d6-659d-4401-b179-1bc43fe14d77",
   "metadata": {},
   "outputs": [],
   "source": []
  },
  {
   "cell_type": "code",
   "execution_count": null,
   "id": "dbdbd36a-2ac1-42ea-9c4f-c3b4a6be5428",
   "metadata": {},
   "outputs": [],
   "source": []
  },
  {
   "cell_type": "code",
   "execution_count": null,
   "id": "bdcc535c-f334-435b-9789-556b916113a2",
   "metadata": {},
   "outputs": [],
   "source": []
  },
  {
   "cell_type": "code",
   "execution_count": null,
   "id": "2a7d8f7b-f255-4e89-a88f-fccff976ab3f",
   "metadata": {},
   "outputs": [],
   "source": []
  },
  {
   "cell_type": "code",
   "execution_count": null,
   "id": "035c9f8c-e54e-4922-b8e1-a581c0e74f02",
   "metadata": {},
   "outputs": [],
   "source": []
  },
  {
   "cell_type": "code",
   "execution_count": null,
   "id": "feb5c004-bedd-492b-8dda-a6ec7e21fabf",
   "metadata": {},
   "outputs": [],
   "source": []
  },
  {
   "cell_type": "code",
   "execution_count": null,
   "id": "f5fe0658-f1d2-493d-8188-a6f7593d5336",
   "metadata": {},
   "outputs": [],
   "source": []
  },
  {
   "cell_type": "code",
   "execution_count": null,
   "id": "3c881db9-d702-46e8-a454-13a5cb952984",
   "metadata": {},
   "outputs": [],
   "source": []
  },
  {
   "cell_type": "code",
   "execution_count": null,
   "id": "4553163d-c356-4a3d-b59b-e4d00a8f926b",
   "metadata": {},
   "outputs": [],
   "source": []
  },
  {
   "cell_type": "code",
   "execution_count": null,
   "id": "81c5f1bd-0bf0-4de5-ae71-f50753076e4d",
   "metadata": {},
   "outputs": [],
   "source": []
  },
  {
   "cell_type": "code",
   "execution_count": null,
   "id": "0cbc4af1-3127-4fa1-8700-c2f505e75cbd",
   "metadata": {},
   "outputs": [],
   "source": []
  },
  {
   "cell_type": "code",
   "execution_count": null,
   "id": "313f162c-7f2d-4fb7-bd93-adc114bb6675",
   "metadata": {},
   "outputs": [],
   "source": []
  },
  {
   "cell_type": "code",
   "execution_count": null,
   "id": "78760365-17f3-47b7-ac83-d12efe312e8c",
   "metadata": {},
   "outputs": [],
   "source": []
  },
  {
   "cell_type": "code",
   "execution_count": null,
   "id": "cdde8874-4852-4317-af3d-25ae683478c7",
   "metadata": {},
   "outputs": [],
   "source": []
  },
  {
   "cell_type": "code",
   "execution_count": null,
   "id": "b652a216-7826-4756-bad2-b31bde6d6cc4",
   "metadata": {},
   "outputs": [],
   "source": []
  },
  {
   "cell_type": "code",
   "execution_count": null,
   "id": "17b11758-a160-4074-8274-73a46f479413",
   "metadata": {},
   "outputs": [],
   "source": []
  },
  {
   "cell_type": "code",
   "execution_count": null,
   "id": "8a5d8391-4794-443a-a405-12bb663558a5",
   "metadata": {},
   "outputs": [],
   "source": []
  },
  {
   "cell_type": "code",
   "execution_count": null,
   "id": "ab0a5f70-6485-433e-ae18-e78359df9970",
   "metadata": {},
   "outputs": [],
   "source": []
  },
  {
   "cell_type": "code",
   "execution_count": null,
   "id": "f04e57cd-6e08-410b-935a-cf229ce4dec1",
   "metadata": {},
   "outputs": [],
   "source": []
  },
  {
   "cell_type": "code",
   "execution_count": null,
   "id": "14cf991e-4096-48e4-8eb4-fe9339bb1f75",
   "metadata": {},
   "outputs": [],
   "source": []
  },
  {
   "cell_type": "code",
   "execution_count": null,
   "id": "5f2c5313-ec03-4157-8a3b-592d854d04e7",
   "metadata": {},
   "outputs": [],
   "source": []
  }
 ],
 "metadata": {
  "kernelspec": {
   "display_name": "Python 3 (ipykernel)",
   "language": "python",
   "name": "python3"
  },
  "language_info": {
   "codemirror_mode": {
    "name": "ipython",
    "version": 3
   },
   "file_extension": ".py",
   "mimetype": "text/x-python",
   "name": "python",
   "nbconvert_exporter": "python",
   "pygments_lexer": "ipython3",
   "version": "3.7.10"
  }
 },
 "nbformat": 4,
 "nbformat_minor": 5
}
