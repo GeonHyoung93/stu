{
 "cells": [
  {
   "cell_type": "code",
   "execution_count": 1,
   "id": "ccf5d37c-a030-4813-948c-da4ef09a8754",
   "metadata": {},
   "outputs": [
    {
     "data": {
      "text/plain": [
       "''"
      ]
     },
     "execution_count": 1,
     "metadata": {},
     "output_type": "execute_result"
    }
   ],
   "source": [
    "sc"
   ]
  },
  {
   "cell_type": "code",
   "execution_count": 20,
   "id": "4b1dbfb4-609a-46b2-b153-2fd0291cd327",
   "metadata": {},
   "outputs": [],
   "source": [
    "from pyspark.sql.types import StringType, IntegerType\n",
    "import warnings\n",
    "warnings.filterwarnings(action='ignore')"
   ]
  },
  {
   "cell_type": "code",
   "execution_count": 21,
   "id": "046f3de7-e385-4526-9729-f53540d67ddb",
   "metadata": {},
   "outputs": [
    {
     "data": {
      "text/plain": [
       "['apple', 'peach', 'banana', 'mango', 'pineapple']"
      ]
     },
     "execution_count": 21,
     "metadata": {},
     "output_type": "execute_result"
    }
   ],
   "source": [
    "words = sc.parallelize(['apple', 'peach','banana','mango','pineapple'])\n",
    "words.collect()"
   ]
  },
  {
   "cell_type": "code",
   "execution_count": 22,
   "id": "2f69d10a-e8ba-454a-b77a-a64e424e0546",
   "metadata": {},
   "outputs": [
    {
     "data": {
      "text/plain": [
       "<bound method DataFrame.show of DataFrame[value: string]>"
      ]
     },
     "execution_count": 22,
     "metadata": {},
     "output_type": "execute_result"
    }
   ],
   "source": [
    "# RDD객체를 데이터프레임으로 만들기\n",
    "df = spark.createDataFrame(words, StringType())\n",
    "df.show"
   ]
  },
  {
   "cell_type": "code",
   "execution_count": 23,
   "id": "8b4452e5-d557-4111-94dc-f754ace4bb0c",
   "metadata": {},
   "outputs": [],
   "source": [
    "# 리스트로 RDD 객체 생성2 - (과일명, 가격)\n",
    "data = [('apple',1500), ('peach',2000), ('banana',1500), ('mango',2500), ('pineapple',3000)]"
   ]
  },
  {
   "cell_type": "code",
   "execution_count": 24,
   "id": "81abfa00-8f1a-4078-8ca7-34e23de87e92",
   "metadata": {},
   "outputs": [
    {
     "data": {
      "text/plain": [
       "[Row(_1='apple', _2=1500),\n",
       " Row(_1='peach', _2=2000),\n",
       " Row(_1='banana', _2=1500),\n",
       " Row(_1='mango', _2=2500),\n",
       " Row(_1='pineapple', _2=3000)]"
      ]
     },
     "execution_count": 24,
     "metadata": {},
     "output_type": "execute_result"
    }
   ],
   "source": [
    "fruits = spark.createDataFrame(data)\n",
    "fruits.collect()"
   ]
  },
  {
   "cell_type": "code",
   "execution_count": 25,
   "id": "d4e60478-635d-497a-add4-db9226a3c6d1",
   "metadata": {},
   "outputs": [
    {
     "data": {
      "text/plain": [
       "[Row(fruit='apple', price=1500),\n",
       " Row(fruit='peach', price=2000),\n",
       " Row(fruit='banana', price=1500),\n",
       " Row(fruit='mango', price=2500),\n",
       " Row(fruit='pineapple', price=3000)]"
      ]
     },
     "execution_count": 25,
     "metadata": {},
     "output_type": "execute_result"
    }
   ],
   "source": [
    "# 컬럼명, 데이터타입을 지정하면서 데이터프레임 객체 생성\n",
    "# 컬럼명 : 데이터타입으로 정의\n",
    "fruits = spark.createDataFrame(data, \"fruit:string, price:int\")\n",
    "fruits.collect()"
   ]
  },
  {
   "cell_type": "code",
   "execution_count": 26,
   "id": "1d14c877-6a31-4bcd-aaa8-034b3a462b63",
   "metadata": {},
   "outputs": [
    {
     "data": {
      "text/plain": [
       "[Row(fruit='apple'),\n",
       " Row(fruit='peach'),\n",
       " Row(fruit='banana'),\n",
       " Row(fruit='mango'),\n",
       " Row(fruit='pineapple')]"
      ]
     },
     "execution_count": 26,
     "metadata": {},
     "output_type": "execute_result"
    }
   ],
   "source": [
    "# 특정 컬럼만 출력 : select\n",
    "fruits.select('fruit').collect()"
   ]
  },
  {
   "cell_type": "markdown",
   "id": "6bdc76c8-69ab-4d3c-9910-f0292163d7da",
   "metadata": {},
   "source": [
    "## 스파크세션을 이용한 고급 데이터프레임 생성"
   ]
  },
  {
   "cell_type": "code",
   "execution_count": 27,
   "id": "c8990169-7dc5-4380-a221-6d28614a00d7",
   "metadata": {},
   "outputs": [],
   "source": [
    "from pyspark.sql import SparkSession\n",
    "from pyspark.sql.types import StructType"
   ]
  },
  {
   "cell_type": "code",
   "execution_count": 28,
   "id": "a501f430-05f1-4b9b-888f-4b2cd2d1dade",
   "metadata": {},
   "outputs": [],
   "source": [
    "# 데이터프레임 스키마 정의 - employees\n",
    "# 스파크 세션객체 직접 생성\n",
    "\n",
    "spark = SparkSession.builder.appName(\"emp\").getOrCreate()"
   ]
  },
  {
   "cell_type": "code",
   "execution_count": 29,
   "id": "9762f099-e0d6-4213-8d22-ce3d7eaec505",
   "metadata": {},
   "outputs": [],
   "source": [
    "# 데이터프레임 생성전 스키마 정의\n",
    "# add(컬럼명, 데이터타입)\n",
    "emp_schema = StructType().add(\"empno\", \"integer\").add(\"fname\", \"string\") \\\n",
    "                       .add(\"lname\",\"string\").add(\"hdate\",\"string\") \\\n",
    "                       .add(\"sal\",\"integer\").add(\"deptid\",\"integer\") \\\n",
    "                       "
   ]
  },
  {
   "cell_type": "code",
   "execution_count": 30,
   "id": "5f685897-eaba-4dcd-8ba1-32fd4a50ff55",
   "metadata": {},
   "outputs": [
    {
     "name": "stdout",
     "output_type": "stream",
     "text": [
      "+-----+-----+-----+----------+-----+------+\n",
      "|empno|fname|lname|     hdate|  sal|deptid|\n",
      "+-----+-----+-----+----------+-----+------+\n",
      "|  123|steve| king|2003-06-17|35000|  null|\n",
      "|  456| john|  seo|2005-12-15|20000|    50|\n",
      "|  789|david| bell|2004-03-01|22000|    90|\n",
      "+-----+-----+-----+----------+-----+------+\n",
      "\n"
     ]
    }
   ],
   "source": [
    "# 지정한 스키마를 이용해서 데이터프레임 생성\n",
    "# 데이터프레임의 각 행은 set 객체로 정의\n",
    "# 위에서 정의한 스키마는 schema 속성으로 지정\n",
    "\n",
    "df = spark.createDataFrame(\n",
    "                            [(123, 'steve','king', '2003-06-17',35000, None),\n",
    "                            (456, 'john', 'seo', '2005-12-15', 20000, 50 ),\n",
    "                            (789, 'david', 'bell', '2004-03-01', 22000, 90)], \n",
    "                            schema = emp_schema)\n",
    "df.show()"
   ]
  },
  {
   "cell_type": "code",
   "execution_count": 31,
   "id": "2a67571b-4d91-491f-a96c-ef4030bd8017",
   "metadata": {},
   "outputs": [
    {
     "name": "stdout",
     "output_type": "stream",
     "text": [
      "root\n",
      " |-- empno: integer (nullable = true)\n",
      " |-- fname: string (nullable = true)\n",
      " |-- lname: string (nullable = true)\n",
      " |-- hdate: string (nullable = true)\n",
      " |-- sal: integer (nullable = true)\n",
      " |-- deptid: integer (nullable = true)\n",
      "\n"
     ]
    }
   ],
   "source": [
    "# 데이터프레임의 스키마 확인\n",
    "df.printSchema()"
   ]
  },
  {
   "cell_type": "code",
   "execution_count": 32,
   "id": "28984599-01e1-4852-8116-60ea476cd9fb",
   "metadata": {},
   "outputs": [
    {
     "name": "stdout",
     "output_type": "stream",
     "text": [
      "+-----+-----+-----+----------+-----+------+\n",
      "|empno|fname|lname|     hdate|  sal|deptid|\n",
      "+-----+-----+-----+----------+-----+------+\n",
      "|  123|steve| king|2003-06-17|35000|  null|\n",
      "|  456| john|  seo|2005-12-15|20000|    50|\n",
      "|  789|david| bell|2004-03-01|22000|    90|\n",
      "+-----+-----+-----+----------+-----+------+\n",
      "\n",
      "+-----+-----+-----+----------+-----+------+\n",
      "|empno|fname|lname|     hdate|  sal|deptid|\n",
      "+-----+-----+-----+----------+-----+------+\n",
      "|  123|steve| king|2003-06-17|35000|   999|\n",
      "|  456| john|  seo|2005-12-15|20000|    50|\n",
      "|  789|david| bell|2004-03-01|22000|    90|\n",
      "+-----+-----+-----+----------+-----+------+\n",
      "\n"
     ]
    }
   ],
   "source": [
    "# 결측치 처리\n",
    "# fillna(대체값)\n",
    "\n",
    "df.fillna('X').show()  # 문자형 결측치\n",
    "df.fillna(999).show()  # 숫자형 결측치"
   ]
  },
  {
   "cell_type": "code",
   "execution_count": 33,
   "id": "47742881-7e09-4d49-b984-a696cdcd7a1f",
   "metadata": {},
   "outputs": [
    {
     "name": "stdout",
     "output_type": "stream",
     "text": [
      "+-----+-----+-----+----------+-----+------+\n",
      "|empno|fname|lname|     hdate|  sal|deptid|\n",
      "+-----+-----+-----+----------+-----+------+\n",
      "|  123|steve| king|2003-06-17|35000|   999|\n",
      "|  456| john|  seo|2005-12-15|20000|    50|\n",
      "|  789|david| bell|2004-03-01|22000|    90|\n",
      "+-----+-----+-----+----------+-----+------+\n",
      "\n"
     ]
    }
   ],
   "source": [
    "# 여러 컬럼에 결측치에 대한 대체값 지정 : dict이용\n",
    "\n",
    "df.fillna({'lname':'X', 'deptid':999}).show()"
   ]
  },
  {
   "cell_type": "code",
   "execution_count": 34,
   "id": "0f1ba1a6-1e00-49e6-8065-bc85c4349fd2",
   "metadata": {},
   "outputs": [
    {
     "name": "stdout",
     "output_type": "stream",
     "text": [
      "+-----+-----+-----+----------+-----+------+\n",
      "|empno|fname|lname|     hdate|  sal|deptid|\n",
      "+-----+-----+-----+----------+-----+------+\n",
      "|  456| john|  seo|2005-12-15|20000|    50|\n",
      "+-----+-----+-----+----------+-----+------+\n",
      "\n"
     ]
    }
   ],
   "source": [
    "# 결측치 제거\n",
    "# na.drop()\n",
    "df2 = spark.createDataFrame(\n",
    "                            [(123, 'steve','king', '2003-06-17',35000, None),\n",
    "                            (456, 'john', 'seo', '2005-12-15', 20000, 50 ),\n",
    "                            (789, 'david', None, '2004-03-01', 22000, 90)], \n",
    "                            schema = emp_schema)\n",
    "df2.na.drop().show()\n"
   ]
  },
  {
   "cell_type": "code",
   "execution_count": 35,
   "id": "6a9a9471-1ce0-4ef4-8561-22821f718681",
   "metadata": {},
   "outputs": [
    {
     "name": "stdout",
     "output_type": "stream",
     "text": [
      "+-----+-----+----------+-----+------+\n",
      "|empno|lname|     hdate|  sal|deptid|\n",
      "+-----+-----+----------+-----+------+\n",
      "|  123| king|2003-06-17|35000|  null|\n",
      "|  456|  seo|2005-12-15|20000|    50|\n",
      "|  789| null|2004-03-01|22000|    90|\n",
      "+-----+-----+----------+-----+------+\n",
      "\n"
     ]
    }
   ],
   "source": [
    "# 특정 컬럼 제거\n",
    "# drop('컬럼명')\n",
    "\n",
    "df2.drop('fname').show()"
   ]
  },
  {
   "cell_type": "code",
   "execution_count": 36,
   "id": "68e5f051-ad52-4b11-8faf-42fee432318a",
   "metadata": {},
   "outputs": [
    {
     "name": "stdout",
     "output_type": "stream",
     "text": [
      "+-----+-----+-----+------+\n",
      "|empno|fname|lname|deptid|\n",
      "+-----+-----+-----+------+\n",
      "|  123|steve| king|  null|\n",
      "|  456| john|  seo|    50|\n",
      "|  789|david| null|    90|\n",
      "+-----+-----+-----+------+\n",
      "\n"
     ]
    }
   ],
   "source": [
    "# 여러컬럼 제거\n",
    "df2.drop('hdate','sal').show()"
   ]
  },
  {
   "cell_type": "markdown",
   "id": "815133e3-7731-41a3-9e09-b267a86685f9",
   "metadata": {},
   "source": [
    "## csv파일을 이용해서 데이터프레임 만들기 \n",
    "+ read.csv(경로, 헤더여부, 스키마여부)"
   ]
  },
  {
   "cell_type": "code",
   "execution_count": 37,
   "id": "1ec02dbc-4a71-4349-b175-71481a12680c",
   "metadata": {},
   "outputs": [
    {
     "name": "stdout",
     "output_type": "stream",
     "text": [
      "root\n",
      " |-- EMPLOYEE_ID: integer (nullable = true)\n",
      " |-- FIRST_NAME: string (nullable = true)\n",
      " |-- LAST_NAME: string (nullable = true)\n",
      " |-- EMAIL: string (nullable = true)\n",
      " |-- PHONE_NUMBER: string (nullable = true)\n",
      " |-- HIRE_DATE: timestamp (nullable = true)\n",
      " |-- JOB_ID: string (nullable = true)\n",
      " |-- SALARY: integer (nullable = true)\n",
      " |-- COMMISSION_PCT: double (nullable = true)\n",
      " |-- MANAGER_ID: integer (nullable = true)\n",
      " |-- DEPARTMENT_ID: integer (nullable = true)\n",
      "\n"
     ]
    }
   ],
   "source": [
    "emp = spark.read.csv(\"employees.csv\", header=True, inferSchema=True)\n",
    "\n",
    "emp.printSchema()"
   ]
  },
  {
   "cell_type": "code",
   "execution_count": 38,
   "id": "90dd5cdd-f9ba-497c-95bf-9a608cb8d4c7",
   "metadata": {},
   "outputs": [
    {
     "data": {
      "text/plain": [
       "107"
      ]
     },
     "execution_count": 38,
     "metadata": {},
     "output_type": "execute_result"
    }
   ],
   "source": [
    "emp.count()"
   ]
  },
  {
   "cell_type": "code",
   "execution_count": 40,
   "id": "e7f92355-4b20-4396-ba28-aa00abf9914d",
   "metadata": {},
   "outputs": [
    {
     "data": {
      "text/plain": [
       "['EMPLOYEE_ID',\n",
       " 'FIRST_NAME',\n",
       " 'LAST_NAME',\n",
       " 'EMAIL',\n",
       " 'PHONE_NUMBER',\n",
       " 'HIRE_DATE',\n",
       " 'JOB_ID',\n",
       " 'SALARY',\n",
       " 'COMMISSION_PCT',\n",
       " 'MANAGER_ID',\n",
       " 'DEPARTMENT_ID']"
      ]
     },
     "execution_count": 40,
     "metadata": {},
     "output_type": "execute_result"
    }
   ],
   "source": [
    "# 데이터프레임 컬럼 목록 출력\n",
    "emp.columns"
   ]
  },
  {
   "cell_type": "code",
   "execution_count": 42,
   "id": "95403e41-36c0-4374-8cf9-113ec1b1a4e1",
   "metadata": {},
   "outputs": [
    {
     "name": "stdout",
     "output_type": "stream",
     "text": [
      "+-----------+----------+---------+--------+------------+-------------------+-------+------+--------------+----------+-------------+\n",
      "|EMPLOYEE_ID|FIRST_NAME|LAST_NAME|   EMAIL|PHONE_NUMBER|          HIRE_DATE| JOB_ID|SALARY|COMMISSION_PCT|MANAGER_ID|DEPARTMENT_ID|\n",
      "+-----------+----------+---------+--------+------------+-------------------+-------+------+--------------+----------+-------------+\n",
      "|        100|    Steven|     King|   SKING|515.123.4567|2003-06-17 00:00:00|AD_PRES| 24000|          null|      null|           90|\n",
      "|        101|     Neena|  Kochhar|NKOCHHAR|515.123.4568|2005-09-21 00:00:00|  AD_VP| 17000|          null|       100|           90|\n",
      "|        102|       Lex|  De Haan| LDEHAAN|515.123.4569|2001-01-13 00:00:00|  AD_VP| 17000|          null|       100|           90|\n",
      "|        103| Alexander|   Hunold| AHUNOLD|590.423.4567|2006-01-03 00:00:00|IT_PROG|  9000|          null|       102|           60|\n",
      "|        104|     Bruce|    Ernst|  BERNST|590.423.4568|2007-05-21 00:00:00|IT_PROG|  6000|          null|       103|           60|\n",
      "+-----------+----------+---------+--------+------------+-------------------+-------+------+--------------+----------+-------------+\n",
      "only showing top 5 rows\n",
      "\n"
     ]
    }
   ],
   "source": [
    "emp.show(5)"
   ]
  },
  {
   "cell_type": "code",
   "execution_count": 49,
   "id": "e3e73166-7810-465b-8e16-0fe5c0bb53c6",
   "metadata": {},
   "outputs": [
    {
     "name": "stdout",
     "output_type": "stream",
     "text": [
      "+-------+----------------+----------+---------+-------+------------------+----------+------------------+-------------------+------------------+------------------+\n",
      "|summary|     EMPLOYEE_ID|FIRST_NAME|LAST_NAME|  EMAIL|      PHONE_NUMBER|    JOB_ID|            SALARY|     COMMISSION_PCT|        MANAGER_ID|     DEPARTMENT_ID|\n",
      "+-------+----------------+----------+---------+-------+------------------+----------+------------------+-------------------+------------------+------------------+\n",
      "|  count|             107|       107|      107|    107|               107|       107|               107|                 35|               106|               106|\n",
      "|   mean|           153.0|      null|     null|   null|              null|      null|6461.8317757009345|0.22285714285714286|124.76415094339623| 63.20754716981132|\n",
      "| stddev|31.0322412983658|      null|     null|   null|              null|      null|3909.5797305524825|0.08518393346757594|20.315395000692018|20.910110100200708|\n",
      "|    min|             100|      Adam|     Abel| ABANDA|011.44.1343.329268|AC_ACCOUNT|              2100|                0.1|               100|                10|\n",
      "|    25%|             126|      null|     null|   null|              null|      null|              3100|               0.15|               108|                50|\n",
      "|    50%|             153|      null|     null|   null|              null|      null|              6200|                0.2|               122|                50|\n",
      "|    75%|             180|      null|     null|   null|              null|      null|              9000|                0.3|               145|                80|\n",
      "|    max|             206|   Winston|  Zlotkey|WTAYLOR|      650.509.4876|    ST_MAN|             24000|                0.4|               205|               110|\n",
      "+-------+----------------+----------+---------+-------+------------------+----------+------------------+-------------------+------------------+------------------+\n",
      "\n",
      "+-------+-----------+----------+---------+-------+------------------+----------+------+--------------+----------+-------------+\n",
      "|summary|EMPLOYEE_ID|FIRST_NAME|LAST_NAME|  EMAIL|      PHONE_NUMBER|    JOB_ID|SALARY|COMMISSION_PCT|MANAGER_ID|DEPARTMENT_ID|\n",
      "+-------+-----------+----------+---------+-------+------------------+----------+------+--------------+----------+-------------+\n",
      "|  count|        107|       107|      107|    107|               107|       107|   107|            35|       106|          106|\n",
      "|    min|        100|      Adam|     Abel| ABANDA|011.44.1343.329268|AC_ACCOUNT|  2100|           0.1|       100|           10|\n",
      "|    max|        206|   Winston|  Zlotkey|WTAYLOR|      650.509.4876|    ST_MAN| 24000|           0.4|       205|          110|\n",
      "+-------+-----------+----------+---------+-------+------------------+----------+------+--------------+----------+-------------+\n",
      "\n",
      "+-------+------------------+-------------------+\n",
      "|summary|            SALARY|     COMMISSION_PCT|\n",
      "+-------+------------------+-------------------+\n",
      "|  count|               107|                 35|\n",
      "|   mean|6461.8317757009345|0.22285714285714286|\n",
      "| stddev|3909.5797305524825|0.08518393346757594|\n",
      "|    min|              2100|                0.1|\n",
      "|    25%|              3100|               0.15|\n",
      "|    50%|              6200|                0.2|\n",
      "|    75%|              9000|                0.3|\n",
      "|    max|             24000|                0.4|\n",
      "+-------+------------------+-------------------+\n",
      "\n"
     ]
    }
   ],
   "source": [
    "# 데이터 요약보기\n",
    "# summary(통계항목)\n",
    "emp.summary().show()\n",
    "emp.summary('count','min','max').show()\n",
    "emp.select('SALARY','COMMISSION_PCT').summary().show()"
   ]
  },
  {
   "cell_type": "markdown",
   "id": "3702bc5f-5b28-40fb-b6c4-688e86f93016",
   "metadata": {},
   "source": [
    "## 데이터프레임 데이터 탐색\n",
    "+ select :: 컬럼 선택\n",
    "+ filter :: 조건 검색\n",
    "+ where  :: 고급 조건 검색\n",
    "+ orderBy :: 정렬\n",
    "+ groupBy :: 그룹화"
   ]
  },
  {
   "cell_type": "code",
   "execution_count": 51,
   "id": "4a702359-442c-4128-b09d-f9c87a560dfe",
   "metadata": {},
   "outputs": [
    {
     "name": "stdout",
     "output_type": "stream",
     "text": [
      "+---------+----------+\n",
      "|LAST_NAME|FIRST_NAME|\n",
      "+---------+----------+\n",
      "|     King|    Steven|\n",
      "|  Kochhar|     Neena|\n",
      "|  De Haan|       Lex|\n",
      "|   Hunold| Alexander|\n",
      "|    Ernst|     Bruce|\n",
      "+---------+----------+\n",
      "only showing top 5 rows\n",
      "\n"
     ]
    }
   ],
   "source": [
    "# 모든 사원의 이름 조회\n",
    "\n",
    "emp.select(['LAST_NAME','FIRST_NAME']).show(5)"
   ]
  },
  {
   "cell_type": "code",
   "execution_count": 77,
   "id": "5df07239-e1b9-4803-845d-8b1731fa6ba4",
   "metadata": {},
   "outputs": [
    {
     "data": {
      "text/plain": [
       "47"
      ]
     },
     "execution_count": 77,
     "metadata": {},
     "output_type": "execute_result"
    }
   ],
   "source": [
    "emp.filter(emp['SALARY'] >= 7000).count()"
   ]
  },
  {
   "cell_type": "code",
   "execution_count": 85,
   "id": "0fdc63a6-d135-4f7c-95d2-d85eaaadb4e9",
   "metadata": {},
   "outputs": [
    {
     "name": "stdout",
     "output_type": "stream",
     "text": [
      "+-----------+-----------+-----------+--------+------------+-------------------+----------+------+--------------+----------+-------------+\n",
      "|EMPLOYEE_ID| FIRST_NAME|  LAST_NAME|   EMAIL|PHONE_NUMBER|          HIRE_DATE|    JOB_ID|SALARY|COMMISSION_PCT|MANAGER_ID|DEPARTMENT_ID|\n",
      "+-----------+-----------+-----------+--------+------------+-------------------+----------+------+--------------+----------+-------------+\n",
      "|        106|      Valli|  Pataballa|VPATABAL|590.423.4560|2006-02-05 00:00:00|   IT_PROG|  4800|          null|       103|           60|\n",
      "|        112|Jose Manuel|      Urman| JMURMAN|515.124.4469|2006-03-07 00:00:00|FI_ACCOUNT|  7800|          null|       108|          100|\n",
      "|        126|      Irene|Mikkilineni|IMIKKILI|650.124.1224|2006-09-28 00:00:00|  ST_CLERK|  2700|          null|       120|           50|\n",
      "|        134|    Michael|     Rogers| MROGERS|650.127.1834|2006-08-26 00:00:00|  ST_CLERK|  2900|          null|       122|           50|\n",
      "|        139|       John|        Seo|    JSEO|650.121.2019|2006-02-12 00:00:00|  ST_CLERK|  2700|          null|       123|           50|\n",
      "+-----------+-----------+-----------+--------+------------+-------------------+----------+------+--------------+----------+-------------+\n",
      "only showing top 5 rows\n",
      "\n"
     ]
    }
   ],
   "source": [
    "emp.filter((emp['HIRE_DATE'] >= '2006-02-05') & (emp['HIRE_DATE'] <= '2006-11-15')).show(5)\n",
    "\n"
   ]
  },
  {
   "cell_type": "code",
   "execution_count": 84,
   "id": "34036d8a-669e-4606-a001-1a4626890769",
   "metadata": {},
   "outputs": [
    {
     "name": "stdout",
     "output_type": "stream",
     "text": [
      "+-----------+-----------+-----------+--------+------------+-------------------+----------+------+--------------+----------+-------------+\n",
      "|EMPLOYEE_ID| FIRST_NAME|  LAST_NAME|   EMAIL|PHONE_NUMBER|          HIRE_DATE|    JOB_ID|SALARY|COMMISSION_PCT|MANAGER_ID|DEPARTMENT_ID|\n",
      "+-----------+-----------+-----------+--------+------------+-------------------+----------+------+--------------+----------+-------------+\n",
      "|        106|      Valli|  Pataballa|VPATABAL|590.423.4560|2006-02-05 00:00:00|   IT_PROG|  4800|          null|       103|           60|\n",
      "|        112|Jose Manuel|      Urman| JMURMAN|515.124.4469|2006-03-07 00:00:00|FI_ACCOUNT|  7800|          null|       108|          100|\n",
      "|        126|      Irene|Mikkilineni|IMIKKILI|650.124.1224|2006-09-28 00:00:00|  ST_CLERK|  2700|          null|       120|           50|\n",
      "|        134|    Michael|     Rogers| MROGERS|650.127.1834|2006-08-26 00:00:00|  ST_CLERK|  2900|          null|       122|           50|\n",
      "|        139|       John|        Seo|    JSEO|650.121.2019|2006-02-12 00:00:00|  ST_CLERK|  2700|          null|       123|           50|\n",
      "+-----------+-----------+-----------+--------+------------+-------------------+----------+------+--------------+----------+-------------+\n",
      "only showing top 5 rows\n",
      "\n"
     ]
    }
   ],
   "source": [
    "emp.where((emp['HIRE_DATE'] >= '2006-02-05') & (emp['HIRE_DATE'] <= '2006-11-15')).show(5)\n"
   ]
  },
  {
   "cell_type": "code",
   "execution_count": 123,
   "id": "b12cc082-168d-4061-8447-625d13997803",
   "metadata": {},
   "outputs": [
    {
     "name": "stdout",
     "output_type": "stream",
     "text": [
      "+-------------+-----+\n",
      "|DEPARTMENT_ID|count|\n",
      "+-------------+-----+\n",
      "|         null|    1|\n",
      "|           20|    2|\n",
      "|           40|    1|\n",
      "|          100|    6|\n",
      "|           10|    1|\n",
      "|           50|   45|\n",
      "|           80|   34|\n",
      "|           70|    1|\n",
      "|           90|    3|\n",
      "|           60|    5|\n",
      "|          110|    2|\n",
      "|           30|    6|\n",
      "+-------------+-----+\n",
      "\n"
     ]
    }
   ],
   "source": [
    "# 부서번호 별 사원수 조회\n",
    "\n",
    "# emp.where((emp['fname']) & .groupby(emp['DEPARTMENT_ID']))\n",
    "\n",
    "emp.groupBy('DEPARTMENT_ID').count().show()\n"
   ]
  },
  {
   "cell_type": "code",
   "execution_count": 124,
   "id": "2781bcd1-4712-44e8-86b4-ea0c422e608e",
   "metadata": {},
   "outputs": [
    {
     "name": "stdout",
     "output_type": "stream",
     "text": [
      "+----------+-----+\n",
      "|    JOB_ID|count|\n",
      "+----------+-----+\n",
      "|FI_ACCOUNT|    5|\n",
      "|    MK_MAN|    1|\n",
      "|   IT_PROG|    5|\n",
      "|    FI_MGR|    1|\n",
      "|AC_ACCOUNT|    1|\n",
      "|    HR_REP|    1|\n",
      "|  PU_CLERK|    5|\n",
      "|    AC_MGR|    1|\n",
      "|    PR_REP|    1|\n",
      "|    ST_MAN|    5|\n",
      "|    MK_REP|    1|\n",
      "|    SA_REP|   30|\n",
      "|    SA_MAN|    5|\n",
      "|    PU_MAN|    1|\n",
      "|  SH_CLERK|   20|\n",
      "|   AD_PRES|    1|\n",
      "|  ST_CLERK|   20|\n",
      "|   AD_ASST|    1|\n",
      "|     AD_VP|    2|\n",
      "+----------+-----+\n",
      "\n"
     ]
    }
   ],
   "source": [
    "# 직책별 사원수 조회\n",
    "emp.groupBy('JOB_ID').count().show()"
   ]
  },
  {
   "cell_type": "code",
   "execution_count": 125,
   "id": "9e81ac30-4dd5-4451-b017-c3c042402dfe",
   "metadata": {},
   "outputs": [
    {
     "name": "stderr",
     "output_type": "stream",
     "text": [
      "[Stage 102:====================================>                (136 + 1) / 200]"
     ]
    },
    {
     "name": "stdout",
     "output_type": "stream",
     "text": [
      "+-------------+-----+\n",
      "|DEPARTMENT_ID|count|\n",
      "+-------------+-----+\n",
      "|         null|    1|\n",
      "|           10|    1|\n",
      "|           20|    2|\n",
      "|           30|    6|\n",
      "|           40|    1|\n",
      "|           50|   45|\n",
      "|           60|    5|\n",
      "|           70|    1|\n",
      "|           80|   34|\n",
      "|           90|    3|\n",
      "|          100|    6|\n",
      "|          110|    2|\n",
      "+-------------+-----+\n",
      "\n"
     ]
    },
    {
     "name": "stderr",
     "output_type": "stream",
     "text": [
      "                                                                                \r"
     ]
    }
   ],
   "source": [
    "emp.groupBy('DEPARTMENT_ID').count().orderBy('DEPARTMENT_ID').show()"
   ]
  },
  {
   "cell_type": "code",
   "execution_count": 126,
   "id": "09b65553-a935-4203-8659-dc6590ec539d",
   "metadata": {},
   "outputs": [
    {
     "name": "stderr",
     "output_type": "stream",
     "text": [
      "[Stage 104:==================================>                  (131 + 1) / 200]"
     ]
    },
    {
     "name": "stdout",
     "output_type": "stream",
     "text": [
      "+----------+-----+\n",
      "|    JOB_ID|count|\n",
      "+----------+-----+\n",
      "|AC_ACCOUNT|    1|\n",
      "|    AC_MGR|    1|\n",
      "|   AD_ASST|    1|\n",
      "|   AD_PRES|    1|\n",
      "|     AD_VP|    2|\n",
      "|FI_ACCOUNT|    5|\n",
      "|    FI_MGR|    1|\n",
      "|    HR_REP|    1|\n",
      "|   IT_PROG|    5|\n",
      "|    MK_MAN|    1|\n",
      "|    MK_REP|    1|\n",
      "|    PR_REP|    1|\n",
      "|  PU_CLERK|    5|\n",
      "|    PU_MAN|    1|\n",
      "|    SA_MAN|    5|\n",
      "|    SA_REP|   30|\n",
      "|  SH_CLERK|   20|\n",
      "|  ST_CLERK|   20|\n",
      "|    ST_MAN|    5|\n",
      "+----------+-----+\n",
      "\n"
     ]
    },
    {
     "name": "stderr",
     "output_type": "stream",
     "text": [
      "                                                                                \r"
     ]
    }
   ],
   "source": [
    "emp.groupBy('JOB_ID').count().orderBy('JOB_ID').show()"
   ]
  },
  {
   "cell_type": "code",
   "execution_count": 128,
   "id": "f812ffe6-6ce0-4951-9ce6-079ad14cc76e",
   "metadata": {},
   "outputs": [
    {
     "name": "stderr",
     "output_type": "stream",
     "text": [
      "[Stage 108:===============================>                     (117 + 1) / 200]"
     ]
    },
    {
     "name": "stdout",
     "output_type": "stream",
     "text": [
      "+----------+-----+\n",
      "|    JOB_ID|count|\n",
      "+----------+-----+\n",
      "|    SA_REP|   30|\n",
      "|  SH_CLERK|   20|\n",
      "|  ST_CLERK|   20|\n",
      "|   IT_PROG|    5|\n",
      "|    ST_MAN|    5|\n",
      "|    SA_MAN|    5|\n",
      "|  PU_CLERK|    5|\n",
      "|FI_ACCOUNT|    5|\n",
      "|     AD_VP|    2|\n",
      "|    MK_MAN|    1|\n",
      "|    FI_MGR|    1|\n",
      "|    HR_REP|    1|\n",
      "|    AC_MGR|    1|\n",
      "|AC_ACCOUNT|    1|\n",
      "|    PU_MAN|    1|\n",
      "|   AD_PRES|    1|\n",
      "|    PR_REP|    1|\n",
      "|    MK_REP|    1|\n",
      "|   AD_ASST|    1|\n",
      "+----------+-----+\n",
      "\n"
     ]
    },
    {
     "name": "stderr",
     "output_type": "stream",
     "text": [
      "                                                                                \r"
     ]
    }
   ],
   "source": [
    "# 직책별 사원수 조회후 사원수 순으로 내림 정렬\n",
    "\n",
    "emp.groupBy('JOB_ID').count().orderBy('count', ascending=False).show()"
   ]
  },
  {
   "cell_type": "markdown",
   "id": "802a83ec-bb3d-4411-974e-a9ff9ff1b8d6",
   "metadata": {},
   "source": [
    "## 집계함수 사용하기\n",
    "+ agg(집계함수명)\n"
   ]
  },
  {
   "cell_type": "code",
   "execution_count": 135,
   "id": "aed4afe9-b026-4c08-9479-f3a27652543e",
   "metadata": {},
   "outputs": [],
   "source": [
    "import pyspark.sql.functions as F"
   ]
  },
  {
   "cell_type": "code",
   "execution_count": 143,
   "id": "7f504fb3-25bb-4e8e-a2f0-d62833f705ea",
   "metadata": {},
   "outputs": [
    {
     "name": "stderr",
     "output_type": "stream",
     "text": [
      "[Stage 152:===========================================>         (165 + 1) / 200]"
     ]
    },
    {
     "name": "stdout",
     "output_type": "stream",
     "text": [
      "+----------+-----------+\n",
      "|    JOB_ID|avg(SALARY)|\n",
      "+----------+-----------+\n",
      "|   AD_PRES|    24000.0|\n",
      "|     AD_VP|    17000.0|\n",
      "|    MK_MAN|    13000.0|\n",
      "|    SA_MAN|    12200.0|\n",
      "|    FI_MGR|    12008.0|\n",
      "|    AC_MGR|    12008.0|\n",
      "|    PU_MAN|    11000.0|\n",
      "|    PR_REP|    10000.0|\n",
      "|    SA_REP|     8350.0|\n",
      "|AC_ACCOUNT|     8300.0|\n",
      "|FI_ACCOUNT|     7920.0|\n",
      "|    ST_MAN|     7280.0|\n",
      "|    HR_REP|     6500.0|\n",
      "|    MK_REP|     6000.0|\n",
      "|   IT_PROG|     5760.0|\n",
      "|   AD_ASST|     4400.0|\n",
      "|  SH_CLERK|     3215.0|\n",
      "|  ST_CLERK|     2785.0|\n",
      "|  PU_CLERK|     2780.0|\n",
      "+----------+-----------+\n",
      "\n"
     ]
    },
    {
     "name": "stderr",
     "output_type": "stream",
     "text": [
      "                                                                                \r"
     ]
    }
   ],
   "source": [
    "# 직책별 평균 급여 조회, 내림차순 정렬\n",
    "# 단, 평균급여 컬럼의 이름에 함수명이 포함되어 출력\n",
    "\n",
    "rs = emp.groupBy('JOB_ID').agg(F.avg('SALARY'))\n",
    "rs.orderBy('avg(SALARY)', ascending=False).show()"
   ]
  },
  {
   "cell_type": "code",
   "execution_count": 146,
   "id": "5b4410c5-e4fd-4149-aeab-3bd4f2a6db34",
   "metadata": {},
   "outputs": [
    {
     "name": "stderr",
     "output_type": "stream",
     "text": [
      "[Stage 156:=========================================>           (158 + 1) / 200]"
     ]
    },
    {
     "name": "stdout",
     "output_type": "stream",
     "text": [
      "+----------+--------+\n",
      "|    JOB_ID|mean_sal|\n",
      "+----------+--------+\n",
      "|   AD_PRES| 24000.0|\n",
      "|     AD_VP| 17000.0|\n",
      "|    MK_MAN| 13000.0|\n",
      "|    SA_MAN| 12200.0|\n",
      "|    FI_MGR| 12008.0|\n",
      "|    AC_MGR| 12008.0|\n",
      "|    PU_MAN| 11000.0|\n",
      "|    PR_REP| 10000.0|\n",
      "|    SA_REP|  8350.0|\n",
      "|AC_ACCOUNT|  8300.0|\n",
      "|FI_ACCOUNT|  7920.0|\n",
      "|    ST_MAN|  7280.0|\n",
      "|    HR_REP|  6500.0|\n",
      "|    MK_REP|  6000.0|\n",
      "|   IT_PROG|  5760.0|\n",
      "|   AD_ASST|  4400.0|\n",
      "|  SH_CLERK|  3215.0|\n",
      "|  ST_CLERK|  2785.0|\n",
      "|  PU_CLERK|  2780.0|\n",
      "+----------+--------+\n",
      "\n"
     ]
    },
    {
     "name": "stderr",
     "output_type": "stream",
     "text": [
      "                                                                                \r"
     ]
    }
   ],
   "source": [
    "# 별칭 사용\n",
    "\n",
    "rs = emp.groupBy('JOB_ID').agg(F.avg('SALARY').alias('mean_sal'))\n",
    "rs.orderBy(('mean_sal'), ascending=False).show()"
   ]
  },
  {
   "cell_type": "code",
   "execution_count": 151,
   "id": "b0aa69c1-c8dc-4d7a-adcf-ad5cb5686040",
   "metadata": {},
   "outputs": [
    {
     "name": "stdout",
     "output_type": "stream",
     "text": [
      "+----------+\n",
      "|    JOB_ID|\n",
      "+----------+\n",
      "|FI_ACCOUNT|\n",
      "|    MK_MAN|\n",
      "|   IT_PROG|\n",
      "|    FI_MGR|\n",
      "|AC_ACCOUNT|\n",
      "|    HR_REP|\n",
      "|  PU_CLERK|\n",
      "|    AC_MGR|\n",
      "|    PR_REP|\n",
      "|    ST_MAN|\n",
      "|    MK_REP|\n",
      "|    SA_REP|\n",
      "|    SA_MAN|\n",
      "|    PU_MAN|\n",
      "|  SH_CLERK|\n",
      "|   AD_PRES|\n",
      "|  ST_CLERK|\n",
      "|   AD_ASST|\n",
      "|     AD_VP|\n",
      "+----------+\n",
      "\n"
     ]
    }
   ],
   "source": [
    "# 사원들의 직책을 모두 출력, 단 중복없이 하나씩만 표시\n",
    "emp.select('JOB_ID').distinct().show()"
   ]
  },
  {
   "cell_type": "code",
   "execution_count": 158,
   "id": "b5f5397a-3c16-4dd0-a934-c588b83d1dc8",
   "metadata": {},
   "outputs": [
    {
     "name": "stderr",
     "output_type": "stream",
     "text": [
      "[Stage 196:===========================================>         (163 + 1) / 200]"
     ]
    },
    {
     "name": "stdout",
     "output_type": "stream",
     "text": [
      "+------+\n",
      "|JOB_ID|\n",
      "+------+\n",
      "|    19|\n",
      "+------+\n",
      "\n"
     ]
    },
    {
     "name": "stderr",
     "output_type": "stream",
     "text": [
      "                                                                                \r"
     ]
    }
   ],
   "source": [
    "# 모든 직책수는\n",
    "# emp.select('JOB_ID').distinct().count()\n",
    "emp.select(F.countDistinct('JOB_ID').alias('JOB_ID')).show()"
   ]
  },
  {
   "cell_type": "code",
   "execution_count": 162,
   "id": "3a768a15-e5f4-4a3c-9961-1c1b4dd9c42a",
   "metadata": {},
   "outputs": [
    {
     "name": "stdout",
     "output_type": "stream",
     "text": [
      "+----------+-------+------+--------+\n",
      "|FIRST_NAME| JOB_ID|SALARY|105%_sal|\n",
      "+----------+-------+------+--------+\n",
      "|    Steven|AD_PRES| 24000| 25200.0|\n",
      "|     Neena|  AD_VP| 17000| 17850.0|\n",
      "|       Lex|  AD_VP| 17000| 17850.0|\n",
      "| Alexander|IT_PROG|  9000|  9450.0|\n",
      "|     Bruce|IT_PROG|  6000|  6300.0|\n",
      "+----------+-------+------+--------+\n",
      "only showing top 5 rows\n",
      "\n"
     ]
    }
   ],
   "source": [
    "# 사원의 이름, 직책, 급여 출력, 단 5% 인상한 급여도 같이 출력\n",
    "emp.select('FIRST_NAME','JOB_ID','SALARY',(emp.SALARY * 1.05).alias('105%_sal')).show(5)"
   ]
  },
  {
   "cell_type": "code",
   "execution_count": 169,
   "id": "18e2ba2c-a6dc-4546-bdff-5c5bcd6bdece",
   "metadata": {},
   "outputs": [
    {
     "name": "stdout",
     "output_type": "stream",
     "text": [
      "+---------+------+\n",
      "|LAST_NAME|SALARY|\n",
      "+---------+------+\n",
      "|  Mourgos|  5800|\n",
      "|      Fay|  6000|\n",
      "|  Vollman|  6500|\n",
      "| Kaufling|  7900|\n",
      "|    Weiss|  8000|\n",
      "+---------+------+\n",
      "only showing top 5 rows\n",
      "\n"
     ]
    }
   ],
   "source": [
    "# 20번 또는 50번 부서에 근무하여, 급여가 5000 ~ 12,000사이인 사원들의 LAST_NAME 및 급여를 조회\n",
    "emp.filter((emp.DEPARTMENT_ID == 20) | (emp.DEPARTMENT_ID == 50)) \\\n",
    "   .filter((emp.SALARY >= 5000) & (emp.SALARY <= 12000)) \\\n",
    "   .select('LAST_NAME','SALARY') \\\n",
    "   .orderBy('SALARY').show(5)"
   ]
  },
  {
   "cell_type": "code",
   "execution_count": null,
   "id": "ea2b43b4-bad9-44dc-b9f6-66d468dc1f5d",
   "metadata": {},
   "outputs": [],
   "source": []
  },
  {
   "cell_type": "code",
   "execution_count": null,
   "id": "86862ab6-8b4f-4a09-832f-1b467e7b5d40",
   "metadata": {},
   "outputs": [],
   "source": []
  },
  {
   "cell_type": "code",
   "execution_count": null,
   "id": "a30cf3a6-cf1b-4453-9dea-932166c8b22f",
   "metadata": {},
   "outputs": [],
   "source": []
  },
  {
   "cell_type": "code",
   "execution_count": null,
   "id": "8a708ba8-b49e-42b0-bf37-09fe3788ad6b",
   "metadata": {},
   "outputs": [],
   "source": []
  },
  {
   "cell_type": "code",
   "execution_count": null,
   "id": "1bf16bbb-afe6-436c-833a-b33f21a810c7",
   "metadata": {},
   "outputs": [],
   "source": []
  }
 ],
 "metadata": {
  "kernelspec": {
   "display_name": "Python 3 (ipykernel)",
   "language": "python",
   "name": "python3"
  },
  "language_info": {
   "codemirror_mode": {
    "name": "ipython",
    "version": 3
   },
   "file_extension": ".py",
   "mimetype": "text/x-python",
   "name": "python",
   "nbconvert_exporter": "python",
   "pygments_lexer": "ipython3",
   "version": "3.7.10"
  }
 },
 "nbformat": 4,
 "nbformat_minor": 5
}
