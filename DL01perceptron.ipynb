{
 "cells": [
  {
   "cell_type": "markdown",
   "id": "5462ad55-c494-4f3b-bd98-784d4cc7a3c5",
   "metadata": {},
   "source": [
    "### 퍼셉트론(perceptron)\n",
    "* 신경망(딥러닝)의 기원이 되는 알고리즘\n",
    "* 1943년 메컬러, 핏츠가 생물의 신경세포를 모방한 형식적인 신경모형에 대한 논문에서 최초 제안\n",
    "* <img src='img/logical_calculus.png' width=\"350px\">\n",
    "* 1957년 프랑크 로젠블라트가 고안한 알고리즘 발표 \n",
    "    + 전자부품을 이용해서 물리적 회로망 구성\n",
    "    + 입력값과 가중치의 곱을 모두 더한 후 활성화 함수를 적용해서 \n",
    "    + 그 값이 0보다 크면 1 작으면 -1을 출력하는 분류기를 만듦\n",
    "* 1969년 민스키가 퍼셉트론의 한계를 수학적으로 증명\n",
    "    + 즉, 단순한 선형분류기이므로 간단한 XOR 분류는 수행할 수 없음\n",
    "    + 이로서 인공신경망 연구는 소멸, 투자 감소 - AI 빙하기 도래\n",
    "* <img src='img/xor_limitation.gif'>\n",
    "* 1986년 럼멜하트, 힌튼이 은닉층을 이용한 다층 퍼셉트론MLP와 역전파backpropagation 알고리즘을 이용해서 XOR문제를 해결함\n",
    "* <img src='img/xor_solve.gif'>\n",
    "* 1989년 러쿤은 합성곱Convolutional Neural Networks 알고리즘을 적용해서 필기숫자 인식문제를 해결하는 논문 발표\n",
    "\n",
    "* 한편, 이러한 알고리즘은 학습시간이 많이 걸리고 \n",
    "    + 사람만이 가능한 일을 기계가 하도록 프로그래밍 하는 것이어려움. \n",
    "    + 또한, 성능이 좋은 하드웨어를 필요로 함\n",
    "    + MLP보다 성능이 좋은 Random Forest와\n",
    "    + 커널기반의 SVM이 주목받음 - 2번째 AI 빙하기 도래\n",
    "* 2006년 힌튼이 신경망 학습시 가중치의 초기값을 적절히 조절하면 학습효과가 좋아진다고 논문에서 발표\n",
    "    + 사전훈련의 중요성 설파\n",
    "* 2007년 벤지오 팀이 자기부호화autoencoder를 통한 사전학습 방법을 제안\n",
    "\n",
    "* 2012년 힌튼 교수의 제자 알렉스가 딥러닝 기반 알고리즘으로 IMAGENET 이미지 분류대회에서 84.7% 정확도 달성\n",
    "    + 성능이 좋은 GPU의 도움을 받아 딥러닝의 성능이 한층 개선됨\n",
    "\n",
    "* 성능이 좋은 하드웨어의 출현과 인터넷의 도움으로 막대한 크기의 데이터 수집 가능 => 분석에 활용할 기회가 제공 => 딥러닝의 성능이 한층 개선"
   ]
  },
  {
   "cell_type": "markdown",
   "id": "12e60b47-a7f2-4ca6-bea9-8060d4af416f",
   "metadata": {},
   "source": [
    "### 퍼셉트론의 동작원리\n",
    "* 가중치(weight) : 전기전자의 개념을 비유하자면 전류의 흐름을 억제하는 매개변수(저항)와 유사\n",
    "    + 오차를 발생하게 하는 요인 (=기울기)\n",
    "* 편향(bais) : 오차를 발생하게 하는 외부요인 (=절편)\n",
    "* 입력값과 가중치의 곱을 모두 더한 후 활성화 함수를 적용해서 그 값이 0보다 크면 1, 0보다 작으면 1을 출력하는 분류기를 만듦\n",
    "* $ y=0 : x_1w_1 + x_2w_2 + b < 0 $\n",
    "* $ y=1 : x_1w_1 + x_2w_2 + b > 0 $"
   ]
  },
  {
   "cell_type": "markdown",
   "id": "e0f13d26-379e-4f64-90c6-5fdabc971c6b",
   "metadata": {},
   "source": [
    "### 퍼셉트론 구현하기\n",
    "* <img src='img/perceptron_image.png'>\n",
    "* 입력값 x1, x2와 가중치 w1, w2들의 곱을 모두 더한 후 활성화 함수 sigmoid를 적용, 그 값이 0보다 크면 1, 0보다 작으면 0을 출력하는 분류기\n",
    "* 임계치 theta를 넘어서면 1로 출력하기도 함"
   ]
  },
  {
   "cell_type": "code",
   "execution_count": 1,
   "id": "d6c63118-23ae-4b87-9eec-3e3465feb2b8",
   "metadata": {},
   "outputs": [],
   "source": [
    "import numpy as np"
   ]
  },
  {
   "cell_type": "code",
   "execution_count": 2,
   "id": "23dde31b-a02f-4ba5-8f2e-e5c121809041",
   "metadata": {},
   "outputs": [],
   "source": [
    "def AND(x1, x2):\n",
    "    x = np.array([x1, x2])\n",
    "    w = np.array([0.5, 0.5])  # 가중치\n",
    "    b = -0.7                  # 편향\n",
    "    val = 0                   # 출력값\n",
    "    # sum = x1*w1 + x2*w2 + b\n",
    "    sum = np.sum(x * w) + b   # 행렬을 사용하면 식이 간단\n",
    "\n",
    "    if sum > 0: val = 1       # 0보다 크면 1로 출력\n",
    "\n",
    "    return val"
   ]
  },
  {
   "cell_type": "code",
   "execution_count": 3,
   "id": "e2d8676f-5e9f-401d-a73e-a1355424e164",
   "metadata": {},
   "outputs": [],
   "source": [
    "def OR(x1, x2):\n",
    "    x = np.array([x1, x2])\n",
    "    w = np.array([0.5, 0.5])  # 가중치\n",
    "    b = -0.2                  # 편향\n",
    "    val = 0                   # 출력값\n",
    "    sum = np.sum(x * w) + b   # 행렬을 사용하면 식이 간단\n",
    "\n",
    "    if sum > 0: val = 1       # 0보다 크면 1로 출력\n",
    "\n",
    "    return val"
   ]
  },
  {
   "cell_type": "code",
   "execution_count": 6,
   "id": "9bd3b95b-3cd8-4144-854e-a885b8b28e7b",
   "metadata": {},
   "outputs": [],
   "source": [
    "def NAND(x1, x2):\n",
    "    x = np.array([x1, x2])\n",
    "    w = np.array([-0.5, -0.5])  # NAND는 가중치를 음수로\n",
    "    b = 0.7                     # 편향은 양수로\n",
    "    val = 0\n",
    "    sum = np.sum(x * w) + b\n",
    "\n",
    "    if sum > 0: val = 1\n",
    "\n",
    "    return val"
   ]
  },
  {
   "cell_type": "code",
   "execution_count": 4,
   "id": "fae3c0f3-e9b8-4b68-b083-233524a800bd",
   "metadata": {},
   "outputs": [
    {
     "name": "stdout",
     "output_type": "stream",
     "text": [
      "0 AND 0 =  0\n",
      "0 AND 1 =  0\n",
      "1 AND 0 =  0\n",
      "1 AND 1 =  1\n"
     ]
    }
   ],
   "source": [
    "print('0 AND 0 = ', AND(0,0))\n",
    "print('0 AND 1 = ', AND(0,1))\n",
    "print('1 AND 0 = ', AND(1,0))\n",
    "print('1 AND 1 = ', AND(1,1))"
   ]
  },
  {
   "cell_type": "code",
   "execution_count": 5,
   "id": "63c7eefc-a0c0-44a9-b602-351f91e4c905",
   "metadata": {},
   "outputs": [
    {
     "name": "stdout",
     "output_type": "stream",
     "text": [
      "0 OR 0 =  0\n",
      "0 OR 1 =  1\n",
      "1 OR 0 =  1\n",
      "1 OR 1 =  1\n"
     ]
    }
   ],
   "source": [
    "print('0 OR 0 = ', OR(0,0))\n",
    "print('0 OR 1 = ', OR(0,1))\n",
    "print('1 OR 0 = ', OR(1,0))\n",
    "print('1 OR 1 = ', OR(1,1))"
   ]
  },
  {
   "cell_type": "code",
   "execution_count": 7,
   "id": "8708c6b2-5f28-4fb8-b76d-2d956a139150",
   "metadata": {},
   "outputs": [
    {
     "name": "stdout",
     "output_type": "stream",
     "text": [
      "0 NAND 0 =  1\n",
      "0 NAND 1 =  1\n",
      "1 NAND 0 =  1\n",
      "1 NAND 1 =  0\n"
     ]
    }
   ],
   "source": [
    "print('0 NAND 0 = ', NAND(0,0))\n",
    "print('0 NAND 1 = ', NAND(0,1))\n",
    "print('1 NAND 0 = ', NAND(1,0))\n",
    "print('1 NAND 1 = ', NAND(1,1))"
   ]
  },
  {
   "cell_type": "markdown",
   "id": "c8f88d73-3ce2-4bb8-bef6-0cfc58db71a5",
   "metadata": {},
   "source": [
    "### 베타적 논리합XOR : \n",
    "* <img src='img/neural3.jpg' width=\"750\">\n",
    "* 하나 이상의 퍼셉트론을 이용 MLP\n",
    "* 즉, AND, OR, NAND 퍼셉트론을 조합해서 구현"
   ]
  },
  {
   "cell_type": "code",
   "execution_count": 9,
   "id": "462061a8-c465-4594-b29f-1995bce821e5",
   "metadata": {},
   "outputs": [],
   "source": [
    "def XOR(x1, x2):\n",
    "    p1 = NAND(x1, x2)\n",
    "    p2 = OR(x1, x2)\n",
    "    val = AND(p1, p2)\n",
    "\n",
    "    return val"
   ]
  },
  {
   "cell_type": "code",
   "execution_count": 10,
   "id": "d46d4199-7a10-4807-a3ca-864b54a3edaa",
   "metadata": {},
   "outputs": [
    {
     "name": "stdout",
     "output_type": "stream",
     "text": [
      "0 XOR 0 =  0\n",
      "0 XOR 1 =  1\n",
      "1 XOR 0 =  1\n",
      "1 XOR 1 =  0\n"
     ]
    }
   ],
   "source": [
    "print('0 XOR 0 = ', XOR(0,0))\n",
    "print('0 XOR 1 = ', XOR(0,1))\n",
    "print('1 XOR 0 = ', XOR(1,0))\n",
    "print('1 XOR 1 = ', XOR(1,1))"
   ]
  },
  {
   "cell_type": "markdown",
   "id": "6f03f02d-cfab-4bbf-8f34-34060274f6cd",
   "metadata": {},
   "source": [
    "## 활성화 함수activation function\n",
    "* 신경망 개별 뉴런에 들어오는 입력신호의 총합을 출력신호로 변환하는 함수\n",
    "* 퍼셉트론에는 없었지만 신경망에서 도입하기 시작\n",
    "* 대개 선형함수가 아닌 비선형함수를 활성화 함수로 사용\n",
    "* 종류는 sigmoid, relu, tanh, softmax"
   ]
  },
  {
   "cell_type": "markdown",
   "id": "a231be99-4bb0-42d8-a3dd-de382a9364bf",
   "metadata": {},
   "source": [
    "### perceptron 계산하기 1\n",
    "* <img src='img/testme.png' width=\"30%\">\n",
    "* 입력값 : x1, x2 = 1.0, 0.5\n",
    "* 가중치 : w1, w2, w3, w4 = 0.9, 0.2, 0.3, 0.8\n",
    "    + 첫번째 노드 출력값 : (1.0  0.9) + (0.5  0.3) => 0.9 + 0.15 => 1.05\n",
    "* 첫번째 노드 출력값(가중치x) : 1.0 + 0.5 => 1.5\n",
    "* 좀 더 나은 신경망 학습을 위해 활성화 함수를 사용해서 노드 출력값을 조정함\n",
    "    + 시그모이드 함수 : y = 1 / (1 + e ** -x)\n",
    "    + 첫번째 노드 출력값(가중치 + 활성화함수) :\n",
    "        + 1 / (1+2.71828 ** -1.05) = 1/ (1+0.3499) -> 0.7408"
   ]
  },
  {
   "cell_type": "markdown",
   "id": "a3e82ac9-c387-45ce-b0e6-f8da024404ff",
   "metadata": {},
   "source": [
    "### perceptron 계산하기 2\n",
    "* 지금까지 수작업으로 다층 퍼셉트론에 전달되는 값에 대한 결과값을 계산하였음\n",
    "* 한편, 복잡하게 구성되는 다층 퍼셉트론에서는 이러한 수작업은 불가능에 가까움\n",
    "* 수 많은 계층과 노드들을 가지는 복잡한 신경망의 계산은\n",
    "     + 매우 간결하게 출력값을 구할 수 있는 수학적 방법이 필요 => 간결한 접근 방법을 제공하는 것 : 행렬(벡터) 연산"
   ]
  },
  {
   "cell_type": "code",
   "execution_count": 14,
   "id": "ac66a97f-f44b-4093-923c-07d2c21684ff",
   "metadata": {},
   "outputs": [],
   "source": [
    "# numpy 행렬값 출력 형식 지정 : 소수 3자리\n",
    "# np.set_printoptions(precision=3)\n",
    "np.set_printoptions(formatter={'float':'{:.3f}'.format})"
   ]
  },
  {
   "cell_type": "code",
   "execution_count": 15,
   "id": "aef280f4-0e4c-47bf-8164-d6e6f88ca090",
   "metadata": {},
   "outputs": [],
   "source": [
    "# 시그모이드 함수 정의\n",
    "def sigmoid(x):\n",
    "    try:\n",
    "        # 입력값이 행렬이라면\n",
    "        for i in range(0, len(x)):\n",
    "            x[i] = 1 / (1 + np.e ** -x[i])\n",
    "    except:\n",
    "        # 입력값이 단일값이라면\n",
    "        x = 1 / (1 + np.e ** -x)\n",
    "\n",
    "    return x"
   ]
  },
  {
   "cell_type": "code",
   "execution_count": 19,
   "id": "d7755baa-1033-41f3-9825-235cbdd43f6b",
   "metadata": {},
   "outputs": [
    {
     "data": {
      "text/plain": [
       "array([0.741, 0.646])"
      ]
     },
     "execution_count": 19,
     "metadata": {},
     "output_type": "execute_result"
    }
   ],
   "source": [
    "X = np.array([1.0, 0.5])\n",
    "W = np.array([[0.9, 0.2], [0.3, 0.8]])\n",
    "\n",
    "Y = np.dot(X,W)\n",
    "\n",
    "sigmoid(Y)"
   ]
  },
  {
   "cell_type": "markdown",
   "id": "a37743b1-7211-4070-9a77-e1d4f4713a8e",
   "metadata": {},
   "source": [
    "### 퍼셉트론 계산하기 2\n",
    "* 입력층, 은닉층, 출력층으로 구성된 신경망에서\n",
    "  입력값과 가중치와 활성화 함수 계산과정을\n",
    "  행렬로 표현해서 알아봄\n",
    "* <img src='img/testme2.png' width=\"60%\">"
   ]
  },
  {
   "cell_type": "code",
   "execution_count": 20,
   "id": "eba6694e-2c58-4441-8912-69eddb30a1d8",
   "metadata": {},
   "outputs": [],
   "source": [
    "X = np.array([0.9, 0.1, 0.8])"
   ]
  },
  {
   "cell_type": "code",
   "execution_count": 21,
   "id": "5be32933-9fe4-4e0f-8fb5-5907751803fa",
   "metadata": {},
   "outputs": [],
   "source": [
    "W1 = np.array([[0.9, 0.3, 0.4],\n",
    "               [0.2, 0.8, 0.2],\n",
    "               [0.1, 0.5, 0.6]])\n",
    "W2 = np.array([[0.3, 0.7, 0.5],\n",
    "               [0.6, 0.5, 0.2],\n",
    "               [0.8, 0.1, 0.9]])"
   ]
  },
  {
   "cell_type": "code",
   "execution_count": 23,
   "id": "a68caa7b-b709-4e09-8a7d-6b5d8ffdb7be",
   "metadata": {},
   "outputs": [],
   "source": [
    "# 입력층에서 은닉층으로 순전파\n",
    "Y1 = np.dot(X, W1)"
   ]
  },
  {
   "cell_type": "code",
   "execution_count": 24,
   "id": "3cffa85e-bc98-41ca-a524-1602d1dbf46b",
   "metadata": {},
   "outputs": [],
   "source": [
    "# 은닉층에서 출력층으로 순전파\n",
    "Y2 = np.dot(Y1, W2)"
   ]
  },
  {
   "cell_type": "code",
   "execution_count": 25,
   "id": "af3c5b24-6c12-4020-8cfe-970d0e2271e5",
   "metadata": {},
   "outputs": [
    {
     "data": {
      "text/plain": [
       "array([0.804, 0.750, 0.799])"
      ]
     },
     "execution_count": 25,
     "metadata": {},
     "output_type": "execute_result"
    }
   ],
   "source": [
    "# 활성화 함수를 이용해서 최종 결과값 계산\n",
    "sigmoid(Y2)"
   ]
  },
  {
   "cell_type": "markdown",
   "id": "09e5741b-27c4-4090-81ac-7375929a2820",
   "metadata": {},
   "source": [
    "### 활성화 함수의 중요성\n",
    "* 입력값과 가중치의 곱의 합으로 나온 결과를 한번 더 정재하기 위한 목적의 함수\n",
    "* 여러 노드가 보내주는 값을 적절하게 필터링해서 출력층으로 값을 보내줘야만 올바른 분석을 할 수 있는 결과 도출\n",
    "\n",
    "### 활성화 함수의 종류\n",
    "* 시그모이드 : 초기 신경망에서 사용했던 활성화 함수\n",
    "    + MLP 신경망에서 발생된 문제 때문에 더이상 사용하지 않는 활성화 함수\n",
    "    + 가중치 소멸문제 : vanishing gradient\n",
    "* tanh : 하이퍼블릭 탄첸트\n",
    "    + 시그모이드 함수의 y값의 범위를 -1~1로 확장\n",
    "    + 여전히 은닉층 수가 증가하면 가중치 소멸문제 발생\n",
    "    "
   ]
  },
  {
   "cell_type": "code",
   "execution_count": null,
   "id": "2c05e66f-fc0a-4c44-a77d-413456ad9c6c",
   "metadata": {},
   "outputs": [],
   "source": [
    "# 활성화 함수의 중요성\n",
    "# 입력값과 가중치의 곱의 합으로 나온 결과를\n",
    "# 한번 더 정재하기 위한 목적의 함수\n",
    "# 여러 노드가 보내주는 값을 적절하게 필터링해서\n",
    "# 출력층으로 값을 보내줘야만 올바른 분석을\n",
    "# 할 수 있는 결과 도출\n",
    "\n",
    "# 활성화 함수의 종류\n",
    "# 시그모이드 : 초기 신경망에서 사용했던 활성화 함수\n",
    "#              MLP 신경망에서 발생된 문제 때문에\n",
    "#              더이상 사용하지 않는 활성화 함수\n",
    "# 가중치 소멸문제 : vanishing gradient\n",
    "\n",
    "# tanh : 하이퍼블릭 탄첸트\n",
    "#       시그모이드 함수의 y값의 범위를 -1~1로 확장\n",
    "#       여전히 은닉층 수가 증가하면 가중치 소멸문제 발생\n",
    "\n",
    "# ReLu : 힌튼 교수가 제안 - 시그모이드 함수의 대안\n",
    "#        x가 0보다 작으면 모든 값을 0으로,\n",
    "#        x가 0보다 크면 x값 그대로 사용\n",
    "\n",
    "# ReLu-6 : x가 0보다 크면 그대로 사용하되\n",
    "#        6을 넘지 않도록 조정\n",
    "\n",
    "# softmax : 입력값에 대해 0 ~ 1사이의 값으로 출력하되\n",
    "#           출력값의 총합이 항상 1이 되도록 함\n",
    "#           주로 범주형 데이터분석시 사용하는 활성화 함수a"
   ]
  },
  {
   "cell_type": "code",
   "execution_count": 29,
   "id": "51fe1fe8-8450-435f-9d4f-151d48a10201",
   "metadata": {},
   "outputs": [
    {
     "data": {
      "image/png": "[encoded data removed]",
      "text/plain": [
       "<Figure size 432x288 with 1 Axes>"
      ]
     },
     "metadata": {
      "needs_background": "light"
     },
     "output_type": "display_data"
    }
   ],
   "source": [
    "import numpy as np\n",
    "import matplotlib.pyplot as plt\n",
    "\n",
    "def sigmoid(x):\n",
    "    y = []\n",
    "    for i in x:\n",
    "        y.append(1 / (1+np.e ** -i))\n",
    "    return y\n",
    "\n",
    "x = np.arange(-10, 10, 0.2)\n",
    "sig = sigmoid(x)\n",
    "\n",
    "plt.plot(x, sig)\n",
    "plt.show()"
   ]
  },
  {
   "cell_type": "code",
   "execution_count": 28,
   "id": "ab1460b6-3692-4dca-8dc9-37fb54b57911",
   "metadata": {},
   "outputs": [
    {
     "data": {
      "image/png": "[encoded data removed]",
      "text/plain": [
       "<Figure size 432x288 with 1 Axes>"
      ]
     },
     "metadata": {
      "needs_background": "light"
     },
     "output_type": "display_data"
    }
   ],
   "source": [
    "def tanh(x):\n",
    "    y = []\n",
    "    for i in x:\n",
    "        # y.append(np.sinh(i) / np.cosh(i))\n",
    "        y.append(np.tanh(i))\n",
    "    return y\n",
    "\n",
    "x = np.arange(-10, 10, 0.2)\n",
    "tanh = tanh(x)\n",
    "\n",
    "plt.plot(x, tanh)\n",
    "plt.show()"
   ]
  },
  {
   "cell_type": "code",
   "execution_count": 31,
   "id": "a25fb372-3d0d-42d8-a902-b9149526364e",
   "metadata": {},
   "outputs": [
    {
     "data": {
      "image/png": "[encoded data removed]",
      "text/plain": [
       "<Figure size 432x288 with 1 Axes>"
      ]
     },
     "metadata": {
      "needs_background": "light"
     },
     "output_type": "display_data"
    }
   ],
   "source": [
    "# ReLu\n",
    "def relu(x):\n",
    "    zeros = np.zeros(len(x))   # 입력수만큼 0행렬 생성\n",
    "    y = np.max([zeros, x], axis=0)  # 행기준 최댓값 비교\n",
    "    return y\n",
    "\n",
    "x = np.arange(-10, 10, 0.2)\n",
    "relu = relu(x)\n",
    "\n",
    "plt.plot(x, relu)\n",
    "plt.show()"
   ]
  },
  {
   "cell_type": "code",
   "execution_count": 32,
   "id": "f6f29f01-0ec4-44b4-be8d-5295236a5c3f",
   "metadata": {},
   "outputs": [
    {
     "name": "stdout",
     "output_type": "stream",
     "text": [
      "[0.659 0.242 0.099] 1.0\n"
     ]
    },
    {
     "data": {
      "image/png": "[encoded data removed]",
      "text/plain": [
       "<Figure size 432x288 with 1 Axes>"
      ]
     },
     "metadata": {
      "needs_background": "light"
     },
     "output_type": "display_data"
    }
   ],
   "source": [
    "# softmax\n",
    "def softmax(x):\n",
    "    y = np.exp(x) / np.sum(np.exp(x), axis=0)\n",
    "    return y\n",
    "\n",
    "# x = np.arange(-10, 10, 0.2)\n",
    "x = np.array([2.0, 1.0, 0.1])\n",
    "softmax = softmax(x)\n",
    "print(softmax, np.sum(softmax))  # 총합이 1인지 확인\n",
    "\n",
    "plt.plot(x, softmax)\n",
    "plt.show()"
   ]
  },
  {
   "cell_type": "markdown",
   "id": "4bd6f1c0-a683-49ec-8324-27de78e45563",
   "metadata": {},
   "source": [
    "### 손실함수loss function\n",
    "* 비용cost함수라고도 함\n",
    "* 신경망이 잘 학습하고 있는지를 나타내주는 지표\n",
    "* 손실loss,비용cost은 출력값과 실제값 사이의 오차를 의미\n",
    "* 신경망에서는 이것들이 최소화되도록 하는 과정이 학습임\n",
    "* 따라서, 손실이 최소화된다는 것은 학습이 잘되고 있음을 의미\n",
    "* 딥러닝에서 손실함수는 평균제곱오차MSE(회귀)와 교차엔트로피오차CEE(분류)를 사용함"
   ]
  },
  {
   "cell_type": "markdown",
   "id": "63b39c6d-139a-4a13-b5cc-7ed6b2d7236a",
   "metadata": {},
   "source": [
    "### 학습 최적화 방법\n",
    "* 텐서플로에서는 optimizer로 설정\n",
    "* 경사하강법SGD - 확률적 경사하강법 : 무작위 값을 대입\n",
    "* 모멘텀        - SGD + 무작위값에 탄성을 부여 (정확도 개선)\n",
    "* 아다그라드adagrad - 학습률에 탄성을 부여 (보폭크기 개선) 무작위값 대입 횟수를 조절\n",
    "* RMSprop - adagrad의 보폭 민감도를 개선 (보폭크기 개선)\n",
    "* Adam - 무작위값에 탄성부여, 학습률에도 탄성 부여 즉, 정확도 개선 + 보폭크기 개선"
   ]
  },
  {
   "cell_type": "code",
   "execution_count": null,
   "id": "39f2eba3-347e-4774-ad22-12d0c62fb36c",
   "metadata": {},
   "outputs": [],
   "source": []
  }
 ],
 "metadata": {
  "kernelspec": {
   "display_name": "Python 3 (ipykernel)",
   "language": "python",
   "name": "python3"
  },
  "language_info": {
   "codemirror_mode": {
    "name": "ipython",
    "version": 3
   },
   "file_extension": ".py",
   "mimetype": "text/x-python",
   "name": "python",
   "nbconvert_exporter": "python",
   "pygments_lexer": "ipython3",
   "version": "3.7.10"
  }
 },
 "nbformat": 4,
 "nbformat_minor": 5
}
