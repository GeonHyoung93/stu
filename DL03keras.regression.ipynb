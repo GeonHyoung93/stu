{
 "cells": [
  {
   "cell_type": "markdown",
   "id": "3d30d527-0507-4d6a-a408-d0c0954d2ea4",
   "metadata": {},
   "source": [
    "## 딥러닝을 이용한 회귀분석"
   ]
  },
  {
   "cell_type": "code",
   "execution_count": 1,
   "id": "a9541565-8188-4b3b-8850-f38da439375d",
   "metadata": {},
   "outputs": [],
   "source": [
    "import numpy as np\n",
    "import matplotlib.pyplot as plt"
   ]
  },
  {
   "cell_type": "code",
   "execution_count": 2,
   "id": "84801bbd-6725-4bd0-8d1b-df4f5ee59fcc",
   "metadata": {},
   "outputs": [],
   "source": [
    "# 공부시간과 성적에 대한 상관/회귀 분석\n",
    "x = [2,4,6,8]\n",
    "y = [81,93,91,97]"
   ]
  },
  {
   "cell_type": "code",
   "execution_count": 4,
   "id": "2e935f3f-ff8d-4503-ae6a-2045f25af529",
   "metadata": {},
   "outputs": [
    {
     "data": {
      "text/plain": [
       "(1.0, 9.0, 75.0, 100.0)"
      ]
     },
     "execution_count": 4,
     "metadata": {},
     "output_type": "execute_result"
    },
    {
     "data": {
      "image/png": "[encoded data removed]",
      "text/plain": [
       "<Figure size 432x288 with 1 Axes>"
      ]
     },
     "metadata": {
      "needs_background": "light"
     },
     "output_type": "display_data"
    }
   ],
   "source": [
    "plt.scatter(x,y)\n",
    "plt.axis([1,9,75,100])"
   ]
  },
  {
   "cell_type": "code",
   "execution_count": 5,
   "id": "0cd61ff3-4996-4e88-a0c3-22821879e1f8",
   "metadata": {},
   "outputs": [],
   "source": [
    "# 텐서플로와 경사하강법을 이용한 선형회귀 예제\n",
    "# x, y 데이터 설정\n",
    "data = [[2,81],[4,93],[6,91],[8,97]]    # 2차원 텐서 정의\n",
    "x_data = [x[0] for x in data]\n",
    "y_data = [x[1] for x in data]"
   ]
  },
  {
   "cell_type": "code",
   "execution_count": null,
   "id": "d07db9d2-cb7e-4c46-accb-064195128c47",
   "metadata": {},
   "outputs": [],
   "source": [
    "# 기울기 a와 절편 b는 임의의 범위로 설정\n",
    "# 기울기는 0~10, 절편은 0~100으로 설정\n",
    "import tensorflow as tf\n",
    "a = tf.Variable(tf.random_uniform([1], 0, 10,\n",
    "                dtype=tf.float64, seed=1))\n",
    "b = tf.Variable(tf.random_uniform([1], 0, 100,\n",
    "                dtype=tf.float64, seed=1))"
   ]
  },
  {
   "cell_type": "code",
   "execution_count": null,
   "id": "7cbdfeaa-702c-41a8-80c1-ca481d878d38",
   "metadata": {},
   "outputs": [],
   "source": [
    "# 선형회귀식 정의\n",
    "y = a * x_data + b"
   ]
  },
  {
   "cell_type": "code",
   "execution_count": null,
   "id": "74c722d0-16fa-4d92-9526-b3a112e52464",
   "metadata": {},
   "outputs": [],
   "source": [
    "# 텐서플로에서 제공하는 평균제곱근 함수 사용\n",
    "rmse = tf.sqrt(tf.reduce_mean(tf.square(y - y_data)))"
   ]
  },
  {
   "cell_type": "code",
   "execution_count": null,
   "id": "b5cf07fe-73e0-4cf8-9cf7-9041502f7a46",
   "metadata": {},
   "outputs": [],
   "source": [
    "# 학습률 정의\n",
    "learn_rate = 0.5"
   ]
  },
  {
   "cell_type": "code",
   "execution_count": null,
   "id": "e27b5750-38ca-4d5e-9d16-83d492537a34",
   "metadata": {},
   "outputs": [],
   "source": [
    "# RMSE를 최소로 하는 값 찾기\n",
    "gradient_decent = tf.train.GradientDescentOptimizer\\\n",
    "              (learn_rate).minimize(rmse)"
   ]
  },
  {
   "cell_type": "code",
   "execution_count": null,
   "id": "43b7961f-b426-487a-86a9-b62ca6e1f50d",
   "metadata": {},
   "outputs": [],
   "source": [
    "# 텐서플로로 학습 시도\n",
    "with tf.Session() as sess:\n",
    "    # 텐서플로 변수 초기화\n",
    "    sess.run(tf.global_variables_initializer())\n",
    "    # 학습횟수만큼 훈련 - 적절한 기울기 찾음\n",
    "    # 총 학습횟수는 2000, 10회때마다 진행상황 출력\n",
    "    for step in range(2001):\n",
    "        sess.run(gradient_decent)\n",
    "        if step % 100 == 0:\n",
    "            print('훈련횟수 epoch %.f, RMSE %.3f,'\\\n",
    "            '기울기 %.3f, 절편 %.3f  %\n",
    "                  ( step, sess.run(rmse),\n",
    "                    sess.run(a), sess.run(b)))"
   ]
  },
  {
   "cell_type": "markdown",
   "id": "5dcf4327-b227-4732-8a8f-fb273783735d",
   "metadata": {},
   "source": [
    "#### 경사하강법 적용시 고려사항\n",
    "* 학습률 : 기울기의 부호를 바뀌 이동시킬때 적절한 거리를 찾지 못해 너무 멀리 이동시키면 중심점을 지나칠수도 있음\n",
    "    + 따라서, 어느 만큼 이동시킬지 신중히 결정해야 함\n",
    "    + 케라스는 자동으로 이동거리를 조절해 줌"
   ]
  },
  {
   "cell_type": "code",
   "execution_count": null,
   "id": "feb70870-d921-4607-ad9e-47435b894a86",
   "metadata": {},
   "outputs": [],
   "source": [
    "from tensorflow.keras.models import Sequential\n",
    "from tensorflow.keras.layers import Dense"
   ]
  },
  {
   "cell_type": "code",
   "execution_count": null,
   "id": "e8e2ea1e-25f2-4ab6-bd22-1ded42fa361a",
   "metadata": {},
   "outputs": [],
   "source": [
    "xtrain = [2,4,6,8]\n",
    "ytrain = [81,93,91,97]\n",
    "\n",
    "model = Sequential()\n",
    "model.add(Dense(1, input_dim=1))"
   ]
  },
  {
   "cell_type": "code",
   "execution_count": null,
   "id": "f72dcfff-fae1-4bbc-9a64-8da1debaff8f",
   "metadata": {},
   "outputs": [],
   "source": [
    "# 비용계산 함수 : rmse\n",
    "model.compile(loss='mse', optimizer='sgd',\n",
    "              metrics=['accuracy'])"
   ]
  },
  {
   "cell_type": "code",
   "execution_count": null,
   "id": "d88a3155-026d-442b-bc5e-15056bc128a4",
   "metadata": {},
   "outputs": [],
   "source": [
    "# 2500회의 학습 시행, 진행상황 표시\n",
    "model.fit(xtrain, ytrain, epochs=2500, verbose=1)"
   ]
  },
  {
   "cell_type": "code",
   "execution_count": null,
   "id": "89a44a95-8e2c-455c-8cb9-bfa1239c60e5",
   "metadata": {},
   "outputs": [],
   "source": [
    "# 결과 출력\n",
    "print('기울기 %.3f' % model.get_weights()[0])\n",
    "print('절편 %.3f' % model.get_weights()[1])"
   ]
  },
  {
   "cell_type": "code",
   "execution_count": null,
   "id": "f621f8d7-8883-4ffa-b5d2-9583fe738ab3",
   "metadata": {},
   "outputs": [],
   "source": [
    "# 예측하기\n",
    "ypredict = model.predict(np.array([55]))\n",
    "print('55시간 공부하면 성적은', ypredict)\n",
    "\n",
    "ypredict = model.predict(np.array([10]))\n",
    "print('10시간 공부하면 성적은', ypredict)"
   ]
  },
  {
   "cell_type": "code",
   "execution_count": null,
   "id": "deda432a-4f93-41db-a070-cfbeec0701f2",
   "metadata": {},
   "outputs": [],
   "source": [
    "# 손실함수loss function\n",
    "# 비용cost함수라고도 함\n",
    "# 신경망이 잘 학습하고 있는지를 나타내주는 지표\n",
    "# 손실loss,비용cost은 출력값과 실제값 사이의 오차를 의미\n",
    "# 신경망에서는 이것들이 최소화되도록 하는 과정이 학습임\n",
    "# 따라서, 손실이 최소화된다는 것은 학습이 잘되고 있음을 의미\n",
    "\n",
    "# 딥러닝에서 손실함수는 평균제곱오차MSE(회귀)와\n",
    "# 교차엔트로피오차CEE(분류)를 사용함"
   ]
  },
  {
   "cell_type": "code",
   "execution_count": null,
   "id": "ea1b0295-fc94-4d34-b03d-1da686400107",
   "metadata": {},
   "outputs": [],
   "source": [
    "# 학습 최적화 방법\n",
    "# 텐서플로에서는 optimizer로 설정\n",
    "\n",
    "# 경사하강법SGD - 확률적 경사하강법 : 무작위 값을 대입\n",
    "\n",
    "# 모멘텀        - SGD + 무작위값에 탄성을 부여 (정확도 개선)\n",
    "\n",
    "# 아다그라드adagrad - 학습률에 탄성을 부여 (보폭크기 개선)\n",
    "#                     무작위값 대입 횟수를 조절\n",
    "\n",
    "# RMSprop - adagrad의 보폭 민감도를 개선 (보폭크기 개선)\n",
    "\n",
    "# Adam - 무작위값에 탄성부여, 학습률에도 탄성 부여\n",
    "#          즉, 정확도 개선 + 보폭크기 개선\n",
    "#       keras.optimizer.Adam(lr=0.0001,\n",
    "#               beta_1=0.9, beta_2=0.9999,\n",
    "#               elpsilon=1e-08, decay=0.0)"
   ]
  },
  {
   "cell_type": "code",
   "execution_count": null,
   "id": "60df4d03-decf-4c31-8836-9514bee70b83",
   "metadata": {},
   "outputs": [],
   "source": []
  },
  {
   "cell_type": "code",
   "execution_count": null,
   "id": "9d11617f-a366-4f61-8959-099db7abe7da",
   "metadata": {},
   "outputs": [],
   "source": []
  },
  {
   "cell_type": "code",
   "execution_count": null,
   "id": "13d79bb8-d8a2-43fb-9f7c-83f3ea644fd8",
   "metadata": {},
   "outputs": [],
   "source": []
  }
 ],
 "metadata": {
  "kernelspec": {
   "display_name": "Python 3 (ipykernel)",
   "language": "python",
   "name": "python3"
  },
  "language_info": {
   "codemirror_mode": {
    "name": "ipython",
    "version": 3
   },
   "file_extension": ".py",
   "mimetype": "text/x-python",
   "name": "python",
   "nbconvert_exporter": "python",
   "pygments_lexer": "ipython3",
   "version": "3.7.10"
  }
 },
 "nbformat": 4,
 "nbformat_minor": 5
}
