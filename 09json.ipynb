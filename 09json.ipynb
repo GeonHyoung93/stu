{
 "cells": [
  {
   "cell_type": "markdown",
   "id": "41cf0f8e-2da3-472a-b844-b4391c196d73",
   "metadata": {},
   "source": [
    "# 09_JSON"
   ]
  },
  {
   "cell_type": "markdown",
   "id": "9849ce10-0ccc-4a03-b312-fa17c4f7a6ed",
   "metadata": {},
   "source": [
    "* yes24.com에서 베스트셀러 메뉴에서 도서명, 저자, 출판사, 가격을 추출해서 books.json으로 저장"
   ]
  },
  {
   "cell_type": "code",
   "execution_count": 1,
   "id": "67dc4b72-a0d5-416b-bf7d-8d76a0b6cf0f",
   "metadata": {},
   "outputs": [],
   "source": [
    "import json\n",
    "import requests\n",
    "import re\n",
    "from collections import OrderedDict\n",
    "from bs4 import BeautifulSoup\n",
    "import warnings\n",
    "warnings.filterwarnings(action='ignore')\n",
    "\n",
    "url = 'http://www.yes24.com/24/Category/BestSeller'\n",
    "headers = { }"
   ]
  },
  {
   "cell_type": "code",
   "execution_count": 2,
   "id": "c77bbad7-d0a6-4eb1-a5a3-8eca32e6bef9",
   "metadata": {},
   "outputs": [
    {
     "data": {
      "text/plain": [
       "'\\r\\n\\t<!DOCTYPE HTML PUBLIC \"-//W3C//DTD HTML 4.01 Transitional//EN\">\\r\\n\\t<html>\\r\\n\\r\\n<head><base href=\"http://www.yes24.com/24/\" />\\r\\n\\t<meta http-equiv=\"X-UA-Compatible\" content=\"IE=Edge\" />\\r\\n\\t<meta http-equiv=\"Content-Type\" content=\"text/html;charset=euc-kr\" />\\r\\n\\t<meta http-equiv=\"Accept-CH\" content=\"dpr,'"
      ]
     },
     "execution_count": 2,
     "metadata": {},
     "output_type": "execute_result"
    }
   ],
   "source": [
    "res = requests.get(url, headers=headers)\n",
    "html = BeautifulSoup(res.text, 'lxml')\n",
    "\n",
    "res.text[:300]"
   ]
  },
  {
   "cell_type": "code",
   "execution_count": 3,
   "id": "15b6d042-e3f8-41ab-a2ea-00ea7b044e1e",
   "metadata": {},
   "outputs": [],
   "source": [
    "titles = []\n",
    "writers = []\n",
    "pubs = []\n",
    "prices = []"
   ]
  },
  {
   "cell_type": "code",
   "execution_count": 12,
   "id": "b20997d0-6b8b-4bb1-bbe2-81d67be1a912",
   "metadata": {},
   "outputs": [],
   "source": [
    "# 도서 제목 추출\n",
    "for title in html.select('ol li p:nth-child(3)'):\n",
    "    title = re.sub('\\[도서\\] ', '', title.text)\n",
    "    titles.append(title)\n",
    "    # print(title)\n",
    "    "
   ]
  },
  {
   "cell_type": "code",
   "execution_count": 13,
   "id": "a7b9ea7a-dab6-4a22-8a06-ae318dd84cd1",
   "metadata": {},
   "outputs": [],
   "source": [
    "# 저자\n",
    "for writer in html.select('p.aupu'):\n",
    "    #print(writer.text.split('|')[0].strip())\n",
    "    writer = writer.text.split('|')[0].strip()\n",
    "    writers.append(writer)\n",
    "    "
   ]
  },
  {
   "cell_type": "code",
   "execution_count": 14,
   "id": "7c2e310e-94a3-4ae2-8412-11600ac77cdb",
   "metadata": {},
   "outputs": [],
   "source": [
    "# 출판사\n",
    "for writer in html.select('p.aupu'):\n",
    "    # print(writer.text.split('|')[1].strip())\n",
    "    pub = writer.text.split('|')[1].strip()\n",
    "    pubs.append(pub)"
   ]
  },
  {
   "cell_type": "code",
   "execution_count": 15,
   "id": "0a2915f5-58ea-4320-9736-17a19d1b2f97",
   "metadata": {},
   "outputs": [],
   "source": [
    "# 가격\n",
    "for price in html.select('p.price'):\n",
    "    # price = re.sub(',', '', price.text)\n",
    "    # price = re.sub('\\(.*?\\)', '', price)\n",
    "    # price = re.sub('원', '', price)\n",
    "    \n",
    "    price = price.text.split('원')[0].strip()\n",
    "    price = re.sub(',', '', price)    \n",
    "    # print(price)\n",
    "    prices.append(price)"
   ]
  },
  {
   "cell_type": "code",
   "execution_count": 18,
   "id": "f1554b67-38f0-4097-89c6-0563edc4cb7c",
   "metadata": {},
   "outputs": [
    {
     "name": "stdout",
     "output_type": "stream",
     "text": [
      "{\n",
      "  \"books\": [\n",
      "    {\n",
      "      \"title\": \"트렌드 코리아 2022\",\n",
      "      \"writer\": \"이혜원,서울대학교 생활과학연구소 소비트렌드분석센터,한다혜,권정윤,서유현 저 외 6명\",\n",
      "      \"pub\": \"미래의창\",\n",
      "      \"price\": \"16200\"\n",
      "    },\n",
      "    {\n",
      "      \"title\": \"설민석의 한국사 대모험 18\",\n",
      "      \"writer\": \"스토리박스,설민석 글/정현희 그림/강석화 감수\",\n",
      "      \"pub\": \"아이휴먼\",\n",
      "      \"price\": \"10800\"\n",
      "    },\n",
      "    {\n",
      "      \"title\": \"달러구트 꿈 백화점 2\",\n",
      "      \"writer\": \"이미예 저\",\n",
      "      \"pub\": \"팩토리나인\",\n",
      "      \"price\": \"12420\"\n",
      "    },\n",
      "    {\n",
      "      \"title\": \"방금 떠나온 세계\",\n",
      "      \"writer\": \"김초엽 저\",\n",
      "      \"pub\": \"한겨레출판\",\n",
      "      \"price\": \"13500\"\n",
      "    },\n",
      "    {\n",
      "      \"title\": \"달러구트 꿈 백화점\",\n",
      "      \"writer\": \"이미예 저\",\n",
      "      \"pub\": \"팩토리나인\",\n",
      "      \"price\": \"12420\"\n",
      "    },\n",
      "    {\n",
      "      \"title\": \"인생은 실전이다\",\n",
      "      \"writer\": \"신영준,주언규(신사임당) 저\",\n",
      "      \"pub\": \"상상스퀘어\",\n",
      "      \"price\": \"16650\"\n",
      "    },\n",
      "    {\n",
      "      \"title\": \"4~7세 보다 중요한 시기는 없습니다\",\n",
      "      \"writer\": \"이임숙 저\",\n",
      "      \"pub\": \"카시오페아\",\n",
      "      \"price\": \"14400\"\n",
      "    },\n",
      "    {\n",
      "      \"title\": \"그냥 하지 말라\",\n",
      "      \"writer\": \"송길영 저\",\n",
      "      \"pub\": \"북스톤\",\n",
      "      \"price\": \"15300\"\n",
      "    },\n",
      "    {\n",
      "      \"title\": \"갯마을 차차차 2\",\n",
      "      \"writer\": \"신하은 저\",\n",
      "      \"pub\": \"북로그컴퍼니\",\n",
      "      \"price\": \"16200\"\n",
      "    },\n",
      "    {\n",
      "      \"title\": \"갯마을 차차차 1\",\n",
      "      \"writer\": \"신하은 저\",\n",
      "      \"pub\": \"북로그컴퍼니\",\n",
      "      \"price\": \"16200\"\n",
      "    },\n",
      "    {\n",
      "      \"title\": \"햇빛은 찬란하고 인생은 귀하니까요\",\n",
      "      \"writer\": \"장명숙 저\",\n",
      "      \"pub\": \"김영사\",\n",
      "      \"price\": \"13320\"\n",
      "    },\n",
      "    {\n",
      "      \"title\": \"돈, 뜨겁게 사랑하고 차갑게 다루어라\",\n",
      "      \"writer\": \"앙드레 코스톨라니 저\",\n",
      "      \"pub\": \"미래의창\",\n",
      "      \"price\": \"10800\"\n",
      "    },\n",
      "    {\n",
      "      \"title\": \"듄 신장판 전집 세트\",\n",
      "      \"writer\": \"프랭크 허버트 저/김승욱 역\",\n",
      "      \"pub\": \"황금가지\",\n",
      "      \"price\": \"108000\"\n",
      "    },\n",
      "    {\n",
      "      \"title\": \"불편한 편의점\",\n",
      "      \"writer\": \"김호연 저\",\n",
      "      \"pub\": \"나무옆의자\",\n",
      "      \"price\": \"12600\"\n",
      "    },\n",
      "    {\n",
      "      \"title\": \"오늘 밤, 세계에서 이 사랑이 사라진다 해도\",\n",
      "      \"writer\": \"이치조 미사키 저/권영주 역\",\n",
      "      \"pub\": \"모모\",\n",
      "      \"price\": \"12600\"\n",
      "    },\n",
      "    {\n",
      "      \"title\": \"거꾸로 읽는 세계사\",\n",
      "      \"writer\": \"유시민 저\",\n",
      "      \"pub\": \"돌베개\",\n",
      "      \"price\": \"15750\"\n",
      "    },\n",
      "    {\n",
      "      \"title\": \"미드나잇 라이브러리\",\n",
      "      \"writer\": \"매트 헤이그 저/노진선 역\",\n",
      "      \"pub\": \"인플루엔셜\",\n",
      "      \"price\": \"14220\"\n",
      "    },\n",
      "    {\n",
      "      \"title\": \"세금 내는 아이들\",\n",
      "      \"writer\": \"옥효진 글/김미연 그림\",\n",
      "      \"pub\": \"한국경제신문사(한경비피)\",\n",
      "      \"price\": \"12600\"\n",
      "    },\n",
      "    {\n",
      "      \"title\": \"돈의 심리학\",\n",
      "      \"writer\": \"모건 하우절 저/이지연 역\",\n",
      "      \"pub\": \"인플루엔셜\",\n",
      "      \"price\": \"17820\"\n",
      "    },\n",
      "    {\n",
      "      \"title\": \"어떻게 말해줘야 할까\",\n",
      "      \"writer\": \"오은영 저/차상미 그림\",\n",
      "      \"pub\": \"김영사\",\n",
      "      \"price\": \"15750\"\n",
      "    },\n",
      "    {\n",
      "      \"title\": \"채사장의 지대넓얕 1 : 권력의 탄생\",\n",
      "      \"writer\": \"채사장,마케마케 글/정용환 그림\",\n",
      "      \"pub\": \"돌핀북\",\n",
      "      \"price\": \"12600\"\n",
      "    },\n",
      "    {\n",
      "      \"title\": \"초등 사자소학\",\n",
      "      \"writer\": \"송재환 글/인호빵 그림\",\n",
      "      \"pub\": \"위즈덤하우스\",\n",
      "      \"price\": \"12420\"\n",
      "    },\n",
      "    {\n",
      "      \"title\": \"오은영의 화해\",\n",
      "      \"writer\": \"오은영 저\",\n",
      "      \"pub\": \"코리아닷컴(Korea.com)\",\n",
      "      \"price\": \"14400\"\n",
      "    },\n",
      "    {\n",
      "      \"title\": \"소크라테스 익스프레스\",\n",
      "      \"writer\": \"에릭 와이너 저/김하현 역\",\n",
      "      \"pub\": \"어크로스\",\n",
      "      \"price\": \"16200\"\n",
      "    },\n",
      "    {\n",
      "      \"title\": \"그리스 로마 신화 25\",\n",
      "      \"writer\": \"박시연 글/최우빈 그림/김헌 감수\",\n",
      "      \"pub\": \"아울북\",\n",
      "      \"price\": \"12600\"\n",
      "    },\n",
      "    {\n",
      "      \"title\": \"크리스마스 피그\",\n",
      "      \"writer\": \"J.K. 롤링 저/짐 필드 일러스트/공보경 역\",\n",
      "      \"pub\": \"문학수첩\",\n",
      "      \"price\": \"18000\"\n",
      "    },\n",
      "    {\n",
      "      \"title\": \"해리 포터와 비밀의 방 : 미나리마 에디션\",\n",
      "      \"writer\": \"J.K. 롤링 저/미나리마 그림/강동혁 역\",\n",
      "      \"pub\": \"문학수첩\",\n",
      "      \"price\": \"29700\"\n",
      "    },\n",
      "    {\n",
      "      \"title\": \"아들의 뇌\",\n",
      "      \"writer\": \"곽윤정 저\",\n",
      "      \"pub\": \"포레스트북스\",\n",
      "      \"price\": \"13500\"\n",
      "    },\n",
      "    {\n",
      "      \"title\": \"모든 것은 기본에서 시작한다\",\n",
      "      \"writer\": \"손웅정 저\",\n",
      "      \"pub\": \"수오서재\",\n",
      "      \"price\": \"14400\"\n",
      "    },\n",
      "    {\n",
      "      \"title\": \"듄 신장판 1\",\n",
      "      \"writer\": \"프랭크 허버트 저/김승욱 역\",\n",
      "      \"pub\": \"황금가지\",\n",
      "      \"price\": \"22500\"\n",
      "    },\n",
      "    {\n",
      "      \"title\": \"공부의 본질 \",\n",
      "      \"writer\": \"이윤규 저\",\n",
      "      \"pub\": \"빅피시\",\n",
      "      \"price\": \"14850\"\n",
      "    },\n",
      "    {\n",
      "      \"title\": \"양순이네 떡집\",\n",
      "      \"writer\": \"김리리 글/김이랑 그림\",\n",
      "      \"pub\": \"비룡소\",\n",
      "      \"price\": \"9900\"\n",
      "    },\n",
      "    {\n",
      "      \"title\": \"설민석의 세계사 대모험 10\",\n",
      "      \"writer\": \"설민석,김정욱 글/박성일 그림/원태준 감수\",\n",
      "      \"pub\": \"단꿈아이\",\n",
      "      \"price\": \"10800\"\n",
      "    },\n",
      "    {\n",
      "      \"title\": \"작별하지 않는다\",\n",
      "      \"writer\": \"한강 저\",\n",
      "      \"pub\": \"문학동네\",\n",
      "      \"price\": \"12600\"\n",
      "    },\n",
      "    {\n",
      "      \"title\": \"지금은 나만의 시간입니다\",\n",
      "      \"writer\": \"김유진 저\",\n",
      "      \"pub\": \"토네이도\",\n",
      "      \"price\": \"13500\"\n",
      "    },\n",
      "    {\n",
      "      \"title\": \"잘했고 잘하고 있고 잘 될 것이다\",\n",
      "      \"writer\": \"정영욱 저\",\n",
      "      \"pub\": \"부크럼\",\n",
      "      \"price\": \"13500\"\n",
      "    },\n",
      "    {\n",
      "      \"title\": \"부자 아빠 가난한 아빠 20주년 특별 기념판\",\n",
      "      \"writer\": \"로버트 기요사키 저/안진환 역\",\n",
      "      \"pub\": \"민음인\",\n",
      "      \"price\": \"14220\"\n",
      "    },\n",
      "    {\n",
      "      \"title\": \"베서니와 괴물의 복수\",\n",
      "      \"writer\": \"잭 메기트-필립스 글/이사벨 폴라트 그림/김선희 역\",\n",
      "      \"pub\": \"요요\",\n",
      "      \"price\": \"12600\"\n",
      "    },\n",
      "    {\n",
      "      \"title\": \"[만화] 열혈강호 84 \",\n",
      "      \"writer\": \"전극진 글/양재현 그림\",\n",
      "      \"pub\": \"대원\",\n",
      "      \"price\": \"4050\"\n",
      "    },\n",
      "    {\n",
      "      \"title\": \"해커스 토익 기출 보카\",\n",
      "      \"writer\": \"데이비드 조 저\",\n",
      "      \"pub\": \"해커스어학연구소\",\n",
      "      \"price\": \"11610\"\n",
      "    }\n",
      "  ]\n",
      "}\n"
     ]
    }
   ],
   "source": [
    "# 스크래핑한 도서목록을 json형식으로 재구성\n",
    "allbooks = OrderedDict()\n",
    "books = []\n",
    "\n",
    "for i in range(len(titles)):\n",
    "    book = OrderedDict()\n",
    "    book['title'] = titles[i]\n",
    "    book['writer'] = writers[i]\n",
    "    book['pub'] = pubs[i]\n",
    "    book['price'] = prices[i]\n",
    "    books.append(book)\n",
    "\n",
    "allbooks['books'] = books\n",
    "# print(json.dumps(allbooks, ensure_ascii=False, indent=2))"
   ]
  },
  {
   "cell_type": "code",
   "execution_count": 24,
   "id": "0c09ea1b-0159-4cf7-a86c-1201e66e1491",
   "metadata": {},
   "outputs": [],
   "source": [
    "# 생성한 json 객체를 파일로 저장\n",
    "with open('allbooks.json', 'w', encoding='UTF8') as f:\n",
    "    json.dump(allbooks, f, ensure_ascii=False)"
   ]
  },
  {
   "cell_type": "code",
   "execution_count": 25,
   "id": "a9281b0c-c115-4de4-b5c1-553271bd4209",
   "metadata": {},
   "outputs": [],
   "source": [
    "with open('allbooks.json', encoding='UTF8') as f:\n",
    "    jbooks = json.load(f)"
   ]
  },
  {
   "cell_type": "code",
   "execution_count": 28,
   "id": "1cbec0eb-87b0-411b-9825-1465bd2b7f1e",
   "metadata": {},
   "outputs": [
    {
     "data": {
      "text/plain": [
       "[{'title': '트렌드 코리아 2022',\n",
       "  'writer': '이혜원,서울대학교 생활과학연구소 소비트렌드분석센터,한다혜,권정윤,서유현 저 외 6명',\n",
       "  'pub': '미래의창',\n",
       "  'price': '16200'},\n",
       " {'title': '설민석의 한국사 대모험 18',\n",
       "  'writer': '스토리박스,설민석 글/정현희 그림/강석화 감수',\n",
       "  'pub': '아이휴먼',\n",
       "  'price': '10800'},\n",
       " {'title': '달러구트 꿈 백화점 2',\n",
       "  'writer': '이미예 저',\n",
       "  'pub': '팩토리나인',\n",
       "  'price': '12420'},\n",
       " {'title': '방금 떠나온 세계', 'writer': '김초엽 저', 'pub': '한겨레출판', 'price': '13500'},\n",
       " {'title': '달러구트 꿈 백화점', 'writer': '이미예 저', 'pub': '팩토리나인', 'price': '12420'}]"
      ]
     },
     "execution_count": 28,
     "metadata": {},
     "output_type": "execute_result"
    }
   ],
   "source": [
    "# 베스트셀러 도서 검색 : get\n",
    "jbooks.get('books')[:5]"
   ]
  },
  {
   "cell_type": "code",
   "execution_count": 31,
   "id": "9f081b83-2b86-47a5-8eca-2c58b1017205",
   "metadata": {},
   "outputs": [
    {
     "data": {
      "text/plain": [
       "'갯마을 차차차 1'"
      ]
     },
     "execution_count": 31,
     "metadata": {},
     "output_type": "execute_result"
    }
   ],
   "source": [
    "# 베스트셀러 중 10위 도서의 제목 검색\n",
    "jbooks.get('books')[9].get('title')"
   ]
  },
  {
   "cell_type": "code",
   "execution_count": null,
   "id": "9ce8288c-8e94-40aa-8cf5-c4b48da051f6",
   "metadata": {},
   "outputs": [],
   "source": [
    "# yes24.com에서 베스트셀러 도서중 20년10월 국내도서 종합 월별 베스트도서 목록 추출\n",
    "# 단, 추출할 도서는 40권정도로 한다.\n"
   ]
  },
  {
   "cell_type": "code",
   "execution_count": null,
   "id": "4045bced-0b39-4dce-ac52-b58c5ad54f43",
   "metadata": {},
   "outputs": [],
   "source": []
  },
  {
   "cell_type": "code",
   "execution_count": null,
   "id": "e500b019-20c1-4d54-90e9-2406eb43b71a",
   "metadata": {},
   "outputs": [],
   "source": []
  },
  {
   "cell_type": "code",
   "execution_count": null,
   "id": "8968967c-28c5-4718-acc8-940fa0d3d4b3",
   "metadata": {},
   "outputs": [],
   "source": []
  },
  {
   "cell_type": "code",
   "execution_count": null,
   "id": "a058a664-55d3-44df-a318-ac6278f384a2",
   "metadata": {},
   "outputs": [],
   "source": []
  },
  {
   "cell_type": "code",
   "execution_count": null,
   "id": "13d04554-2173-4c56-8a92-fe3f97822d3f",
   "metadata": {},
   "outputs": [],
   "source": []
  },
  {
   "cell_type": "code",
   "execution_count": null,
   "id": "fc889b7e-2d02-44f5-86e4-4ad88e24d1ba",
   "metadata": {},
   "outputs": [],
   "source": []
  },
  {
   "cell_type": "code",
   "execution_count": null,
   "id": "dcf1da7e-99fb-4dc7-898a-c560ca97db00",
   "metadata": {},
   "outputs": [],
   "source": []
  },
  {
   "cell_type": "code",
   "execution_count": null,
   "id": "fc8581c9-4ac1-4eff-91d9-201320aa39cc",
   "metadata": {},
   "outputs": [],
   "source": []
  }
 ],
 "metadata": {
  "kernelspec": {
   "display_name": "Python 3 (ipykernel)",
   "language": "python",
   "name": "python3"
  },
  "language_info": {
   "codemirror_mode": {
    "name": "ipython",
    "version": 3
   },
   "file_extension": ".py",
   "mimetype": "text/x-python",
   "name": "python",
   "nbconvert_exporter": "python",
   "pygments_lexer": "ipython3",
   "version": "3.7.10"
  }
 },
 "nbformat": 4,
 "nbformat_minor": 5
}
