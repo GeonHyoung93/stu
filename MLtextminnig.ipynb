{
 "cells": [
  {
   "cell_type": "markdown",
   "id": "c49763de-631e-4c65-af36-42a60e31d6d2",
   "metadata": {},
   "source": [
    "## 텍스트 마이닝\n",
    "* 자연어로 구성된 '비정형 데이터'에서 패턴 또는 관계를 추출하여 의미있는 정보를 찾아내는 기법들을 의미\n",
    "* 활용분야\n",
    "    + 유사 단어들(또는 문서들)간의 군집 분석\n",
    "    + 연관 단어의 추출 또는 단어 네트워크 분석\n",
    "    + 감성 분석\n",
    "    + 주요 키워드별 빈도에 따른 시각화"
   ]
  },
  {
   "cell_type": "markdown",
   "id": "9f2ca255-1d42-48d8-ae3d-ec460312ae16",
   "metadata": {},
   "source": [
    "## 파이썬 기반 텍스트 분석 패키지\n",
    "* NLTK, KoNLPy : 영어권/한국어 형태소 분석기\n",
    "* Gensim : 텍스트요약에 두각을 나타낸다. word2vec 기능도 구현되어 있다.\n",
    "* SpaCy : 최근에 주목받는 NLP 패키지"
   ]
  },
  {
   "cell_type": "markdown",
   "id": "a1dd44ac-943c-4824-9779-dd8e27fea4a4",
   "metadata": {},
   "source": [
    "## NLTK\n",
    "* 교육용으로 개발된 자연어 처리 및 분석 패키지\n",
    "* www.nltk.org\n",
    "\n"
   ]
  },
  {
   "cell_type": "code",
   "execution_count": 2,
   "id": "e8feb08a-74c2-4d7b-a96c-97b993d97c85",
   "metadata": {},
   "outputs": [],
   "source": [
    "# ! pip install nltk"
   ]
  },
  {
   "cell_type": "code",
   "execution_count": 3,
   "id": "3d545a57-d463-48a0-8848-6cdc475a1314",
   "metadata": {},
   "outputs": [],
   "source": [
    "## English NLP\n",
    "import nltk\n"
   ]
  },
  {
   "cell_type": "code",
   "execution_count": 5,
   "id": "2d639280-0385-41c1-9a07-2b02c507d7d9",
   "metadata": {},
   "outputs": [
    {
     "data": {
      "text/plain": [
       "True"
      ]
     },
     "execution_count": 5,
     "metadata": {},
     "output_type": "execute_result"
    }
   ],
   "source": [
    "# nltk 내장 영어 망뭉치 corpus\n",
    "# corpus : 분석을 위해 추출된 텍스트\n",
    "nltk.download('book', quiet=True)"
   ]
  },
  {
   "cell_type": "code",
   "execution_count": 6,
   "id": "bef17d0c-b260-4286-a078-15d370aff9c9",
   "metadata": {},
   "outputs": [
    {
     "name": "stdout",
     "output_type": "stream",
     "text": [
      "*** Introductory Examples for the NLTK Book ***\n",
      "Loading text1, ..., text9 and sent1, ..., sent9\n",
      "Type the name of the text or sentence to view it.\n",
      "Type: 'texts()' or 'sents()' to list the materials.\n",
      "text1: Moby Dick by Herman Melville 1851\n",
      "text2: Sense and Sensibility by Jane Austen 1811\n",
      "text3: The Book of Genesis\n",
      "text4: Inaugural Address Corpus\n",
      "text5: Chat Corpus\n",
      "text6: Monty Python and the Holy Grail\n",
      "text7: Wall Street Journal\n",
      "text8: Personals Corpus\n",
      "text9: The Man Who Was Thursday by G . K . Chesterton 1908\n"
     ]
    }
   ],
   "source": [
    "# 말뭉치 확인\n",
    "from nltk.book import *"
   ]
  },
  {
   "cell_type": "code",
   "execution_count": 7,
   "id": "4f2cc459-4a06-482c-b8dc-64b79753c8c8",
   "metadata": {},
   "outputs": [
    {
     "name": "stdout",
     "output_type": "stream",
     "text": [
      "text1: Moby Dick by Herman Melville 1851\n",
      "text2: Sense and Sensibility by Jane Austen 1811\n",
      "text3: The Book of Genesis\n",
      "text4: Inaugural Address Corpus\n",
      "text5: Chat Corpus\n",
      "text6: Monty Python and the Holy Grail\n",
      "text7: Wall Street Journal\n",
      "text8: Personals Corpus\n",
      "text9: The Man Who Was Thursday by G . K . Chesterton 1908\n"
     ]
    }
   ],
   "source": [
    "texts()"
   ]
  },
  {
   "cell_type": "code",
   "execution_count": 8,
   "id": "3def8773-a346-4b64-8be1-0bedb5d0199a",
   "metadata": {},
   "outputs": [
    {
     "name": "stdout",
     "output_type": "stream",
     "text": [
      "sent1: Call me Ishmael .\n",
      "sent2: The family of Dashwood had long been settled in Sussex .\n",
      "sent3: In the beginning God created the heaven and the earth .\n",
      "sent4: Fellow - Citizens of the Senate and of the House of Representatives :\n",
      "sent5: I have a problem with people PMing me to lol JOIN\n",
      "sent6: SCENE 1 : [ wind ] [ clop clop clop ] KING ARTHUR : Whoa there !\n",
      "sent7: Pierre Vinken , 61 years old , will join the board as a nonexecutive director Nov. 29 .\n",
      "sent8: 25 SEXY MALE , seeks attrac older single lady , for discreet encounters .\n",
      "sent9: THE suburb of Saffron Park lay on the sunset side of London , as red and ragged as a cloud of sunset .\n"
     ]
    }
   ],
   "source": [
    "sents()"
   ]
  },
  {
   "cell_type": "code",
   "execution_count": 9,
   "id": "ccf28068-2f6a-484b-b674-f15a6eceabad",
   "metadata": {},
   "outputs": [
    {
     "data": {
      "text/plain": [
       "260819"
      ]
     },
     "execution_count": 9,
     "metadata": {},
     "output_type": "execute_result"
    }
   ],
   "source": [
    "len(text1)"
   ]
  },
  {
   "cell_type": "code",
   "execution_count": 11,
   "id": "5c1996c9-9878-4cc8-928a-26243dfd9360",
   "metadata": {},
   "outputs": [
    {
     "data": {
      "text/plain": [
       "['[',\n",
       " 'Moby',\n",
       " 'Dick',\n",
       " 'by',\n",
       " 'Herman',\n",
       " 'Melville',\n",
       " '1851',\n",
       " ']',\n",
       " 'ETYMOLOGY',\n",
       " '.']"
      ]
     },
     "execution_count": 11,
     "metadata": {},
     "output_type": "execute_result"
    }
   ],
   "source": [
    "text1[:10]"
   ]
  },
  {
   "cell_type": "code",
   "execution_count": 15,
   "id": "729304eb-6876-49fd-84fb-7f07b5ec58f7",
   "metadata": {},
   "outputs": [
    {
     "data": {
      "text/plain": [
       "['Call', 'me', 'Ishmael', '.']"
      ]
     },
     "execution_count": 15,
     "metadata": {},
     "output_type": "execute_result"
    }
   ],
   "source": [
    "sent1"
   ]
  },
  {
   "cell_type": "code",
   "execution_count": 17,
   "id": "1dc81124-4446-430b-a0cf-80442ffc260c",
   "metadata": {},
   "outputs": [
    {
     "data": {
      "text/plain": [
       "['austen-emma.txt',\n",
       " 'austen-persuasion.txt',\n",
       " 'austen-sense.txt',\n",
       " 'bible-kjv.txt',\n",
       " 'blake-poems.txt',\n",
       " 'bryant-stories.txt',\n",
       " 'burgess-busterbrown.txt',\n",
       " 'carroll-alice.txt',\n",
       " 'chesterton-ball.txt',\n",
       " 'chesterton-brown.txt',\n",
       " 'chesterton-thursday.txt',\n",
       " 'edgeworth-parents.txt',\n",
       " 'melville-moby_dick.txt',\n",
       " 'milton-paradise.txt',\n",
       " 'shakespeare-caesar.txt',\n",
       " 'shakespeare-hamlet.txt',\n",
       " 'shakespeare-macbeth.txt',\n",
       " 'whitman-leaves.txt']"
      ]
     },
     "execution_count": 17,
     "metadata": {},
     "output_type": "execute_result"
    }
   ],
   "source": [
    "# 저작권이 말소된 문학작품\n",
    "# 일명, 구텐베르크 말뭉치 확인\n",
    "nltk.corpus.gutenberg.fileids()\n"
   ]
  },
  {
   "cell_type": "code",
   "execution_count": 18,
   "id": "0f7b1476-639f-4309-83ca-b32c9d2923ee",
   "metadata": {},
   "outputs": [
    {
     "data": {
      "text/plain": [
       "\"[The Tragedie of Hamlet by William Shakespeare 1599]\\n\\n\\nActus Primus. Scoena Prima.\\n\\nEnter Barnardo and Francisco two Centinels.\\n\\n  Barnardo. Who's there?\\n  Fran. Nay answer me: Stand & vnfold\\nyour selfe\\n\\n   Bar. Long liue the King\\n\\n   Fran. Barnardo?\\n  Bar. He\\n\\n   Fran. You come most carefully vpon \""
      ]
     },
     "execution_count": 18,
     "metadata": {},
     "output_type": "execute_result"
    }
   ],
   "source": [
    "# 햄릿을 불러서 출력\n",
    "doc = nltk.corpus.gutenberg.raw('shakespeare-hamlet.txt')\n",
    "doc[:300]"
   ]
  },
  {
   "cell_type": "code",
   "execution_count": null,
   "id": "fb91aa68-1097-4ddc-a51e-1820c1e77377",
   "metadata": {},
   "outputs": [],
   "source": [
    "## 텍스트 토큰화\n"
   ]
  },
  {
   "cell_type": "code",
   "execution_count": null,
   "id": "c2788340-1249-4cc5-8fae-6c4f733c8713",
   "metadata": {},
   "outputs": [],
   "source": []
  },
  {
   "cell_type": "code",
   "execution_count": null,
   "id": "8299f977-ef61-43d7-95f5-7e55455fc2f7",
   "metadata": {},
   "outputs": [],
   "source": []
  },
  {
   "cell_type": "code",
   "execution_count": null,
   "id": "42170b1c-68b2-4f68-8a6d-d1a18fc88a67",
   "metadata": {},
   "outputs": [],
   "source": []
  },
  {
   "cell_type": "code",
   "execution_count": null,
   "id": "56ad8fac-409b-4a50-86f1-8b6bfc18eb77",
   "metadata": {},
   "outputs": [],
   "source": []
  },
  {
   "cell_type": "code",
   "execution_count": null,
   "id": "6d5b5e85-6bf8-4e1d-9891-690f98d20059",
   "metadata": {},
   "outputs": [],
   "source": []
  },
  {
   "cell_type": "code",
   "execution_count": null,
   "id": "fc381ffd-1c63-4b37-a013-45ee305ca9af",
   "metadata": {},
   "outputs": [],
   "source": []
  },
  {
   "cell_type": "code",
   "execution_count": null,
   "id": "ae88a670-3693-41d0-a548-db3c34604792",
   "metadata": {},
   "outputs": [],
   "source": []
  },
  {
   "cell_type": "code",
   "execution_count": null,
   "id": "0ec80dee-728b-48dc-8340-f89b2cd1f088",
   "metadata": {},
   "outputs": [],
   "source": []
  },
  {
   "cell_type": "code",
   "execution_count": null,
   "id": "304f96d9-c742-47e2-9feb-4cdbb2e7f8c9",
   "metadata": {},
   "outputs": [],
   "source": []
  },
  {
   "cell_type": "code",
   "execution_count": null,
   "id": "69312bcd-f0f8-4130-862b-6e3256b0a457",
   "metadata": {},
   "outputs": [],
   "source": []
  },
  {
   "cell_type": "code",
   "execution_count": null,
   "id": "841f48d9-a65e-4b7f-b0f4-c573506c2700",
   "metadata": {},
   "outputs": [],
   "source": []
  },
  {
   "cell_type": "code",
   "execution_count": null,
   "id": "b6eca23d-d1c1-40cb-8d1d-766016bc3509",
   "metadata": {},
   "outputs": [],
   "source": []
  }
 ],
 "metadata": {
  "kernelspec": {
   "display_name": "Python 3 (ipykernel)",
   "language": "python",
   "name": "python3"
  },
  "language_info": {
   "codemirror_mode": {
    "name": "ipython",
    "version": 3
   },
   "file_extension": ".py",
   "mimetype": "text/x-python",
   "name": "python",
   "nbconvert_exporter": "python",
   "pygments_lexer": "ipython3",
   "version": "3.7.10"
  }
 },
 "nbformat": 4,
 "nbformat_minor": 5
}
